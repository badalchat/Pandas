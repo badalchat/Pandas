{
 "cells": [
  {
   "cell_type": "markdown",
   "metadata": {
    "colab_type": "text",
    "id": "aYwmD4yKyCcy"
   },
   "source": [
    "# Series"
   ]
  },
  {
   "cell_type": "code",
   "execution_count": 1,
   "metadata": {
    "colab": {},
    "colab_type": "code",
    "executionInfo": {
     "elapsed": 1475,
     "status": "ok",
     "timestamp": 1601012693336,
     "user": {
      "displayName": "Badal Kumar",
      "photoUrl": "https://lh3.googleusercontent.com/a-/AOh14Gg69uFQqBleXWW3oFZptK1CE2CMTy5m7PluKD5Z=s64",
      "userId": "09235070521043135989"
     },
     "user_tz": -330
    },
    "id": "rkO_j0Mw6VUf"
   },
   "outputs": [],
   "source": [
    "import numpy as np\n",
    "import pandas as pd"
   ]
  },
  {
   "cell_type": "markdown",
   "metadata": {
    "colab_type": "text",
    "id": "wj1JNB-dBCAP"
   },
   "source": [
    "## Creating Series Object"
   ]
  },
  {
   "cell_type": "code",
   "execution_count": 2,
   "metadata": {
    "colab": {},
    "colab_type": "code",
    "executionInfo": {
     "elapsed": 1179,
     "status": "ok",
     "timestamp": 1601012701050,
     "user": {
      "displayName": "Badal Kumar",
      "photoUrl": "https://lh3.googleusercontent.com/a-/AOh14Gg69uFQqBleXWW3oFZptK1CE2CMTy5m7PluKD5Z=s64",
      "userId": "09235070521043135989"
     },
     "user_tz": -330
    },
    "id": "thV2_4PTA_IU"
   },
   "outputs": [],
   "source": [
    "s = pd.Series([0,1,1,2,3,5,8])"
   ]
  },
  {
   "cell_type": "code",
   "execution_count": 3,
   "metadata": {
    "colab": {
     "base_uri": "https://localhost:8080/",
     "height": 266
    },
    "colab_type": "code",
    "executionInfo": {
     "elapsed": 1159,
     "status": "ok",
     "timestamp": 1601012720351,
     "user": {
      "displayName": "Badal Kumar",
      "photoUrl": "https://lh3.googleusercontent.com/a-/AOh14Gg69uFQqBleXWW3oFZptK1CE2CMTy5m7PluKD5Z=s64",
      "userId": "09235070521043135989"
     },
     "user_tz": -330
    },
    "id": "UQDF6LdrBRto",
    "outputId": "5997e860-e5ca-4d9b-887c-46fdf119f0ab"
   },
   "outputs": [
    {
     "name": "stdout",
     "output_type": "stream",
     "text": [
      "0    0\n",
      "1    1\n",
      "2    1\n",
      "3    2\n",
      "4    3\n",
      "5    5\n",
      "6    8\n",
      "dtype: int64\n"
     ]
    }
   ],
   "source": [
    "print(s)"
   ]
  },
  {
   "cell_type": "code",
   "execution_count": 4,
   "metadata": {
    "colab": {},
    "colab_type": "code",
    "executionInfo": {
     "elapsed": 780,
     "status": "ok",
     "timestamp": 1601012722143,
     "user": {
      "displayName": "Badal Kumar",
      "photoUrl": "https://lh3.googleusercontent.com/a-/AOh14Gg69uFQqBleXWW3oFZptK1CE2CMTy5m7PluKD5Z=s64",
      "userId": "09235070521043135989"
     },
     "user_tz": -330
    },
    "id": "qlsaKEDcBTBv"
   },
   "outputs": [],
   "source": [
    "s = pd.Series([0.0, 1, 1, 2, 3, 5, 8])"
   ]
  },
  {
   "cell_type": "code",
   "execution_count": 5,
   "metadata": {
    "colab": {
     "base_uri": "https://localhost:8080/",
     "height": 266
    },
    "colab_type": "code",
    "executionInfo": {
     "elapsed": 3985,
     "status": "ok",
     "timestamp": 1601012728584,
     "user": {
      "displayName": "Badal Kumar",
      "photoUrl": "https://lh3.googleusercontent.com/a-/AOh14Gg69uFQqBleXWW3oFZptK1CE2CMTy5m7PluKD5Z=s64",
      "userId": "09235070521043135989"
     },
     "user_tz": -330
    },
    "id": "X1dIZ292BnRM",
    "outputId": "febf3720-05c5-4daf-99bc-6f2346ce09a8"
   },
   "outputs": [
    {
     "name": "stdout",
     "output_type": "stream",
     "text": [
      "0    0.0\n",
      "1    1.0\n",
      "2    1.0\n",
      "3    2.0\n",
      "4    3.0\n",
      "5    5.0\n",
      "6    8.0\n",
      "dtype: float64\n"
     ]
    }
   ],
   "source": [
    "print(s)"
   ]
  },
  {
   "cell_type": "code",
   "execution_count": 6,
   "metadata": {
    "colab": {
     "base_uri": "https://localhost:8080/",
     "height": 48
    },
    "colab_type": "code",
    "executionInfo": {
     "elapsed": 1530,
     "status": "ok",
     "timestamp": 1601012733393,
     "user": {
      "displayName": "Badal Kumar",
      "photoUrl": "https://lh3.googleusercontent.com/a-/AOh14Gg69uFQqBleXWW3oFZptK1CE2CMTy5m7PluKD5Z=s64",
      "userId": "09235070521043135989"
     },
     "user_tz": -330
    },
    "id": "H7igVqU5Bo-1",
    "outputId": "b55944c8-73ed-4fe1-d0e3-59f2de3bdd55"
   },
   "outputs": [
    {
     "data": {
      "text/plain": [
       "array([0., 1., 1., 2., 3., 5., 8.])"
      ]
     },
     "execution_count": 6,
     "metadata": {},
     "output_type": "execute_result"
    }
   ],
   "source": [
    "s.values"
   ]
  },
  {
   "cell_type": "code",
   "execution_count": 7,
   "metadata": {
    "colab": {
     "base_uri": "https://localhost:8080/",
     "height": 48
    },
    "colab_type": "code",
    "executionInfo": {
     "elapsed": 1588,
     "status": "ok",
     "timestamp": 1601012741348,
     "user": {
      "displayName": "Badal Kumar",
      "photoUrl": "https://lh3.googleusercontent.com/a-/AOh14Gg69uFQqBleXWW3oFZptK1CE2CMTy5m7PluKD5Z=s64",
      "userId": "09235070521043135989"
     },
     "user_tz": -330
    },
    "id": "MobmdH-3Bw02",
    "outputId": "d5a51304-fd08-40d3-9212-d9efa0937817"
   },
   "outputs": [
    {
     "data": {
      "text/plain": [
       "RangeIndex(start=0, stop=7, step=1)"
      ]
     },
     "execution_count": 7,
     "metadata": {},
     "output_type": "execute_result"
    }
   ],
   "source": [
    "s.index"
   ]
  },
  {
   "cell_type": "code",
   "execution_count": 8,
   "metadata": {
    "colab": {
     "base_uri": "https://localhost:8080/",
     "height": 235
    },
    "colab_type": "code",
    "executionInfo": {
     "elapsed": 1322,
     "status": "ok",
     "timestamp": 1601013233376,
     "user": {
      "displayName": "Badal Kumar",
      "photoUrl": "https://lh3.googleusercontent.com/a-/AOh14Gg69uFQqBleXWW3oFZptK1CE2CMTy5m7PluKD5Z=s64",
      "userId": "09235070521043135989"
     },
     "user_tz": -330
    },
    "id": "cwpjplA6Bz9N",
    "outputId": "99fe1188-7739-478e-e4bc-89b4f9b3d796"
   },
   "outputs": [
    {
     "name": "stdout",
     "output_type": "stream",
     "text": [
      "0.0\n",
      "1.0\n",
      "1.0\n",
      "2.0\n",
      "3.0\n",
      "5.0\n",
      "8.0\n"
     ]
    }
   ],
   "source": [
    "for v in s.values:\n",
    "    print(v)"
   ]
  },
  {
   "cell_type": "code",
   "execution_count": 9,
   "metadata": {
    "colab": {
     "base_uri": "https://localhost:8080/",
     "height": 235
    },
    "colab_type": "code",
    "executionInfo": {
     "elapsed": 2119,
     "status": "ok",
     "timestamp": 1601013236363,
     "user": {
      "displayName": "Badal Kumar",
      "photoUrl": "https://lh3.googleusercontent.com/a-/AOh14Gg69uFQqBleXWW3oFZptK1CE2CMTy5m7PluKD5Z=s64",
      "userId": "09235070521043135989"
     },
     "user_tz": -330
    },
    "id": "C5xMJneaB6a2",
    "outputId": "0b476016-9723-40cf-ebaf-e546a2c54378"
   },
   "outputs": [
    {
     "name": "stdout",
     "output_type": "stream",
     "text": [
      "0\n",
      "1\n",
      "2\n",
      "3\n",
      "4\n",
      "5\n",
      "6\n"
     ]
    }
   ],
   "source": [
    "for i in s.index:\n",
    "    print(i)"
   ]
  },
  {
   "cell_type": "code",
   "execution_count": 10,
   "metadata": {
    "colab": {
     "base_uri": "https://localhost:8080/",
     "height": 235
    },
    "colab_type": "code",
    "executionInfo": {
     "elapsed": 844,
     "status": "ok",
     "timestamp": 1601013237987,
     "user": {
      "displayName": "Badal Kumar",
      "photoUrl": "https://lh3.googleusercontent.com/a-/AOh14Gg69uFQqBleXWW3oFZptK1CE2CMTy5m7PluKD5Z=s64",
      "userId": "09235070521043135989"
     },
     "user_tz": -330
    },
    "id": "HiZm0CK7B_rt",
    "outputId": "f55933b2-9c46-433b-844c-af538d33e63d"
   },
   "outputs": [
    {
     "name": "stdout",
     "output_type": "stream",
     "text": [
      "(0, 0.0)\n",
      "(1, 1.0)\n",
      "(2, 1.0)\n",
      "(3, 2.0)\n",
      "(4, 3.0)\n",
      "(5, 5.0)\n",
      "(6, 8.0)\n"
     ]
    }
   ],
   "source": [
    "for item in zip(s.index, s.values):\n",
    "    print(item)"
   ]
  },
  {
   "cell_type": "code",
   "execution_count": 11,
   "metadata": {
    "colab": {
     "base_uri": "https://localhost:8080/",
     "height": 48
    },
    "colab_type": "code",
    "executionInfo": {
     "elapsed": 2404,
     "status": "ok",
     "timestamp": 1601013248844,
     "user": {
      "displayName": "Badal Kumar",
      "photoUrl": "https://lh3.googleusercontent.com/a-/AOh14Gg69uFQqBleXWW3oFZptK1CE2CMTy5m7PluKD5Z=s64",
      "userId": "09235070521043135989"
     },
     "user_tz": -330
    },
    "id": "8ZiNq_xQCJ0f",
    "outputId": "8f28af17-9b9e-4abe-fcdf-9dcd732f5747"
   },
   "outputs": [
    {
     "data": {
      "text/plain": [
       "0.0"
      ]
     },
     "execution_count": 11,
     "metadata": {},
     "output_type": "execute_result"
    }
   ],
   "source": [
    "s[0]"
   ]
  },
  {
   "cell_type": "code",
   "execution_count": 12,
   "metadata": {
    "colab": {
     "base_uri": "https://localhost:8080/",
     "height": 48
    },
    "colab_type": "code",
    "executionInfo": {
     "elapsed": 771,
     "status": "ok",
     "timestamp": 1601013250290,
     "user": {
      "displayName": "Badal Kumar",
      "photoUrl": "https://lh3.googleusercontent.com/a-/AOh14Gg69uFQqBleXWW3oFZptK1CE2CMTy5m7PluKD5Z=s64",
      "userId": "09235070521043135989"
     },
     "user_tz": -330
    },
    "id": "Vs8gZaniCP1z",
    "outputId": "9472b0ad-db38-4640-c227-f1bee5da9006"
   },
   "outputs": [
    {
     "data": {
      "text/plain": [
       "5.0"
      ]
     },
     "execution_count": 12,
     "metadata": {},
     "output_type": "execute_result"
    }
   ],
   "source": [
    "s[5]"
   ]
  },
  {
   "cell_type": "code",
   "execution_count": 13,
   "metadata": {
    "colab": {},
    "colab_type": "code",
    "executionInfo": {
     "elapsed": 1279,
     "status": "ok",
     "timestamp": 1601013251865,
     "user": {
      "displayName": "Badal Kumar",
      "photoUrl": "https://lh3.googleusercontent.com/a-/AOh14Gg69uFQqBleXWW3oFZptK1CE2CMTy5m7PluKD5Z=s64",
      "userId": "09235070521043135989"
     },
     "user_tz": -330
    },
    "id": "w9uzwgxmCRA5"
   },
   "outputs": [],
   "source": [
    "mercury = pd.Series([0.33, 57.9, 4222.6], index=['mass','diameter','dayLength'])"
   ]
  },
  {
   "cell_type": "code",
   "execution_count": 14,
   "metadata": {
    "colab": {
     "base_uri": "https://localhost:8080/",
     "height": 142
    },
    "colab_type": "code",
    "executionInfo": {
     "elapsed": 875,
     "status": "ok",
     "timestamp": 1601013252671,
     "user": {
      "displayName": "Badal Kumar",
      "photoUrl": "https://lh3.googleusercontent.com/a-/AOh14Gg69uFQqBleXWW3oFZptK1CE2CMTy5m7PluKD5Z=s64",
      "userId": "09235070521043135989"
     },
     "user_tz": -330
    },
    "id": "MoeW3t9yCq9c",
    "outputId": "6b227996-a861-4ec5-bca1-a04f45ad8d69"
   },
   "outputs": [
    {
     "name": "stdout",
     "output_type": "stream",
     "text": [
      "mass            0.33\n",
      "diameter       57.90\n",
      "dayLength    4222.60\n",
      "dtype: float64\n"
     ]
    }
   ],
   "source": [
    "print(mercury )"
   ]
  },
  {
   "cell_type": "code",
   "execution_count": 15,
   "metadata": {
    "colab": {
     "base_uri": "https://localhost:8080/",
     "height": 48
    },
    "colab_type": "code",
    "executionInfo": {
     "elapsed": 876,
     "status": "ok",
     "timestamp": 1601013253466,
     "user": {
      "displayName": "Badal Kumar",
      "photoUrl": "https://lh3.googleusercontent.com/a-/AOh14Gg69uFQqBleXWW3oFZptK1CE2CMTy5m7PluKD5Z=s64",
      "userId": "09235070521043135989"
     },
     "user_tz": -330
    },
    "id": "6wJNzfh5CscF",
    "outputId": "9cdc4d51-8f17-493e-c3a0-1177246f5743"
   },
   "outputs": [
    {
     "data": {
      "text/plain": [
       "0.33"
      ]
     },
     "execution_count": 15,
     "metadata": {},
     "output_type": "execute_result"
    }
   ],
   "source": [
    "mercury['mass']"
   ]
  },
  {
   "cell_type": "code",
   "execution_count": 16,
   "metadata": {
    "colab": {
     "base_uri": "https://localhost:8080/",
     "height": 48
    },
    "colab_type": "code",
    "executionInfo": {
     "elapsed": 1189,
     "status": "ok",
     "timestamp": 1601013254711,
     "user": {
      "displayName": "Badal Kumar",
      "photoUrl": "https://lh3.googleusercontent.com/a-/AOh14Gg69uFQqBleXWW3oFZptK1CE2CMTy5m7PluKD5Z=s64",
      "userId": "09235070521043135989"
     },
     "user_tz": -330
    },
    "id": "cT5OkPN8CzfG",
    "outputId": "6c7ae3d7-ca35-4316-c439-cca4a6b21590"
   },
   "outputs": [
    {
     "data": {
      "text/plain": [
       "4222.6"
      ]
     },
     "execution_count": 16,
     "metadata": {},
     "output_type": "execute_result"
    }
   ],
   "source": [
    "mercury ['dayLength']"
   ]
  },
  {
   "cell_type": "code",
   "execution_count": 17,
   "metadata": {
    "colab": {},
    "colab_type": "code",
    "executionInfo": {
     "elapsed": 893,
     "status": "ok",
     "timestamp": 1601013255374,
     "user": {
      "displayName": "Badal Kumar",
      "photoUrl": "https://lh3.googleusercontent.com/a-/AOh14Gg69uFQqBleXWW3oFZptK1CE2CMTy5m7PluKD5Z=s64",
      "userId": "09235070521043135989"
     },
     "user_tz": -330
    },
    "id": "B3Jfkp2-C2Gj"
   },
   "outputs": [],
   "source": [
    "arr = np.random.randint(0,10,10)"
   ]
  },
  {
   "cell_type": "code",
   "execution_count": 18,
   "metadata": {
    "colab": {
     "base_uri": "https://localhost:8080/",
     "height": 48
    },
    "colab_type": "code",
    "executionInfo": {
     "elapsed": 1347,
     "status": "ok",
     "timestamp": 1601013256670,
     "user": {
      "displayName": "Badal Kumar",
      "photoUrl": "https://lh3.googleusercontent.com/a-/AOh14Gg69uFQqBleXWW3oFZptK1CE2CMTy5m7PluKD5Z=s64",
      "userId": "09235070521043135989"
     },
     "user_tz": -330
    },
    "id": "f3Jtcm9NDSG_",
    "outputId": "5ab92c72-0d70-4f35-fbb2-be4792ab07e3"
   },
   "outputs": [
    {
     "data": {
      "text/plain": [
       "array([1, 6, 9, 9, 1, 5, 6, 9, 2, 1])"
      ]
     },
     "execution_count": 18,
     "metadata": {},
     "output_type": "execute_result"
    }
   ],
   "source": [
    "arr"
   ]
  },
  {
   "cell_type": "code",
   "execution_count": 19,
   "metadata": {
    "colab": {},
    "colab_type": "code",
    "executionInfo": {
     "elapsed": 999,
     "status": "ok",
     "timestamp": 1601013257098,
     "user": {
      "displayName": "Badal Kumar",
      "photoUrl": "https://lh3.googleusercontent.com/a-/AOh14Gg69uFQqBleXWW3oFZptK1CE2CMTy5m7PluKD5Z=s64",
      "userId": "09235070521043135989"
     },
     "user_tz": -330
    },
    "id": "KUuH9I45DnJ3"
   },
   "outputs": [],
   "source": [
    "ind = np.arange(10,20)"
   ]
  },
  {
   "cell_type": "code",
   "execution_count": 20,
   "metadata": {
    "colab": {},
    "colab_type": "code",
    "executionInfo": {
     "elapsed": 783,
     "status": "ok",
     "timestamp": 1601013257587,
     "user": {
      "displayName": "Badal Kumar",
      "photoUrl": "https://lh3.googleusercontent.com/a-/AOh14Gg69uFQqBleXWW3oFZptK1CE2CMTy5m7PluKD5Z=s64",
      "userId": "09235070521043135989"
     },
     "user_tz": -330
    },
    "id": "bkVtw2MhDZGz"
   },
   "outputs": [],
   "source": [
    "rand_series = pd.Series(arr, index=ind)"
   ]
  },
  {
   "cell_type": "code",
   "execution_count": 21,
   "metadata": {
    "colab": {
     "base_uri": "https://localhost:8080/",
     "height": 360
    },
    "colab_type": "code",
    "executionInfo": {
     "elapsed": 873,
     "status": "ok",
     "timestamp": 1601013258777,
     "user": {
      "displayName": "Badal Kumar",
      "photoUrl": "https://lh3.googleusercontent.com/a-/AOh14Gg69uFQqBleXWW3oFZptK1CE2CMTy5m7PluKD5Z=s64",
      "userId": "09235070521043135989"
     },
     "user_tz": -330
    },
    "id": "H3Zt4hqMDgcE",
    "outputId": "8767baa6-49bb-4302-dccc-06076236e364"
   },
   "outputs": [
    {
     "name": "stdout",
     "output_type": "stream",
     "text": [
      "10    1\n",
      "11    6\n",
      "12    9\n",
      "13    9\n",
      "14    1\n",
      "15    5\n",
      "16    6\n",
      "17    9\n",
      "18    2\n",
      "19    1\n",
      "dtype: int32\n"
     ]
    }
   ],
   "source": [
    "print(rand_series)"
   ]
  },
  {
   "cell_type": "code",
   "execution_count": 22,
   "metadata": {
    "colab": {},
    "colab_type": "code",
    "executionInfo": {
     "elapsed": 1577,
     "status": "ok",
     "timestamp": 1601013260479,
     "user": {
      "displayName": "Badal Kumar",
      "photoUrl": "https://lh3.googleusercontent.com/a-/AOh14Gg69uFQqBleXWW3oFZptK1CE2CMTy5m7PluKD5Z=s64",
      "userId": "09235070521043135989"
     },
     "user_tz": -330
    },
    "id": "YcJKFvF8EBRq"
   },
   "outputs": [],
   "source": [
    "# mercury  = pd.Series([0.33, 57.9, 4222.6], index=['mass','diameter','dayLength'])\n",
    "\n",
    "d={}\n",
    "d['mass'] = 0.33\n",
    "d['diameter'] = 57.9\n",
    "d['dayLength'] = 4222.6"
   ]
  },
  {
   "cell_type": "code",
   "execution_count": 23,
   "metadata": {
    "colab": {
     "base_uri": "https://localhost:8080/",
     "height": 48
    },
    "colab_type": "code",
    "executionInfo": {
     "elapsed": 1354,
     "status": "ok",
     "timestamp": 1601013261264,
     "user": {
      "displayName": "Badal Kumar",
      "photoUrl": "https://lh3.googleusercontent.com/a-/AOh14Gg69uFQqBleXWW3oFZptK1CE2CMTy5m7PluKD5Z=s64",
      "userId": "09235070521043135989"
     },
     "user_tz": -330
    },
    "id": "bO0m9Xh4Di-k",
    "outputId": "a53c93f5-1464-4b0c-ae91-ac5ff3667f62"
   },
   "outputs": [
    {
     "name": "stdout",
     "output_type": "stream",
     "text": [
      "{'mass': 0.33, 'diameter': 57.9, 'dayLength': 4222.6}\n"
     ]
    }
   ],
   "source": [
    "print(d)"
   ]
  },
  {
   "cell_type": "code",
   "execution_count": 24,
   "metadata": {
    "colab": {},
    "colab_type": "code",
    "executionInfo": {
     "elapsed": 1371,
     "status": "ok",
     "timestamp": 1601013261945,
     "user": {
      "displayName": "Badal Kumar",
      "photoUrl": "https://lh3.googleusercontent.com/a-/AOh14Gg69uFQqBleXWW3oFZptK1CE2CMTy5m7PluKD5Z=s64",
      "userId": "09235070521043135989"
     },
     "user_tz": -330
    },
    "id": "ubhduuHvEeJx"
   },
   "outputs": [],
   "source": [
    "mercury  = pd.Series(d)"
   ]
  },
  {
   "cell_type": "code",
   "execution_count": 25,
   "metadata": {
    "colab": {
     "base_uri": "https://localhost:8080/",
     "height": 142
    },
    "colab_type": "code",
    "executionInfo": {
     "elapsed": 2180,
     "status": "ok",
     "timestamp": 1601013263639,
     "user": {
      "displayName": "Badal Kumar",
      "photoUrl": "https://lh3.googleusercontent.com/a-/AOh14Gg69uFQqBleXWW3oFZptK1CE2CMTy5m7PluKD5Z=s64",
      "userId": "09235070521043135989"
     },
     "user_tz": -330
    },
    "id": "i8tJ8DMXEg2n",
    "outputId": "e585d795-8bec-4c54-b486-0c132f79024c"
   },
   "outputs": [
    {
     "name": "stdout",
     "output_type": "stream",
     "text": [
      "mass            0.33\n",
      "diameter       57.90\n",
      "dayLength    4222.60\n",
      "dtype: float64\n"
     ]
    }
   ],
   "source": [
    "print(mercury )"
   ]
  },
  {
   "cell_type": "code",
   "execution_count": 26,
   "metadata": {
    "colab": {},
    "colab_type": "code",
    "executionInfo": {
     "elapsed": 1509,
     "status": "ok",
     "timestamp": 1601013263642,
     "user": {
      "displayName": "Badal Kumar",
      "photoUrl": "https://lh3.googleusercontent.com/a-/AOh14Gg69uFQqBleXWW3oFZptK1CE2CMTy5m7PluKD5Z=s64",
      "userId": "09235070521043135989"
     },
     "user_tz": -330
    },
    "id": "NKlGyoqEEh4e"
   },
   "outputs": [],
   "source": [
    "mercury = pd.Series(d, index=['mass','diameter',])"
   ]
  },
  {
   "cell_type": "code",
   "execution_count": 27,
   "metadata": {
    "colab": {
     "base_uri": "https://localhost:8080/",
     "height": 110
    },
    "colab_type": "code",
    "executionInfo": {
     "elapsed": 1196,
     "status": "ok",
     "timestamp": 1601013264069,
     "user": {
      "displayName": "Badal Kumar",
      "photoUrl": "https://lh3.googleusercontent.com/a-/AOh14Gg69uFQqBleXWW3oFZptK1CE2CMTy5m7PluKD5Z=s64",
      "userId": "09235070521043135989"
     },
     "user_tz": -330
    },
    "id": "Jy6qXIFHEy_F",
    "outputId": "ec46e47d-20a2-4377-837b-244ab50020c6"
   },
   "outputs": [
    {
     "name": "stdout",
     "output_type": "stream",
     "text": [
      "mass         0.33\n",
      "diameter    57.90\n",
      "dtype: float64\n"
     ]
    }
   ],
   "source": [
    "print(mercury)"
   ]
  },
  {
   "cell_type": "markdown",
   "metadata": {
    "colab_type": "text",
    "id": "pX72hdIZFCXp"
   },
   "source": [
    "## iloc and loc"
   ]
  },
  {
   "cell_type": "code",
   "execution_count": 28,
   "metadata": {
    "colab": {},
    "colab_type": "code",
    "executionInfo": {
     "elapsed": 8139,
     "status": "ok",
     "timestamp": 1601013288594,
     "user": {
      "displayName": "Badal Kumar",
      "photoUrl": "https://lh3.googleusercontent.com/a-/AOh14Gg69uFQqBleXWW3oFZptK1CE2CMTy5m7PluKD5Z=s64",
      "userId": "09235070521043135989"
     },
     "user_tz": -330
    },
    "id": "LZ77TtvsE5V_"
   },
   "outputs": [],
   "source": [
    "s = pd.Series([0.0, 1, 2, 3 ,4 ,5, 8], index=[1, 2, 3, 4, 5, 6, 7])"
   ]
  },
  {
   "cell_type": "code",
   "execution_count": 29,
   "metadata": {
    "colab": {
     "base_uri": "https://localhost:8080/",
     "height": 266
    },
    "colab_type": "code",
    "executionInfo": {
     "elapsed": 7503,
     "status": "ok",
     "timestamp": 1601013289277,
     "user": {
      "displayName": "Badal Kumar",
      "photoUrl": "https://lh3.googleusercontent.com/a-/AOh14Gg69uFQqBleXWW3oFZptK1CE2CMTy5m7PluKD5Z=s64",
      "userId": "09235070521043135989"
     },
     "user_tz": -330
    },
    "id": "is3Rq1LEJjrF",
    "outputId": "1e094ba7-dcb8-46f3-8be9-93a01f6d1389"
   },
   "outputs": [
    {
     "name": "stdout",
     "output_type": "stream",
     "text": [
      "1    0.0\n",
      "2    1.0\n",
      "3    2.0\n",
      "4    3.0\n",
      "5    4.0\n",
      "6    5.0\n",
      "7    8.0\n",
      "dtype: float64\n"
     ]
    }
   ],
   "source": [
    "print(s)"
   ]
  },
  {
   "cell_type": "code",
   "execution_count": 30,
   "metadata": {
    "colab": {
     "base_uri": "https://localhost:8080/",
     "height": 48
    },
    "colab_type": "code",
    "executionInfo": {
     "elapsed": 1610,
     "status": "ok",
     "timestamp": 1601013297805,
     "user": {
      "displayName": "Badal Kumar",
      "photoUrl": "https://lh3.googleusercontent.com/a-/AOh14Gg69uFQqBleXWW3oFZptK1CE2CMTy5m7PluKD5Z=s64",
      "userId": "09235070521043135989"
     },
     "user_tz": -330
    },
    "id": "b-FEo_m4JmYu",
    "outputId": "2ec8dee2-bd35-4ccd-a123-59eabe912d25"
   },
   "outputs": [
    {
     "data": {
      "text/plain": [
       "3.0"
      ]
     },
     "execution_count": 30,
     "metadata": {},
     "output_type": "execute_result"
    }
   ],
   "source": [
    "s.loc[4]        # loc = location"
   ]
  },
  {
   "cell_type": "code",
   "execution_count": 31,
   "metadata": {
    "colab": {
     "base_uri": "https://localhost:8080/",
     "height": 48
    },
    "colab_type": "code",
    "executionInfo": {
     "elapsed": 1380,
     "status": "ok",
     "timestamp": 1601013812655,
     "user": {
      "displayName": "Badal Kumar",
      "photoUrl": "https://lh3.googleusercontent.com/a-/AOh14Gg69uFQqBleXWW3oFZptK1CE2CMTy5m7PluKD5Z=s64",
      "userId": "09235070521043135989"
     },
     "user_tz": -330
    },
    "id": "vt19x43HJw7c",
    "outputId": "137e5bd9-6aa1-491d-85e6-3badbeefdddc"
   },
   "outputs": [
    {
     "data": {
      "text/plain": [
       "4.0"
      ]
     },
     "execution_count": 31,
     "metadata": {},
     "output_type": "execute_result"
    }
   ],
   "source": [
    "s.iloc[4]              # implicit loaction"
   ]
  },
  {
   "cell_type": "code",
   "execution_count": 32,
   "metadata": {
    "colab": {},
    "colab_type": "code",
    "executionInfo": {
     "elapsed": 1072,
     "status": "ok",
     "timestamp": 1601013638919,
     "user": {
      "displayName": "Badal Kumar",
      "photoUrl": "https://lh3.googleusercontent.com/a-/AOh14Gg69uFQqBleXWW3oFZptK1CE2CMTy5m7PluKD5Z=s64",
      "userId": "09235070521043135989"
     },
     "user_tz": -330
    },
    "id": "LLvqxnJnJ2JQ"
   },
   "outputs": [],
   "source": [
    "# s.loc[0]    "
   ]
  },
  {
   "cell_type": "code",
   "execution_count": 33,
   "metadata": {
    "colab": {},
    "colab_type": "code",
    "executionInfo": {
     "elapsed": 1152,
     "status": "ok",
     "timestamp": 1601013994929,
     "user": {
      "displayName": "Badal Kumar",
      "photoUrl": "https://lh3.googleusercontent.com/a-/AOh14Gg69uFQqBleXWW3oFZptK1CE2CMTy5m7PluKD5Z=s64",
      "userId": "09235070521043135989"
     },
     "user_tz": -330
    },
    "id": "ifUXLeKXJ55n"
   },
   "outputs": [],
   "source": [
    "mercury  = pd.Series([0.33, 57.9, 4222.6], index=['mass','diameter','dayLength'])"
   ]
  },
  {
   "cell_type": "code",
   "execution_count": 34,
   "metadata": {
    "colab": {
     "base_uri": "https://localhost:8080/",
     "height": 48
    },
    "colab_type": "code",
    "executionInfo": {
     "elapsed": 1539,
     "status": "ok",
     "timestamp": 1601014019879,
     "user": {
      "displayName": "Badal Kumar",
      "photoUrl": "https://lh3.googleusercontent.com/a-/AOh14Gg69uFQqBleXWW3oFZptK1CE2CMTy5m7PluKD5Z=s64",
      "userId": "09235070521043135989"
     },
     "user_tz": -330
    },
    "id": "sNAD1JRfKN-x",
    "outputId": "66b82226-4c85-47bc-90cc-9895ea013835"
   },
   "outputs": [
    {
     "data": {
      "text/plain": [
       "0.33"
      ]
     },
     "execution_count": 34,
     "metadata": {},
     "output_type": "execute_result"
    }
   ],
   "source": [
    "mercury.loc['mass']"
   ]
  },
  {
   "cell_type": "code",
   "execution_count": 35,
   "metadata": {
    "colab": {
     "base_uri": "https://localhost:8080/",
     "height": 48
    },
    "colab_type": "code",
    "executionInfo": {
     "elapsed": 1438,
     "status": "ok",
     "timestamp": 1601023222341,
     "user": {
      "displayName": "Badal Kumar",
      "photoUrl": "https://lh3.googleusercontent.com/a-/AOh14Gg69uFQqBleXWW3oFZptK1CE2CMTy5m7PluKD5Z=s64",
      "userId": "09235070521043135989"
     },
     "user_tz": -330
    },
    "id": "UsXxti7IKSoz",
    "outputId": "83e96aec-0045-487c-f0f1-f8aedd6ec42f"
   },
   "outputs": [
    {
     "data": {
      "text/plain": [
       "0.33"
      ]
     },
     "execution_count": 35,
     "metadata": {},
     "output_type": "execute_result"
    }
   ],
   "source": [
    "mercury.iloc[0] "
   ]
  },
  {
   "cell_type": "code",
   "execution_count": 36,
   "metadata": {
    "colab": {
     "base_uri": "https://localhost:8080/",
     "height": 48
    },
    "colab_type": "code",
    "executionInfo": {
     "elapsed": 1205,
     "status": "ok",
     "timestamp": 1601023225878,
     "user": {
      "displayName": "Badal Kumar",
      "photoUrl": "https://lh3.googleusercontent.com/a-/AOh14Gg69uFQqBleXWW3oFZptK1CE2CMTy5m7PluKD5Z=s64",
      "userId": "09235070521043135989"
     },
     "user_tz": -330
    },
    "id": "hokWzTzVKYk6",
    "outputId": "5ba2e10f-75c7-4698-8bcf-75d4fdb1a3cc"
   },
   "outputs": [
    {
     "data": {
      "text/plain": [
       "4222.6"
      ]
     },
     "execution_count": 36,
     "metadata": {},
     "output_type": "execute_result"
    }
   ],
   "source": [
    "mercury.iloc[-1]"
   ]
  },
  {
   "cell_type": "code",
   "execution_count": 37,
   "metadata": {
    "colab": {
     "base_uri": "https://localhost:8080/",
     "height": 110
    },
    "colab_type": "code",
    "executionInfo": {
     "elapsed": 1613,
     "status": "ok",
     "timestamp": 1601023231651,
     "user": {
      "displayName": "Badal Kumar",
      "photoUrl": "https://lh3.googleusercontent.com/a-/AOh14Gg69uFQqBleXWW3oFZptK1CE2CMTy5m7PluKD5Z=s64",
      "userId": "09235070521043135989"
     },
     "user_tz": -330
    },
    "id": "DctaEvd8KcDb",
    "outputId": "90ee7db0-493f-4039-9e3d-e9c651f35b11"
   },
   "outputs": [
    {
     "data": {
      "text/plain": [
       "mass         0.33\n",
       "diameter    57.90\n",
       "dtype: float64"
      ]
     },
     "execution_count": 37,
     "metadata": {},
     "output_type": "execute_result"
    }
   ],
   "source": [
    "mercury.iloc[:2]"
   ]
  },
  {
   "cell_type": "code",
   "execution_count": 38,
   "metadata": {
    "colab": {
     "base_uri": "https://localhost:8080/",
     "height": 142
    },
    "colab_type": "code",
    "executionInfo": {
     "elapsed": 1248,
     "status": "ok",
     "timestamp": 1601023239884,
     "user": {
      "displayName": "Badal Kumar",
      "photoUrl": "https://lh3.googleusercontent.com/a-/AOh14Gg69uFQqBleXWW3oFZptK1CE2CMTy5m7PluKD5Z=s64",
      "userId": "09235070521043135989"
     },
     "user_tz": -330
    },
    "id": "sdnM_QKGKfQ4",
    "outputId": "e556cc31-348a-4f95-8060-bcadfed66cad"
   },
   "outputs": [
    {
     "data": {
      "text/plain": [
       "mass            0.33\n",
       "diameter       57.90\n",
       "dayLength    4222.60\n",
       "dtype: float64"
      ]
     },
     "execution_count": 38,
     "metadata": {},
     "output_type": "execute_result"
    }
   ],
   "source": [
    "mercury.loc['mass':'dayLength']"
   ]
  },
  {
   "cell_type": "markdown",
   "metadata": {
    "colab_type": "text",
    "id": "kMiVog3VLe5Z"
   },
   "source": [
    "## Simple Operations"
   ]
  },
  {
   "cell_type": "code",
   "execution_count": 39,
   "metadata": {
    "colab": {},
    "colab_type": "code",
    "executionInfo": {
     "elapsed": 1285,
     "status": "ok",
     "timestamp": 1601023257710,
     "user": {
      "displayName": "Badal Kumar",
      "photoUrl": "https://lh3.googleusercontent.com/a-/AOh14Gg69uFQqBleXWW3oFZptK1CE2CMTy5m7PluKD5Z=s64",
      "userId": "09235070521043135989"
     },
     "user_tz": -330
    },
    "id": "CKBKrWZ2KvMz"
   },
   "outputs": [],
   "source": [
    "mass = pd.Series([0.33, 4.87, 5.97, 0.642, 1898, 568, 86.8, 102, 0.0146],\n",
    "        index=['Mercury','Venus','Earth','Mars','Jupiter','Saturn','Uranus','Neptune', 'Pluto'])"
   ]
  },
  {
   "cell_type": "code",
   "execution_count": 40,
   "metadata": {
    "colab": {
     "base_uri": "https://localhost:8080/",
     "height": 329
    },
    "colab_type": "code",
    "executionInfo": {
     "elapsed": 755,
     "status": "ok",
     "timestamp": 1601023258239,
     "user": {
      "displayName": "Badal Kumar",
      "photoUrl": "https://lh3.googleusercontent.com/a-/AOh14Gg69uFQqBleXWW3oFZptK1CE2CMTy5m7PluKD5Z=s64",
      "userId": "09235070521043135989"
     },
     "user_tz": -330
    },
    "id": "NvDnvbckMi2_",
    "outputId": "1b75b77c-7c5e-4f41-b528-97b60ec7806a"
   },
   "outputs": [
    {
     "name": "stdout",
     "output_type": "stream",
     "text": [
      "Mercury       0.3300\n",
      "Venus         4.8700\n",
      "Earth         5.9700\n",
      "Mars          0.6420\n",
      "Jupiter    1898.0000\n",
      "Saturn      568.0000\n",
      "Uranus       86.8000\n",
      "Neptune     102.0000\n",
      "Pluto         0.0146\n",
      "dtype: float64\n"
     ]
    }
   ],
   "source": [
    "print(mass)"
   ]
  },
  {
   "cell_type": "code",
   "execution_count": 41,
   "metadata": {
    "colab": {
     "base_uri": "https://localhost:8080/",
     "height": 48
    },
    "colab_type": "code",
    "executionInfo": {
     "elapsed": 1079,
     "status": "ok",
     "timestamp": 1601023261123,
     "user": {
      "displayName": "Badal Kumar",
      "photoUrl": "https://lh3.googleusercontent.com/a-/AOh14Gg69uFQqBleXWW3oFZptK1CE2CMTy5m7PluKD5Z=s64",
      "userId": "09235070521043135989"
     },
     "user_tz": -330
    },
    "id": "_AnhEmF_Mm14",
    "outputId": "d069cca3-bb75-4dde-dc28-50eb1254259d"
   },
   "outputs": [
    {
     "data": {
      "text/plain": [
       "4.87"
      ]
     },
     "execution_count": 41,
     "metadata": {},
     "output_type": "execute_result"
    }
   ],
   "source": [
    "mass.iloc[1]"
   ]
  },
  {
   "cell_type": "code",
   "execution_count": 42,
   "metadata": {
    "colab": {
     "base_uri": "https://localhost:8080/",
     "height": 48
    },
    "colab_type": "code",
    "executionInfo": {
     "elapsed": 1334,
     "status": "ok",
     "timestamp": 1601023269709,
     "user": {
      "displayName": "Badal Kumar",
      "photoUrl": "https://lh3.googleusercontent.com/a-/AOh14Gg69uFQqBleXWW3oFZptK1CE2CMTy5m7PluKD5Z=s64",
      "userId": "09235070521043135989"
     },
     "user_tz": -330
    },
    "id": "PqkXGLnLMwZt",
    "outputId": "3fa07651-66ff-4624-e08b-a8a8f9aaa861"
   },
   "outputs": [
    {
     "data": {
      "text/plain": [
       "5.97"
      ]
     },
     "execution_count": 42,
     "metadata": {},
     "output_type": "execute_result"
    }
   ],
   "source": [
    "mass.loc['Earth']"
   ]
  },
  {
   "cell_type": "code",
   "execution_count": 43,
   "metadata": {
    "colab": {
     "base_uri": "https://localhost:8080/",
     "height": 48
    },
    "colab_type": "code",
    "executionInfo": {
     "elapsed": 1532,
     "status": "ok",
     "timestamp": 1601023285091,
     "user": {
      "displayName": "Badal Kumar",
      "photoUrl": "https://lh3.googleusercontent.com/a-/AOh14Gg69uFQqBleXWW3oFZptK1CE2CMTy5m7PluKD5Z=s64",
      "userId": "09235070521043135989"
     },
     "user_tz": -330
    },
    "id": "YvgrqaqnNI8o",
    "outputId": "6967d752-fafd-403d-ff31-64dd13102c3f"
   },
   "outputs": [
    {
     "data": {
      "text/plain": [
       "5.97"
      ]
     },
     "execution_count": 43,
     "metadata": {},
     "output_type": "execute_result"
    }
   ],
   "source": [
    "mass['Earth']"
   ]
  },
  {
   "cell_type": "code",
   "execution_count": 44,
   "metadata": {
    "colab": {
     "base_uri": "https://localhost:8080/",
     "height": 142
    },
    "colab_type": "code",
    "executionInfo": {
     "elapsed": 1895,
     "status": "ok",
     "timestamp": 1601023288082,
     "user": {
      "displayName": "Badal Kumar",
      "photoUrl": "https://lh3.googleusercontent.com/a-/AOh14Gg69uFQqBleXWW3oFZptK1CE2CMTy5m7PluKD5Z=s64",
      "userId": "09235070521043135989"
     },
     "user_tz": -330
    },
    "id": "2x6zGwF_NTAn",
    "outputId": "9474951d-b6e6-4527-b716-643ea202c0cc"
   },
   "outputs": [
    {
     "data": {
      "text/plain": [
       "Earth         5.970\n",
       "Mars          0.642\n",
       "Jupiter    1898.000\n",
       "dtype: float64"
      ]
     },
     "execution_count": 44,
     "metadata": {},
     "output_type": "execute_result"
    }
   ],
   "source": [
    "mass['Earth':'Jupiter']"
   ]
  },
  {
   "cell_type": "code",
   "execution_count": 45,
   "metadata": {
    "colab": {
     "base_uri": "https://localhost:8080/",
     "height": 142
    },
    "colab_type": "code",
    "executionInfo": {
     "elapsed": 2360,
     "status": "ok",
     "timestamp": 1601023289729,
     "user": {
      "displayName": "Badal Kumar",
      "photoUrl": "https://lh3.googleusercontent.com/a-/AOh14Gg69uFQqBleXWW3oFZptK1CE2CMTy5m7PluKD5Z=s64",
      "userId": "09235070521043135989"
     },
     "user_tz": -330
    },
    "id": "8eoBWSD7N-ub",
    "outputId": "1fc482cf-0b6f-4f3b-c0ef-29b7a4a5dec3"
   },
   "outputs": [
    {
     "data": {
      "text/plain": [
       "Earth         5.970\n",
       "Mars          0.642\n",
       "Jupiter    1898.000\n",
       "dtype: float64"
      ]
     },
     "execution_count": 45,
     "metadata": {},
     "output_type": "execute_result"
    }
   ],
   "source": [
    "mass[2:5]"
   ]
  },
  {
   "cell_type": "code",
   "execution_count": 46,
   "metadata": {
    "colab": {
     "base_uri": "https://localhost:8080/",
     "height": 142
    },
    "colab_type": "code",
    "executionInfo": {
     "elapsed": 2114,
     "status": "ok",
     "timestamp": 1601023290659,
     "user": {
      "displayName": "Badal Kumar",
      "photoUrl": "https://lh3.googleusercontent.com/a-/AOh14Gg69uFQqBleXWW3oFZptK1CE2CMTy5m7PluKD5Z=s64",
      "userId": "09235070521043135989"
     },
     "user_tz": -330
    },
    "id": "YC-xjoPUOCyI",
    "outputId": "29a8a9f4-5128-441a-e4d7-e075fe4577d4"
   },
   "outputs": [
    {
     "data": {
      "text/plain": [
       "Earth         5.970\n",
       "Mars          0.642\n",
       "Jupiter    1898.000\n",
       "dtype: float64"
      ]
     },
     "execution_count": 46,
     "metadata": {},
     "output_type": "execute_result"
    }
   ],
   "source": [
    "mass.iloc[2:5]"
   ]
  },
  {
   "cell_type": "code",
   "execution_count": 47,
   "metadata": {
    "colab": {
     "base_uri": "https://localhost:8080/",
     "height": 329
    },
    "colab_type": "code",
    "executionInfo": {
     "elapsed": 1289,
     "status": "ok",
     "timestamp": 1601023379466,
     "user": {
      "displayName": "Badal Kumar",
      "photoUrl": "https://lh3.googleusercontent.com/a-/AOh14Gg69uFQqBleXWW3oFZptK1CE2CMTy5m7PluKD5Z=s64",
      "userId": "09235070521043135989"
     },
     "user_tz": -330
    },
    "id": "PjDwYRpiOGme",
    "outputId": "4ad89222-22fc-4c6a-b165-0dc93413966b"
   },
   "outputs": [
    {
     "data": {
      "text/plain": [
       "Mercury    False\n",
       "Venus      False\n",
       "Earth      False\n",
       "Mars       False\n",
       "Jupiter     True\n",
       "Saturn      True\n",
       "Uranus     False\n",
       "Neptune     True\n",
       "Pluto      False\n",
       "dtype: bool"
      ]
     },
     "execution_count": 47,
     "metadata": {},
     "output_type": "execute_result"
    }
   ],
   "source": [
    "mass > 100"
   ]
  },
  {
   "cell_type": "code",
   "execution_count": 48,
   "metadata": {
    "colab": {
     "base_uri": "https://localhost:8080/",
     "height": 142
    },
    "colab_type": "code",
    "executionInfo": {
     "elapsed": 2345,
     "status": "ok",
     "timestamp": 1601023394605,
     "user": {
      "displayName": "Badal Kumar",
      "photoUrl": "https://lh3.googleusercontent.com/a-/AOh14Gg69uFQqBleXWW3oFZptK1CE2CMTy5m7PluKD5Z=s64",
      "userId": "09235070521043135989"
     },
     "user_tz": -330
    },
    "id": "YPnj3CG7OLfG",
    "outputId": "d84cadd0-e32b-4cc1-a757-59a1ac083f45"
   },
   "outputs": [
    {
     "data": {
      "text/plain": [
       "Jupiter    1898.0\n",
       "Saturn      568.0\n",
       "Neptune     102.0\n",
       "dtype: float64"
      ]
     },
     "execution_count": 48,
     "metadata": {},
     "output_type": "execute_result"
    }
   ],
   "source": [
    "mass[mass > 100]"
   ]
  },
  {
   "cell_type": "code",
   "execution_count": 49,
   "metadata": {
    "colab": {
     "base_uri": "https://localhost:8080/",
     "height": 110
    },
    "colab_type": "code",
    "executionInfo": {
     "elapsed": 1425,
     "status": "ok",
     "timestamp": 1601023417239,
     "user": {
      "displayName": "Badal Kumar",
      "photoUrl": "https://lh3.googleusercontent.com/a-/AOh14Gg69uFQqBleXWW3oFZptK1CE2CMTy5m7PluKD5Z=s64",
      "userId": "09235070521043135989"
     },
     "user_tz": -330
    },
    "id": "DgY3F5sjOPwV",
    "outputId": "34f0f989-9319-4d27-cfca-ed85a5aebe12"
   },
   "outputs": [
    {
     "data": {
      "text/plain": [
       "Saturn     568.0\n",
       "Neptune    102.0\n",
       "dtype: float64"
      ]
     },
     "execution_count": 49,
     "metadata": {},
     "output_type": "execute_result"
    }
   ],
   "source": [
    "mass[(mass > 100) & (mass < 600)]"
   ]
  },
  {
   "cell_type": "code",
   "execution_count": 50,
   "metadata": {
    "colab": {
     "base_uri": "https://localhost:8080/",
     "height": 329
    },
    "colab_type": "code",
    "executionInfo": {
     "elapsed": 1580,
     "status": "ok",
     "timestamp": 1601023420113,
     "user": {
      "displayName": "Badal Kumar",
      "photoUrl": "https://lh3.googleusercontent.com/a-/AOh14Gg69uFQqBleXWW3oFZptK1CE2CMTy5m7PluKD5Z=s64",
      "userId": "09235070521043135989"
     },
     "user_tz": -330
    },
    "id": "IOSc2KWKOaXY",
    "outputId": "adbed558-43f7-4a3c-8ced-6b588e9ba707"
   },
   "outputs": [
    {
     "data": {
      "text/plain": [
       "Mercury       0.3300\n",
       "Venus         4.8700\n",
       "Earth         5.9700\n",
       "Mars          0.6420\n",
       "Jupiter    1898.0000\n",
       "Saturn      568.0000\n",
       "Uranus       86.8000\n",
       "Neptune     102.0000\n",
       "Pluto         0.0146\n",
       "dtype: float64"
      ]
     },
     "execution_count": 50,
     "metadata": {},
     "output_type": "execute_result"
    }
   ],
   "source": [
    "mass "
   ]
  },
  {
   "cell_type": "code",
   "execution_count": 51,
   "metadata": {
    "colab": {
     "base_uri": "https://localhost:8080/",
     "height": 329
    },
    "colab_type": "code",
    "executionInfo": {
     "elapsed": 1263,
     "status": "ok",
     "timestamp": 1601023422508,
     "user": {
      "displayName": "Badal Kumar",
      "photoUrl": "https://lh3.googleusercontent.com/a-/AOh14Gg69uFQqBleXWW3oFZptK1CE2CMTy5m7PluKD5Z=s64",
      "userId": "09235070521043135989"
     },
     "user_tz": -330
    },
    "id": "51Xga9p6Oztb",
    "outputId": "7f0e7b10-effe-4f5d-e737-ccf1dd058b1e"
   },
   "outputs": [
    {
     "data": {
      "text/plain": [
       "Mercury       0.6600\n",
       "Venus         9.7400\n",
       "Earth        11.9400\n",
       "Mars          1.2840\n",
       "Jupiter    3796.0000\n",
       "Saturn     1136.0000\n",
       "Uranus      173.6000\n",
       "Neptune     204.0000\n",
       "Pluto         0.0292\n",
       "dtype: float64"
      ]
     },
     "execution_count": 51,
     "metadata": {},
     "output_type": "execute_result"
    }
   ],
   "source": [
    "mass * 2"
   ]
  },
  {
   "cell_type": "code",
   "execution_count": 52,
   "metadata": {
    "colab": {
     "base_uri": "https://localhost:8080/",
     "height": 329
    },
    "colab_type": "code",
    "executionInfo": {
     "elapsed": 1049,
     "status": "ok",
     "timestamp": 1601023424773,
     "user": {
      "displayName": "Badal Kumar",
      "photoUrl": "https://lh3.googleusercontent.com/a-/AOh14Gg69uFQqBleXWW3oFZptK1CE2CMTy5m7PluKD5Z=s64",
      "userId": "09235070521043135989"
     },
     "user_tz": -330
    },
    "id": "DgFQvZDeO0wJ",
    "outputId": "ccb7b4cc-3bb8-4248-f6f6-82e152213b83"
   },
   "outputs": [
    {
     "data": {
      "text/plain": [
       "Mercury      0.03300\n",
       "Venus        0.48700\n",
       "Earth        0.59700\n",
       "Mars         0.06420\n",
       "Jupiter    189.80000\n",
       "Saturn      56.80000\n",
       "Uranus       8.68000\n",
       "Neptune     10.20000\n",
       "Pluto        0.00146\n",
       "dtype: float64"
      ]
     },
     "execution_count": 52,
     "metadata": {},
     "output_type": "execute_result"
    }
   ],
   "source": [
    "mass / 10"
   ]
  },
  {
   "cell_type": "code",
   "execution_count": 53,
   "metadata": {
    "colab": {
     "base_uri": "https://localhost:8080/",
     "height": 48
    },
    "colab_type": "code",
    "executionInfo": {
     "elapsed": 1146,
     "status": "ok",
     "timestamp": 1601023426975,
     "user": {
      "displayName": "Badal Kumar",
      "photoUrl": "https://lh3.googleusercontent.com/a-/AOh14Gg69uFQqBleXWW3oFZptK1CE2CMTy5m7PluKD5Z=s64",
      "userId": "09235070521043135989"
     },
     "user_tz": -330
    },
    "id": "2ToJrlAbO2Oz",
    "outputId": "85d737b4-4133-4af0-e7a1-0065a2b0d4a5"
   },
   "outputs": [
    {
     "data": {
      "text/plain": [
       "296.29184444444445"
      ]
     },
     "execution_count": 53,
     "metadata": {},
     "output_type": "execute_result"
    }
   ],
   "source": [
    "np.mean(mass)"
   ]
  },
  {
   "cell_type": "code",
   "execution_count": 54,
   "metadata": {
    "colab": {
     "base_uri": "https://localhost:8080/",
     "height": 48
    },
    "colab_type": "code",
    "executionInfo": {
     "elapsed": 1643,
     "status": "ok",
     "timestamp": 1601023429703,
     "user": {
      "displayName": "Badal Kumar",
      "photoUrl": "https://lh3.googleusercontent.com/a-/AOh14Gg69uFQqBleXWW3oFZptK1CE2CMTy5m7PluKD5Z=s64",
      "userId": "09235070521043135989"
     },
     "user_tz": -330
    },
    "id": "M3SCgkiwO-Sb",
    "outputId": "a553c6e4-5684-4c78-9aa2-96757af74b4f"
   },
   "outputs": [
    {
     "data": {
      "text/plain": [
       "0.0146"
      ]
     },
     "execution_count": 54,
     "metadata": {},
     "output_type": "execute_result"
    }
   ],
   "source": [
    "np.amin(mass)"
   ]
  },
  {
   "cell_type": "code",
   "execution_count": 55,
   "metadata": {
    "colab": {
     "base_uri": "https://localhost:8080/",
     "height": 48
    },
    "colab_type": "code",
    "executionInfo": {
     "elapsed": 1363,
     "status": "ok",
     "timestamp": 1601023432630,
     "user": {
      "displayName": "Badal Kumar",
      "photoUrl": "https://lh3.googleusercontent.com/a-/AOh14Gg69uFQqBleXWW3oFZptK1CE2CMTy5m7PluKD5Z=s64",
      "userId": "09235070521043135989"
     },
     "user_tz": -330
    },
    "id": "M1ndN2ysPGf-",
    "outputId": "bf7f1d9d-5e9b-461a-9d40-63eaf62d748d"
   },
   "outputs": [
    {
     "data": {
      "text/plain": [
       "1898.0"
      ]
     },
     "execution_count": 55,
     "metadata": {},
     "output_type": "execute_result"
    }
   ],
   "source": [
    "np.amax(mass)"
   ]
  },
  {
   "cell_type": "code",
   "execution_count": 56,
   "metadata": {
    "colab": {
     "base_uri": "https://localhost:8080/",
     "height": 48
    },
    "colab_type": "code",
    "executionInfo": {
     "elapsed": 1306,
     "status": "ok",
     "timestamp": 1601023435463,
     "user": {
      "displayName": "Badal Kumar",
      "photoUrl": "https://lh3.googleusercontent.com/a-/AOh14Gg69uFQqBleXWW3oFZptK1CE2CMTy5m7PluKD5Z=s64",
      "userId": "09235070521043135989"
     },
     "user_tz": -330
    },
    "id": "7_CFMX7MPKFP",
    "outputId": "82e72cf5-86cf-4022-adca-c6ad646a3f18"
   },
   "outputs": [
    {
     "data": {
      "text/plain": [
       "5.97"
      ]
     },
     "execution_count": 56,
     "metadata": {},
     "output_type": "execute_result"
    }
   ],
   "source": [
    "np.median(mass)"
   ]
  },
  {
   "cell_type": "code",
   "execution_count": 57,
   "metadata": {
    "colab": {
     "base_uri": "https://localhost:8080/",
     "height": 329
    },
    "colab_type": "code",
    "executionInfo": {
     "elapsed": 1291,
     "status": "ok",
     "timestamp": 1601023438048,
     "user": {
      "displayName": "Badal Kumar",
      "photoUrl": "https://lh3.googleusercontent.com/a-/AOh14Gg69uFQqBleXWW3oFZptK1CE2CMTy5m7PluKD5Z=s64",
      "userId": "09235070521043135989"
     },
     "user_tz": -330
    },
    "id": "_XZIXFl_PLtH",
    "outputId": "c9bd3f2f-925c-4171-d40c-0eb3e38f9199"
   },
   "outputs": [
    {
     "data": {
      "text/plain": [
       "Mercury       0.6600\n",
       "Venus         9.7400\n",
       "Earth        11.9400\n",
       "Mars          1.2840\n",
       "Jupiter    3796.0000\n",
       "Saturn     1136.0000\n",
       "Uranus      173.6000\n",
       "Neptune     204.0000\n",
       "Pluto         0.0292\n",
       "dtype: float64"
      ]
     },
     "execution_count": 57,
     "metadata": {},
     "output_type": "execute_result"
    }
   ],
   "source": [
    "mass + mass"
   ]
  },
  {
   "cell_type": "code",
   "execution_count": 58,
   "metadata": {
    "colab": {
     "base_uri": "https://localhost:8080/",
     "height": 329
    },
    "colab_type": "code",
    "executionInfo": {
     "elapsed": 1593,
     "status": "ok",
     "timestamp": 1601023440918,
     "user": {
      "displayName": "Badal Kumar",
      "photoUrl": "https://lh3.googleusercontent.com/a-/AOh14Gg69uFQqBleXWW3oFZptK1CE2CMTy5m7PluKD5Z=s64",
      "userId": "09235070521043135989"
     },
     "user_tz": -330
    },
    "id": "pkawbVyZPc0N",
    "outputId": "8deb646f-fce5-4d9e-f25a-5d3909f935f5"
   },
   "outputs": [
    {
     "data": {
      "text/plain": [
       "Mercury    0.0\n",
       "Venus      0.0\n",
       "Earth      0.0\n",
       "Mars       0.0\n",
       "Jupiter    0.0\n",
       "Saturn     0.0\n",
       "Uranus     0.0\n",
       "Neptune    0.0\n",
       "Pluto      0.0\n",
       "dtype: float64"
      ]
     },
     "execution_count": 58,
     "metadata": {},
     "output_type": "execute_result"
    }
   ],
   "source": [
    "mass - mass"
   ]
  },
  {
   "cell_type": "code",
   "execution_count": 59,
   "metadata": {
    "colab": {},
    "colab_type": "code",
    "executionInfo": {
     "elapsed": 1404,
     "status": "ok",
     "timestamp": 1601023443150,
     "user": {
      "displayName": "Badal Kumar",
      "photoUrl": "https://lh3.googleusercontent.com/a-/AOh14Gg69uFQqBleXWW3oFZptK1CE2CMTy5m7PluKD5Z=s64",
      "userId": "09235070521043135989"
     },
     "user_tz": -330
    },
    "id": "BirxLvVCPgN7"
   },
   "outputs": [],
   "source": [
    "big_mass = mass[mass> 100]"
   ]
  },
  {
   "cell_type": "code",
   "execution_count": 60,
   "metadata": {
    "colab": {
     "base_uri": "https://localhost:8080/",
     "height": 142
    },
    "colab_type": "code",
    "executionInfo": {
     "elapsed": 1914,
     "status": "ok",
     "timestamp": 1601023450185,
     "user": {
      "displayName": "Badal Kumar",
      "photoUrl": "https://lh3.googleusercontent.com/a-/AOh14Gg69uFQqBleXWW3oFZptK1CE2CMTy5m7PluKD5Z=s64",
      "userId": "09235070521043135989"
     },
     "user_tz": -330
    },
    "id": "bJXy2RNbPnJv",
    "outputId": "65f0c779-84bc-4233-b90d-30c81f933035"
   },
   "outputs": [
    {
     "data": {
      "text/plain": [
       "Jupiter    1898.0\n",
       "Saturn      568.0\n",
       "Neptune     102.0\n",
       "dtype: float64"
      ]
     },
     "execution_count": 60,
     "metadata": {},
     "output_type": "execute_result"
    }
   ],
   "source": [
    "big_mass"
   ]
  },
  {
   "cell_type": "code",
   "execution_count": 61,
   "metadata": {
    "colab": {
     "base_uri": "https://localhost:8080/",
     "height": 329
    },
    "colab_type": "code",
    "executionInfo": {
     "elapsed": 1233,
     "status": "ok",
     "timestamp": 1601023452312,
     "user": {
      "displayName": "Badal Kumar",
      "photoUrl": "https://lh3.googleusercontent.com/a-/AOh14Gg69uFQqBleXWW3oFZptK1CE2CMTy5m7PluKD5Z=s64",
      "userId": "09235070521043135989"
     },
     "user_tz": -330
    },
    "id": "l9YxmiTRPoZS",
    "outputId": "b54cf4f6-e503-4d18-a806-1f47e814f25c"
   },
   "outputs": [
    {
     "data": {
      "text/plain": [
       "Mercury       0.3300\n",
       "Venus         4.8700\n",
       "Earth         5.9700\n",
       "Mars          0.6420\n",
       "Jupiter    1898.0000\n",
       "Saturn      568.0000\n",
       "Uranus       86.8000\n",
       "Neptune     102.0000\n",
       "Pluto         0.0146\n",
       "dtype: float64"
      ]
     },
     "execution_count": 61,
     "metadata": {},
     "output_type": "execute_result"
    }
   ],
   "source": [
    "mass"
   ]
  },
  {
   "cell_type": "code",
   "execution_count": 62,
   "metadata": {
    "colab": {},
    "colab_type": "code",
    "executionInfo": {
     "elapsed": 1390,
     "status": "ok",
     "timestamp": 1601023454882,
     "user": {
      "displayName": "Badal Kumar",
      "photoUrl": "https://lh3.googleusercontent.com/a-/AOh14Gg69uFQqBleXWW3oFZptK1CE2CMTy5m7PluKD5Z=s64",
      "userId": "09235070521043135989"
     },
     "user_tz": -330
    },
    "id": "glKxhIaMPqtg"
   },
   "outputs": [],
   "source": [
    "new_mass = mass + big_mass"
   ]
  },
  {
   "cell_type": "code",
   "execution_count": 63,
   "metadata": {
    "colab": {
     "base_uri": "https://localhost:8080/",
     "height": 329
    },
    "colab_type": "code",
    "executionInfo": {
     "elapsed": 1313,
     "status": "ok",
     "timestamp": 1601023457589,
     "user": {
      "displayName": "Badal Kumar",
      "photoUrl": "https://lh3.googleusercontent.com/a-/AOh14Gg69uFQqBleXWW3oFZptK1CE2CMTy5m7PluKD5Z=s64",
      "userId": "09235070521043135989"
     },
     "user_tz": -330
    },
    "id": "W2FOYYCBPvMh",
    "outputId": "42b33141-41e4-442d-bf2d-ef99d3f0acbc"
   },
   "outputs": [
    {
     "data": {
      "text/plain": [
       "Earth         NaN\n",
       "Jupiter    3796.0\n",
       "Mars          NaN\n",
       "Mercury       NaN\n",
       "Neptune     204.0\n",
       "Pluto         NaN\n",
       "Saturn     1136.0\n",
       "Uranus        NaN\n",
       "Venus         NaN\n",
       "dtype: float64"
      ]
     },
     "execution_count": 63,
     "metadata": {},
     "output_type": "execute_result"
    }
   ],
   "source": [
    "new_mass"
   ]
  },
  {
   "cell_type": "code",
   "execution_count": 64,
   "metadata": {
    "colab": {
     "base_uri": "https://localhost:8080/",
     "height": 329
    },
    "colab_type": "code",
    "executionInfo": {
     "elapsed": 1601,
     "status": "ok",
     "timestamp": 1601023465874,
     "user": {
      "displayName": "Badal Kumar",
      "photoUrl": "https://lh3.googleusercontent.com/a-/AOh14Gg69uFQqBleXWW3oFZptK1CE2CMTy5m7PluKD5Z=s64",
      "userId": "09235070521043135989"
     },
     "user_tz": -330
    },
    "id": "tXl54pcqPwGT",
    "outputId": "6de80ea9-54e1-44c7-f459-8e7ea7fc07bf"
   },
   "outputs": [
    {
     "data": {
      "text/plain": [
       "Earth       True\n",
       "Jupiter    False\n",
       "Mars        True\n",
       "Mercury     True\n",
       "Neptune    False\n",
       "Pluto       True\n",
       "Saturn     False\n",
       "Uranus      True\n",
       "Venus       True\n",
       "dtype: bool"
      ]
     },
     "execution_count": 64,
     "metadata": {},
     "output_type": "execute_result"
    }
   ],
   "source": [
    "pd.isnull(new_mass)"
   ]
  },
  {
   "cell_type": "code",
   "execution_count": 65,
   "metadata": {
    "colab": {
     "base_uri": "https://localhost:8080/",
     "height": 142
    },
    "colab_type": "code",
    "executionInfo": {
     "elapsed": 1260,
     "status": "ok",
     "timestamp": 1601023515463,
     "user": {
      "displayName": "Badal Kumar",
      "photoUrl": "https://lh3.googleusercontent.com/a-/AOh14Gg69uFQqBleXWW3oFZptK1CE2CMTy5m7PluKD5Z=s64",
      "userId": "09235070521043135989"
     },
     "user_tz": -330
    },
    "id": "KgtiJNDpQRX3",
    "outputId": "47f486ad-a844-4471-eb6d-e190d1ac5610"
   },
   "outputs": [
    {
     "data": {
      "text/plain": [
       "Jupiter    3796.0\n",
       "Neptune     204.0\n",
       "Saturn     1136.0\n",
       "dtype: float64"
      ]
     },
     "execution_count": 65,
     "metadata": {},
     "output_type": "execute_result"
    }
   ],
   "source": [
    "new_mass[-pd.isnull(new_mass)]"
   ]
  },
  {
   "cell_type": "code",
   "execution_count": 66,
   "metadata": {
    "colab": {
     "base_uri": "https://localhost:8080/",
     "height": 329
    },
    "colab_type": "code",
    "executionInfo": {
     "elapsed": 833,
     "status": "ok",
     "timestamp": 1601023516860,
     "user": {
      "displayName": "Badal Kumar",
      "photoUrl": "https://lh3.googleusercontent.com/a-/AOh14Gg69uFQqBleXWW3oFZptK1CE2CMTy5m7PluKD5Z=s64",
      "userId": "09235070521043135989"
     },
     "user_tz": -330
    },
    "id": "S3dk2JNaQa_r",
    "outputId": "19f42f1f-cd4d-4a14-ef6d-50b0efac58ba"
   },
   "outputs": [
    {
     "data": {
      "text/plain": [
       "Mercury       0.3300\n",
       "Venus         4.8700\n",
       "Earth         5.9700\n",
       "Mars          0.6420\n",
       "Jupiter    1898.0000\n",
       "Saturn      568.0000\n",
       "Uranus       86.8000\n",
       "Neptune     102.0000\n",
       "Pluto         0.0146\n",
       "dtype: float64"
      ]
     },
     "execution_count": 66,
     "metadata": {},
     "output_type": "execute_result"
    }
   ],
   "source": [
    "mass"
   ]
  },
  {
   "cell_type": "code",
   "execution_count": 67,
   "metadata": {
    "colab": {},
    "colab_type": "code",
    "executionInfo": {
     "elapsed": 940,
     "status": "ok",
     "timestamp": 1601023518666,
     "user": {
      "displayName": "Badal Kumar",
      "photoUrl": "https://lh3.googleusercontent.com/a-/AOh14Gg69uFQqBleXWW3oFZptK1CE2CMTy5m7PluKD5Z=s64",
      "userId": "09235070521043135989"
     },
     "user_tz": -330
    },
    "id": "RoT5u3VwQgB6"
   },
   "outputs": [],
   "source": [
    "mass['Moon'] = 0.7346"
   ]
  },
  {
   "cell_type": "code",
   "execution_count": 68,
   "metadata": {
    "colab": {
     "base_uri": "https://localhost:8080/",
     "height": 360
    },
    "colab_type": "code",
    "executionInfo": {
     "elapsed": 788,
     "status": "ok",
     "timestamp": 1601023520465,
     "user": {
      "displayName": "Badal Kumar",
      "photoUrl": "https://lh3.googleusercontent.com/a-/AOh14Gg69uFQqBleXWW3oFZptK1CE2CMTy5m7PluKD5Z=s64",
      "userId": "09235070521043135989"
     },
     "user_tz": -330
    },
    "id": "5TNZrbIlQmSC",
    "outputId": "e652ecd9-0132-444b-b8e2-51377bc2a65f"
   },
   "outputs": [
    {
     "data": {
      "text/plain": [
       "Mercury       0.3300\n",
       "Venus         4.8700\n",
       "Earth         5.9700\n",
       "Mars          0.6420\n",
       "Jupiter    1898.0000\n",
       "Saturn      568.0000\n",
       "Uranus       86.8000\n",
       "Neptune     102.0000\n",
       "Pluto         0.0146\n",
       "Moon          0.7346\n",
       "dtype: float64"
      ]
     },
     "execution_count": 68,
     "metadata": {},
     "output_type": "execute_result"
    }
   ],
   "source": [
    "mass"
   ]
  },
  {
   "cell_type": "code",
   "execution_count": 69,
   "metadata": {
    "colab": {
     "base_uri": "https://localhost:8080/",
     "height": 329
    },
    "colab_type": "code",
    "executionInfo": {
     "elapsed": 1535,
     "status": "ok",
     "timestamp": 1601023525108,
     "user": {
      "displayName": "Badal Kumar",
      "photoUrl": "https://lh3.googleusercontent.com/a-/AOh14Gg69uFQqBleXWW3oFZptK1CE2CMTy5m7PluKD5Z=s64",
      "userId": "09235070521043135989"
     },
     "user_tz": -330
    },
    "id": "CybbPNANQm2Y",
    "outputId": "839800b0-cd56-46c7-ee00-adad3e81212b"
   },
   "outputs": [
    {
     "data": {
      "text/plain": [
       "Mercury       0.3300\n",
       "Venus         4.8700\n",
       "Earth         5.9700\n",
       "Mars          0.6420\n",
       "Jupiter    1898.0000\n",
       "Saturn      568.0000\n",
       "Uranus       86.8000\n",
       "Neptune     102.0000\n",
       "Moon          0.7346\n",
       "dtype: float64"
      ]
     },
     "execution_count": 69,
     "metadata": {},
     "output_type": "execute_result"
    }
   ],
   "source": [
    "mass.drop(['Pluto'])"
   ]
  },
  {
   "cell_type": "markdown",
   "metadata": {
    "colab_type": "text",
    "id": "h1Uy2x6zyW57"
   },
   "source": [
    "## Task"
   ]
  },
  {
   "cell_type": "markdown",
   "metadata": {
    "colab_type": "text",
    "id": "YedqqYwARD8n"
   },
   "source": [
    "### Task-1\n",
    "\n",
    "Collect number for the diameters of these planets(heavenly bodies) and store it as a series object. Then given these two Series objects mass and diameter, compute the density of each planet."
   ]
  },
  {
   "cell_type": "code",
   "execution_count": 70,
   "metadata": {
    "colab": {},
    "colab_type": "code",
    "executionInfo": {
     "elapsed": 1529,
     "status": "ok",
     "timestamp": 1601023614668,
     "user": {
      "displayName": "Badal Kumar",
      "photoUrl": "https://lh3.googleusercontent.com/a-/AOh14Gg69uFQqBleXWW3oFZptK1CE2CMTy5m7PluKD5Z=s64",
      "userId": "09235070521043135989"
     },
     "user_tz": -330
    },
    "id": "YapfdI_eQqNY"
   },
   "outputs": [],
   "source": [
    "diameter = pd.Series([4879, 12104, 12756, 3475, 6792, 142984, 120536, 51118, 49528, 2370],\n",
    "                     index=['Mercury','Venus','Earth','Moon','Mars','Jupiter','Saturn','Uranus','Neptune','Pluto'])\n"
   ]
  },
  {
   "cell_type": "code",
   "execution_count": 71,
   "metadata": {
    "colab": {
     "base_uri": "https://localhost:8080/",
     "height": 99
    },
    "colab_type": "code",
    "executionInfo": {
     "elapsed": 1457,
     "status": "ok",
     "timestamp": 1601023619142,
     "user": {
      "displayName": "Badal Kumar",
      "photoUrl": "https://lh3.googleusercontent.com/a-/AOh14Gg69uFQqBleXWW3oFZptK1CE2CMTy5m7PluKD5Z=s64",
      "userId": "09235070521043135989"
     },
     "user_tz": -330
    },
    "id": "VL4mK5yoXOGU",
    "outputId": "21a35f8a-2819-4c81-ec49-94e43bb790a9"
   },
   "outputs": [],
   "source": [
    "density = pd.Series([])"
   ]
  },
  {
   "cell_type": "code",
   "execution_count": 72,
   "metadata": {
    "colab": {
     "base_uri": "https://localhost:8080/",
     "height": 48
    },
    "colab_type": "code",
    "executionInfo": {
     "elapsed": 1586,
     "status": "ok",
     "timestamp": 1601023625863,
     "user": {
      "displayName": "Badal Kumar",
      "photoUrl": "https://lh3.googleusercontent.com/a-/AOh14Gg69uFQqBleXWW3oFZptK1CE2CMTy5m7PluKD5Z=s64",
      "userId": "09235070521043135989"
     },
     "user_tz": -330
    },
    "id": "4ULGxJcVXmFY",
    "outputId": "8b2e07c1-ba6e-4d37-e20a-476a715bf8f8"
   },
   "outputs": [
    {
     "name": "stdout",
     "output_type": "stream",
     "text": [
      "Series([], dtype: float64)\n"
     ]
    }
   ],
   "source": [
    "print(density)"
   ]
  },
  {
   "cell_type": "code",
   "execution_count": 73,
   "metadata": {
    "colab": {
     "base_uri": "https://localhost:8080/",
     "height": 360
    },
    "colab_type": "code",
    "executionInfo": {
     "elapsed": 4411,
     "status": "ok",
     "timestamp": 1601023632358,
     "user": {
      "displayName": "Badal Kumar",
      "photoUrl": "https://lh3.googleusercontent.com/a-/AOh14Gg69uFQqBleXWW3oFZptK1CE2CMTy5m7PluKD5Z=s64",
      "userId": "09235070521043135989"
     },
     "user_tz": -330
    },
    "id": "TWUExzDZXpRu",
    "outputId": "8fe2a3b0-bd4d-4f02-a116-86d1ab7eb135"
   },
   "outputs": [
    {
     "data": {
      "text/plain": [
       "Mercury       0.3300\n",
       "Venus         4.8700\n",
       "Earth         5.9700\n",
       "Mars          0.6420\n",
       "Jupiter    1898.0000\n",
       "Saturn      568.0000\n",
       "Uranus       86.8000\n",
       "Neptune     102.0000\n",
       "Pluto         0.0146\n",
       "Moon          0.7346\n",
       "dtype: float64"
      ]
     },
     "execution_count": 73,
     "metadata": {},
     "output_type": "execute_result"
    }
   ],
   "source": [
    "mass"
   ]
  },
  {
   "cell_type": "code",
   "execution_count": 74,
   "metadata": {
    "colab": {
     "base_uri": "https://localhost:8080/",
     "height": 360
    },
    "colab_type": "code",
    "executionInfo": {
     "elapsed": 1592,
     "status": "ok",
     "timestamp": 1601023635149,
     "user": {
      "displayName": "Badal Kumar",
      "photoUrl": "https://lh3.googleusercontent.com/a-/AOh14Gg69uFQqBleXWW3oFZptK1CE2CMTy5m7PluKD5Z=s64",
      "userId": "09235070521043135989"
     },
     "user_tz": -330
    },
    "id": "yL4Ef34HXvOA",
    "outputId": "8b800023-2a1f-4a8a-fabe-94b22ead0e1d"
   },
   "outputs": [
    {
     "data": {
      "text/plain": [
       "Mercury      4879\n",
       "Venus       12104\n",
       "Earth       12756\n",
       "Moon         3475\n",
       "Mars         6792\n",
       "Jupiter    142984\n",
       "Saturn     120536\n",
       "Uranus      51118\n",
       "Neptune     49528\n",
       "Pluto        2370\n",
       "dtype: int64"
      ]
     },
     "execution_count": 74,
     "metadata": {},
     "output_type": "execute_result"
    }
   ],
   "source": [
    "diameter"
   ]
  },
  {
   "cell_type": "code",
   "execution_count": 75,
   "metadata": {
    "colab": {},
    "colab_type": "code",
    "executionInfo": {
     "elapsed": 3820,
     "status": "ok",
     "timestamp": 1601023678675,
     "user": {
      "displayName": "Badal Kumar",
      "photoUrl": "https://lh3.googleusercontent.com/a-/AOh14Gg69uFQqBleXWW3oFZptK1CE2CMTy5m7PluKD5Z=s64",
      "userId": "09235070521043135989"
     },
     "user_tz": -330
    },
    "id": "KVFmsOEnXxED"
   },
   "outputs": [],
   "source": [
    "for planet in mass.index:\n",
    "    density[planet]=mass[planet]/(np.pi * diameter[planet]*  diameter[planet]* diameter[planet]/6) "
   ]
  },
  {
   "cell_type": "code",
   "execution_count": 76,
   "metadata": {
    "colab": {
     "base_uri": "https://localhost:8080/",
     "height": 360
    },
    "colab_type": "code",
    "executionInfo": {
     "elapsed": 2700,
     "status": "ok",
     "timestamp": 1601023678677,
     "user": {
      "displayName": "Badal Kumar",
      "photoUrl": "https://lh3.googleusercontent.com/a-/AOh14Gg69uFQqBleXWW3oFZptK1CE2CMTy5m7PluKD5Z=s64",
      "userId": "09235070521043135989"
     },
     "user_tz": -330
    },
    "id": "X0wv5nCkYQyt",
    "outputId": "ee2df741-6346-42f2-ffb6-fa75ee0c6b23"
   },
   "outputs": [
    {
     "name": "stdout",
     "output_type": "stream",
     "text": [
      "Mercury    5.426538e-12\n",
      "Venus      5.244977e-12\n",
      "Earth      5.493286e-12\n",
      "Mars       3.913302e-12\n",
      "Jupiter    1.240039e-12\n",
      "Saturn     6.194402e-13\n",
      "Uranus     1.241079e-12\n",
      "Neptune    1.603427e-12\n",
      "Pluto      2.094639e-12\n",
      "Moon       3.343396e-11\n",
      "dtype: float64\n"
     ]
    }
   ],
   "source": [
    "print(density)"
   ]
  },
  {
   "cell_type": "code",
   "execution_count": 77,
   "metadata": {
    "colab": {},
    "colab_type": "code",
    "executionInfo": {
     "elapsed": 3062,
     "status": "ok",
     "timestamp": 1601023680605,
     "user": {
      "displayName": "Badal Kumar",
      "photoUrl": "https://lh3.googleusercontent.com/a-/AOh14Gg69uFQqBleXWW3oFZptK1CE2CMTy5m7PluKD5Z=s64",
      "userId": "09235070521043135989"
     },
     "user_tz": -330
    },
    "id": "h5d_kfHpYTZY"
   },
   "outputs": [],
   "source": [
    "density = mass/(np.pi * np.power(diameter, 3)/6)"
   ]
  },
  {
   "cell_type": "code",
   "execution_count": 78,
   "metadata": {
    "colab": {
     "base_uri": "https://localhost:8080/",
     "height": 360
    },
    "colab_type": "code",
    "executionInfo": {
     "elapsed": 2003,
     "status": "ok",
     "timestamp": 1601023680610,
     "user": {
      "displayName": "Badal Kumar",
      "photoUrl": "https://lh3.googleusercontent.com/a-/AOh14Gg69uFQqBleXWW3oFZptK1CE2CMTy5m7PluKD5Z=s64",
      "userId": "09235070521043135989"
     },
     "user_tz": -330
    },
    "id": "ktGbnDbCY1s9",
    "outputId": "d8b561d6-ba39-4051-ef69-374a9abd73ae"
   },
   "outputs": [
    {
     "data": {
      "text/plain": [
       "Earth      5.493286e-12\n",
       "Jupiter    1.240039e-12\n",
       "Mars       3.913302e-12\n",
       "Mercury    5.426538e-12\n",
       "Moon       3.343396e-11\n",
       "Neptune    1.603427e-12\n",
       "Pluto      2.094639e-12\n",
       "Saturn     6.194402e-13\n",
       "Uranus     1.241079e-12\n",
       "Venus      5.244977e-12\n",
       "dtype: float64"
      ]
     },
     "execution_count": 78,
     "metadata": {},
     "output_type": "execute_result"
    }
   ],
   "source": [
    "density"
   ]
  },
  {
   "cell_type": "code",
   "execution_count": 79,
   "metadata": {
    "colab": {},
    "colab_type": "code",
    "executionInfo": {
     "elapsed": 3497,
     "status": "ok",
     "timestamp": 1601023685045,
     "user": {
      "displayName": "Badal Kumar",
      "photoUrl": "https://lh3.googleusercontent.com/a-/AOh14Gg69uFQqBleXWW3oFZptK1CE2CMTy5m7PluKD5Z=s64",
      "userId": "09235070521043135989"
     },
     "user_tz": -330
    },
    "id": "cZ-C4Lx-Y7cz"
   },
   "outputs": [],
   "source": [
    "mass['planetX']=6"
   ]
  },
  {
   "cell_type": "code",
   "execution_count": 80,
   "metadata": {
    "colab": {},
    "colab_type": "code",
    "executionInfo": {
     "elapsed": 2694,
     "status": "ok",
     "timestamp": 1601023685056,
     "user": {
      "displayName": "Badal Kumar",
      "photoUrl": "https://lh3.googleusercontent.com/a-/AOh14Gg69uFQqBleXWW3oFZptK1CE2CMTy5m7PluKD5Z=s64",
      "userId": "09235070521043135989"
     },
     "user_tz": -330
    },
    "id": "teNPporwZLyC"
   },
   "outputs": [],
   "source": [
    "density = mass/(np.pi * np.power(diameter, 3)/6)"
   ]
  },
  {
   "cell_type": "code",
   "execution_count": 81,
   "metadata": {
    "colab": {
     "base_uri": "https://localhost:8080/",
     "height": 391
    },
    "colab_type": "code",
    "executionInfo": {
     "elapsed": 1908,
     "status": "ok",
     "timestamp": 1601023685059,
     "user": {
      "displayName": "Badal Kumar",
      "photoUrl": "https://lh3.googleusercontent.com/a-/AOh14Gg69uFQqBleXWW3oFZptK1CE2CMTy5m7PluKD5Z=s64",
      "userId": "09235070521043135989"
     },
     "user_tz": -330
    },
    "id": "XeR7TxuxZQ0b",
    "outputId": "a12f81e9-b01f-467d-e17e-0fcc2e6f1625"
   },
   "outputs": [
    {
     "data": {
      "text/plain": [
       "Earth      5.493286e-12\n",
       "Jupiter    1.240039e-12\n",
       "Mars       3.913302e-12\n",
       "Mercury    5.426538e-12\n",
       "Moon       3.343396e-11\n",
       "Neptune    1.603427e-12\n",
       "Pluto      2.094639e-12\n",
       "Saturn     6.194402e-13\n",
       "Uranus     1.241079e-12\n",
       "Venus      5.244977e-12\n",
       "planetX             NaN\n",
       "dtype: float64"
      ]
     },
     "execution_count": 81,
     "metadata": {},
     "output_type": "execute_result"
    }
   ],
   "source": [
    "density"
   ]
  },
  {
   "cell_type": "markdown",
   "metadata": {
    "colab_type": "text",
    "id": "igMpaWscZFnh"
   },
   "source": [
    "### Task-2 \n",
    "\n",
    "Given this density Series , replace all values which NaNs with the mean density of all planets.**bold text**"
   ]
  },
  {
   "cell_type": "code",
   "execution_count": 82,
   "metadata": {
    "colab": {
     "base_uri": "https://localhost:8080/",
     "height": 391
    },
    "colab_type": "code",
    "executionInfo": {
     "elapsed": 1374,
     "status": "ok",
     "timestamp": 1601023689541,
     "user": {
      "displayName": "Badal Kumar",
      "photoUrl": "https://lh3.googleusercontent.com/a-/AOh14Gg69uFQqBleXWW3oFZptK1CE2CMTy5m7PluKD5Z=s64",
      "userId": "09235070521043135989"
     },
     "user_tz": -330
    },
    "id": "XWe0ynkDZSfM",
    "outputId": "a0ea7b34-4661-4715-8938-f6783ca08d37"
   },
   "outputs": [
    {
     "data": {
      "text/plain": [
       "Earth      5.493286e-12\n",
       "Jupiter    1.240039e-12\n",
       "Mars       3.913302e-12\n",
       "Mercury    5.426538e-12\n",
       "Moon       3.343396e-11\n",
       "Neptune    1.603427e-12\n",
       "Pluto      2.094639e-12\n",
       "Saturn     6.194402e-13\n",
       "Uranus     1.241079e-12\n",
       "Venus      5.244977e-12\n",
       "planetX             NaN\n",
       "dtype: float64"
      ]
     },
     "execution_count": 82,
     "metadata": {},
     "output_type": "execute_result"
    }
   ],
   "source": [
    "density"
   ]
  },
  {
   "cell_type": "code",
   "execution_count": 83,
   "metadata": {
    "colab": {},
    "colab_type": "code",
    "executionInfo": {
     "elapsed": 1639,
     "status": "ok",
     "timestamp": 1601023700693,
     "user": {
      "displayName": "Badal Kumar",
      "photoUrl": "https://lh3.googleusercontent.com/a-/AOh14Gg69uFQqBleXWW3oFZptK1CE2CMTy5m7PluKD5Z=s64",
      "userId": "09235070521043135989"
     },
     "user_tz": -330
    },
    "id": "sEBaCttZaQp5"
   },
   "outputs": [],
   "source": [
    "density_mean = np.mean(density)\n",
    "for key in density.index:\n",
    "    if pd.isnull(density[key]):\n",
    "        density[key] = density_mean"
   ]
  },
  {
   "cell_type": "code",
   "execution_count": 84,
   "metadata": {
    "colab": {
     "base_uri": "https://localhost:8080/",
     "height": 391
    },
    "colab_type": "code",
    "executionInfo": {
     "elapsed": 1991,
     "status": "ok",
     "timestamp": 1601023703300,
     "user": {
      "displayName": "Badal Kumar",
      "photoUrl": "https://lh3.googleusercontent.com/a-/AOh14Gg69uFQqBleXWW3oFZptK1CE2CMTy5m7PluKD5Z=s64",
      "userId": "09235070521043135989"
     },
     "user_tz": -330
    },
    "id": "yKM8YsJ7aQo4",
    "outputId": "2f1458ec-7920-451b-95b2-d801b86db892"
   },
   "outputs": [
    {
     "data": {
      "text/plain": [
       "Earth      5.493286e-12\n",
       "Jupiter    1.240039e-12\n",
       "Mars       3.913302e-12\n",
       "Mercury    5.426538e-12\n",
       "Moon       3.343396e-11\n",
       "Neptune    1.603427e-12\n",
       "Pluto      2.094639e-12\n",
       "Saturn     6.194402e-13\n",
       "Uranus     1.241079e-12\n",
       "Venus      5.244977e-12\n",
       "planetX    6.031069e-12\n",
       "dtype: float64"
      ]
     },
     "execution_count": 84,
     "metadata": {},
     "output_type": "execute_result"
    }
   ],
   "source": [
    "density"
   ]
  },
  {
   "cell_type": "code",
   "execution_count": 85,
   "metadata": {
    "colab": {},
    "colab_type": "code",
    "executionInfo": {
     "elapsed": 1678,
     "status": "ok",
     "timestamp": 1601023736148,
     "user": {
      "displayName": "Badal Kumar",
      "photoUrl": "https://lh3.googleusercontent.com/a-/AOh14Gg69uFQqBleXWW3oFZptK1CE2CMTy5m7PluKD5Z=s64",
      "userId": "09235070521043135989"
     },
     "user_tz": -330
    },
    "id": "CqE4hJEHaQnu"
   },
   "outputs": [],
   "source": [
    "density[pd.isnull(density)] = np.mean(density)"
   ]
  },
  {
   "cell_type": "code",
   "execution_count": 86,
   "metadata": {
    "colab": {
     "base_uri": "https://localhost:8080/",
     "height": 391
    },
    "colab_type": "code",
    "executionInfo": {
     "elapsed": 877,
     "status": "ok",
     "timestamp": 1601023736160,
     "user": {
      "displayName": "Badal Kumar",
      "photoUrl": "https://lh3.googleusercontent.com/a-/AOh14Gg69uFQqBleXWW3oFZptK1CE2CMTy5m7PluKD5Z=s64",
      "userId": "09235070521043135989"
     },
     "user_tz": -330
    },
    "id": "pFSSWW-XaQif",
    "outputId": "0cfbae19-4117-4f9c-e018-e895b01f5777"
   },
   "outputs": [
    {
     "data": {
      "text/plain": [
       "Earth      5.493286e-12\n",
       "Jupiter    1.240039e-12\n",
       "Mars       3.913302e-12\n",
       "Mercury    5.426538e-12\n",
       "Moon       3.343396e-11\n",
       "Neptune    1.603427e-12\n",
       "Pluto      2.094639e-12\n",
       "Saturn     6.194402e-13\n",
       "Uranus     1.241079e-12\n",
       "Venus      5.244977e-12\n",
       "planetX    6.031069e-12\n",
       "dtype: float64"
      ]
     },
     "execution_count": 86,
     "metadata": {},
     "output_type": "execute_result"
    }
   ],
   "source": [
    "density"
   ]
  },
  {
   "cell_type": "markdown",
   "metadata": {
    "colab_type": "text",
    "id": "fdN1dW_ZZcyF"
   },
   "source": [
    "### Task-3 \n",
    "\n",
    "Compare Dictonary with Series:\n",
    "- check if some key is present\n",
    "- summing values\n",
    "- computing std"
   ]
  },
  {
   "cell_type": "code",
   "execution_count": 87,
   "metadata": {
    "colab": {},
    "colab_type": "code",
    "executionInfo": {
     "elapsed": 1427,
     "status": "ok",
     "timestamp": 1601023742016,
     "user": {
      "displayName": "Badal Kumar",
      "photoUrl": "https://lh3.googleusercontent.com/a-/AOh14Gg69uFQqBleXWW3oFZptK1CE2CMTy5m7PluKD5Z=s64",
      "userId": "09235070521043135989"
     },
     "user_tz": -330
    },
    "id": "nOF5Oufhdcfu"
   },
   "outputs": [],
   "source": [
    "my_dict = {}\n",
    "N=100000\n",
    "for i in range(N):\n",
    "    my_dict[i] = i*10"
   ]
  },
  {
   "cell_type": "code",
   "execution_count": 88,
   "metadata": {
    "colab": {},
    "colab_type": "code",
    "executionInfo": {
     "elapsed": 1288,
     "status": "ok",
     "timestamp": 1601023744037,
     "user": {
      "displayName": "Badal Kumar",
      "photoUrl": "https://lh3.googleusercontent.com/a-/AOh14Gg69uFQqBleXWW3oFZptK1CE2CMTy5m7PluKD5Z=s64",
      "userId": "09235070521043135989"
     },
     "user_tz": -330
    },
    "id": "s_TxPWzzdnNp"
   },
   "outputs": [],
   "source": [
    "my_series = pd.Series(my_dict)"
   ]
  },
  {
   "cell_type": "code",
   "execution_count": 89,
   "metadata": {
    "colab": {},
    "colab_type": "code",
    "executionInfo": {
     "elapsed": 957,
     "status": "ok",
     "timestamp": 1601023744742,
     "user": {
      "displayName": "Badal Kumar",
      "photoUrl": "https://lh3.googleusercontent.com/a-/AOh14Gg69uFQqBleXWW3oFZptK1CE2CMTy5m7PluKD5Z=s64",
      "userId": "09235070521043135989"
     },
     "user_tz": -330
    },
    "id": "xq2eFf6BdrOj"
   },
   "outputs": [],
   "source": [
    "M = 10000"
   ]
  },
  {
   "cell_type": "code",
   "execution_count": 90,
   "metadata": {
    "colab": {},
    "colab_type": "code",
    "executionInfo": {
     "elapsed": 1512,
     "status": "ok",
     "timestamp": 1601023746174,
     "user": {
      "displayName": "Badal Kumar",
      "photoUrl": "https://lh3.googleusercontent.com/a-/AOh14Gg69uFQqBleXWW3oFZptK1CE2CMTy5m7PluKD5Z=s64",
      "userId": "09235070521043135989"
     },
     "user_tz": -330
    },
    "id": "LfL4U46jdyhI"
   },
   "outputs": [],
   "source": [
    "arr = np.random.randint(0, N, M)"
   ]
  },
  {
   "cell_type": "code",
   "execution_count": 91,
   "metadata": {
    "colab": {
     "base_uri": "https://localhost:8080/",
     "height": 79
    },
    "colab_type": "code",
    "executionInfo": {
     "elapsed": 1402,
     "status": "ok",
     "timestamp": 1601023746821,
     "user": {
      "displayName": "Badal Kumar",
      "photoUrl": "https://lh3.googleusercontent.com/a-/AOh14Gg69uFQqBleXWW3oFZptK1CE2CMTy5m7PluKD5Z=s64",
      "userId": "09235070521043135989"
     },
     "user_tz": -330
    },
    "id": "7h-enQL5eBYR",
    "outputId": "6b52c202-44d0-446c-b7ea-d1b8d07096b4"
   },
   "outputs": [
    {
     "name": "stdout",
     "output_type": "stream",
     "text": [
      "Wall time: 37.7 ms\n"
     ]
    }
   ],
   "source": [
    "%%time\n",
    "for i in arr:\n",
    "    i in my_dict"
   ]
  },
  {
   "cell_type": "code",
   "execution_count": 92,
   "metadata": {
    "colab": {
     "base_uri": "https://localhost:8080/",
     "height": 79
    },
    "colab_type": "code",
    "executionInfo": {
     "elapsed": 1166,
     "status": "ok",
     "timestamp": 1601023747280,
     "user": {
      "displayName": "Badal Kumar",
      "photoUrl": "https://lh3.googleusercontent.com/a-/AOh14Gg69uFQqBleXWW3oFZptK1CE2CMTy5m7PluKD5Z=s64",
      "userId": "09235070521043135989"
     },
     "user_tz": -330
    },
    "id": "fqOCIWHLeNsT",
    "outputId": "3faae6e0-3916-47bf-b7f8-fcc790d605f3"
   },
   "outputs": [
    {
     "name": "stdout",
     "output_type": "stream",
     "text": [
      "Wall time: 64.1 ms\n"
     ]
    }
   ],
   "source": [
    "%%time\n",
    "for i in arr:\n",
    "    i in my_series"
   ]
  },
  {
   "cell_type": "code",
   "execution_count": 93,
   "metadata": {
    "colab": {
     "base_uri": "https://localhost:8080/",
     "height": 48
    },
    "colab_type": "code",
    "executionInfo": {
     "elapsed": 4707,
     "status": "ok",
     "timestamp": 1601023759950,
     "user": {
      "displayName": "Badal Kumar",
      "photoUrl": "https://lh3.googleusercontent.com/a-/AOh14Gg69uFQqBleXWW3oFZptK1CE2CMTy5m7PluKD5Z=s64",
      "userId": "09235070521043135989"
     },
     "user_tz": -330
    },
    "id": "5w02cas3eU7u",
    "outputId": "8459c24b-e105-4c11-ee67-cb257219fc2b"
   },
   "outputs": [
    {
     "name": "stdout",
     "output_type": "stream",
     "text": [
      "3.05 ms ± 239 µs per loop (mean ± std. dev. of 7 runs, 100 loops each)\n"
     ]
    }
   ],
   "source": [
    "%%timeit\n",
    "sum(my_dict.values())"
   ]
  },
  {
   "cell_type": "code",
   "execution_count": 94,
   "metadata": {
    "colab": {
     "base_uri": "https://localhost:8080/",
     "height": 99
    },
    "colab_type": "code",
    "executionInfo": {
     "elapsed": 11380,
     "status": "ok",
     "timestamp": 1601023767881,
     "user": {
      "displayName": "Badal Kumar",
      "photoUrl": "https://lh3.googleusercontent.com/a-/AOh14Gg69uFQqBleXWW3oFZptK1CE2CMTy5m7PluKD5Z=s64",
      "userId": "09235070521043135989"
     },
     "user_tz": -330
    },
    "id": "xwm1uQZcerGa",
    "outputId": "ab810ce1-d9fa-45dc-8d78-389ddfe5ef32"
   },
   "outputs": [
    {
     "name": "stdout",
     "output_type": "stream",
     "text": [
      "491 µs ± 45.7 µs per loop (mean ± std. dev. of 7 runs, 1000 loops each)\n"
     ]
    }
   ],
   "source": [
    "%%timeit\n",
    "np.sum(my_series)"
   ]
  },
  {
   "cell_type": "code",
   "execution_count": 95,
   "metadata": {
    "colab": {
     "base_uri": "https://localhost:8080/",
     "height": 48
    },
    "colab_type": "code",
    "executionInfo": {
     "elapsed": 16077,
     "status": "ok",
     "timestamp": 1601023773199,
     "user": {
      "displayName": "Badal Kumar",
      "photoUrl": "https://lh3.googleusercontent.com/a-/AOh14Gg69uFQqBleXWW3oFZptK1CE2CMTy5m7PluKD5Z=s64",
      "userId": "09235070521043135989"
     },
     "user_tz": -330
    },
    "id": "9OcbFQkbewCt",
    "outputId": "fb9de671-e8d0-4a0e-a8d8-d719844d3c06"
   },
   "outputs": [
    {
     "name": "stdout",
     "output_type": "stream",
     "text": [
      "31.5 ms ± 1.35 ms per loop (mean ± std. dev. of 7 runs, 10 loops each)\n"
     ]
    }
   ],
   "source": [
    "%%timeit\n",
    "mean = sum(my_dict.values())/N\n",
    "variance = sum([(x - mean)**2 for x in my_dict.values()])\n",
    "std = variance ** 0.5"
   ]
  },
  {
   "cell_type": "code",
   "execution_count": 96,
   "metadata": {
    "colab": {
     "base_uri": "https://localhost:8080/",
     "height": 48
    },
    "colab_type": "code",
    "executionInfo": {
     "elapsed": 16620,
     "status": "ok",
     "timestamp": 1601023774344,
     "user": {
      "displayName": "Badal Kumar",
      "photoUrl": "https://lh3.googleusercontent.com/a-/AOh14Gg69uFQqBleXWW3oFZptK1CE2CMTy5m7PluKD5Z=s64",
      "userId": "09235070521043135989"
     },
     "user_tz": -330
    },
    "id": "tId_oUztfMtD",
    "outputId": "dced7995-03d4-4d28-c189-1413c599a26e"
   },
   "outputs": [
    {
     "name": "stdout",
     "output_type": "stream",
     "text": [
      "2.26 ms ± 398 µs per loop (mean ± std. dev. of 7 runs, 100 loops each)\n"
     ]
    }
   ],
   "source": [
    "%%timeit\n",
    "np.std(my_series)"
   ]
  },
  {
   "cell_type": "markdown",
   "metadata": {
    "colab_type": "text",
    "id": "6Ko9_AVbhCbM"
   },
   "source": [
    "## Nifty case-study"
   ]
  },
  {
   "cell_type": "code",
   "execution_count": 97,
   "metadata": {
    "colab": {},
    "colab_type": "code",
    "executionInfo": {
     "elapsed": 1788,
     "status": "ok",
     "timestamp": 1601023864265,
     "user": {
      "displayName": "Badal Kumar",
      "photoUrl": "https://lh3.googleusercontent.com/a-/AOh14Gg69uFQqBleXWW3oFZptK1CE2CMTy5m7PluKD5Z=s64",
      "userId": "09235070521043135989"
     },
     "user_tz": -330
    },
    "id": "FDM0C8uafrGR"
   },
   "outputs": [],
   "source": [
    "nifty = pd.read_csv('nifty.csv', index_col=0).iloc[:,0]"
   ]
  },
  {
   "cell_type": "code",
   "execution_count": 98,
   "metadata": {
    "colab": {
     "base_uri": "https://localhost:8080/",
     "height": 422
    },
    "colab_type": "code",
    "executionInfo": {
     "elapsed": 1421,
     "status": "ok",
     "timestamp": 1601023867138,
     "user": {
      "displayName": "Badal Kumar",
      "photoUrl": "https://lh3.googleusercontent.com/a-/AOh14Gg69uFQqBleXWW3oFZptK1CE2CMTy5m7PluKD5Z=s64",
      "userId": "09235070521043135989"
     },
     "user_tz": -330
    },
    "id": "Z06UauyrhVrP",
    "outputId": "0f60d454-7546-425a-ecfc-518847357759"
   },
   "outputs": [
    {
     "data": {
      "text/plain": [
       "Date\n",
       "01-Jan-2019    10910.10\n",
       "02-Jan-2019    10792.50\n",
       "03-Jan-2019    10672.25\n",
       "04-Jan-2019    10727.35\n",
       "07-Jan-2019    10771.80\n",
       "08-Jan-2019    10802.15\n",
       "09-Jan-2019    10855.15\n",
       "10-Jan-2019    10821.60\n",
       "11-Jan-2019    10794.95\n",
       "14-Jan-2019    10737.60\n",
       "15-Jan-2019    10886.80\n",
       "16-Jan-2019    10890.30\n",
       "17-Jan-2019    10905.20\n",
       "18-Jan-2019    10906.95\n",
       "21-Jan-2019    10961.85\n",
       "22-Jan-2019    10922.75\n",
       "23-Jan-2019    10831.50\n",
       "24-Jan-2019    10849.80\n",
       "25-Jan-2019    10780.55\n",
       "28-Jan-2019    10661.55\n",
       "29-Jan-2019    10652.20\n",
       "30-Jan-2019    10651.80\n",
       "31-Jan-2019    10830.95\n",
       "01-Feb-2019    10893.65\n",
       "04-Feb-2019    10912.25\n",
       "05-Feb-2019    10934.35\n",
       "06-Feb-2019    11062.45\n",
       "07-Feb-2019    11069.40\n",
       "08-Feb-2019    10943.60\n",
       "11-Feb-2019    10888.80\n",
       "                 ...   \n",
       "19-Nov-2019    11940.10\n",
       "20-Nov-2019    11999.10\n",
       "21-Nov-2019    11968.40\n",
       "22-Nov-2019    11914.40\n",
       "25-Nov-2019    12073.75\n",
       "26-Nov-2019    12037.70\n",
       "27-Nov-2019    12100.70\n",
       "28-Nov-2019    12151.15\n",
       "29-Nov-2019    12056.05\n",
       "02-Dec-2019    12048.20\n",
       "03-Dec-2019    11994.20\n",
       "04-Dec-2019    12043.20\n",
       "05-Dec-2019    12018.40\n",
       "06-Dec-2019    11921.50\n",
       "09-Dec-2019    11937.50\n",
       "10-Dec-2019    11856.80\n",
       "11-Dec-2019    11910.15\n",
       "12-Dec-2019    11971.80\n",
       "13-Dec-2019    12086.70\n",
       "16-Dec-2019    12053.95\n",
       "17-Dec-2019    12165.00\n",
       "18-Dec-2019    12221.65\n",
       "19-Dec-2019    12259.70\n",
       "20-Dec-2019    12271.80\n",
       "23-Dec-2019    12262.75\n",
       "24-Dec-2019    12214.55\n",
       "26-Dec-2019    12126.55\n",
       "27-Dec-2019    12245.80\n",
       "30-Dec-2019    12255.85\n",
       "31-Dec-2019    12168.45\n",
       "Name: Close, Length: 245, dtype: float64"
      ]
     },
     "execution_count": 98,
     "metadata": {},
     "output_type": "execute_result"
    }
   ],
   "source": [
    "nifty"
   ]
  },
  {
   "cell_type": "code",
   "execution_count": 99,
   "metadata": {
    "colab": {
     "base_uri": "https://localhost:8080/",
     "height": 859
    },
    "colab_type": "code",
    "executionInfo": {
     "elapsed": 1592,
     "status": "ok",
     "timestamp": 1601023870527,
     "user": {
      "displayName": "Badal Kumar",
      "photoUrl": "https://lh3.googleusercontent.com/a-/AOh14Gg69uFQqBleXWW3oFZptK1CE2CMTy5m7PluKD5Z=s64",
      "userId": "09235070521043135989"
     },
     "user_tz": -330
    },
    "id": "NqhnArsDhZuT",
    "outputId": "45ad78a1-9f97-48f5-80ae-d9d9b2c487a1"
   },
   "outputs": [
    {
     "data": {
      "text/plain": [
       "Date\n",
       "01-Jan-2019    10910.10\n",
       "02-Jan-2019    10792.50\n",
       "03-Jan-2019    10672.25\n",
       "04-Jan-2019    10727.35\n",
       "07-Jan-2019    10771.80\n",
       "08-Jan-2019    10802.15\n",
       "09-Jan-2019    10855.15\n",
       "10-Jan-2019    10821.60\n",
       "11-Jan-2019    10794.95\n",
       "14-Jan-2019    10737.60\n",
       "15-Jan-2019    10886.80\n",
       "16-Jan-2019    10890.30\n",
       "17-Jan-2019    10905.20\n",
       "18-Jan-2019    10906.95\n",
       "21-Jan-2019    10961.85\n",
       "22-Jan-2019    10922.75\n",
       "23-Jan-2019    10831.50\n",
       "24-Jan-2019    10849.80\n",
       "25-Jan-2019    10780.55\n",
       "28-Jan-2019    10661.55\n",
       "29-Jan-2019    10652.20\n",
       "30-Jan-2019    10651.80\n",
       "31-Jan-2019    10830.95\n",
       "01-Feb-2019    10893.65\n",
       "04-Feb-2019    10912.25\n",
       "Name: Close, dtype: float64"
      ]
     },
     "execution_count": 99,
     "metadata": {},
     "output_type": "execute_result"
    }
   ],
   "source": [
    "nifty.head(25)"
   ]
  },
  {
   "cell_type": "code",
   "execution_count": 100,
   "metadata": {
    "colab": {
     "base_uri": "https://localhost:8080/",
     "height": 48
    },
    "colab_type": "code",
    "executionInfo": {
     "elapsed": 1666,
     "status": "ok",
     "timestamp": 1601023874544,
     "user": {
      "displayName": "Badal Kumar",
      "photoUrl": "https://lh3.googleusercontent.com/a-/AOh14Gg69uFQqBleXWW3oFZptK1CE2CMTy5m7PluKD5Z=s64",
      "userId": "09235070521043135989"
     },
     "user_tz": -330
    },
    "id": "9ge9pjrShgT3",
    "outputId": "12bedafe-d639-43d5-d082-9c876e8b3134"
   },
   "outputs": [
    {
     "data": {
      "text/plain": [
       "11432.632244897959"
      ]
     },
     "execution_count": 100,
     "metadata": {},
     "output_type": "execute_result"
    }
   ],
   "source": [
    "np.mean(nifty)"
   ]
  },
  {
   "cell_type": "code",
   "execution_count": 101,
   "metadata": {
    "colab": {
     "base_uri": "https://localhost:8080/",
     "height": 48
    },
    "colab_type": "code",
    "executionInfo": {
     "elapsed": 917,
     "status": "ok",
     "timestamp": 1601023876326,
     "user": {
      "displayName": "Badal Kumar",
      "photoUrl": "https://lh3.googleusercontent.com/a-/AOh14Gg69uFQqBleXWW3oFZptK1CE2CMTy5m7PluKD5Z=s64",
      "userId": "09235070521043135989"
     },
     "user_tz": -330
    },
    "id": "SA0e2nw7hsoF",
    "outputId": "7ca3069a-72d5-44a8-958e-2465b6511856"
   },
   "outputs": [
    {
     "data": {
      "text/plain": [
       "11512.4"
      ]
     },
     "execution_count": 101,
     "metadata": {},
     "output_type": "execute_result"
    }
   ],
   "source": [
    "np.median(nifty)"
   ]
  },
  {
   "cell_type": "code",
   "execution_count": 102,
   "metadata": {
    "colab": {
     "base_uri": "https://localhost:8080/",
     "height": 48
    },
    "colab_type": "code",
    "executionInfo": {
     "elapsed": 1262,
     "status": "ok",
     "timestamp": 1601023877786,
     "user": {
      "displayName": "Badal Kumar",
      "photoUrl": "https://lh3.googleusercontent.com/a-/AOh14Gg69uFQqBleXWW3oFZptK1CE2CMTy5m7PluKD5Z=s64",
      "userId": "09235070521043135989"
     },
     "user_tz": -330
    },
    "id": "YLSD7Gv7h0Kv",
    "outputId": "0ba21121-3edd-4d69-935a-1dfc91b9ab45"
   },
   "outputs": [
    {
     "data": {
      "text/plain": [
       "453.28669474598075"
      ]
     },
     "execution_count": 102,
     "metadata": {},
     "output_type": "execute_result"
    }
   ],
   "source": [
    "np.std(nifty)"
   ]
  },
  {
   "cell_type": "markdown",
   "metadata": {
    "colab_type": "text",
    "id": "y0Ipx6iah7Wh"
   },
   "source": [
    "What fraction of days did the markets close higher than the previous day's close"
   ]
  },
  {
   "cell_type": "code",
   "execution_count": 103,
   "metadata": {
    "colab": {
     "base_uri": "https://localhost:8080/",
     "height": 48
    },
    "colab_type": "code",
    "executionInfo": {
     "elapsed": 1144,
     "status": "ok",
     "timestamp": 1601023900813,
     "user": {
      "displayName": "Badal Kumar",
      "photoUrl": "https://lh3.googleusercontent.com/a-/AOh14Gg69uFQqBleXWW3oFZptK1CE2CMTy5m7PluKD5Z=s64",
      "userId": "09235070521043135989"
     },
     "user_tz": -330
    },
    "id": "FXgDmctFh198",
    "outputId": "3c9dc5e3-bd23-462c-b032-f47d3bae09b7"
   },
   "outputs": [
    {
     "data": {
      "text/plain": [
       "10910.1"
      ]
     },
     "execution_count": 103,
     "metadata": {},
     "output_type": "execute_result"
    }
   ],
   "source": [
    "nifty[0]"
   ]
  },
  {
   "cell_type": "code",
   "execution_count": 104,
   "metadata": {
    "colab": {
     "base_uri": "https://localhost:8080/",
     "height": 422
    },
    "colab_type": "code",
    "executionInfo": {
     "elapsed": 1260,
     "status": "ok",
     "timestamp": 1601023908501,
     "user": {
      "displayName": "Badal Kumar",
      "photoUrl": "https://lh3.googleusercontent.com/a-/AOh14Gg69uFQqBleXWW3oFZptK1CE2CMTy5m7PluKD5Z=s64",
      "userId": "09235070521043135989"
     },
     "user_tz": -330
    },
    "id": "l59-LeXvisvQ",
    "outputId": "2d1dc011-ea70-46ef-c401-16139d676c60"
   },
   "outputs": [
    {
     "data": {
      "text/plain": [
       "Date\n",
       "02-Jan-2019    10792.50\n",
       "03-Jan-2019    10672.25\n",
       "04-Jan-2019    10727.35\n",
       "07-Jan-2019    10771.80\n",
       "08-Jan-2019    10802.15\n",
       "09-Jan-2019    10855.15\n",
       "10-Jan-2019    10821.60\n",
       "11-Jan-2019    10794.95\n",
       "14-Jan-2019    10737.60\n",
       "15-Jan-2019    10886.80\n",
       "16-Jan-2019    10890.30\n",
       "17-Jan-2019    10905.20\n",
       "18-Jan-2019    10906.95\n",
       "21-Jan-2019    10961.85\n",
       "22-Jan-2019    10922.75\n",
       "23-Jan-2019    10831.50\n",
       "24-Jan-2019    10849.80\n",
       "25-Jan-2019    10780.55\n",
       "28-Jan-2019    10661.55\n",
       "29-Jan-2019    10652.20\n",
       "30-Jan-2019    10651.80\n",
       "31-Jan-2019    10830.95\n",
       "01-Feb-2019    10893.65\n",
       "04-Feb-2019    10912.25\n",
       "05-Feb-2019    10934.35\n",
       "06-Feb-2019    11062.45\n",
       "07-Feb-2019    11069.40\n",
       "08-Feb-2019    10943.60\n",
       "11-Feb-2019    10888.80\n",
       "12-Feb-2019    10831.40\n",
       "                 ...   \n",
       "19-Nov-2019    11940.10\n",
       "20-Nov-2019    11999.10\n",
       "21-Nov-2019    11968.40\n",
       "22-Nov-2019    11914.40\n",
       "25-Nov-2019    12073.75\n",
       "26-Nov-2019    12037.70\n",
       "27-Nov-2019    12100.70\n",
       "28-Nov-2019    12151.15\n",
       "29-Nov-2019    12056.05\n",
       "02-Dec-2019    12048.20\n",
       "03-Dec-2019    11994.20\n",
       "04-Dec-2019    12043.20\n",
       "05-Dec-2019    12018.40\n",
       "06-Dec-2019    11921.50\n",
       "09-Dec-2019    11937.50\n",
       "10-Dec-2019    11856.80\n",
       "11-Dec-2019    11910.15\n",
       "12-Dec-2019    11971.80\n",
       "13-Dec-2019    12086.70\n",
       "16-Dec-2019    12053.95\n",
       "17-Dec-2019    12165.00\n",
       "18-Dec-2019    12221.65\n",
       "19-Dec-2019    12259.70\n",
       "20-Dec-2019    12271.80\n",
       "23-Dec-2019    12262.75\n",
       "24-Dec-2019    12214.55\n",
       "26-Dec-2019    12126.55\n",
       "27-Dec-2019    12245.80\n",
       "30-Dec-2019    12255.85\n",
       "31-Dec-2019    12168.45\n",
       "Name: Close, Length: 244, dtype: float64"
      ]
     },
     "execution_count": 104,
     "metadata": {},
     "output_type": "execute_result"
    }
   ],
   "source": [
    "nifty[1:]"
   ]
  },
  {
   "cell_type": "code",
   "execution_count": 105,
   "metadata": {
    "colab": {
     "base_uri": "https://localhost:8080/",
     "height": 422
    },
    "colab_type": "code",
    "executionInfo": {
     "elapsed": 1076,
     "status": "ok",
     "timestamp": 1601023913002,
     "user": {
      "displayName": "Badal Kumar",
      "photoUrl": "https://lh3.googleusercontent.com/a-/AOh14Gg69uFQqBleXWW3oFZptK1CE2CMTy5m7PluKD5Z=s64",
      "userId": "09235070521043135989"
     },
     "user_tz": -330
    },
    "id": "vyb3Hya1iPyw",
    "outputId": "7ab2f8ed-ae67-481b-96c5-20295cd7f9ca"
   },
   "outputs": [
    {
     "data": {
      "text/plain": [
       "Date\n",
       "01-Jan-2019    10910.10\n",
       "02-Jan-2019    10792.50\n",
       "03-Jan-2019    10672.25\n",
       "04-Jan-2019    10727.35\n",
       "07-Jan-2019    10771.80\n",
       "08-Jan-2019    10802.15\n",
       "09-Jan-2019    10855.15\n",
       "10-Jan-2019    10821.60\n",
       "11-Jan-2019    10794.95\n",
       "14-Jan-2019    10737.60\n",
       "15-Jan-2019    10886.80\n",
       "16-Jan-2019    10890.30\n",
       "17-Jan-2019    10905.20\n",
       "18-Jan-2019    10906.95\n",
       "21-Jan-2019    10961.85\n",
       "22-Jan-2019    10922.75\n",
       "23-Jan-2019    10831.50\n",
       "24-Jan-2019    10849.80\n",
       "25-Jan-2019    10780.55\n",
       "28-Jan-2019    10661.55\n",
       "29-Jan-2019    10652.20\n",
       "30-Jan-2019    10651.80\n",
       "31-Jan-2019    10830.95\n",
       "01-Feb-2019    10893.65\n",
       "04-Feb-2019    10912.25\n",
       "05-Feb-2019    10934.35\n",
       "06-Feb-2019    11062.45\n",
       "07-Feb-2019    11069.40\n",
       "08-Feb-2019    10943.60\n",
       "11-Feb-2019    10888.80\n",
       "                 ...   \n",
       "18-Nov-2019    11884.50\n",
       "19-Nov-2019    11940.10\n",
       "20-Nov-2019    11999.10\n",
       "21-Nov-2019    11968.40\n",
       "22-Nov-2019    11914.40\n",
       "25-Nov-2019    12073.75\n",
       "26-Nov-2019    12037.70\n",
       "27-Nov-2019    12100.70\n",
       "28-Nov-2019    12151.15\n",
       "29-Nov-2019    12056.05\n",
       "02-Dec-2019    12048.20\n",
       "03-Dec-2019    11994.20\n",
       "04-Dec-2019    12043.20\n",
       "05-Dec-2019    12018.40\n",
       "06-Dec-2019    11921.50\n",
       "09-Dec-2019    11937.50\n",
       "10-Dec-2019    11856.80\n",
       "11-Dec-2019    11910.15\n",
       "12-Dec-2019    11971.80\n",
       "13-Dec-2019    12086.70\n",
       "16-Dec-2019    12053.95\n",
       "17-Dec-2019    12165.00\n",
       "18-Dec-2019    12221.65\n",
       "19-Dec-2019    12259.70\n",
       "20-Dec-2019    12271.80\n",
       "23-Dec-2019    12262.75\n",
       "24-Dec-2019    12214.55\n",
       "26-Dec-2019    12126.55\n",
       "27-Dec-2019    12245.80\n",
       "30-Dec-2019    12255.85\n",
       "Name: Close, Length: 244, dtype: float64"
      ]
     },
     "execution_count": 105,
     "metadata": {},
     "output_type": "execute_result"
    }
   ],
   "source": [
    "nifty[:-1]"
   ]
  },
  {
   "cell_type": "code",
   "execution_count": 106,
   "metadata": {
    "colab": {
     "base_uri": "https://localhost:8080/",
     "height": 422
    },
    "colab_type": "code",
    "executionInfo": {
     "elapsed": 1276,
     "status": "ok",
     "timestamp": 1601023919955,
     "user": {
      "displayName": "Badal Kumar",
      "photoUrl": "https://lh3.googleusercontent.com/a-/AOh14Gg69uFQqBleXWW3oFZptK1CE2CMTy5m7PluKD5Z=s64",
      "userId": "09235070521043135989"
     },
     "user_tz": -330
    },
    "id": "0W0IM0PFio1l",
    "outputId": "357cd3e3-9adc-4e7f-9ab0-a44fc58c0ed2"
   },
   "outputs": [
    {
     "data": {
      "text/plain": [
       "Date\n",
       "01-Apr-2019    0.0\n",
       "01-Aug-2019    0.0\n",
       "01-Feb-2019    0.0\n",
       "01-Jan-2019    NaN\n",
       "01-Jul-2019    0.0\n",
       "01-Mar-2019    0.0\n",
       "01-Nov-2019    0.0\n",
       "01-Oct-2019    0.0\n",
       "02-Apr-2019    0.0\n",
       "02-Aug-2019    0.0\n",
       "02-Dec-2019    0.0\n",
       "02-Jan-2019    0.0\n",
       "02-Jul-2019    0.0\n",
       "02-May-2019    0.0\n",
       "03-Apr-2019    0.0\n",
       "03-Dec-2019    0.0\n",
       "03-Jan-2019    0.0\n",
       "03-Jul-2019    0.0\n",
       "03-Jun-2019    0.0\n",
       "03-May-2019    0.0\n",
       "03-Oct-2019    0.0\n",
       "03-Sep-2019    0.0\n",
       "04-Apr-2019    0.0\n",
       "04-Dec-2019    0.0\n",
       "04-Feb-2019    0.0\n",
       "04-Jan-2019    0.0\n",
       "04-Jul-2019    0.0\n",
       "04-Jun-2019    0.0\n",
       "04-Nov-2019    0.0\n",
       "04-Oct-2019    0.0\n",
       "              ... \n",
       "27-Nov-2019    0.0\n",
       "27-Oct-2019    0.0\n",
       "27-Sep-2019    0.0\n",
       "28-Aug-2019    0.0\n",
       "28-Feb-2019    0.0\n",
       "28-Jan-2019    0.0\n",
       "28-Jun-2019    0.0\n",
       "28-Mar-2019    0.0\n",
       "28-May-2019    0.0\n",
       "28-Nov-2019    0.0\n",
       "29-Aug-2019    0.0\n",
       "29-Jan-2019    0.0\n",
       "29-Jul-2019    0.0\n",
       "29-Mar-2019    0.0\n",
       "29-May-2019    0.0\n",
       "29-Nov-2019    0.0\n",
       "29-Oct-2019    0.0\n",
       "30-Apr-2019    0.0\n",
       "30-Aug-2019    0.0\n",
       "30-Dec-2019    0.0\n",
       "30-Jan-2019    0.0\n",
       "30-Jul-2019    0.0\n",
       "30-May-2019    0.0\n",
       "30-Oct-2019    0.0\n",
       "30-Sep-2019    0.0\n",
       "31-Dec-2019    NaN\n",
       "31-Jan-2019    0.0\n",
       "31-Jul-2019    0.0\n",
       "31-May-2019    0.0\n",
       "31-Oct-2019    0.0\n",
       "Name: Close, Length: 245, dtype: float64"
      ]
     },
     "execution_count": 106,
     "metadata": {},
     "output_type": "execute_result"
    }
   ],
   "source": [
    "nifty[1:] - nifty[:-1]"
   ]
  },
  {
   "cell_type": "code",
   "execution_count": 107,
   "metadata": {
    "colab": {
     "base_uri": "https://localhost:8080/",
     "height": 1000
    },
    "colab_type": "code",
    "executionInfo": {
     "elapsed": 1554,
     "status": "ok",
     "timestamp": 1601023925069,
     "user": {
      "displayName": "Badal Kumar",
      "photoUrl": "https://lh3.googleusercontent.com/a-/AOh14Gg69uFQqBleXWW3oFZptK1CE2CMTy5m7PluKD5Z=s64",
      "userId": "09235070521043135989"
     },
     "user_tz": -330
    },
    "id": "NyAYPxjei1lx",
    "outputId": "466b1f64-847b-4950-f02a-858d16f649b9"
   },
   "outputs": [
    {
     "data": {
      "text/plain": [
       "array([-1.1760e+02, -1.2025e+02,  5.5100e+01,  4.4450e+01,  3.0350e+01,\n",
       "        5.3000e+01, -3.3550e+01, -2.6650e+01, -5.7350e+01,  1.4920e+02,\n",
       "        3.5000e+00,  1.4900e+01,  1.7500e+00,  5.4900e+01, -3.9100e+01,\n",
       "       -9.1250e+01,  1.8300e+01, -6.9250e+01, -1.1900e+02, -9.3500e+00,\n",
       "       -4.0000e-01,  1.7915e+02,  6.2700e+01,  1.8600e+01,  2.2100e+01,\n",
       "        1.2810e+02,  6.9500e+00, -1.2580e+02, -5.4800e+01, -5.7400e+01,\n",
       "       -3.7750e+01, -4.7600e+01, -2.1650e+01, -8.3450e+01, -3.6600e+01,\n",
       "        1.3110e+02,  5.4400e+01,  1.8000e+00,  8.8450e+01, -4.4800e+01,\n",
       "       -2.8650e+01, -1.4150e+01,  7.1000e+01,  1.2395e+02,  6.5550e+01,\n",
       "        5.2000e+00, -2.2800e+01,  1.3265e+02,  1.3315e+02,  4.0500e+01,\n",
       "        1.5500e+00,  8.3600e+01,  3.5350e+01,  7.0200e+01, -1.1350e+01,\n",
       "       -6.4150e+01, -1.0265e+02,  1.2900e+02, -3.8200e+01,  1.2495e+02,\n",
       "        5.3900e+01,  4.5250e+01,  4.4050e+01, -6.9250e+01, -4.5950e+01,\n",
       "        6.7950e+01, -6.1450e+01,  6.7450e+01, -8.7650e+01,  1.2400e+01,\n",
       "        4.6750e+01,  4.6900e+01,  9.6800e+01, -3.4350e+01, -1.5835e+02,\n",
       "       -1.8500e+01,  1.5020e+02, -8.4350e+01,  1.1285e+02, -6.5000e+00,\n",
       "       -2.3400e+01, -1.2500e+01, -1.1400e+02, -1.0035e+02, -1.3845e+02,\n",
       "       -5.7650e+01, -2.2900e+01, -1.3070e+02,  7.3850e+01, -6.5050e+01,\n",
       "        1.0010e+02,  1.5005e+02,  4.2110e+02, -1.1915e+02,  2.8800e+01,\n",
       "       -8.0850e+01,  1.8705e+02,  8.0650e+01,  4.0000e+00, -6.7650e+01,\n",
       "        8.4800e+01, -2.3100e+01,  1.6575e+02, -6.6900e+01, -1.7790e+02,\n",
       "        2.6900e+01,  5.2050e+01,  4.2900e+01, -5.9400e+01,  7.8500e+00,\n",
       "       -9.0750e+01, -1.5115e+02,  1.9350e+01, -5.0000e-02,  1.4030e+02,\n",
       "       -1.0765e+02, -2.4450e+01,  9.6800e+01,  5.1100e+01, -6.0000e+00,\n",
       "       -5.2700e+01,  7.6750e+01,  4.4700e+01,  6.4500e+00,  3.0000e+01,\n",
       "       -1.3560e+02, -2.5255e+02, -2.7000e+00, -5.7000e+01,  8.4000e+01,\n",
       "       -3.0400e+01,  3.5850e+01,  7.4250e+01,  2.4900e+01, -9.0600e+01,\n",
       "       -1.7765e+02, -7.3050e+01, -1.5150e+01, -5.9750e+01, -1.9150e+01,\n",
       "        3.2150e+01, -9.5100e+01, -1.0380e+02,  3.2600e+01, -1.3800e+02,\n",
       "        1.7350e+01, -1.3475e+02,  8.5650e+01, -9.2750e+01,  1.7695e+02,\n",
       "        7.7200e+01, -1.8380e+02,  1.0355e+02,  1.8400e+01,  6.1000e+00,\n",
       "       -3.6900e+01, -9.8300e+01, -1.7735e+02,  8.8000e+01,  2.2850e+02,\n",
       "        4.7500e+01, -5.9250e+01, -9.7800e+01,  7.4950e+01, -2.2535e+02,\n",
       "        4.6750e+01,  3.2500e+00,  9.8300e+01,  5.6850e+01,  3.2650e+01,\n",
       "       -5.2900e+01,  9.3100e+01, -7.2400e+01, -1.8590e+02,  2.3050e+01,\n",
       "       -1.3585e+02,  5.6940e+02,  3.2600e+02, -1.2000e+01, -1.4800e+02,\n",
       "        1.3100e+02, -5.8800e+01, -3.7950e+01, -1.1455e+02, -4.5900e+01,\n",
       "       -1.3925e+02, -4.8350e+01,  1.8690e+02, -7.8750e+01,  7.0500e+01,\n",
       "        3.6100e+01,  8.7150e+01,  3.5700e+01,  1.2235e+02,  7.5500e+01,\n",
       "       -7.3500e+01,  1.5750e+01, -2.1500e+01,  1.3000e+00,  4.3250e+01,\n",
       "        1.5970e+02,  5.7250e+01,  3.3350e+01,  1.3150e+01,  5.0700e+01,\n",
       "       -2.4100e+01,  4.8850e+01,  4.6000e+01, -1.0390e+02,  5.3000e+00,\n",
       "       -7.3000e+01,  3.1650e+01,  2.3350e+01, -1.0950e+01,  5.5600e+01,\n",
       "        5.9000e+01, -3.0700e+01, -5.4000e+01,  1.5935e+02, -3.6050e+01,\n",
       "        6.3000e+01,  5.0450e+01, -9.5100e+01, -7.8500e+00, -5.4000e+01,\n",
       "        4.9000e+01, -2.4800e+01, -9.6900e+01,  1.6000e+01, -8.0700e+01,\n",
       "        5.3350e+01,  6.1650e+01,  1.1490e+02, -3.2750e+01,  1.1105e+02,\n",
       "        5.6650e+01,  3.8050e+01,  1.2100e+01, -9.0500e+00, -4.8200e+01,\n",
       "       -8.8000e+01,  1.1925e+02,  1.0050e+01, -8.7400e+01])"
      ]
     },
     "execution_count": 107,
     "metadata": {},
     "output_type": "execute_result"
    }
   ],
   "source": [
    "nifty.values[1:] - nifty.values[:-1] "
   ]
  },
  {
   "cell_type": "code",
   "execution_count": 108,
   "metadata": {
    "colab": {
     "base_uri": "https://localhost:8080/",
     "height": 48
    },
    "colab_type": "code",
    "executionInfo": {
     "elapsed": 785,
     "status": "ok",
     "timestamp": 1601023926956,
     "user": {
      "displayName": "Badal Kumar",
      "photoUrl": "https://lh3.googleusercontent.com/a-/AOh14Gg69uFQqBleXWW3oFZptK1CE2CMTy5m7PluKD5Z=s64",
      "userId": "09235070521043135989"
     },
     "user_tz": -330
    },
    "id": "t8p_GUDzjz_p",
    "outputId": "dfc83428-3edd-48d0-abdc-5bd0f9ad706c"
   },
   "outputs": [
    {
     "data": {
      "text/plain": [
       "129"
      ]
     },
     "execution_count": 108,
     "metadata": {},
     "output_type": "execute_result"
    }
   ],
   "source": [
    "np.sum(nifty.values[1:] - nifty.values[:-1]  >0)"
   ]
  },
  {
   "cell_type": "code",
   "execution_count": 109,
   "metadata": {
    "colab": {
     "base_uri": "https://localhost:8080/",
     "height": 48
    },
    "colab_type": "code",
    "executionInfo": {
     "elapsed": 936,
     "status": "ok",
     "timestamp": 1601023928586,
     "user": {
      "displayName": "Badal Kumar",
      "photoUrl": "https://lh3.googleusercontent.com/a-/AOh14Gg69uFQqBleXWW3oFZptK1CE2CMTy5m7PluKD5Z=s64",
      "userId": "09235070521043135989"
     },
     "user_tz": -330
    },
    "id": "K-zVfBy2kFpT",
    "outputId": "c6960915-8239-423c-c972-b57d03b3317d"
   },
   "outputs": [
    {
     "data": {
      "text/plain": [
       "0.5265306122448979"
      ]
     },
     "execution_count": 109,
     "metadata": {},
     "output_type": "execute_result"
    }
   ],
   "source": [
    "np.sum(nifty.values[1:] - nifty.values[:-1]  >0) / len(nifty)"
   ]
  },
  {
   "cell_type": "markdown",
   "metadata": {
    "colab_type": "text",
    "id": "P62UlhN5kZbK"
   },
   "source": [
    "### Task\n",
    "\n",
    "1. Compute moving average of the last 5 days\n",
    "2. Subset the data to include only data for Fridays"
   ]
  },
  {
   "cell_type": "code",
   "execution_count": 110,
   "metadata": {
    "colab": {
     "base_uri": "https://localhost:8080/",
     "height": 48
    },
    "colab_type": "code",
    "executionInfo": {
     "elapsed": 1134,
     "status": "ok",
     "timestamp": 1601023968404,
     "user": {
      "displayName": "Badal Kumar",
      "photoUrl": "https://lh3.googleusercontent.com/a-/AOh14Gg69uFQqBleXWW3oFZptK1CE2CMTy5m7PluKD5Z=s64",
      "userId": "09235070521043135989"
     },
     "user_tz": -330
    },
    "id": "OTujKdCpmFsn",
    "outputId": "cb120063-ab6a-4327-bbfc-b9582ffce510"
   },
   "outputs": [
    {
     "data": {
      "text/plain": [
       "'01-Jan-2019'"
      ]
     },
     "execution_count": 110,
     "metadata": {},
     "output_type": "execute_result"
    }
   ],
   "source": [
    "nifty.index[0]"
   ]
  },
  {
   "cell_type": "code",
   "execution_count": 111,
   "metadata": {
    "colab": {},
    "colab_type": "code",
    "executionInfo": {
     "elapsed": 1190,
     "status": "ok",
     "timestamp": 1601023983930,
     "user": {
      "displayName": "Badal Kumar",
      "photoUrl": "https://lh3.googleusercontent.com/a-/AOh14Gg69uFQqBleXWW3oFZptK1CE2CMTy5m7PluKD5Z=s64",
      "userId": "09235070521043135989"
     },
     "user_tz": -330
    },
    "id": "wCM2XI3MmtAh"
   },
   "outputs": [],
   "source": [
    "d = pd.Timestamp(nifty.index[0])"
   ]
  },
  {
   "cell_type": "code",
   "execution_count": 112,
   "metadata": {
    "colab": {
     "base_uri": "https://localhost:8080/",
     "height": 48
    },
    "colab_type": "code",
    "executionInfo": {
     "elapsed": 1487,
     "status": "ok",
     "timestamp": 1601023993208,
     "user": {
      "displayName": "Badal Kumar",
      "photoUrl": "https://lh3.googleusercontent.com/a-/AOh14Gg69uFQqBleXWW3oFZptK1CE2CMTy5m7PluKD5Z=s64",
      "userId": "09235070521043135989"
     },
     "user_tz": -330
    },
    "id": "EHcvNhpHm2kr",
    "outputId": "c455e103-8ce7-49e8-93f9-bacad09655c7"
   },
   "outputs": [
    {
     "data": {
      "text/plain": [
       "1"
      ]
     },
     "execution_count": 112,
     "metadata": {},
     "output_type": "execute_result"
    }
   ],
   "source": [
    "d.dayofweek"
   ]
  },
  {
   "cell_type": "code",
   "execution_count": 113,
   "metadata": {
    "colab": {},
    "colab_type": "code",
    "executionInfo": {
     "elapsed": 1319,
     "status": "ok",
     "timestamp": 1601023996416,
     "user": {
      "displayName": "Badal Kumar",
      "photoUrl": "https://lh3.googleusercontent.com/a-/AOh14Gg69uFQqBleXWW3oFZptK1CE2CMTy5m7PluKD5Z=s64",
      "userId": "09235070521043135989"
     },
     "user_tz": -330
    },
    "id": "5baXex-om8h3"
   },
   "outputs": [],
   "source": [
    "new_index = map(pd.Timestamp, nifty.index)"
   ]
  },
  {
   "cell_type": "code",
   "execution_count": 114,
   "metadata": {
    "colab": {},
    "colab_type": "code",
    "executionInfo": {
     "elapsed": 1168,
     "status": "ok",
     "timestamp": 1601023998653,
     "user": {
      "displayName": "Badal Kumar",
      "photoUrl": "https://lh3.googleusercontent.com/a-/AOh14Gg69uFQqBleXWW3oFZptK1CE2CMTy5m7PluKD5Z=s64",
      "userId": "09235070521043135989"
     },
     "user_tz": -330
    },
    "id": "9e1UWiqmnkJo"
   },
   "outputs": [],
   "source": [
    "new_nifty = pd.Series(nifty, index=new_index)"
   ]
  },
  {
   "cell_type": "code",
   "execution_count": 115,
   "metadata": {
    "colab": {
     "base_uri": "https://localhost:8080/",
     "height": 391
    },
    "colab_type": "code",
    "executionInfo": {
     "elapsed": 1076,
     "status": "ok",
     "timestamp": 1601024000894,
     "user": {
      "displayName": "Badal Kumar",
      "photoUrl": "https://lh3.googleusercontent.com/a-/AOh14Gg69uFQqBleXWW3oFZptK1CE2CMTy5m7PluKD5Z=s64",
      "userId": "09235070521043135989"
     },
     "user_tz": -330
    },
    "id": "rZLpQS42nrzV",
    "outputId": "4b3f45d4-e22a-4188-e58b-f85df74a193a"
   },
   "outputs": [
    {
     "data": {
      "text/plain": [
       "2019-01-01    10910.10\n",
       "2019-01-02    10792.50\n",
       "2019-01-03    10672.25\n",
       "2019-01-04    10727.35\n",
       "2019-01-07    10771.80\n",
       "2019-01-08    10802.15\n",
       "2019-01-09    10855.15\n",
       "2019-01-10    10821.60\n",
       "2019-01-11    10794.95\n",
       "2019-01-14    10737.60\n",
       "2019-01-15    10886.80\n",
       "2019-01-16    10890.30\n",
       "2019-01-17    10905.20\n",
       "2019-01-18    10906.95\n",
       "2019-01-21    10961.85\n",
       "2019-01-22    10922.75\n",
       "2019-01-23    10831.50\n",
       "2019-01-24    10849.80\n",
       "2019-01-25    10780.55\n",
       "2019-01-28    10661.55\n",
       "2019-01-29    10652.20\n",
       "2019-01-30    10651.80\n",
       "2019-01-31    10830.95\n",
       "2019-02-01    10893.65\n",
       "2019-02-04    10912.25\n",
       "2019-02-05    10934.35\n",
       "2019-02-06    11062.45\n",
       "2019-02-07    11069.40\n",
       "2019-02-08    10943.60\n",
       "2019-02-11    10888.80\n",
       "                ...   \n",
       "2019-11-19    11940.10\n",
       "2019-11-20    11999.10\n",
       "2019-11-21    11968.40\n",
       "2019-11-22    11914.40\n",
       "2019-11-25    12073.75\n",
       "2019-11-26    12037.70\n",
       "2019-11-27    12100.70\n",
       "2019-11-28    12151.15\n",
       "2019-11-29    12056.05\n",
       "2019-12-02    12048.20\n",
       "2019-12-03    11994.20\n",
       "2019-12-04    12043.20\n",
       "2019-12-05    12018.40\n",
       "2019-12-06    11921.50\n",
       "2019-12-09    11937.50\n",
       "2019-12-10    11856.80\n",
       "2019-12-11    11910.15\n",
       "2019-12-12    11971.80\n",
       "2019-12-13    12086.70\n",
       "2019-12-16    12053.95\n",
       "2019-12-17    12165.00\n",
       "2019-12-18    12221.65\n",
       "2019-12-19    12259.70\n",
       "2019-12-20    12271.80\n",
       "2019-12-23    12262.75\n",
       "2019-12-24    12214.55\n",
       "2019-12-26    12126.55\n",
       "2019-12-27    12245.80\n",
       "2019-12-30    12255.85\n",
       "2019-12-31    12168.45\n",
       "Name: Close, Length: 245, dtype: float64"
      ]
     },
     "execution_count": 115,
     "metadata": {},
     "output_type": "execute_result"
    }
   ],
   "source": [
    "new_nifty"
   ]
  },
  {
   "cell_type": "code",
   "execution_count": 116,
   "metadata": {
    "colab": {
     "base_uri": "https://localhost:8080/",
     "height": 48
    },
    "colab_type": "code",
    "executionInfo": {
     "elapsed": 1563,
     "status": "ok",
     "timestamp": 1601024003836,
     "user": {
      "displayName": "Badal Kumar",
      "photoUrl": "https://lh3.googleusercontent.com/a-/AOh14Gg69uFQqBleXWW3oFZptK1CE2CMTy5m7PluKD5Z=s64",
      "userId": "09235070521043135989"
     },
     "user_tz": -330
    },
    "id": "SZsEi_kDnvyU",
    "outputId": "aadbc1c3-1e0a-4397-8258-845a7cd50859"
   },
   "outputs": [
    {
     "data": {
      "text/plain": [
       "Timestamp('2019-01-01 00:00:00')"
      ]
     },
     "execution_count": 116,
     "metadata": {},
     "output_type": "execute_result"
    }
   ],
   "source": [
    "new_nifty.index[0]"
   ]
  },
  {
   "cell_type": "code",
   "execution_count": 117,
   "metadata": {
    "colab": {
     "base_uri": "https://localhost:8080/",
     "height": 391
    },
    "colab_type": "code",
    "executionInfo": {
     "elapsed": 1295,
     "status": "ok",
     "timestamp": 1601024006012,
     "user": {
      "displayName": "Badal Kumar",
      "photoUrl": "https://lh3.googleusercontent.com/a-/AOh14Gg69uFQqBleXWW3oFZptK1CE2CMTy5m7PluKD5Z=s64",
      "userId": "09235070521043135989"
     },
     "user_tz": -330
    },
    "id": "OGE65syrnzlf",
    "outputId": "3804200d-6dbb-4c78-fa0e-fca39f36077e"
   },
   "outputs": [
    {
     "data": {
      "text/plain": [
       "2019-01-01    10910.100000\n",
       "2019-01-02    10851.300000\n",
       "2019-01-03    10791.616667\n",
       "2019-01-04    10775.550000\n",
       "2019-01-07    10723.800000\n",
       "2019-01-08    10767.100000\n",
       "2019-01-09    10809.700000\n",
       "2019-01-10    10812.675000\n",
       "2019-01-11    10809.130000\n",
       "2019-01-14    10784.716667\n",
       "2019-01-15    10806.450000\n",
       "2019-01-16    10838.233333\n",
       "2019-01-17    10854.975000\n",
       "2019-01-18    10865.370000\n",
       "2019-01-21    10924.666667\n",
       "2019-01-22    10930.516667\n",
       "2019-01-23    10905.366667\n",
       "2019-01-24    10891.475000\n",
       "2019-01-25    10869.290000\n",
       "2019-01-28    10763.966667\n",
       "2019-01-29    10698.100000\n",
       "2019-01-30    10655.183333\n",
       "2019-01-31    10699.125000\n",
       "2019-02-01    10738.030000\n",
       "2019-02-04    10878.950000\n",
       "2019-02-05    10913.416667\n",
       "2019-02-06    10969.683333\n",
       "2019-02-07    10994.612500\n",
       "2019-02-08    10984.410000\n",
       "2019-02-11    10967.266667\n",
       "                  ...     \n",
       "2019-11-19    11906.683333\n",
       "2019-11-20    11941.233333\n",
       "2019-11-21    11948.025000\n",
       "2019-11-22    11941.300000\n",
       "2019-11-25    11985.516667\n",
       "2019-11-26    12008.616667\n",
       "2019-11-27    12070.716667\n",
       "2019-11-28    12090.825000\n",
       "2019-11-29    12083.870000\n",
       "2019-12-02    12085.133333\n",
       "2019-12-03    12032.816667\n",
       "2019-12-04    12028.533333\n",
       "2019-12-05    12026.000000\n",
       "2019-12-06    12005.100000\n",
       "2019-12-09    11959.133333\n",
       "2019-12-10    11905.266667\n",
       "2019-12-11    11901.483333\n",
       "2019-12-12    11919.062500\n",
       "2019-12-13    11952.590000\n",
       "2019-12-16    12037.483333\n",
       "2019-12-17    12101.883333\n",
       "2019-12-18    12146.866667\n",
       "2019-12-19    12175.075000\n",
       "2019-12-20    12194.420000\n",
       "2019-12-23    12264.750000\n",
       "2019-12-24    12249.700000\n",
       "2019-12-26    12201.283333\n",
       "2019-12-27    12212.412500\n",
       "2019-12-30    12209.400000\n",
       "2019-12-31    12223.366667\n",
       "Name: Close, Length: 245, dtype: float64"
      ]
     },
     "execution_count": 117,
     "metadata": {},
     "output_type": "execute_result"
    }
   ],
   "source": [
    "new_nifty.rolling('5d').mean()"
   ]
  },
  {
   "cell_type": "code",
   "execution_count": 118,
   "metadata": {
    "colab": {},
    "colab_type": "code",
    "executionInfo": {
     "elapsed": 1149,
     "status": "ok",
     "timestamp": 1601024008888,
     "user": {
      "displayName": "Badal Kumar",
      "photoUrl": "https://lh3.googleusercontent.com/a-/AOh14Gg69uFQqBleXWW3oFZptK1CE2CMTy5m7PluKD5Z=s64",
      "userId": "09235070521043135989"
     },
     "user_tz": -330
    },
    "id": "5-vhaqiqoGOr"
   },
   "outputs": [],
   "source": [
    "dow = new_nifty.copy()\n",
    "for i in dow.index:\n",
    "    dow[i] = i.dayofweek"
   ]
  },
  {
   "cell_type": "code",
   "execution_count": 119,
   "metadata": {
    "colab": {
     "base_uri": "https://localhost:8080/",
     "height": 391
    },
    "colab_type": "code",
    "executionInfo": {
     "elapsed": 1418,
     "status": "ok",
     "timestamp": 1601024017082,
     "user": {
      "displayName": "Badal Kumar",
      "photoUrl": "https://lh3.googleusercontent.com/a-/AOh14Gg69uFQqBleXWW3oFZptK1CE2CMTy5m7PluKD5Z=s64",
      "userId": "09235070521043135989"
     },
     "user_tz": -330
    },
    "id": "FEIJqpwZovop",
    "outputId": "678b3a57-e9de-4967-cc65-3d0ea437b6cd"
   },
   "outputs": [
    {
     "data": {
      "text/plain": [
       "2019-01-01    1.0\n",
       "2019-01-02    2.0\n",
       "2019-01-03    3.0\n",
       "2019-01-04    4.0\n",
       "2019-01-07    0.0\n",
       "2019-01-08    1.0\n",
       "2019-01-09    2.0\n",
       "2019-01-10    3.0\n",
       "2019-01-11    4.0\n",
       "2019-01-14    0.0\n",
       "2019-01-15    1.0\n",
       "2019-01-16    2.0\n",
       "2019-01-17    3.0\n",
       "2019-01-18    4.0\n",
       "2019-01-21    0.0\n",
       "2019-01-22    1.0\n",
       "2019-01-23    2.0\n",
       "2019-01-24    3.0\n",
       "2019-01-25    4.0\n",
       "2019-01-28    0.0\n",
       "2019-01-29    1.0\n",
       "2019-01-30    2.0\n",
       "2019-01-31    3.0\n",
       "2019-02-01    4.0\n",
       "2019-02-04    0.0\n",
       "2019-02-05    1.0\n",
       "2019-02-06    2.0\n",
       "2019-02-07    3.0\n",
       "2019-02-08    4.0\n",
       "2019-02-11    0.0\n",
       "             ... \n",
       "2019-11-19    1.0\n",
       "2019-11-20    2.0\n",
       "2019-11-21    3.0\n",
       "2019-11-22    4.0\n",
       "2019-11-25    0.0\n",
       "2019-11-26    1.0\n",
       "2019-11-27    2.0\n",
       "2019-11-28    3.0\n",
       "2019-11-29    4.0\n",
       "2019-12-02    0.0\n",
       "2019-12-03    1.0\n",
       "2019-12-04    2.0\n",
       "2019-12-05    3.0\n",
       "2019-12-06    4.0\n",
       "2019-12-09    0.0\n",
       "2019-12-10    1.0\n",
       "2019-12-11    2.0\n",
       "2019-12-12    3.0\n",
       "2019-12-13    4.0\n",
       "2019-12-16    0.0\n",
       "2019-12-17    1.0\n",
       "2019-12-18    2.0\n",
       "2019-12-19    3.0\n",
       "2019-12-20    4.0\n",
       "2019-12-23    0.0\n",
       "2019-12-24    1.0\n",
       "2019-12-26    3.0\n",
       "2019-12-27    4.0\n",
       "2019-12-30    0.0\n",
       "2019-12-31    1.0\n",
       "Name: Close, Length: 245, dtype: float64"
      ]
     },
     "execution_count": 119,
     "metadata": {},
     "output_type": "execute_result"
    }
   ],
   "source": [
    "dow"
   ]
  },
  {
   "cell_type": "code",
   "execution_count": 120,
   "metadata": {
    "colab": {
     "base_uri": "https://localhost:8080/",
     "height": 1000
    },
    "colab_type": "code",
    "executionInfo": {
     "elapsed": 1870,
     "status": "ok",
     "timestamp": 1601024020111,
     "user": {
      "displayName": "Badal Kumar",
      "photoUrl": "https://lh3.googleusercontent.com/a-/AOh14Gg69uFQqBleXWW3oFZptK1CE2CMTy5m7PluKD5Z=s64",
      "userId": "09235070521043135989"
     },
     "user_tz": -330
    },
    "id": "qqpQIBempHUn",
    "outputId": "3bb17b6e-ef34-4d4b-eff8-6d61e26bdb16"
   },
   "outputs": [
    {
     "data": {
      "text/plain": [
       "2019-01-04    10727.35\n",
       "2019-01-11    10794.95\n",
       "2019-01-18    10906.95\n",
       "2019-01-25    10780.55\n",
       "2019-02-01    10893.65\n",
       "2019-02-08    10943.60\n",
       "2019-02-15    10724.40\n",
       "2019-02-22    10791.65\n",
       "2019-03-01    10863.50\n",
       "2019-03-08    11035.40\n",
       "2019-03-15    11426.85\n",
       "2019-03-22    11456.90\n",
       "2019-03-29    11623.90\n",
       "2019-04-05    11665.95\n",
       "2019-04-12    11643.45\n",
       "2019-04-26    11754.65\n",
       "2019-05-03    11712.25\n",
       "2019-05-10    11278.90\n",
       "2019-05-17    11407.15\n",
       "2019-05-24    11844.10\n",
       "2019-05-31    11922.80\n",
       "2019-06-07    11870.65\n",
       "2019-06-14    11823.30\n",
       "2019-06-21    11724.10\n",
       "2019-06-28    11788.85\n",
       "2019-07-05    11811.15\n",
       "2019-07-12    11552.50\n",
       "2019-07-19    11419.25\n",
       "2019-07-26    11284.30\n",
       "2019-08-02    10997.35\n",
       "2019-08-09    11109.65\n",
       "2019-08-16    11047.80\n",
       "2019-08-23    10829.35\n",
       "2019-08-30    11023.25\n",
       "2019-09-06    10946.20\n",
       "2019-09-13    11075.90\n",
       "2019-09-20    11274.20\n",
       "2019-09-27    11512.40\n",
       "2019-10-04    11174.75\n",
       "2019-10-11    11305.05\n",
       "2019-10-18    11661.85\n",
       "2019-10-25    11583.90\n",
       "2019-11-01    11890.60\n",
       "2019-11-08    11908.15\n",
       "2019-11-15    11895.45\n",
       "2019-11-22    11914.40\n",
       "2019-11-29    12056.05\n",
       "2019-12-06    11921.50\n",
       "2019-12-13    12086.70\n",
       "2019-12-20    12271.80\n",
       "2019-12-27    12245.80\n",
       "Name: Close, dtype: float64"
      ]
     },
     "execution_count": 120,
     "metadata": {},
     "output_type": "execute_result"
    }
   ],
   "source": [
    "new_nifty[dow == 4]"
   ]
  },
  {
   "cell_type": "code",
   "execution_count": null,
   "metadata": {
    "colab": {},
    "colab_type": "code",
    "executionInfo": {
     "elapsed": 1619,
     "status": "ok",
     "timestamp": 1601024020741,
     "user": {
      "displayName": "Badal Kumar",
      "photoUrl": "https://lh3.googleusercontent.com/a-/AOh14Gg69uFQqBleXWW3oFZptK1CE2CMTy5m7PluKD5Z=s64",
      "userId": "09235070521043135989"
     },
     "user_tz": -330
    },
    "id": "TZeYZ3VlpOEW"
   },
   "outputs": [],
   "source": []
  },
  {
   "cell_type": "markdown",
   "metadata": {
    "colab_type": "text",
    "id": "iBHJdl4sy7_A"
   },
   "source": [
    "# DataFrame"
   ]
  },
  {
   "cell_type": "code",
   "execution_count": 121,
   "metadata": {
    "colab": {},
    "colab_type": "code",
    "id": "zaIzlp6Ty-dv"
   },
   "outputs": [],
   "source": [
    "import numpy as np\n",
    "import pandas as pd"
   ]
  },
  {
   "cell_type": "markdown",
   "metadata": {
    "colab_type": "text",
    "id": "Yx6-Lx224mPX"
   },
   "source": [
    "## Creating DataFrame objects"
   ]
  },
  {
   "cell_type": "code",
   "execution_count": 122,
   "metadata": {
    "colab": {},
    "colab_type": "code",
    "id": "ACoXhl-34fAn"
   },
   "outputs": [],
   "source": [
    "arr = np.random.randint(0,10,(5, 3))"
   ]
  },
  {
   "cell_type": "code",
   "execution_count": 123,
   "metadata": {
    "colab": {
     "base_uri": "https://localhost:8080/",
     "height": 116
    },
    "colab_type": "code",
    "executionInfo": {
     "elapsed": 5939,
     "status": "ok",
     "timestamp": 1593662707158,
     "user": {
      "displayName": "Badal Kumar",
      "photoUrl": "https://lh3.googleusercontent.com/a-/AOh14Gg69uFQqBleXWW3oFZptK1CE2CMTy5m7PluKD5Z=s64",
      "userId": "09235070521043135989"
     },
     "user_tz": -330
    },
    "id": "lxzETlB84x3A",
    "outputId": "7f7d1ba9-0b66-477f-baaa-ccbdc2a26840"
   },
   "outputs": [
    {
     "data": {
      "text/plain": [
       "array([[2, 0, 8],\n",
       "       [3, 0, 6],\n",
       "       [3, 6, 7],\n",
       "       [4, 5, 6],\n",
       "       [8, 7, 4]])"
      ]
     },
     "execution_count": 123,
     "metadata": {},
     "output_type": "execute_result"
    }
   ],
   "source": [
    "arr"
   ]
  },
  {
   "cell_type": "code",
   "execution_count": 124,
   "metadata": {
    "colab": {},
    "colab_type": "code",
    "id": "JNASlEYk4y8l"
   },
   "outputs": [],
   "source": [
    "df = pd.DataFrame(arr)"
   ]
  },
  {
   "cell_type": "code",
   "execution_count": 125,
   "metadata": {
    "colab": {
     "base_uri": "https://localhost:8080/",
     "height": 206
    },
    "colab_type": "code",
    "executionInfo": {
     "elapsed": 5902,
     "status": "ok",
     "timestamp": 1593662707160,
     "user": {
      "displayName": "Badal Kumar",
      "photoUrl": "https://lh3.googleusercontent.com/a-/AOh14Gg69uFQqBleXWW3oFZptK1CE2CMTy5m7PluKD5Z=s64",
      "userId": "09235070521043135989"
     },
     "user_tz": -330
    },
    "id": "9xPkzjMT4-f7",
    "outputId": "aeb84081-969e-47d5-b6ab-d067a5f68f6a"
   },
   "outputs": [
    {
     "data": {
      "text/html": [
       "<div>\n",
       "<style scoped>\n",
       "    .dataframe tbody tr th:only-of-type {\n",
       "        vertical-align: middle;\n",
       "    }\n",
       "\n",
       "    .dataframe tbody tr th {\n",
       "        vertical-align: top;\n",
       "    }\n",
       "\n",
       "    .dataframe thead th {\n",
       "        text-align: right;\n",
       "    }\n",
       "</style>\n",
       "<table border=\"1\" class=\"dataframe\">\n",
       "  <thead>\n",
       "    <tr style=\"text-align: right;\">\n",
       "      <th></th>\n",
       "      <th>0</th>\n",
       "      <th>1</th>\n",
       "      <th>2</th>\n",
       "    </tr>\n",
       "  </thead>\n",
       "  <tbody>\n",
       "    <tr>\n",
       "      <th>0</th>\n",
       "      <td>2</td>\n",
       "      <td>0</td>\n",
       "      <td>8</td>\n",
       "    </tr>\n",
       "    <tr>\n",
       "      <th>1</th>\n",
       "      <td>3</td>\n",
       "      <td>0</td>\n",
       "      <td>6</td>\n",
       "    </tr>\n",
       "    <tr>\n",
       "      <th>2</th>\n",
       "      <td>3</td>\n",
       "      <td>6</td>\n",
       "      <td>7</td>\n",
       "    </tr>\n",
       "    <tr>\n",
       "      <th>3</th>\n",
       "      <td>4</td>\n",
       "      <td>5</td>\n",
       "      <td>6</td>\n",
       "    </tr>\n",
       "    <tr>\n",
       "      <th>4</th>\n",
       "      <td>8</td>\n",
       "      <td>7</td>\n",
       "      <td>4</td>\n",
       "    </tr>\n",
       "  </tbody>\n",
       "</table>\n",
       "</div>"
      ],
      "text/plain": [
       "   0  1  2\n",
       "0  2  0  8\n",
       "1  3  0  6\n",
       "2  3  6  7\n",
       "3  4  5  6\n",
       "4  8  7  4"
      ]
     },
     "execution_count": 125,
     "metadata": {},
     "output_type": "execute_result"
    }
   ],
   "source": [
    "df"
   ]
  },
  {
   "cell_type": "code",
   "execution_count": 126,
   "metadata": {
    "colab": {
     "base_uri": "https://localhost:8080/",
     "height": 116
    },
    "colab_type": "code",
    "executionInfo": {
     "elapsed": 5885,
     "status": "ok",
     "timestamp": 1593662707161,
     "user": {
      "displayName": "Badal Kumar",
      "photoUrl": "https://lh3.googleusercontent.com/a-/AOh14Gg69uFQqBleXWW3oFZptK1CE2CMTy5m7PluKD5Z=s64",
      "userId": "09235070521043135989"
     },
     "user_tz": -330
    },
    "id": "t6c5NqTk5DFG",
    "outputId": "fe08a067-8784-47f1-b425-865e35fbd248"
   },
   "outputs": [
    {
     "data": {
      "text/plain": [
       "array([[2, 0, 8],\n",
       "       [3, 0, 6],\n",
       "       [3, 6, 7],\n",
       "       [4, 5, 6],\n",
       "       [8, 7, 4]])"
      ]
     },
     "execution_count": 126,
     "metadata": {},
     "output_type": "execute_result"
    }
   ],
   "source": [
    "df.values"
   ]
  },
  {
   "cell_type": "code",
   "execution_count": 127,
   "metadata": {
    "colab": {
     "base_uri": "https://localhost:8080/",
     "height": 37
    },
    "colab_type": "code",
    "executionInfo": {
     "elapsed": 5856,
     "status": "ok",
     "timestamp": 1593662707162,
     "user": {
      "displayName": "Badal Kumar",
      "photoUrl": "https://lh3.googleusercontent.com/a-/AOh14Gg69uFQqBleXWW3oFZptK1CE2CMTy5m7PluKD5Z=s64",
      "userId": "09235070521043135989"
     },
     "user_tz": -330
    },
    "id": "eUKnnaj25PN5",
    "outputId": "ab3f0e7c-cf48-4313-fd6b-b23442e8082e"
   },
   "outputs": [
    {
     "data": {
      "text/plain": [
       "RangeIndex(start=0, stop=5, step=1)"
      ]
     },
     "execution_count": 127,
     "metadata": {},
     "output_type": "execute_result"
    }
   ],
   "source": [
    "df.index"
   ]
  },
  {
   "cell_type": "code",
   "execution_count": 128,
   "metadata": {
    "colab": {
     "base_uri": "https://localhost:8080/",
     "height": 37
    },
    "colab_type": "code",
    "executionInfo": {
     "elapsed": 5831,
     "status": "ok",
     "timestamp": 1593662707163,
     "user": {
      "displayName": "Badal Kumar",
      "photoUrl": "https://lh3.googleusercontent.com/a-/AOh14Gg69uFQqBleXWW3oFZptK1CE2CMTy5m7PluKD5Z=s64",
      "userId": "09235070521043135989"
     },
     "user_tz": -330
    },
    "id": "dKpcDV4_5Q2o",
    "outputId": "faff5d39-8eb4-407e-d243-b17d7f2f65d6"
   },
   "outputs": [
    {
     "data": {
      "text/plain": [
       "RangeIndex(start=0, stop=3, step=1)"
      ]
     },
     "execution_count": 128,
     "metadata": {},
     "output_type": "execute_result"
    }
   ],
   "source": [
    "df.columns"
   ]
  },
  {
   "cell_type": "code",
   "execution_count": 129,
   "metadata": {
    "colab": {
     "base_uri": "https://localhost:8080/",
     "height": 77
    },
    "colab_type": "code",
    "executionInfo": {
     "elapsed": 5813,
     "status": "ok",
     "timestamp": 1593662707163,
     "user": {
      "displayName": "Badal Kumar",
      "photoUrl": "https://lh3.googleusercontent.com/a-/AOh14Gg69uFQqBleXWW3oFZptK1CE2CMTy5m7PluKD5Z=s64",
      "userId": "09235070521043135989"
     },
     "user_tz": -330
    },
    "id": "KrWt02uO5TdZ",
    "outputId": "1f856015-dd0c-4217-8715-05d8e6a6abb4"
   },
   "outputs": [
    {
     "name": "stdout",
     "output_type": "stream",
     "text": [
      "0\n",
      "1\n",
      "2\n"
     ]
    }
   ],
   "source": [
    "for c in df.columns:\n",
    "    print(c)"
   ]
  },
  {
   "cell_type": "code",
   "execution_count": 130,
   "metadata": {
    "colab": {
     "base_uri": "https://localhost:8080/",
     "height": 37
    },
    "colab_type": "code",
    "executionInfo": {
     "elapsed": 5794,
     "status": "ok",
     "timestamp": 1593662707164,
     "user": {
      "displayName": "Badal Kumar",
      "photoUrl": "https://lh3.googleusercontent.com/a-/AOh14Gg69uFQqBleXWW3oFZptK1CE2CMTy5m7PluKD5Z=s64",
      "userId": "09235070521043135989"
     },
     "user_tz": -330
    },
    "id": "_AeY-yGF5Wjw",
    "outputId": "e3779673-8397-4437-e569-858a20997407"
   },
   "outputs": [
    {
     "data": {
      "text/plain": [
       "array([2, 0, 8])"
      ]
     },
     "execution_count": 130,
     "metadata": {},
     "output_type": "execute_result"
    }
   ],
   "source": [
    "df.values[0]"
   ]
  },
  {
   "cell_type": "code",
   "execution_count": 131,
   "metadata": {
    "colab": {},
    "colab_type": "code",
    "id": "v5Z3XC7z5ZLe"
   },
   "outputs": [],
   "source": [
    "df.index = ['R1','R2','R3','R4','R5']\n",
    "df.columns = ['C1','C2','C3']"
   ]
  },
  {
   "cell_type": "code",
   "execution_count": 132,
   "metadata": {
    "colab": {
     "base_uri": "https://localhost:8080/",
     "height": 206
    },
    "colab_type": "code",
    "executionInfo": {
     "elapsed": 5768,
     "status": "ok",
     "timestamp": 1593662707165,
     "user": {
      "displayName": "Badal Kumar",
      "photoUrl": "https://lh3.googleusercontent.com/a-/AOh14Gg69uFQqBleXWW3oFZptK1CE2CMTy5m7PluKD5Z=s64",
      "userId": "09235070521043135989"
     },
     "user_tz": -330
    },
    "id": "1SeTnl1L5nZl",
    "outputId": "08c72be6-4365-4211-f55d-1c51ffe89943"
   },
   "outputs": [
    {
     "data": {
      "text/html": [
       "<div>\n",
       "<style scoped>\n",
       "    .dataframe tbody tr th:only-of-type {\n",
       "        vertical-align: middle;\n",
       "    }\n",
       "\n",
       "    .dataframe tbody tr th {\n",
       "        vertical-align: top;\n",
       "    }\n",
       "\n",
       "    .dataframe thead th {\n",
       "        text-align: right;\n",
       "    }\n",
       "</style>\n",
       "<table border=\"1\" class=\"dataframe\">\n",
       "  <thead>\n",
       "    <tr style=\"text-align: right;\">\n",
       "      <th></th>\n",
       "      <th>C1</th>\n",
       "      <th>C2</th>\n",
       "      <th>C3</th>\n",
       "    </tr>\n",
       "  </thead>\n",
       "  <tbody>\n",
       "    <tr>\n",
       "      <th>R1</th>\n",
       "      <td>2</td>\n",
       "      <td>0</td>\n",
       "      <td>8</td>\n",
       "    </tr>\n",
       "    <tr>\n",
       "      <th>R2</th>\n",
       "      <td>3</td>\n",
       "      <td>0</td>\n",
       "      <td>6</td>\n",
       "    </tr>\n",
       "    <tr>\n",
       "      <th>R3</th>\n",
       "      <td>3</td>\n",
       "      <td>6</td>\n",
       "      <td>7</td>\n",
       "    </tr>\n",
       "    <tr>\n",
       "      <th>R4</th>\n",
       "      <td>4</td>\n",
       "      <td>5</td>\n",
       "      <td>6</td>\n",
       "    </tr>\n",
       "    <tr>\n",
       "      <th>R5</th>\n",
       "      <td>8</td>\n",
       "      <td>7</td>\n",
       "      <td>4</td>\n",
       "    </tr>\n",
       "  </tbody>\n",
       "</table>\n",
       "</div>"
      ],
      "text/plain": [
       "    C1  C2  C3\n",
       "R1   2   0   8\n",
       "R2   3   0   6\n",
       "R3   3   6   7\n",
       "R4   4   5   6\n",
       "R5   8   7   4"
      ]
     },
     "execution_count": 132,
     "metadata": {},
     "output_type": "execute_result"
    }
   ],
   "source": [
    "df"
   ]
  },
  {
   "cell_type": "code",
   "execution_count": 133,
   "metadata": {
    "colab": {
     "base_uri": "https://localhost:8080/",
     "height": 37
    },
    "colab_type": "code",
    "executionInfo": {
     "elapsed": 5750,
     "status": "ok",
     "timestamp": 1593662707166,
     "user": {
      "displayName": "Badal Kumar",
      "photoUrl": "https://lh3.googleusercontent.com/a-/AOh14Gg69uFQqBleXWW3oFZptK1CE2CMTy5m7PluKD5Z=s64",
      "userId": "09235070521043135989"
     },
     "user_tz": -330
    },
    "id": "9n70y5Mg5oQL",
    "outputId": "659dc6cf-9833-48f0-ab25-98803f8e4476"
   },
   "outputs": [
    {
     "data": {
      "text/plain": [
       "6"
      ]
     },
     "execution_count": 133,
     "metadata": {},
     "output_type": "execute_result"
    }
   ],
   "source": [
    "df.loc['R3','C2']"
   ]
  },
  {
   "cell_type": "code",
   "execution_count": 134,
   "metadata": {
    "colab": {
     "base_uri": "https://localhost:8080/",
     "height": 37
    },
    "colab_type": "code",
    "executionInfo": {
     "elapsed": 5727,
     "status": "ok",
     "timestamp": 1593662707167,
     "user": {
      "displayName": "Badal Kumar",
      "photoUrl": "https://lh3.googleusercontent.com/a-/AOh14Gg69uFQqBleXWW3oFZptK1CE2CMTy5m7PluKD5Z=s64",
      "userId": "09235070521043135989"
     },
     "user_tz": -330
    },
    "id": "fkEPumTb5wnd",
    "outputId": "24656304-dd89-4ae6-9062-23f126fefa28"
   },
   "outputs": [
    {
     "data": {
      "text/plain": [
       "6"
      ]
     },
     "execution_count": 134,
     "metadata": {},
     "output_type": "execute_result"
    }
   ],
   "source": [
    "df.iloc[2,1]"
   ]
  },
  {
   "cell_type": "code",
   "execution_count": 135,
   "metadata": {
    "colab": {
     "base_uri": "https://localhost:8080/",
     "height": 37
    },
    "colab_type": "code",
    "executionInfo": {
     "elapsed": 5709,
     "status": "ok",
     "timestamp": 1593662707167,
     "user": {
      "displayName": "Badal Kumar",
      "photoUrl": "https://lh3.googleusercontent.com/a-/AOh14Gg69uFQqBleXWW3oFZptK1CE2CMTy5m7PluKD5Z=s64",
      "userId": "09235070521043135989"
     },
     "user_tz": -330
    },
    "id": "ReL9XsYs53X_",
    "outputId": "76ff0e01-8aa5-4068-b920-ac4b8234faed"
   },
   "outputs": [
    {
     "data": {
      "text/plain": [
       "pandas.core.frame.DataFrame"
      ]
     },
     "execution_count": 135,
     "metadata": {},
     "output_type": "execute_result"
    }
   ],
   "source": [
    "type(df.iloc[2:4,1:3])"
   ]
  },
  {
   "cell_type": "code",
   "execution_count": 136,
   "metadata": {
    "colab": {
     "base_uri": "https://localhost:8080/",
     "height": 143
    },
    "colab_type": "code",
    "executionInfo": {
     "elapsed": 5688,
     "status": "ok",
     "timestamp": 1593662707168,
     "user": {
      "displayName": "Badal Kumar",
      "photoUrl": "https://lh3.googleusercontent.com/a-/AOh14Gg69uFQqBleXWW3oFZptK1CE2CMTy5m7PluKD5Z=s64",
      "userId": "09235070521043135989"
     },
     "user_tz": -330
    },
    "id": "iAJ2WUKc5-Vl",
    "outputId": "4b8161a4-3f6b-41df-bf6d-12fec3a9dbd8"
   },
   "outputs": [
    {
     "data": {
      "text/html": [
       "<div>\n",
       "<style scoped>\n",
       "    .dataframe tbody tr th:only-of-type {\n",
       "        vertical-align: middle;\n",
       "    }\n",
       "\n",
       "    .dataframe tbody tr th {\n",
       "        vertical-align: top;\n",
       "    }\n",
       "\n",
       "    .dataframe thead th {\n",
       "        text-align: right;\n",
       "    }\n",
       "</style>\n",
       "<table border=\"1\" class=\"dataframe\">\n",
       "  <thead>\n",
       "    <tr style=\"text-align: right;\">\n",
       "      <th></th>\n",
       "      <th>C2</th>\n",
       "      <th>C3</th>\n",
       "    </tr>\n",
       "  </thead>\n",
       "  <tbody>\n",
       "    <tr>\n",
       "      <th>R3</th>\n",
       "      <td>6</td>\n",
       "      <td>7</td>\n",
       "    </tr>\n",
       "    <tr>\n",
       "      <th>R4</th>\n",
       "      <td>5</td>\n",
       "      <td>6</td>\n",
       "    </tr>\n",
       "    <tr>\n",
       "      <th>R5</th>\n",
       "      <td>7</td>\n",
       "      <td>4</td>\n",
       "    </tr>\n",
       "  </tbody>\n",
       "</table>\n",
       "</div>"
      ],
      "text/plain": [
       "    C2  C3\n",
       "R3   6   7\n",
       "R4   5   6\n",
       "R5   7   4"
      ]
     },
     "execution_count": 136,
     "metadata": {},
     "output_type": "execute_result"
    }
   ],
   "source": [
    "df.loc['R3':'R5', 'C2':'C3']"
   ]
  },
  {
   "cell_type": "code",
   "execution_count": 137,
   "metadata": {
    "colab": {
     "base_uri": "https://localhost:8080/",
     "height": 96
    },
    "colab_type": "code",
    "executionInfo": {
     "elapsed": 5669,
     "status": "ok",
     "timestamp": 1593662707168,
     "user": {
      "displayName": "Badal Kumar",
      "photoUrl": "https://lh3.googleusercontent.com/a-/AOh14Gg69uFQqBleXWW3oFZptK1CE2CMTy5m7PluKD5Z=s64",
      "userId": "09235070521043135989"
     },
     "user_tz": -330
    },
    "id": "o3xstJzn6TLP",
    "outputId": "a37efa30-c4e5-41ea-f3c7-64a48c35baaa"
   },
   "outputs": [
    {
     "data": {
      "text/plain": [
       "C1    2\n",
       "C2    0\n",
       "C3    8\n",
       "Name: R1, dtype: int32"
      ]
     },
     "execution_count": 137,
     "metadata": {},
     "output_type": "execute_result"
    }
   ],
   "source": [
    "df.iloc[0]"
   ]
  },
  {
   "cell_type": "code",
   "execution_count": 138,
   "metadata": {
    "colab": {
     "base_uri": "https://localhost:8080/",
     "height": 37
    },
    "colab_type": "code",
    "executionInfo": {
     "elapsed": 5644,
     "status": "ok",
     "timestamp": 1593662707169,
     "user": {
      "displayName": "Badal Kumar",
      "photoUrl": "https://lh3.googleusercontent.com/a-/AOh14Gg69uFQqBleXWW3oFZptK1CE2CMTy5m7PluKD5Z=s64",
      "userId": "09235070521043135989"
     },
     "user_tz": -330
    },
    "id": "f70TDaNd6cwb",
    "outputId": "560f8dca-a82b-460e-82bc-fc811046862b"
   },
   "outputs": [
    {
     "data": {
      "text/plain": [
       "pandas.core.series.Series"
      ]
     },
     "execution_count": 138,
     "metadata": {},
     "output_type": "execute_result"
    }
   ],
   "source": [
    "type(df.iloc[0])"
   ]
  },
  {
   "cell_type": "code",
   "execution_count": 139,
   "metadata": {
    "colab": {
     "base_uri": "https://localhost:8080/",
     "height": 136
    },
    "colab_type": "code",
    "executionInfo": {
     "elapsed": 5617,
     "status": "ok",
     "timestamp": 1593662707170,
     "user": {
      "displayName": "Badal Kumar",
      "photoUrl": "https://lh3.googleusercontent.com/a-/AOh14Gg69uFQqBleXWW3oFZptK1CE2CMTy5m7PluKD5Z=s64",
      "userId": "09235070521043135989"
     },
     "user_tz": -330
    },
    "id": "wjfly0bF6ihN",
    "outputId": "21c9f2c2-7311-4c66-a033-dd8f19eab2a3"
   },
   "outputs": [
    {
     "data": {
      "text/plain": [
       "R1    2\n",
       "R2    3\n",
       "R3    3\n",
       "R4    4\n",
       "R5    8\n",
       "Name: C1, dtype: int32"
      ]
     },
     "execution_count": 139,
     "metadata": {},
     "output_type": "execute_result"
    }
   ],
   "source": [
    "df.iloc[:, 0]"
   ]
  },
  {
   "cell_type": "code",
   "execution_count": 140,
   "metadata": {
    "colab": {
     "base_uri": "https://localhost:8080/",
     "height": 37
    },
    "colab_type": "code",
    "executionInfo": {
     "elapsed": 5598,
     "status": "ok",
     "timestamp": 1593662707170,
     "user": {
      "displayName": "Badal Kumar",
      "photoUrl": "https://lh3.googleusercontent.com/a-/AOh14Gg69uFQqBleXWW3oFZptK1CE2CMTy5m7PluKD5Z=s64",
      "userId": "09235070521043135989"
     },
     "user_tz": -330
    },
    "id": "hB3OEBYG66Se",
    "outputId": "0ff83426-a21f-49cf-ae0c-33966d84391e"
   },
   "outputs": [
    {
     "data": {
      "text/plain": [
       "(5, 3)"
      ]
     },
     "execution_count": 140,
     "metadata": {},
     "output_type": "execute_result"
    }
   ],
   "source": [
    "df.shape"
   ]
  },
  {
   "cell_type": "code",
   "execution_count": 141,
   "metadata": {
    "colab": {
     "base_uri": "https://localhost:8080/",
     "height": 143
    },
    "colab_type": "code",
    "executionInfo": {
     "elapsed": 5579,
     "status": "ok",
     "timestamp": 1593662707171,
     "user": {
      "displayName": "Badal Kumar",
      "photoUrl": "https://lh3.googleusercontent.com/a-/AOh14Gg69uFQqBleXWW3oFZptK1CE2CMTy5m7PluKD5Z=s64",
      "userId": "09235070521043135989"
     },
     "user_tz": -330
    },
    "id": "D_yRh2td6825",
    "outputId": "0398bcbb-df39-46f4-c5bb-834deac3d04c"
   },
   "outputs": [
    {
     "data": {
      "text/html": [
       "<div>\n",
       "<style scoped>\n",
       "    .dataframe tbody tr th:only-of-type {\n",
       "        vertical-align: middle;\n",
       "    }\n",
       "\n",
       "    .dataframe tbody tr th {\n",
       "        vertical-align: top;\n",
       "    }\n",
       "\n",
       "    .dataframe thead th {\n",
       "        text-align: right;\n",
       "    }\n",
       "</style>\n",
       "<table border=\"1\" class=\"dataframe\">\n",
       "  <thead>\n",
       "    <tr style=\"text-align: right;\">\n",
       "      <th></th>\n",
       "      <th>R1</th>\n",
       "      <th>R2</th>\n",
       "      <th>R3</th>\n",
       "      <th>R4</th>\n",
       "      <th>R5</th>\n",
       "    </tr>\n",
       "  </thead>\n",
       "  <tbody>\n",
       "    <tr>\n",
       "      <th>C1</th>\n",
       "      <td>2</td>\n",
       "      <td>3</td>\n",
       "      <td>3</td>\n",
       "      <td>4</td>\n",
       "      <td>8</td>\n",
       "    </tr>\n",
       "    <tr>\n",
       "      <th>C2</th>\n",
       "      <td>0</td>\n",
       "      <td>0</td>\n",
       "      <td>6</td>\n",
       "      <td>5</td>\n",
       "      <td>7</td>\n",
       "    </tr>\n",
       "    <tr>\n",
       "      <th>C3</th>\n",
       "      <td>8</td>\n",
       "      <td>6</td>\n",
       "      <td>7</td>\n",
       "      <td>6</td>\n",
       "      <td>4</td>\n",
       "    </tr>\n",
       "  </tbody>\n",
       "</table>\n",
       "</div>"
      ],
      "text/plain": [
       "    R1  R2  R3  R4  R5\n",
       "C1   2   3   3   4   8\n",
       "C2   0   0   6   5   7\n",
       "C3   8   6   7   6   4"
      ]
     },
     "execution_count": 141,
     "metadata": {},
     "output_type": "execute_result"
    }
   ],
   "source": [
    "df.T"
   ]
  },
  {
   "cell_type": "markdown",
   "metadata": {
    "colab_type": "text",
    "id": "l2lATCTw7FJZ"
   },
   "source": [
    "**Task on Creating Dataframes**"
   ]
  },
  {
   "cell_type": "code",
   "execution_count": 142,
   "metadata": {
    "colab": {},
    "colab_type": "code",
    "id": "KOqRbJmN691A"
   },
   "outputs": [],
   "source": [
    "def create_df(nRows, nCols, maxRand=10):\n",
    "    arr = np.random.randint(0, maxRand, (nRows, nCols))\n",
    "    df = pd.DataFrame(arr)\n",
    "    df.index = ['R'  + str(x) for x in np.arange(1, nRows+1)]\n",
    "    df.columns = ['C' + str(x) for x in np.arange(1, nCols+1)]\n",
    "    return df"
   ]
  },
  {
   "cell_type": "code",
   "execution_count": 143,
   "metadata": {
    "colab": {
     "base_uri": "https://localhost:8080/",
     "height": 206
    },
    "colab_type": "code",
    "executionInfo": {
     "elapsed": 5550,
     "status": "ok",
     "timestamp": 1593662707172,
     "user": {
      "displayName": "Badal Kumar",
      "photoUrl": "https://lh3.googleusercontent.com/a-/AOh14Gg69uFQqBleXWW3oFZptK1CE2CMTy5m7PluKD5Z=s64",
      "userId": "09235070521043135989"
     },
     "user_tz": -330
    },
    "id": "9nx73Njv8jVW",
    "outputId": "4b07c76b-3f56-4b25-9127-c0b355c801da"
   },
   "outputs": [
    {
     "data": {
      "text/html": [
       "<div>\n",
       "<style scoped>\n",
       "    .dataframe tbody tr th:only-of-type {\n",
       "        vertical-align: middle;\n",
       "    }\n",
       "\n",
       "    .dataframe tbody tr th {\n",
       "        vertical-align: top;\n",
       "    }\n",
       "\n",
       "    .dataframe thead th {\n",
       "        text-align: right;\n",
       "    }\n",
       "</style>\n",
       "<table border=\"1\" class=\"dataframe\">\n",
       "  <thead>\n",
       "    <tr style=\"text-align: right;\">\n",
       "      <th></th>\n",
       "      <th>C1</th>\n",
       "      <th>C2</th>\n",
       "      <th>C3</th>\n",
       "    </tr>\n",
       "  </thead>\n",
       "  <tbody>\n",
       "    <tr>\n",
       "      <th>R1</th>\n",
       "      <td>3</td>\n",
       "      <td>8</td>\n",
       "      <td>9</td>\n",
       "    </tr>\n",
       "    <tr>\n",
       "      <th>R2</th>\n",
       "      <td>7</td>\n",
       "      <td>8</td>\n",
       "      <td>6</td>\n",
       "    </tr>\n",
       "    <tr>\n",
       "      <th>R3</th>\n",
       "      <td>5</td>\n",
       "      <td>1</td>\n",
       "      <td>5</td>\n",
       "    </tr>\n",
       "    <tr>\n",
       "      <th>R4</th>\n",
       "      <td>1</td>\n",
       "      <td>0</td>\n",
       "      <td>1</td>\n",
       "    </tr>\n",
       "    <tr>\n",
       "      <th>R5</th>\n",
       "      <td>5</td>\n",
       "      <td>1</td>\n",
       "      <td>7</td>\n",
       "    </tr>\n",
       "  </tbody>\n",
       "</table>\n",
       "</div>"
      ],
      "text/plain": [
       "    C1  C2  C3\n",
       "R1   3   8   9\n",
       "R2   7   8   6\n",
       "R3   5   1   5\n",
       "R4   1   0   1\n",
       "R5   5   1   7"
      ]
     },
     "execution_count": 143,
     "metadata": {},
     "output_type": "execute_result"
    }
   ],
   "source": [
    "create_df(5, 3)"
   ]
  },
  {
   "cell_type": "code",
   "execution_count": 144,
   "metadata": {
    "colab": {
     "base_uri": "https://localhost:8080/",
     "height": 112
    },
    "colab_type": "code",
    "executionInfo": {
     "elapsed": 5531,
     "status": "ok",
     "timestamp": 1593662707173,
     "user": {
      "displayName": "Badal Kumar",
      "photoUrl": "https://lh3.googleusercontent.com/a-/AOh14Gg69uFQqBleXWW3oFZptK1CE2CMTy5m7PluKD5Z=s64",
      "userId": "09235070521043135989"
     },
     "user_tz": -330
    },
    "id": "H2HySKvr8mVg",
    "outputId": "c6da1619-56de-4841-acbf-024c8bddd231"
   },
   "outputs": [
    {
     "data": {
      "text/html": [
       "<div>\n",
       "<style scoped>\n",
       "    .dataframe tbody tr th:only-of-type {\n",
       "        vertical-align: middle;\n",
       "    }\n",
       "\n",
       "    .dataframe tbody tr th {\n",
       "        vertical-align: top;\n",
       "    }\n",
       "\n",
       "    .dataframe thead th {\n",
       "        text-align: right;\n",
       "    }\n",
       "</style>\n",
       "<table border=\"1\" class=\"dataframe\">\n",
       "  <thead>\n",
       "    <tr style=\"text-align: right;\">\n",
       "      <th></th>\n",
       "      <th>C1</th>\n",
       "      <th>C2</th>\n",
       "      <th>C3</th>\n",
       "      <th>C4</th>\n",
       "      <th>C5</th>\n",
       "    </tr>\n",
       "  </thead>\n",
       "  <tbody>\n",
       "    <tr>\n",
       "      <th>R1</th>\n",
       "      <td>7</td>\n",
       "      <td>9</td>\n",
       "      <td>5</td>\n",
       "      <td>9</td>\n",
       "      <td>4</td>\n",
       "    </tr>\n",
       "    <tr>\n",
       "      <th>R2</th>\n",
       "      <td>4</td>\n",
       "      <td>7</td>\n",
       "      <td>9</td>\n",
       "      <td>3</td>\n",
       "      <td>9</td>\n",
       "    </tr>\n",
       "  </tbody>\n",
       "</table>\n",
       "</div>"
      ],
      "text/plain": [
       "    C1  C2  C3  C4  C5\n",
       "R1   7   9   5   9   4\n",
       "R2   4   7   9   3   9"
      ]
     },
     "execution_count": 144,
     "metadata": {},
     "output_type": "execute_result"
    }
   ],
   "source": [
    "create_df(2, 5)"
   ]
  },
  {
   "cell_type": "code",
   "execution_count": 145,
   "metadata": {
    "colab": {},
    "colab_type": "code",
    "id": "pug7gYVV8zZy"
   },
   "outputs": [],
   "source": [
    "mass = pd.Series([0.33, 4.87, 5.97, 0.642, 1898, 568, 86.8, 102, 0.0146],\n",
    "        index=['Mercury','Venus','Earth','Mars','Jupiter','Saturn','Uranus','Neptune', 'Pluto'])\n",
    "diameter = pd.Series([4879, 12104, 12756, 3475, 6792, 142984, 120536, 51118, 49528, 2370],\n",
    "                     index=['Mercury','Venus','Earth','Moon','Mars','Jupiter','Saturn','Uranus','Neptune','Pluto'])\n"
   ]
  },
  {
   "cell_type": "code",
   "execution_count": 146,
   "metadata": {
    "colab": {
     "base_uri": "https://localhost:8080/",
     "height": 216
    },
    "colab_type": "code",
    "executionInfo": {
     "elapsed": 5504,
     "status": "ok",
     "timestamp": 1593662707175,
     "user": {
      "displayName": "Badal Kumar",
      "photoUrl": "https://lh3.googleusercontent.com/a-/AOh14Gg69uFQqBleXWW3oFZptK1CE2CMTy5m7PluKD5Z=s64",
      "userId": "09235070521043135989"
     },
     "user_tz": -330
    },
    "id": "HEUCX0yh9ZDs",
    "outputId": "f463a9dc-a2f1-46d1-a82c-dac6b71abf0e"
   },
   "outputs": [
    {
     "data": {
      "text/plain": [
       "Mercury       0.3300\n",
       "Venus         4.8700\n",
       "Earth         5.9700\n",
       "Mars          0.6420\n",
       "Jupiter    1898.0000\n",
       "Saturn      568.0000\n",
       "Uranus       86.8000\n",
       "Neptune     102.0000\n",
       "Pluto         0.0146\n",
       "dtype: float64"
      ]
     },
     "execution_count": 146,
     "metadata": {},
     "output_type": "execute_result"
    }
   ],
   "source": [
    "mass"
   ]
  },
  {
   "cell_type": "code",
   "execution_count": 147,
   "metadata": {
    "colab": {
     "base_uri": "https://localhost:8080/",
     "height": 235
    },
    "colab_type": "code",
    "executionInfo": {
     "elapsed": 5487,
     "status": "ok",
     "timestamp": 1593662707176,
     "user": {
      "displayName": "Badal Kumar",
      "photoUrl": "https://lh3.googleusercontent.com/a-/AOh14Gg69uFQqBleXWW3oFZptK1CE2CMTy5m7PluKD5Z=s64",
      "userId": "09235070521043135989"
     },
     "user_tz": -330
    },
    "id": "Ui0LaxaQ9eSy",
    "outputId": "6f6b978c-4a45-4b82-d32a-c5bd86cbbe32"
   },
   "outputs": [
    {
     "data": {
      "text/plain": [
       "Mercury      4879\n",
       "Venus       12104\n",
       "Earth       12756\n",
       "Moon         3475\n",
       "Mars         6792\n",
       "Jupiter    142984\n",
       "Saturn     120536\n",
       "Uranus      51118\n",
       "Neptune     49528\n",
       "Pluto        2370\n",
       "dtype: int64"
      ]
     },
     "execution_count": 147,
     "metadata": {},
     "output_type": "execute_result"
    }
   ],
   "source": [
    "diameter"
   ]
  },
  {
   "cell_type": "code",
   "execution_count": 148,
   "metadata": {
    "colab": {},
    "colab_type": "code",
    "id": "EN21-rPD9fcD"
   },
   "outputs": [],
   "source": [
    "df = pd.DataFrame({'Mass':mass ,'Diameter':diameter})"
   ]
  },
  {
   "cell_type": "code",
   "execution_count": 149,
   "metadata": {
    "colab": {
     "base_uri": "https://localhost:8080/",
     "height": 363
    },
    "colab_type": "code",
    "executionInfo": {
     "elapsed": 5459,
     "status": "ok",
     "timestamp": 1593662707178,
     "user": {
      "displayName": "Badal Kumar",
      "photoUrl": "https://lh3.googleusercontent.com/a-/AOh14Gg69uFQqBleXWW3oFZptK1CE2CMTy5m7PluKD5Z=s64",
      "userId": "09235070521043135989"
     },
     "user_tz": -330
    },
    "id": "c6uwkXcD9x4r",
    "outputId": "d0b53150-9321-495c-9bbb-a19719d715d4"
   },
   "outputs": [
    {
     "data": {
      "text/html": [
       "<div>\n",
       "<style scoped>\n",
       "    .dataframe tbody tr th:only-of-type {\n",
       "        vertical-align: middle;\n",
       "    }\n",
       "\n",
       "    .dataframe tbody tr th {\n",
       "        vertical-align: top;\n",
       "    }\n",
       "\n",
       "    .dataframe thead th {\n",
       "        text-align: right;\n",
       "    }\n",
       "</style>\n",
       "<table border=\"1\" class=\"dataframe\">\n",
       "  <thead>\n",
       "    <tr style=\"text-align: right;\">\n",
       "      <th></th>\n",
       "      <th>Mass</th>\n",
       "      <th>Diameter</th>\n",
       "    </tr>\n",
       "  </thead>\n",
       "  <tbody>\n",
       "    <tr>\n",
       "      <th>Earth</th>\n",
       "      <td>5.9700</td>\n",
       "      <td>12756</td>\n",
       "    </tr>\n",
       "    <tr>\n",
       "      <th>Jupiter</th>\n",
       "      <td>1898.0000</td>\n",
       "      <td>142984</td>\n",
       "    </tr>\n",
       "    <tr>\n",
       "      <th>Mars</th>\n",
       "      <td>0.6420</td>\n",
       "      <td>6792</td>\n",
       "    </tr>\n",
       "    <tr>\n",
       "      <th>Mercury</th>\n",
       "      <td>0.3300</td>\n",
       "      <td>4879</td>\n",
       "    </tr>\n",
       "    <tr>\n",
       "      <th>Moon</th>\n",
       "      <td>NaN</td>\n",
       "      <td>3475</td>\n",
       "    </tr>\n",
       "    <tr>\n",
       "      <th>Neptune</th>\n",
       "      <td>102.0000</td>\n",
       "      <td>49528</td>\n",
       "    </tr>\n",
       "    <tr>\n",
       "      <th>Pluto</th>\n",
       "      <td>0.0146</td>\n",
       "      <td>2370</td>\n",
       "    </tr>\n",
       "    <tr>\n",
       "      <th>Saturn</th>\n",
       "      <td>568.0000</td>\n",
       "      <td>120536</td>\n",
       "    </tr>\n",
       "    <tr>\n",
       "      <th>Uranus</th>\n",
       "      <td>86.8000</td>\n",
       "      <td>51118</td>\n",
       "    </tr>\n",
       "    <tr>\n",
       "      <th>Venus</th>\n",
       "      <td>4.8700</td>\n",
       "      <td>12104</td>\n",
       "    </tr>\n",
       "  </tbody>\n",
       "</table>\n",
       "</div>"
      ],
      "text/plain": [
       "              Mass  Diameter\n",
       "Earth       5.9700     12756\n",
       "Jupiter  1898.0000    142984\n",
       "Mars        0.6420      6792\n",
       "Mercury     0.3300      4879\n",
       "Moon           NaN      3475\n",
       "Neptune   102.0000     49528\n",
       "Pluto       0.0146      2370\n",
       "Saturn    568.0000    120536\n",
       "Uranus     86.8000     51118\n",
       "Venus       4.8700     12104"
      ]
     },
     "execution_count": 149,
     "metadata": {},
     "output_type": "execute_result"
    }
   ],
   "source": [
    "df"
   ]
  },
  {
   "cell_type": "code",
   "execution_count": 150,
   "metadata": {
    "colab": {
     "base_uri": "https://localhost:8080/",
     "height": 235
    },
    "colab_type": "code",
    "executionInfo": {
     "elapsed": 5442,
     "status": "ok",
     "timestamp": 1593662707178,
     "user": {
      "displayName": "Badal Kumar",
      "photoUrl": "https://lh3.googleusercontent.com/a-/AOh14Gg69uFQqBleXWW3oFZptK1CE2CMTy5m7PluKD5Z=s64",
      "userId": "09235070521043135989"
     },
     "user_tz": -330
    },
    "id": "qoYRWVy494PJ",
    "outputId": "e079ce73-430c-40c7-f9c4-2bc9604b766f"
   },
   "outputs": [
    {
     "data": {
      "text/plain": [
       "Earth         5.9700\n",
       "Jupiter    1898.0000\n",
       "Mars          0.6420\n",
       "Mercury       0.3300\n",
       "Moon             NaN\n",
       "Neptune     102.0000\n",
       "Pluto         0.0146\n",
       "Saturn      568.0000\n",
       "Uranus       86.8000\n",
       "Venus         4.8700\n",
       "Name: Mass, dtype: float64"
      ]
     },
     "execution_count": 150,
     "metadata": {},
     "output_type": "execute_result"
    }
   ],
   "source": [
    "df['Mass']"
   ]
  },
  {
   "cell_type": "code",
   "execution_count": 151,
   "metadata": {
    "colab": {},
    "colab_type": "code",
    "id": "a_FI2MN6-Xgs"
   },
   "outputs": [],
   "source": [
    "# df['Earth']"
   ]
  },
  {
   "cell_type": "code",
   "execution_count": 152,
   "metadata": {
    "colab": {
     "base_uri": "https://localhost:8080/",
     "height": 37
    },
    "colab_type": "code",
    "executionInfo": {
     "elapsed": 5410,
     "status": "ok",
     "timestamp": 1593662707180,
     "user": {
      "displayName": "Badal Kumar",
      "photoUrl": "https://lh3.googleusercontent.com/a-/AOh14Gg69uFQqBleXWW3oFZptK1CE2CMTy5m7PluKD5Z=s64",
      "userId": "09235070521043135989"
     },
     "user_tz": -330
    },
    "id": "Edb71Ln2-wT3",
    "outputId": "3bf09bc8-0344-44a4-9edd-851ff8f3ee93"
   },
   "outputs": [
    {
     "data": {
      "text/plain": [
       "5.97"
      ]
     },
     "execution_count": 152,
     "metadata": {},
     "output_type": "execute_result"
    }
   ],
   "source": [
    "df['Mass']['Earth']"
   ]
  },
  {
   "cell_type": "code",
   "execution_count": 153,
   "metadata": {
    "colab": {},
    "colab_type": "code",
    "id": "DwkG82bX-7-P"
   },
   "outputs": [],
   "source": [
    "df['pop'] = 0"
   ]
  },
  {
   "cell_type": "code",
   "execution_count": 154,
   "metadata": {
    "colab": {
     "base_uri": "https://localhost:8080/",
     "height": 363
    },
    "colab_type": "code",
    "executionInfo": {
     "elapsed": 5366,
     "status": "ok",
     "timestamp": 1593662707181,
     "user": {
      "displayName": "Badal Kumar",
      "photoUrl": "https://lh3.googleusercontent.com/a-/AOh14Gg69uFQqBleXWW3oFZptK1CE2CMTy5m7PluKD5Z=s64",
      "userId": "09235070521043135989"
     },
     "user_tz": -330
    },
    "id": "qfU41bYp_GDF",
    "outputId": "a5481ed7-c64c-4ce4-f29b-dcc0b74522c5"
   },
   "outputs": [
    {
     "data": {
      "text/html": [
       "<div>\n",
       "<style scoped>\n",
       "    .dataframe tbody tr th:only-of-type {\n",
       "        vertical-align: middle;\n",
       "    }\n",
       "\n",
       "    .dataframe tbody tr th {\n",
       "        vertical-align: top;\n",
       "    }\n",
       "\n",
       "    .dataframe thead th {\n",
       "        text-align: right;\n",
       "    }\n",
       "</style>\n",
       "<table border=\"1\" class=\"dataframe\">\n",
       "  <thead>\n",
       "    <tr style=\"text-align: right;\">\n",
       "      <th></th>\n",
       "      <th>Mass</th>\n",
       "      <th>Diameter</th>\n",
       "      <th>pop</th>\n",
       "    </tr>\n",
       "  </thead>\n",
       "  <tbody>\n",
       "    <tr>\n",
       "      <th>Earth</th>\n",
       "      <td>5.9700</td>\n",
       "      <td>12756</td>\n",
       "      <td>0</td>\n",
       "    </tr>\n",
       "    <tr>\n",
       "      <th>Jupiter</th>\n",
       "      <td>1898.0000</td>\n",
       "      <td>142984</td>\n",
       "      <td>0</td>\n",
       "    </tr>\n",
       "    <tr>\n",
       "      <th>Mars</th>\n",
       "      <td>0.6420</td>\n",
       "      <td>6792</td>\n",
       "      <td>0</td>\n",
       "    </tr>\n",
       "    <tr>\n",
       "      <th>Mercury</th>\n",
       "      <td>0.3300</td>\n",
       "      <td>4879</td>\n",
       "      <td>0</td>\n",
       "    </tr>\n",
       "    <tr>\n",
       "      <th>Moon</th>\n",
       "      <td>NaN</td>\n",
       "      <td>3475</td>\n",
       "      <td>0</td>\n",
       "    </tr>\n",
       "    <tr>\n",
       "      <th>Neptune</th>\n",
       "      <td>102.0000</td>\n",
       "      <td>49528</td>\n",
       "      <td>0</td>\n",
       "    </tr>\n",
       "    <tr>\n",
       "      <th>Pluto</th>\n",
       "      <td>0.0146</td>\n",
       "      <td>2370</td>\n",
       "      <td>0</td>\n",
       "    </tr>\n",
       "    <tr>\n",
       "      <th>Saturn</th>\n",
       "      <td>568.0000</td>\n",
       "      <td>120536</td>\n",
       "      <td>0</td>\n",
       "    </tr>\n",
       "    <tr>\n",
       "      <th>Uranus</th>\n",
       "      <td>86.8000</td>\n",
       "      <td>51118</td>\n",
       "      <td>0</td>\n",
       "    </tr>\n",
       "    <tr>\n",
       "      <th>Venus</th>\n",
       "      <td>4.8700</td>\n",
       "      <td>12104</td>\n",
       "      <td>0</td>\n",
       "    </tr>\n",
       "  </tbody>\n",
       "</table>\n",
       "</div>"
      ],
      "text/plain": [
       "              Mass  Diameter  pop\n",
       "Earth       5.9700     12756    0\n",
       "Jupiter  1898.0000    142984    0\n",
       "Mars        0.6420      6792    0\n",
       "Mercury     0.3300      4879    0\n",
       "Moon           NaN      3475    0\n",
       "Neptune   102.0000     49528    0\n",
       "Pluto       0.0146      2370    0\n",
       "Saturn    568.0000    120536    0\n",
       "Uranus     86.8000     51118    0\n",
       "Venus       4.8700     12104    0"
      ]
     },
     "execution_count": 154,
     "metadata": {},
     "output_type": "execute_result"
    }
   ],
   "source": [
    "df"
   ]
  },
  {
   "cell_type": "code",
   "execution_count": 155,
   "metadata": {
    "colab": {
     "base_uri": "https://localhost:8080/",
     "height": 136
    },
    "colab_type": "code",
    "executionInfo": {
     "elapsed": 5344,
     "status": "ok",
     "timestamp": 1593662707181,
     "user": {
      "displayName": "Badal Kumar",
      "photoUrl": "https://lh3.googleusercontent.com/a-/AOh14Gg69uFQqBleXWW3oFZptK1CE2CMTy5m7PluKD5Z=s64",
      "userId": "09235070521043135989"
     },
     "user_tz": -330
    },
    "id": "oKkG9ahU_Ght",
    "outputId": "26ba0a17-465d-4ddf-b0ed-321e9fe4af1b"
   },
   "outputs": [
    {
     "name": "stderr",
     "output_type": "stream",
     "text": [
      "c:\\users\\admin\\appdata\\local\\programs\\python\\python37\\lib\\site-packages\\ipykernel_launcher.py:1: SettingWithCopyWarning: \n",
      "A value is trying to be set on a copy of a slice from a DataFrame\n",
      "\n",
      "See the caveats in the documentation: http://pandas.pydata.org/pandas-docs/stable/indexing.html#indexing-view-versus-copy\n",
      "  \"\"\"Entry point for launching an IPython kernel.\n"
     ]
    }
   ],
   "source": [
    "df['pop']['Earth']= 800000"
   ]
  },
  {
   "cell_type": "code",
   "execution_count": 156,
   "metadata": {
    "colab": {
     "base_uri": "https://localhost:8080/",
     "height": 363
    },
    "colab_type": "code",
    "executionInfo": {
     "elapsed": 5315,
     "status": "ok",
     "timestamp": 1593662707182,
     "user": {
      "displayName": "Badal Kumar",
      "photoUrl": "https://lh3.googleusercontent.com/a-/AOh14Gg69uFQqBleXWW3oFZptK1CE2CMTy5m7PluKD5Z=s64",
      "userId": "09235070521043135989"
     },
     "user_tz": -330
    },
    "id": "Op0-u_LB_Rq2",
    "outputId": "75672c43-7fba-4163-a06f-7fc173ede5a9"
   },
   "outputs": [
    {
     "data": {
      "text/html": [
       "<div>\n",
       "<style scoped>\n",
       "    .dataframe tbody tr th:only-of-type {\n",
       "        vertical-align: middle;\n",
       "    }\n",
       "\n",
       "    .dataframe tbody tr th {\n",
       "        vertical-align: top;\n",
       "    }\n",
       "\n",
       "    .dataframe thead th {\n",
       "        text-align: right;\n",
       "    }\n",
       "</style>\n",
       "<table border=\"1\" class=\"dataframe\">\n",
       "  <thead>\n",
       "    <tr style=\"text-align: right;\">\n",
       "      <th></th>\n",
       "      <th>Mass</th>\n",
       "      <th>Diameter</th>\n",
       "      <th>pop</th>\n",
       "    </tr>\n",
       "  </thead>\n",
       "  <tbody>\n",
       "    <tr>\n",
       "      <th>Earth</th>\n",
       "      <td>5.9700</td>\n",
       "      <td>12756</td>\n",
       "      <td>800000</td>\n",
       "    </tr>\n",
       "    <tr>\n",
       "      <th>Jupiter</th>\n",
       "      <td>1898.0000</td>\n",
       "      <td>142984</td>\n",
       "      <td>0</td>\n",
       "    </tr>\n",
       "    <tr>\n",
       "      <th>Mars</th>\n",
       "      <td>0.6420</td>\n",
       "      <td>6792</td>\n",
       "      <td>0</td>\n",
       "    </tr>\n",
       "    <tr>\n",
       "      <th>Mercury</th>\n",
       "      <td>0.3300</td>\n",
       "      <td>4879</td>\n",
       "      <td>0</td>\n",
       "    </tr>\n",
       "    <tr>\n",
       "      <th>Moon</th>\n",
       "      <td>NaN</td>\n",
       "      <td>3475</td>\n",
       "      <td>0</td>\n",
       "    </tr>\n",
       "    <tr>\n",
       "      <th>Neptune</th>\n",
       "      <td>102.0000</td>\n",
       "      <td>49528</td>\n",
       "      <td>0</td>\n",
       "    </tr>\n",
       "    <tr>\n",
       "      <th>Pluto</th>\n",
       "      <td>0.0146</td>\n",
       "      <td>2370</td>\n",
       "      <td>0</td>\n",
       "    </tr>\n",
       "    <tr>\n",
       "      <th>Saturn</th>\n",
       "      <td>568.0000</td>\n",
       "      <td>120536</td>\n",
       "      <td>0</td>\n",
       "    </tr>\n",
       "    <tr>\n",
       "      <th>Uranus</th>\n",
       "      <td>86.8000</td>\n",
       "      <td>51118</td>\n",
       "      <td>0</td>\n",
       "    </tr>\n",
       "    <tr>\n",
       "      <th>Venus</th>\n",
       "      <td>4.8700</td>\n",
       "      <td>12104</td>\n",
       "      <td>0</td>\n",
       "    </tr>\n",
       "  </tbody>\n",
       "</table>\n",
       "</div>"
      ],
      "text/plain": [
       "              Mass  Diameter     pop\n",
       "Earth       5.9700     12756  800000\n",
       "Jupiter  1898.0000    142984       0\n",
       "Mars        0.6420      6792       0\n",
       "Mercury     0.3300      4879       0\n",
       "Moon           NaN      3475       0\n",
       "Neptune   102.0000     49528       0\n",
       "Pluto       0.0146      2370       0\n",
       "Saturn    568.0000    120536       0\n",
       "Uranus     86.8000     51118       0\n",
       "Venus       4.8700     12104       0"
      ]
     },
     "execution_count": 156,
     "metadata": {},
     "output_type": "execute_result"
    }
   ],
   "source": [
    "df"
   ]
  },
  {
   "cell_type": "code",
   "execution_count": 157,
   "metadata": {
    "colab": {
     "base_uri": "https://localhost:8080/",
     "height": 37
    },
    "colab_type": "code",
    "executionInfo": {
     "elapsed": 5295,
     "status": "ok",
     "timestamp": 1593662707183,
     "user": {
      "displayName": "Badal Kumar",
      "photoUrl": "https://lh3.googleusercontent.com/a-/AOh14Gg69uFQqBleXWW3oFZptK1CE2CMTy5m7PluKD5Z=s64",
      "userId": "09235070521043135989"
     },
     "user_tz": -330
    },
    "id": "e6M1teRJ_XUw",
    "outputId": "89fadeed-c77d-440e-daf1-eb08a9236628"
   },
   "outputs": [
    {
     "data": {
      "text/plain": [
       "True"
      ]
     },
     "execution_count": 157,
     "metadata": {},
     "output_type": "execute_result"
    }
   ],
   "source": [
    "df['Mass'] is df.Mass"
   ]
  },
  {
   "cell_type": "code",
   "execution_count": 158,
   "metadata": {
    "colab": {
     "base_uri": "https://localhost:8080/",
     "height": 37
    },
    "colab_type": "code",
    "executionInfo": {
     "elapsed": 5275,
     "status": "ok",
     "timestamp": 1593662707183,
     "user": {
      "displayName": "Badal Kumar",
      "photoUrl": "https://lh3.googleusercontent.com/a-/AOh14Gg69uFQqBleXWW3oFZptK1CE2CMTy5m7PluKD5Z=s64",
      "userId": "09235070521043135989"
     },
     "user_tz": -330
    },
    "id": "ZdoFc9p2_xAp",
    "outputId": "cbd8e440-d71d-4451-da8e-3877aa1622b1"
   },
   "outputs": [
    {
     "data": {
      "text/plain": [
       "False"
      ]
     },
     "execution_count": 158,
     "metadata": {},
     "output_type": "execute_result"
    }
   ],
   "source": [
    "df['pop'] is df.pop"
   ]
  },
  {
   "cell_type": "code",
   "execution_count": 159,
   "metadata": {
    "colab": {
     "base_uri": "https://localhost:8080/",
     "height": 96
    },
    "colab_type": "code",
    "executionInfo": {
     "elapsed": 5251,
     "status": "ok",
     "timestamp": 1593662707184,
     "user": {
      "displayName": "Badal Kumar",
      "photoUrl": "https://lh3.googleusercontent.com/a-/AOh14Gg69uFQqBleXWW3oFZptK1CE2CMTy5m7PluKD5Z=s64",
      "userId": "09235070521043135989"
     },
     "user_tz": -330
    },
    "id": "hFLg8RY0AtSZ",
    "outputId": "ed54232b-7e72-4781-c1e7-b0672c008cb5"
   },
   "outputs": [
    {
     "data": {
      "text/plain": [
       "Mass             5.97\n",
       "Diameter     12756.00\n",
       "pop         800000.00\n",
       "Name: Earth, dtype: float64"
      ]
     },
     "execution_count": 159,
     "metadata": {},
     "output_type": "execute_result"
    }
   ],
   "source": [
    "df.loc['Earth']"
   ]
  },
  {
   "cell_type": "code",
   "execution_count": 160,
   "metadata": {
    "colab": {
     "base_uri": "https://localhost:8080/",
     "height": 235
    },
    "colab_type": "code",
    "executionInfo": {
     "elapsed": 5228,
     "status": "ok",
     "timestamp": 1593662707185,
     "user": {
      "displayName": "Badal Kumar",
      "photoUrl": "https://lh3.googleusercontent.com/a-/AOh14Gg69uFQqBleXWW3oFZptK1CE2CMTy5m7PluKD5Z=s64",
      "userId": "09235070521043135989"
     },
     "user_tz": -330
    },
    "id": "wsCEbU8sAxCG",
    "outputId": "55bf7531-4d9e-44dc-b2b2-ff7ef425723a"
   },
   "outputs": [
    {
     "data": {
      "text/plain": [
       "Earth         5.9700\n",
       "Jupiter    1898.0000\n",
       "Mars          0.6420\n",
       "Mercury       0.3300\n",
       "Moon             NaN\n",
       "Neptune     102.0000\n",
       "Pluto         0.0146\n",
       "Saturn      568.0000\n",
       "Uranus       86.8000\n",
       "Venus         4.8700\n",
       "Name: Mass, dtype: float64"
      ]
     },
     "execution_count": 160,
     "metadata": {},
     "output_type": "execute_result"
    }
   ],
   "source": [
    "df.loc[:, 'Mass']"
   ]
  },
  {
   "cell_type": "markdown",
   "metadata": {
    "colab_type": "text",
    "id": "lIAKMIPo_7W3"
   },
   "source": [
    " How to create new Row Function "
   ]
  },
  {
   "cell_type": "code",
   "execution_count": 161,
   "metadata": {
    "colab": {},
    "colab_type": "code",
    "id": "9wZiENlZtn_4"
   },
   "outputs": [],
   "source": [
    "def create_mean_row(df):\n",
    "    df.loc['Col_Mean'] = [np.mean(df[col]) for col in df.columns]\n",
    "    return df"
   ]
  },
  {
   "cell_type": "code",
   "execution_count": 162,
   "metadata": {
    "colab": {
     "base_uri": "https://localhost:8080/",
     "height": 363
    },
    "colab_type": "code",
    "executionInfo": {
     "elapsed": 5186,
     "status": "ok",
     "timestamp": 1593662707186,
     "user": {
      "displayName": "Badal Kumar",
      "photoUrl": "https://lh3.googleusercontent.com/a-/AOh14Gg69uFQqBleXWW3oFZptK1CE2CMTy5m7PluKD5Z=s64",
      "userId": "09235070521043135989"
     },
     "user_tz": -330
    },
    "id": "yEBeVN6Dt72S",
    "outputId": "4fbf01a3-707e-4842-b32f-382c133d6d63"
   },
   "outputs": [
    {
     "data": {
      "text/html": [
       "<div>\n",
       "<style scoped>\n",
       "    .dataframe tbody tr th:only-of-type {\n",
       "        vertical-align: middle;\n",
       "    }\n",
       "\n",
       "    .dataframe tbody tr th {\n",
       "        vertical-align: top;\n",
       "    }\n",
       "\n",
       "    .dataframe thead th {\n",
       "        text-align: right;\n",
       "    }\n",
       "</style>\n",
       "<table border=\"1\" class=\"dataframe\">\n",
       "  <thead>\n",
       "    <tr style=\"text-align: right;\">\n",
       "      <th></th>\n",
       "      <th>Mass</th>\n",
       "      <th>Diameter</th>\n",
       "      <th>pop</th>\n",
       "    </tr>\n",
       "  </thead>\n",
       "  <tbody>\n",
       "    <tr>\n",
       "      <th>Earth</th>\n",
       "      <td>5.9700</td>\n",
       "      <td>12756</td>\n",
       "      <td>800000</td>\n",
       "    </tr>\n",
       "    <tr>\n",
       "      <th>Jupiter</th>\n",
       "      <td>1898.0000</td>\n",
       "      <td>142984</td>\n",
       "      <td>0</td>\n",
       "    </tr>\n",
       "    <tr>\n",
       "      <th>Mars</th>\n",
       "      <td>0.6420</td>\n",
       "      <td>6792</td>\n",
       "      <td>0</td>\n",
       "    </tr>\n",
       "    <tr>\n",
       "      <th>Mercury</th>\n",
       "      <td>0.3300</td>\n",
       "      <td>4879</td>\n",
       "      <td>0</td>\n",
       "    </tr>\n",
       "    <tr>\n",
       "      <th>Moon</th>\n",
       "      <td>NaN</td>\n",
       "      <td>3475</td>\n",
       "      <td>0</td>\n",
       "    </tr>\n",
       "    <tr>\n",
       "      <th>Neptune</th>\n",
       "      <td>102.0000</td>\n",
       "      <td>49528</td>\n",
       "      <td>0</td>\n",
       "    </tr>\n",
       "    <tr>\n",
       "      <th>Pluto</th>\n",
       "      <td>0.0146</td>\n",
       "      <td>2370</td>\n",
       "      <td>0</td>\n",
       "    </tr>\n",
       "    <tr>\n",
       "      <th>Saturn</th>\n",
       "      <td>568.0000</td>\n",
       "      <td>120536</td>\n",
       "      <td>0</td>\n",
       "    </tr>\n",
       "    <tr>\n",
       "      <th>Uranus</th>\n",
       "      <td>86.8000</td>\n",
       "      <td>51118</td>\n",
       "      <td>0</td>\n",
       "    </tr>\n",
       "    <tr>\n",
       "      <th>Venus</th>\n",
       "      <td>4.8700</td>\n",
       "      <td>12104</td>\n",
       "      <td>0</td>\n",
       "    </tr>\n",
       "  </tbody>\n",
       "</table>\n",
       "</div>"
      ],
      "text/plain": [
       "              Mass  Diameter     pop\n",
       "Earth       5.9700     12756  800000\n",
       "Jupiter  1898.0000    142984       0\n",
       "Mars        0.6420      6792       0\n",
       "Mercury     0.3300      4879       0\n",
       "Moon           NaN      3475       0\n",
       "Neptune   102.0000     49528       0\n",
       "Pluto       0.0146      2370       0\n",
       "Saturn    568.0000    120536       0\n",
       "Uranus     86.8000     51118       0\n",
       "Venus       4.8700     12104       0"
      ]
     },
     "execution_count": 162,
     "metadata": {},
     "output_type": "execute_result"
    }
   ],
   "source": [
    "df"
   ]
  },
  {
   "cell_type": "code",
   "execution_count": 163,
   "metadata": {
    "colab": {},
    "colab_type": "code",
    "id": "L1JRxChkA8Td"
   },
   "outputs": [],
   "source": [
    "df.loc['Col_Mean']=0"
   ]
  },
  {
   "cell_type": "code",
   "execution_count": 164,
   "metadata": {
    "colab": {
     "base_uri": "https://localhost:8080/",
     "height": 394
    },
    "colab_type": "code",
    "executionInfo": {
     "elapsed": 5151,
     "status": "ok",
     "timestamp": 1593662707187,
     "user": {
      "displayName": "Badal Kumar",
      "photoUrl": "https://lh3.googleusercontent.com/a-/AOh14Gg69uFQqBleXWW3oFZptK1CE2CMTy5m7PluKD5Z=s64",
      "userId": "09235070521043135989"
     },
     "user_tz": -330
    },
    "id": "oQhVNTeCA8SF",
    "outputId": "8b69007f-8862-4f10-e7cb-04dcbefd0162"
   },
   "outputs": [
    {
     "data": {
      "text/html": [
       "<div>\n",
       "<style scoped>\n",
       "    .dataframe tbody tr th:only-of-type {\n",
       "        vertical-align: middle;\n",
       "    }\n",
       "\n",
       "    .dataframe tbody tr th {\n",
       "        vertical-align: top;\n",
       "    }\n",
       "\n",
       "    .dataframe thead th {\n",
       "        text-align: right;\n",
       "    }\n",
       "</style>\n",
       "<table border=\"1\" class=\"dataframe\">\n",
       "  <thead>\n",
       "    <tr style=\"text-align: right;\">\n",
       "      <th></th>\n",
       "      <th>Mass</th>\n",
       "      <th>Diameter</th>\n",
       "      <th>pop</th>\n",
       "    </tr>\n",
       "  </thead>\n",
       "  <tbody>\n",
       "    <tr>\n",
       "      <th>Earth</th>\n",
       "      <td>5.9700</td>\n",
       "      <td>12756</td>\n",
       "      <td>800000</td>\n",
       "    </tr>\n",
       "    <tr>\n",
       "      <th>Jupiter</th>\n",
       "      <td>1898.0000</td>\n",
       "      <td>142984</td>\n",
       "      <td>0</td>\n",
       "    </tr>\n",
       "    <tr>\n",
       "      <th>Mars</th>\n",
       "      <td>0.6420</td>\n",
       "      <td>6792</td>\n",
       "      <td>0</td>\n",
       "    </tr>\n",
       "    <tr>\n",
       "      <th>Mercury</th>\n",
       "      <td>0.3300</td>\n",
       "      <td>4879</td>\n",
       "      <td>0</td>\n",
       "    </tr>\n",
       "    <tr>\n",
       "      <th>Moon</th>\n",
       "      <td>NaN</td>\n",
       "      <td>3475</td>\n",
       "      <td>0</td>\n",
       "    </tr>\n",
       "    <tr>\n",
       "      <th>Neptune</th>\n",
       "      <td>102.0000</td>\n",
       "      <td>49528</td>\n",
       "      <td>0</td>\n",
       "    </tr>\n",
       "    <tr>\n",
       "      <th>Pluto</th>\n",
       "      <td>0.0146</td>\n",
       "      <td>2370</td>\n",
       "      <td>0</td>\n",
       "    </tr>\n",
       "    <tr>\n",
       "      <th>Saturn</th>\n",
       "      <td>568.0000</td>\n",
       "      <td>120536</td>\n",
       "      <td>0</td>\n",
       "    </tr>\n",
       "    <tr>\n",
       "      <th>Uranus</th>\n",
       "      <td>86.8000</td>\n",
       "      <td>51118</td>\n",
       "      <td>0</td>\n",
       "    </tr>\n",
       "    <tr>\n",
       "      <th>Venus</th>\n",
       "      <td>4.8700</td>\n",
       "      <td>12104</td>\n",
       "      <td>0</td>\n",
       "    </tr>\n",
       "    <tr>\n",
       "      <th>Col_Mean</th>\n",
       "      <td>0.0000</td>\n",
       "      <td>0</td>\n",
       "      <td>0</td>\n",
       "    </tr>\n",
       "  </tbody>\n",
       "</table>\n",
       "</div>"
      ],
      "text/plain": [
       "               Mass  Diameter     pop\n",
       "Earth        5.9700     12756  800000\n",
       "Jupiter   1898.0000    142984       0\n",
       "Mars         0.6420      6792       0\n",
       "Mercury      0.3300      4879       0\n",
       "Moon            NaN      3475       0\n",
       "Neptune    102.0000     49528       0\n",
       "Pluto        0.0146      2370       0\n",
       "Saturn     568.0000    120536       0\n",
       "Uranus      86.8000     51118       0\n",
       "Venus        4.8700     12104       0\n",
       "Col_Mean     0.0000         0       0"
      ]
     },
     "execution_count": 164,
     "metadata": {},
     "output_type": "execute_result"
    }
   ],
   "source": [
    "df"
   ]
  },
  {
   "cell_type": "code",
   "execution_count": 165,
   "metadata": {
    "colab": {
     "base_uri": "https://localhost:8080/",
     "height": 37
    },
    "colab_type": "code",
    "executionInfo": {
     "elapsed": 5132,
     "status": "ok",
     "timestamp": 1593662707188,
     "user": {
      "displayName": "Badal Kumar",
      "photoUrl": "https://lh3.googleusercontent.com/a-/AOh14Gg69uFQqBleXWW3oFZptK1CE2CMTy5m7PluKD5Z=s64",
      "userId": "09235070521043135989"
     },
     "user_tz": -330
    },
    "id": "P0uBCtd5BLXo",
    "outputId": "2975bddb-723d-4773-f0fc-210b124369cf"
   },
   "outputs": [
    {
     "data": {
      "text/plain": [
       "266.66266"
      ]
     },
     "execution_count": 165,
     "metadata": {},
     "output_type": "execute_result"
    }
   ],
   "source": [
    "np.mean(df['Mass'])"
   ]
  },
  {
   "cell_type": "code",
   "execution_count": 166,
   "metadata": {
    "colab": {},
    "colab_type": "code",
    "id": "G4p2jJU3CM27"
   },
   "outputs": [],
   "source": [
    "df.drop('Col_Mean', inplace=True)"
   ]
  },
  {
   "cell_type": "code",
   "execution_count": 167,
   "metadata": {
    "colab": {
     "base_uri": "https://localhost:8080/",
     "height": 37
    },
    "colab_type": "code",
    "executionInfo": {
     "elapsed": 5084,
     "status": "ok",
     "timestamp": 1593662707189,
     "user": {
      "displayName": "Badal Kumar",
      "photoUrl": "https://lh3.googleusercontent.com/a-/AOh14Gg69uFQqBleXWW3oFZptK1CE2CMTy5m7PluKD5Z=s64",
      "userId": "09235070521043135989"
     },
     "user_tz": -330
    },
    "id": "IdDSJ5nGCwxw",
    "outputId": "fa1b1a07-6998-4100-a700-6d67d1995e95"
   },
   "outputs": [
    {
     "data": {
      "text/plain": [
       "296.29184444444445"
      ]
     },
     "execution_count": 167,
     "metadata": {},
     "output_type": "execute_result"
    }
   ],
   "source": [
    "np.mean(df['Mass'])"
   ]
  },
  {
   "cell_type": "code",
   "execution_count": 168,
   "metadata": {
    "colab": {},
    "colab_type": "code",
    "id": "LffdWBznC08X"
   },
   "outputs": [],
   "source": [
    "df.drop('pop', axis=1, inplace=True)"
   ]
  },
  {
   "cell_type": "code",
   "execution_count": 169,
   "metadata": {
    "colab": {
     "base_uri": "https://localhost:8080/",
     "height": 363
    },
    "colab_type": "code",
    "executionInfo": {
     "elapsed": 5052,
     "status": "ok",
     "timestamp": 1593662707190,
     "user": {
      "displayName": "Badal Kumar",
      "photoUrl": "https://lh3.googleusercontent.com/a-/AOh14Gg69uFQqBleXWW3oFZptK1CE2CMTy5m7PluKD5Z=s64",
      "userId": "09235070521043135989"
     },
     "user_tz": -330
    },
    "id": "yeqBScd4DOPO",
    "outputId": "05fc6393-1b09-41fa-8f4e-4e82a70ecfd2"
   },
   "outputs": [
    {
     "data": {
      "text/html": [
       "<div>\n",
       "<style scoped>\n",
       "    .dataframe tbody tr th:only-of-type {\n",
       "        vertical-align: middle;\n",
       "    }\n",
       "\n",
       "    .dataframe tbody tr th {\n",
       "        vertical-align: top;\n",
       "    }\n",
       "\n",
       "    .dataframe thead th {\n",
       "        text-align: right;\n",
       "    }\n",
       "</style>\n",
       "<table border=\"1\" class=\"dataframe\">\n",
       "  <thead>\n",
       "    <tr style=\"text-align: right;\">\n",
       "      <th></th>\n",
       "      <th>Mass</th>\n",
       "      <th>Diameter</th>\n",
       "    </tr>\n",
       "  </thead>\n",
       "  <tbody>\n",
       "    <tr>\n",
       "      <th>Earth</th>\n",
       "      <td>5.9700</td>\n",
       "      <td>12756</td>\n",
       "    </tr>\n",
       "    <tr>\n",
       "      <th>Jupiter</th>\n",
       "      <td>1898.0000</td>\n",
       "      <td>142984</td>\n",
       "    </tr>\n",
       "    <tr>\n",
       "      <th>Mars</th>\n",
       "      <td>0.6420</td>\n",
       "      <td>6792</td>\n",
       "    </tr>\n",
       "    <tr>\n",
       "      <th>Mercury</th>\n",
       "      <td>0.3300</td>\n",
       "      <td>4879</td>\n",
       "    </tr>\n",
       "    <tr>\n",
       "      <th>Moon</th>\n",
       "      <td>NaN</td>\n",
       "      <td>3475</td>\n",
       "    </tr>\n",
       "    <tr>\n",
       "      <th>Neptune</th>\n",
       "      <td>102.0000</td>\n",
       "      <td>49528</td>\n",
       "    </tr>\n",
       "    <tr>\n",
       "      <th>Pluto</th>\n",
       "      <td>0.0146</td>\n",
       "      <td>2370</td>\n",
       "    </tr>\n",
       "    <tr>\n",
       "      <th>Saturn</th>\n",
       "      <td>568.0000</td>\n",
       "      <td>120536</td>\n",
       "    </tr>\n",
       "    <tr>\n",
       "      <th>Uranus</th>\n",
       "      <td>86.8000</td>\n",
       "      <td>51118</td>\n",
       "    </tr>\n",
       "    <tr>\n",
       "      <th>Venus</th>\n",
       "      <td>4.8700</td>\n",
       "      <td>12104</td>\n",
       "    </tr>\n",
       "  </tbody>\n",
       "</table>\n",
       "</div>"
      ],
      "text/plain": [
       "              Mass  Diameter\n",
       "Earth       5.9700     12756\n",
       "Jupiter  1898.0000    142984\n",
       "Mars        0.6420      6792\n",
       "Mercury     0.3300      4879\n",
       "Moon           NaN      3475\n",
       "Neptune   102.0000     49528\n",
       "Pluto       0.0146      2370\n",
       "Saturn    568.0000    120536\n",
       "Uranus     86.8000     51118\n",
       "Venus       4.8700     12104"
      ]
     },
     "execution_count": 169,
     "metadata": {},
     "output_type": "execute_result"
    }
   ],
   "source": [
    "df"
   ]
  },
  {
   "cell_type": "code",
   "execution_count": 170,
   "metadata": {
    "colab": {
     "base_uri": "https://localhost:8080/",
     "height": 37
    },
    "colab_type": "code",
    "executionInfo": {
     "elapsed": 5023,
     "status": "ok",
     "timestamp": 1593662707191,
     "user": {
      "displayName": "Badal Kumar",
      "photoUrl": "https://lh3.googleusercontent.com/a-/AOh14Gg69uFQqBleXWW3oFZptK1CE2CMTy5m7PluKD5Z=s64",
      "userId": "09235070521043135989"
     },
     "user_tz": -330
    },
    "id": "KOLo9Mk3DO2w",
    "outputId": "60b6858a-1e21-4ef7-84da-247d5a418d91"
   },
   "outputs": [
    {
     "data": {
      "text/plain": [
       "296.29184444444445"
      ]
     },
     "execution_count": 170,
     "metadata": {},
     "output_type": "execute_result"
    }
   ],
   "source": [
    "np.mean(df['Mass'])"
   ]
  },
  {
   "cell_type": "code",
   "execution_count": 171,
   "metadata": {
    "colab": {},
    "colab_type": "code",
    "id": "YNA8y89Fs3JO"
   },
   "outputs": [],
   "source": [
    "df.loc['Col_Mean'] = [np.mean(df['Mass']), np.mean(df['Diameter'])]"
   ]
  },
  {
   "cell_type": "code",
   "execution_count": 172,
   "metadata": {
    "colab": {
     "base_uri": "https://localhost:8080/",
     "height": 394
    },
    "colab_type": "code",
    "executionInfo": {
     "elapsed": 4981,
     "status": "ok",
     "timestamp": 1593662707192,
     "user": {
      "displayName": "Badal Kumar",
      "photoUrl": "https://lh3.googleusercontent.com/a-/AOh14Gg69uFQqBleXWW3oFZptK1CE2CMTy5m7PluKD5Z=s64",
      "userId": "09235070521043135989"
     },
     "user_tz": -330
    },
    "id": "WcSvpXfetOiU",
    "outputId": "67c981d8-e4e5-4e37-e838-ebca9aa79e7b"
   },
   "outputs": [
    {
     "data": {
      "text/html": [
       "<div>\n",
       "<style scoped>\n",
       "    .dataframe tbody tr th:only-of-type {\n",
       "        vertical-align: middle;\n",
       "    }\n",
       "\n",
       "    .dataframe tbody tr th {\n",
       "        vertical-align: top;\n",
       "    }\n",
       "\n",
       "    .dataframe thead th {\n",
       "        text-align: right;\n",
       "    }\n",
       "</style>\n",
       "<table border=\"1\" class=\"dataframe\">\n",
       "  <thead>\n",
       "    <tr style=\"text-align: right;\">\n",
       "      <th></th>\n",
       "      <th>Mass</th>\n",
       "      <th>Diameter</th>\n",
       "    </tr>\n",
       "  </thead>\n",
       "  <tbody>\n",
       "    <tr>\n",
       "      <th>Earth</th>\n",
       "      <td>5.970000</td>\n",
       "      <td>12756.0</td>\n",
       "    </tr>\n",
       "    <tr>\n",
       "      <th>Jupiter</th>\n",
       "      <td>1898.000000</td>\n",
       "      <td>142984.0</td>\n",
       "    </tr>\n",
       "    <tr>\n",
       "      <th>Mars</th>\n",
       "      <td>0.642000</td>\n",
       "      <td>6792.0</td>\n",
       "    </tr>\n",
       "    <tr>\n",
       "      <th>Mercury</th>\n",
       "      <td>0.330000</td>\n",
       "      <td>4879.0</td>\n",
       "    </tr>\n",
       "    <tr>\n",
       "      <th>Moon</th>\n",
       "      <td>NaN</td>\n",
       "      <td>3475.0</td>\n",
       "    </tr>\n",
       "    <tr>\n",
       "      <th>Neptune</th>\n",
       "      <td>102.000000</td>\n",
       "      <td>49528.0</td>\n",
       "    </tr>\n",
       "    <tr>\n",
       "      <th>Pluto</th>\n",
       "      <td>0.014600</td>\n",
       "      <td>2370.0</td>\n",
       "    </tr>\n",
       "    <tr>\n",
       "      <th>Saturn</th>\n",
       "      <td>568.000000</td>\n",
       "      <td>120536.0</td>\n",
       "    </tr>\n",
       "    <tr>\n",
       "      <th>Uranus</th>\n",
       "      <td>86.800000</td>\n",
       "      <td>51118.0</td>\n",
       "    </tr>\n",
       "    <tr>\n",
       "      <th>Venus</th>\n",
       "      <td>4.870000</td>\n",
       "      <td>12104.0</td>\n",
       "    </tr>\n",
       "    <tr>\n",
       "      <th>Col_Mean</th>\n",
       "      <td>296.291844</td>\n",
       "      <td>40654.2</td>\n",
       "    </tr>\n",
       "  </tbody>\n",
       "</table>\n",
       "</div>"
      ],
      "text/plain": [
       "                 Mass  Diameter\n",
       "Earth        5.970000   12756.0\n",
       "Jupiter   1898.000000  142984.0\n",
       "Mars         0.642000    6792.0\n",
       "Mercury      0.330000    4879.0\n",
       "Moon              NaN    3475.0\n",
       "Neptune    102.000000   49528.0\n",
       "Pluto        0.014600    2370.0\n",
       "Saturn     568.000000  120536.0\n",
       "Uranus      86.800000   51118.0\n",
       "Venus        4.870000   12104.0\n",
       "Col_Mean   296.291844   40654.2"
      ]
     },
     "execution_count": 172,
     "metadata": {},
     "output_type": "execute_result"
    }
   ],
   "source": [
    "df"
   ]
  },
  {
   "cell_type": "code",
   "execution_count": 173,
   "metadata": {
    "colab": {
     "base_uri": "https://localhost:8080/",
     "height": 363
    },
    "colab_type": "code",
    "executionInfo": {
     "elapsed": 4953,
     "status": "ok",
     "timestamp": 1593662707193,
     "user": {
      "displayName": "Badal Kumar",
      "photoUrl": "https://lh3.googleusercontent.com/a-/AOh14Gg69uFQqBleXWW3oFZptK1CE2CMTy5m7PluKD5Z=s64",
      "userId": "09235070521043135989"
     },
     "user_tz": -330
    },
    "id": "mHKNrF4ptRG2",
    "outputId": "558f28b9-a7e1-463c-887e-85b6770047b0"
   },
   "outputs": [
    {
     "data": {
      "text/html": [
       "<div>\n",
       "<style scoped>\n",
       "    .dataframe tbody tr th:only-of-type {\n",
       "        vertical-align: middle;\n",
       "    }\n",
       "\n",
       "    .dataframe tbody tr th {\n",
       "        vertical-align: top;\n",
       "    }\n",
       "\n",
       "    .dataframe thead th {\n",
       "        text-align: right;\n",
       "    }\n",
       "</style>\n",
       "<table border=\"1\" class=\"dataframe\">\n",
       "  <thead>\n",
       "    <tr style=\"text-align: right;\">\n",
       "      <th></th>\n",
       "      <th>Mass</th>\n",
       "      <th>Diameter</th>\n",
       "    </tr>\n",
       "  </thead>\n",
       "  <tbody>\n",
       "    <tr>\n",
       "      <th>Earth</th>\n",
       "      <td>5.9700</td>\n",
       "      <td>12756.0</td>\n",
       "    </tr>\n",
       "    <tr>\n",
       "      <th>Jupiter</th>\n",
       "      <td>1898.0000</td>\n",
       "      <td>142984.0</td>\n",
       "    </tr>\n",
       "    <tr>\n",
       "      <th>Mars</th>\n",
       "      <td>0.6420</td>\n",
       "      <td>6792.0</td>\n",
       "    </tr>\n",
       "    <tr>\n",
       "      <th>Mercury</th>\n",
       "      <td>0.3300</td>\n",
       "      <td>4879.0</td>\n",
       "    </tr>\n",
       "    <tr>\n",
       "      <th>Moon</th>\n",
       "      <td>NaN</td>\n",
       "      <td>3475.0</td>\n",
       "    </tr>\n",
       "    <tr>\n",
       "      <th>Neptune</th>\n",
       "      <td>102.0000</td>\n",
       "      <td>49528.0</td>\n",
       "    </tr>\n",
       "    <tr>\n",
       "      <th>Pluto</th>\n",
       "      <td>0.0146</td>\n",
       "      <td>2370.0</td>\n",
       "    </tr>\n",
       "    <tr>\n",
       "      <th>Saturn</th>\n",
       "      <td>568.0000</td>\n",
       "      <td>120536.0</td>\n",
       "    </tr>\n",
       "    <tr>\n",
       "      <th>Uranus</th>\n",
       "      <td>86.8000</td>\n",
       "      <td>51118.0</td>\n",
       "    </tr>\n",
       "    <tr>\n",
       "      <th>Venus</th>\n",
       "      <td>4.8700</td>\n",
       "      <td>12104.0</td>\n",
       "    </tr>\n",
       "  </tbody>\n",
       "</table>\n",
       "</div>"
      ],
      "text/plain": [
       "              Mass  Diameter\n",
       "Earth       5.9700   12756.0\n",
       "Jupiter  1898.0000  142984.0\n",
       "Mars        0.6420    6792.0\n",
       "Mercury     0.3300    4879.0\n",
       "Moon           NaN    3475.0\n",
       "Neptune   102.0000   49528.0\n",
       "Pluto       0.0146    2370.0\n",
       "Saturn    568.0000  120536.0\n",
       "Uranus     86.8000   51118.0\n",
       "Venus       4.8700   12104.0"
      ]
     },
     "execution_count": 173,
     "metadata": {},
     "output_type": "execute_result"
    }
   ],
   "source": [
    " df.drop('Col_Mean')"
   ]
  },
  {
   "cell_type": "code",
   "execution_count": 174,
   "metadata": {
    "colab": {
     "base_uri": "https://localhost:8080/",
     "height": 394
    },
    "colab_type": "code",
    "executionInfo": {
     "elapsed": 4921,
     "status": "ok",
     "timestamp": 1593662707194,
     "user": {
      "displayName": "Badal Kumar",
      "photoUrl": "https://lh3.googleusercontent.com/a-/AOh14Gg69uFQqBleXWW3oFZptK1CE2CMTy5m7PluKD5Z=s64",
      "userId": "09235070521043135989"
     },
     "user_tz": -330
    },
    "id": "9pRIzdxyukKv",
    "outputId": "8a97285d-09f8-405e-95e3-70bfb67ab057"
   },
   "outputs": [
    {
     "data": {
      "text/html": [
       "<div>\n",
       "<style scoped>\n",
       "    .dataframe tbody tr th:only-of-type {\n",
       "        vertical-align: middle;\n",
       "    }\n",
       "\n",
       "    .dataframe tbody tr th {\n",
       "        vertical-align: top;\n",
       "    }\n",
       "\n",
       "    .dataframe thead th {\n",
       "        text-align: right;\n",
       "    }\n",
       "</style>\n",
       "<table border=\"1\" class=\"dataframe\">\n",
       "  <thead>\n",
       "    <tr style=\"text-align: right;\">\n",
       "      <th></th>\n",
       "      <th>Mass</th>\n",
       "      <th>Diameter</th>\n",
       "    </tr>\n",
       "  </thead>\n",
       "  <tbody>\n",
       "    <tr>\n",
       "      <th>Earth</th>\n",
       "      <td>5.970000</td>\n",
       "      <td>12756.0</td>\n",
       "    </tr>\n",
       "    <tr>\n",
       "      <th>Jupiter</th>\n",
       "      <td>1898.000000</td>\n",
       "      <td>142984.0</td>\n",
       "    </tr>\n",
       "    <tr>\n",
       "      <th>Mars</th>\n",
       "      <td>0.642000</td>\n",
       "      <td>6792.0</td>\n",
       "    </tr>\n",
       "    <tr>\n",
       "      <th>Mercury</th>\n",
       "      <td>0.330000</td>\n",
       "      <td>4879.0</td>\n",
       "    </tr>\n",
       "    <tr>\n",
       "      <th>Moon</th>\n",
       "      <td>NaN</td>\n",
       "      <td>3475.0</td>\n",
       "    </tr>\n",
       "    <tr>\n",
       "      <th>Neptune</th>\n",
       "      <td>102.000000</td>\n",
       "      <td>49528.0</td>\n",
       "    </tr>\n",
       "    <tr>\n",
       "      <th>Pluto</th>\n",
       "      <td>0.014600</td>\n",
       "      <td>2370.0</td>\n",
       "    </tr>\n",
       "    <tr>\n",
       "      <th>Saturn</th>\n",
       "      <td>568.000000</td>\n",
       "      <td>120536.0</td>\n",
       "    </tr>\n",
       "    <tr>\n",
       "      <th>Uranus</th>\n",
       "      <td>86.800000</td>\n",
       "      <td>51118.0</td>\n",
       "    </tr>\n",
       "    <tr>\n",
       "      <th>Venus</th>\n",
       "      <td>4.870000</td>\n",
       "      <td>12104.0</td>\n",
       "    </tr>\n",
       "    <tr>\n",
       "      <th>Col_Mean</th>\n",
       "      <td>296.291844</td>\n",
       "      <td>40654.2</td>\n",
       "    </tr>\n",
       "  </tbody>\n",
       "</table>\n",
       "</div>"
      ],
      "text/plain": [
       "                 Mass  Diameter\n",
       "Earth        5.970000   12756.0\n",
       "Jupiter   1898.000000  142984.0\n",
       "Mars         0.642000    6792.0\n",
       "Mercury      0.330000    4879.0\n",
       "Moon              NaN    3475.0\n",
       "Neptune    102.000000   49528.0\n",
       "Pluto        0.014600    2370.0\n",
       "Saturn     568.000000  120536.0\n",
       "Uranus      86.800000   51118.0\n",
       "Venus        4.870000   12104.0\n",
       "Col_Mean   296.291844   40654.2"
      ]
     },
     "execution_count": 174,
     "metadata": {},
     "output_type": "execute_result"
    }
   ],
   "source": [
    "create_mean_row(df)"
   ]
  },
  {
   "cell_type": "code",
   "execution_count": 175,
   "metadata": {
    "colab": {},
    "colab_type": "code",
    "id": "EDOG5oMquwmt"
   },
   "outputs": [],
   "source": [
    "df = create_df(5, 3)"
   ]
  },
  {
   "cell_type": "code",
   "execution_count": 176,
   "metadata": {
    "colab": {
     "base_uri": "https://localhost:8080/",
     "height": 206
    },
    "colab_type": "code",
    "executionInfo": {
     "elapsed": 4885,
     "status": "ok",
     "timestamp": 1593662707196,
     "user": {
      "displayName": "Badal Kumar",
      "photoUrl": "https://lh3.googleusercontent.com/a-/AOh14Gg69uFQqBleXWW3oFZptK1CE2CMTy5m7PluKD5Z=s64",
      "userId": "09235070521043135989"
     },
     "user_tz": -330
    },
    "id": "ynFddgkuvIbZ",
    "outputId": "3b588507-4f28-42b5-99dc-613dcf33ecdf"
   },
   "outputs": [
    {
     "data": {
      "text/html": [
       "<div>\n",
       "<style scoped>\n",
       "    .dataframe tbody tr th:only-of-type {\n",
       "        vertical-align: middle;\n",
       "    }\n",
       "\n",
       "    .dataframe tbody tr th {\n",
       "        vertical-align: top;\n",
       "    }\n",
       "\n",
       "    .dataframe thead th {\n",
       "        text-align: right;\n",
       "    }\n",
       "</style>\n",
       "<table border=\"1\" class=\"dataframe\">\n",
       "  <thead>\n",
       "    <tr style=\"text-align: right;\">\n",
       "      <th></th>\n",
       "      <th>C1</th>\n",
       "      <th>C2</th>\n",
       "      <th>C3</th>\n",
       "    </tr>\n",
       "  </thead>\n",
       "  <tbody>\n",
       "    <tr>\n",
       "      <th>R1</th>\n",
       "      <td>6</td>\n",
       "      <td>3</td>\n",
       "      <td>2</td>\n",
       "    </tr>\n",
       "    <tr>\n",
       "      <th>R2</th>\n",
       "      <td>8</td>\n",
       "      <td>5</td>\n",
       "      <td>9</td>\n",
       "    </tr>\n",
       "    <tr>\n",
       "      <th>R3</th>\n",
       "      <td>2</td>\n",
       "      <td>0</td>\n",
       "      <td>2</td>\n",
       "    </tr>\n",
       "    <tr>\n",
       "      <th>R4</th>\n",
       "      <td>9</td>\n",
       "      <td>3</td>\n",
       "      <td>1</td>\n",
       "    </tr>\n",
       "    <tr>\n",
       "      <th>R5</th>\n",
       "      <td>1</td>\n",
       "      <td>5</td>\n",
       "      <td>7</td>\n",
       "    </tr>\n",
       "  </tbody>\n",
       "</table>\n",
       "</div>"
      ],
      "text/plain": [
       "    C1  C2  C3\n",
       "R1   6   3   2\n",
       "R2   8   5   9\n",
       "R3   2   0   2\n",
       "R4   9   3   1\n",
       "R5   1   5   7"
      ]
     },
     "execution_count": 176,
     "metadata": {},
     "output_type": "execute_result"
    }
   ],
   "source": [
    "df"
   ]
  },
  {
   "cell_type": "code",
   "execution_count": 177,
   "metadata": {
    "colab": {
     "base_uri": "https://localhost:8080/",
     "height": 96
    },
    "colab_type": "code",
    "executionInfo": {
     "elapsed": 4860,
     "status": "ok",
     "timestamp": 1593662707196,
     "user": {
      "displayName": "Badal Kumar",
      "photoUrl": "https://lh3.googleusercontent.com/a-/AOh14Gg69uFQqBleXWW3oFZptK1CE2CMTy5m7PluKD5Z=s64",
      "userId": "09235070521043135989"
     },
     "user_tz": -330
    },
    "id": "N7w-VmOYvJq1",
    "outputId": "52bad038-4920-4c96-e039-51c0236c5f69"
   },
   "outputs": [
    {
     "data": {
      "text/plain": [
       "C1    5.2\n",
       "C2    3.2\n",
       "C3    4.2\n",
       "dtype: float64"
      ]
     },
     "execution_count": 177,
     "metadata": {},
     "output_type": "execute_result"
    }
   ],
   "source": [
    "df.mean()"
   ]
  },
  {
   "cell_type": "code",
   "execution_count": 178,
   "metadata": {
    "colab": {
     "base_uri": "https://localhost:8080/",
     "height": 136
    },
    "colab_type": "code",
    "executionInfo": {
     "elapsed": 4830,
     "status": "ok",
     "timestamp": 1593662707197,
     "user": {
      "displayName": "Badal Kumar",
      "photoUrl": "https://lh3.googleusercontent.com/a-/AOh14Gg69uFQqBleXWW3oFZptK1CE2CMTy5m7PluKD5Z=s64",
      "userId": "09235070521043135989"
     },
     "user_tz": -330
    },
    "id": "nzgXWU8nvLaK",
    "outputId": "23de1911-1a2d-46e0-95ce-d4e56183b598"
   },
   "outputs": [
    {
     "data": {
      "text/plain": [
       "R1    3.666667\n",
       "R2    7.333333\n",
       "R3    1.333333\n",
       "R4    4.333333\n",
       "R5    4.333333\n",
       "dtype: float64"
      ]
     },
     "execution_count": 178,
     "metadata": {},
     "output_type": "execute_result"
    }
   ],
   "source": [
    "df.mean(axis=1)"
   ]
  },
  {
   "cell_type": "code",
   "execution_count": 179,
   "metadata": {
    "colab": {},
    "colab_type": "code",
    "id": "pJLFVCXavVfF"
   },
   "outputs": [],
   "source": [
    "df['Row_Mean'] = df.mean(axis=1)"
   ]
  },
  {
   "cell_type": "code",
   "execution_count": 180,
   "metadata": {
    "colab": {},
    "colab_type": "code",
    "id": "am-u2S9nvklX"
   },
   "outputs": [],
   "source": [
    "df.loc['Col_Mean'] = df.mean()"
   ]
  },
  {
   "cell_type": "code",
   "execution_count": 181,
   "metadata": {
    "colab": {
     "base_uri": "https://localhost:8080/",
     "height": 237
    },
    "colab_type": "code",
    "executionInfo": {
     "elapsed": 4774,
     "status": "ok",
     "timestamp": 1593662707199,
     "user": {
      "displayName": "Badal Kumar",
      "photoUrl": "https://lh3.googleusercontent.com/a-/AOh14Gg69uFQqBleXWW3oFZptK1CE2CMTy5m7PluKD5Z=s64",
      "userId": "09235070521043135989"
     },
     "user_tz": -330
    },
    "id": "TTqrWJvMvlFn",
    "outputId": "ed0a7edd-e125-4216-99a3-d4bdc022d7eb"
   },
   "outputs": [
    {
     "data": {
      "text/html": [
       "<div>\n",
       "<style scoped>\n",
       "    .dataframe tbody tr th:only-of-type {\n",
       "        vertical-align: middle;\n",
       "    }\n",
       "\n",
       "    .dataframe tbody tr th {\n",
       "        vertical-align: top;\n",
       "    }\n",
       "\n",
       "    .dataframe thead th {\n",
       "        text-align: right;\n",
       "    }\n",
       "</style>\n",
       "<table border=\"1\" class=\"dataframe\">\n",
       "  <thead>\n",
       "    <tr style=\"text-align: right;\">\n",
       "      <th></th>\n",
       "      <th>C1</th>\n",
       "      <th>C2</th>\n",
       "      <th>C3</th>\n",
       "      <th>Row_Mean</th>\n",
       "    </tr>\n",
       "  </thead>\n",
       "  <tbody>\n",
       "    <tr>\n",
       "      <th>R1</th>\n",
       "      <td>6.0</td>\n",
       "      <td>3.0</td>\n",
       "      <td>2.0</td>\n",
       "      <td>3.666667</td>\n",
       "    </tr>\n",
       "    <tr>\n",
       "      <th>R2</th>\n",
       "      <td>8.0</td>\n",
       "      <td>5.0</td>\n",
       "      <td>9.0</td>\n",
       "      <td>7.333333</td>\n",
       "    </tr>\n",
       "    <tr>\n",
       "      <th>R3</th>\n",
       "      <td>2.0</td>\n",
       "      <td>0.0</td>\n",
       "      <td>2.0</td>\n",
       "      <td>1.333333</td>\n",
       "    </tr>\n",
       "    <tr>\n",
       "      <th>R4</th>\n",
       "      <td>9.0</td>\n",
       "      <td>3.0</td>\n",
       "      <td>1.0</td>\n",
       "      <td>4.333333</td>\n",
       "    </tr>\n",
       "    <tr>\n",
       "      <th>R5</th>\n",
       "      <td>1.0</td>\n",
       "      <td>5.0</td>\n",
       "      <td>7.0</td>\n",
       "      <td>4.333333</td>\n",
       "    </tr>\n",
       "    <tr>\n",
       "      <th>Col_Mean</th>\n",
       "      <td>5.2</td>\n",
       "      <td>3.2</td>\n",
       "      <td>4.2</td>\n",
       "      <td>4.200000</td>\n",
       "    </tr>\n",
       "  </tbody>\n",
       "</table>\n",
       "</div>"
      ],
      "text/plain": [
       "           C1   C2   C3  Row_Mean\n",
       "R1        6.0  3.0  2.0  3.666667\n",
       "R2        8.0  5.0  9.0  7.333333\n",
       "R3        2.0  0.0  2.0  1.333333\n",
       "R4        9.0  3.0  1.0  4.333333\n",
       "R5        1.0  5.0  7.0  4.333333\n",
       "Col_Mean  5.2  3.2  4.2  4.200000"
      ]
     },
     "execution_count": 181,
     "metadata": {},
     "output_type": "execute_result"
    }
   ],
   "source": [
    "df"
   ]
  },
  {
   "cell_type": "code",
   "execution_count": 182,
   "metadata": {
    "colab": {
     "base_uri": "https://localhost:8080/",
     "height": 116
    },
    "colab_type": "code",
    "executionInfo": {
     "elapsed": 4744,
     "status": "ok",
     "timestamp": 1593662707199,
     "user": {
      "displayName": "Badal Kumar",
      "photoUrl": "https://lh3.googleusercontent.com/a-/AOh14Gg69uFQqBleXWW3oFZptK1CE2CMTy5m7PluKD5Z=s64",
      "userId": "09235070521043135989"
     },
     "user_tz": -330
    },
    "id": "1hnY0hnCwM4u",
    "outputId": "a7ef2850-e9b0-4246-b151-a159bde79cf4"
   },
   "outputs": [
    {
     "data": {
      "text/plain": [
       "C1          5.600000\n",
       "C2          3.100000\n",
       "C3          3.100000\n",
       "Row_Mean    4.266667\n",
       "dtype: float64"
      ]
     },
     "execution_count": 182,
     "metadata": {},
     "output_type": "execute_result"
    }
   ],
   "source": [
    "df.median()"
   ]
  },
  {
   "cell_type": "code",
   "execution_count": 183,
   "metadata": {
    "colab": {
     "base_uri": "https://localhost:8080/",
     "height": 116
    },
    "colab_type": "code",
    "executionInfo": {
     "elapsed": 4718,
     "status": "ok",
     "timestamp": 1593662707200,
     "user": {
      "displayName": "Badal Kumar",
      "photoUrl": "https://lh3.googleusercontent.com/a-/AOh14Gg69uFQqBleXWW3oFZptK1CE2CMTy5m7PluKD5Z=s64",
      "userId": "09235070521043135989"
     },
     "user_tz": -330
    },
    "id": "Ha3lm8UOwVAC",
    "outputId": "27e92eed-c17d-46e2-e7d6-b123b9e7cccc"
   },
   "outputs": [
    {
     "data": {
      "text/plain": [
       "C1          1.000000\n",
       "C2          0.000000\n",
       "C3          1.000000\n",
       "Row_Mean    1.333333\n",
       "dtype: float64"
      ]
     },
     "execution_count": 183,
     "metadata": {},
     "output_type": "execute_result"
    }
   ],
   "source": [
    "df.min()"
   ]
  },
  {
   "cell_type": "code",
   "execution_count": 184,
   "metadata": {
    "colab": {
     "base_uri": "https://localhost:8080/",
     "height": 116
    },
    "colab_type": "code",
    "executionInfo": {
     "elapsed": 4704,
     "status": "ok",
     "timestamp": 1593662707201,
     "user": {
      "displayName": "Badal Kumar",
      "photoUrl": "https://lh3.googleusercontent.com/a-/AOh14Gg69uFQqBleXWW3oFZptK1CE2CMTy5m7PluKD5Z=s64",
      "userId": "09235070521043135989"
     },
     "user_tz": -330
    },
    "id": "lI4yDsuLwWhA",
    "outputId": "40c1cd8b-36d7-4416-c117-858c6859b1ba"
   },
   "outputs": [
    {
     "data": {
      "text/plain": [
       "C1          9.000000\n",
       "C2          5.000000\n",
       "C3          9.000000\n",
       "Row_Mean    7.333333\n",
       "dtype: float64"
      ]
     },
     "execution_count": 184,
     "metadata": {},
     "output_type": "execute_result"
    }
   ],
   "source": [
    "df.max()"
   ]
  },
  {
   "cell_type": "code",
   "execution_count": 185,
   "metadata": {
    "colab": {
     "base_uri": "https://localhost:8080/",
     "height": 116
    },
    "colab_type": "code",
    "executionInfo": {
     "elapsed": 4697,
     "status": "ok",
     "timestamp": 1593662707201,
     "user": {
      "displayName": "Badal Kumar",
      "photoUrl": "https://lh3.googleusercontent.com/a-/AOh14Gg69uFQqBleXWW3oFZptK1CE2CMTy5m7PluKD5Z=s64",
      "userId": "09235070521043135989"
     },
     "user_tz": -330
    },
    "id": "18Hd0aePwX4k",
    "outputId": "fff6a491-302e-4b0e-a70c-bf7014855df4"
   },
   "outputs": [
    {
     "data": {
      "text/plain": [
       "C1          2.8\n",
       "C2          3.0\n",
       "C3          2.0\n",
       "Row_Mean    3.8\n",
       "Name: 0.25, dtype: float64"
      ]
     },
     "execution_count": 185,
     "metadata": {},
     "output_type": "execute_result"
    }
   ],
   "source": [
    "df.quantile(0.25)"
   ]
  },
  {
   "cell_type": "code",
   "execution_count": 186,
   "metadata": {
    "colab": {
     "base_uri": "https://localhost:8080/",
     "height": 237
    },
    "colab_type": "code",
    "executionInfo": {
     "elapsed": 4691,
     "status": "ok",
     "timestamp": 1593662707202,
     "user": {
      "displayName": "Badal Kumar",
      "photoUrl": "https://lh3.googleusercontent.com/a-/AOh14Gg69uFQqBleXWW3oFZptK1CE2CMTy5m7PluKD5Z=s64",
      "userId": "09235070521043135989"
     },
     "user_tz": -330
    },
    "id": "Tq06ujfGwZuL",
    "outputId": "98b9fca7-117f-4804-8eb3-9c6f47b9c5b6"
   },
   "outputs": [
    {
     "data": {
      "text/html": [
       "<div>\n",
       "<style scoped>\n",
       "    .dataframe tbody tr th:only-of-type {\n",
       "        vertical-align: middle;\n",
       "    }\n",
       "\n",
       "    .dataframe tbody tr th {\n",
       "        vertical-align: top;\n",
       "    }\n",
       "\n",
       "    .dataframe thead th {\n",
       "        text-align: right;\n",
       "    }\n",
       "</style>\n",
       "<table border=\"1\" class=\"dataframe\">\n",
       "  <thead>\n",
       "    <tr style=\"text-align: right;\">\n",
       "      <th></th>\n",
       "      <th>C1</th>\n",
       "      <th>C2</th>\n",
       "      <th>C3</th>\n",
       "    </tr>\n",
       "  </thead>\n",
       "  <tbody>\n",
       "    <tr>\n",
       "      <th>R1</th>\n",
       "      <td>6.0</td>\n",
       "      <td>3.0</td>\n",
       "      <td>2.0</td>\n",
       "    </tr>\n",
       "    <tr>\n",
       "      <th>R2</th>\n",
       "      <td>8.0</td>\n",
       "      <td>5.0</td>\n",
       "      <td>9.0</td>\n",
       "    </tr>\n",
       "    <tr>\n",
       "      <th>R3</th>\n",
       "      <td>2.0</td>\n",
       "      <td>0.0</td>\n",
       "      <td>2.0</td>\n",
       "    </tr>\n",
       "    <tr>\n",
       "      <th>R4</th>\n",
       "      <td>9.0</td>\n",
       "      <td>3.0</td>\n",
       "      <td>1.0</td>\n",
       "    </tr>\n",
       "    <tr>\n",
       "      <th>R5</th>\n",
       "      <td>1.0</td>\n",
       "      <td>5.0</td>\n",
       "      <td>7.0</td>\n",
       "    </tr>\n",
       "    <tr>\n",
       "      <th>Col_Mean</th>\n",
       "      <td>5.2</td>\n",
       "      <td>3.2</td>\n",
       "      <td>4.2</td>\n",
       "    </tr>\n",
       "  </tbody>\n",
       "</table>\n",
       "</div>"
      ],
      "text/plain": [
       "           C1   C2   C3\n",
       "R1        6.0  3.0  2.0\n",
       "R2        8.0  5.0  9.0\n",
       "R3        2.0  0.0  2.0\n",
       "R4        9.0  3.0  1.0\n",
       "R5        1.0  5.0  7.0\n",
       "Col_Mean  5.2  3.2  4.2"
      ]
     },
     "execution_count": 186,
     "metadata": {},
     "output_type": "execute_result"
    }
   ],
   "source": [
    "df.drop('Row_Mean', axis=1)"
   ]
  },
  {
   "cell_type": "code",
   "execution_count": 187,
   "metadata": {
    "colab": {
     "base_uri": "https://localhost:8080/",
     "height": 300
    },
    "colab_type": "code",
    "executionInfo": {
     "elapsed": 4684,
     "status": "ok",
     "timestamp": 1593662707202,
     "user": {
      "displayName": "Badal Kumar",
      "photoUrl": "https://lh3.googleusercontent.com/a-/AOh14Gg69uFQqBleXWW3oFZptK1CE2CMTy5m7PluKD5Z=s64",
      "userId": "09235070521043135989"
     },
     "user_tz": -330
    },
    "id": "N6cQLMaawjcU",
    "outputId": "750d3fff-3642-4a78-ee8f-1871faaad6f9"
   },
   "outputs": [
    {
     "data": {
      "text/html": [
       "<div>\n",
       "<style scoped>\n",
       "    .dataframe tbody tr th:only-of-type {\n",
       "        vertical-align: middle;\n",
       "    }\n",
       "\n",
       "    .dataframe tbody tr th {\n",
       "        vertical-align: top;\n",
       "    }\n",
       "\n",
       "    .dataframe thead th {\n",
       "        text-align: right;\n",
       "    }\n",
       "</style>\n",
       "<table border=\"1\" class=\"dataframe\">\n",
       "  <thead>\n",
       "    <tr style=\"text-align: right;\">\n",
       "      <th></th>\n",
       "      <th>C1</th>\n",
       "      <th>C2</th>\n",
       "      <th>C3</th>\n",
       "      <th>Row_Mean</th>\n",
       "    </tr>\n",
       "  </thead>\n",
       "  <tbody>\n",
       "    <tr>\n",
       "      <th>count</th>\n",
       "      <td>6.000000</td>\n",
       "      <td>6.00000</td>\n",
       "      <td>6.000000</td>\n",
       "      <td>6.000000</td>\n",
       "    </tr>\n",
       "    <tr>\n",
       "      <th>mean</th>\n",
       "      <td>5.200000</td>\n",
       "      <td>3.20000</td>\n",
       "      <td>4.200000</td>\n",
       "      <td>4.200000</td>\n",
       "    </tr>\n",
       "    <tr>\n",
       "      <th>std</th>\n",
       "      <td>3.187475</td>\n",
       "      <td>1.83303</td>\n",
       "      <td>3.187475</td>\n",
       "      <td>1.916014</td>\n",
       "    </tr>\n",
       "    <tr>\n",
       "      <th>min</th>\n",
       "      <td>1.000000</td>\n",
       "      <td>0.00000</td>\n",
       "      <td>1.000000</td>\n",
       "      <td>1.333333</td>\n",
       "    </tr>\n",
       "    <tr>\n",
       "      <th>25%</th>\n",
       "      <td>2.800000</td>\n",
       "      <td>3.00000</td>\n",
       "      <td>2.000000</td>\n",
       "      <td>3.800000</td>\n",
       "    </tr>\n",
       "    <tr>\n",
       "      <th>50%</th>\n",
       "      <td>5.600000</td>\n",
       "      <td>3.10000</td>\n",
       "      <td>3.100000</td>\n",
       "      <td>4.266667</td>\n",
       "    </tr>\n",
       "    <tr>\n",
       "      <th>75%</th>\n",
       "      <td>7.500000</td>\n",
       "      <td>4.55000</td>\n",
       "      <td>6.300000</td>\n",
       "      <td>4.333333</td>\n",
       "    </tr>\n",
       "    <tr>\n",
       "      <th>max</th>\n",
       "      <td>9.000000</td>\n",
       "      <td>5.00000</td>\n",
       "      <td>9.000000</td>\n",
       "      <td>7.333333</td>\n",
       "    </tr>\n",
       "  </tbody>\n",
       "</table>\n",
       "</div>"
      ],
      "text/plain": [
       "             C1       C2        C3  Row_Mean\n",
       "count  6.000000  6.00000  6.000000  6.000000\n",
       "mean   5.200000  3.20000  4.200000  4.200000\n",
       "std    3.187475  1.83303  3.187475  1.916014\n",
       "min    1.000000  0.00000  1.000000  1.333333\n",
       "25%    2.800000  3.00000  2.000000  3.800000\n",
       "50%    5.600000  3.10000  3.100000  4.266667\n",
       "75%    7.500000  4.55000  6.300000  4.333333\n",
       "max    9.000000  5.00000  9.000000  7.333333"
      ]
     },
     "execution_count": 187,
     "metadata": {},
     "output_type": "execute_result"
    }
   ],
   "source": [
    "df.describe()"
   ]
  },
  {
   "cell_type": "code",
   "execution_count": 188,
   "metadata": {
    "colab": {},
    "colab_type": "code",
    "id": "iC9GvrIawn6l"
   },
   "outputs": [],
   "source": [
    "mass = pd.Series([0.33, 4.87, 5.97, 0.642, 1898, 568, 86.8, 102, 0.0146],\n",
    "        index=['Mercury','Venus','Earth','Mars','Jupiter','Saturn','Uranus','Neptune', 'Pluto'])\n",
    "diameter = pd.Series([4879, 12104, 12756, 3475, 6792, 142984, 120536, 51118, 49528, 2370],\n",
    "                     index=['Mercury','Venus','Earth','Moon','Mars','Jupiter','Saturn','Uranus','Neptune','Pluto'])\n"
   ]
  },
  {
   "cell_type": "code",
   "execution_count": 189,
   "metadata": {
    "colab": {},
    "colab_type": "code",
    "id": "fEDh51vawprG"
   },
   "outputs": [],
   "source": [
    "planets = pd.DataFrame({'Mass': mass, 'Diameter':diameter})"
   ]
  },
  {
   "cell_type": "code",
   "execution_count": 190,
   "metadata": {
    "colab": {
     "base_uri": "https://localhost:8080/",
     "height": 300
    },
    "colab_type": "code",
    "executionInfo": {
     "elapsed": 4671,
     "status": "ok",
     "timestamp": 1593662707204,
     "user": {
      "displayName": "Badal Kumar",
      "photoUrl": "https://lh3.googleusercontent.com/a-/AOh14Gg69uFQqBleXWW3oFZptK1CE2CMTy5m7PluKD5Z=s64",
      "userId": "09235070521043135989"
     },
     "user_tz": -330
    },
    "id": "W7Q96lA8xT5W",
    "outputId": "3436d7a6-b198-4551-9361-79c91e03647b"
   },
   "outputs": [
    {
     "data": {
      "text/html": [
       "<div>\n",
       "<style scoped>\n",
       "    .dataframe tbody tr th:only-of-type {\n",
       "        vertical-align: middle;\n",
       "    }\n",
       "\n",
       "    .dataframe tbody tr th {\n",
       "        vertical-align: top;\n",
       "    }\n",
       "\n",
       "    .dataframe thead th {\n",
       "        text-align: right;\n",
       "    }\n",
       "</style>\n",
       "<table border=\"1\" class=\"dataframe\">\n",
       "  <thead>\n",
       "    <tr style=\"text-align: right;\">\n",
       "      <th></th>\n",
       "      <th>Mass</th>\n",
       "      <th>Diameter</th>\n",
       "    </tr>\n",
       "  </thead>\n",
       "  <tbody>\n",
       "    <tr>\n",
       "      <th>count</th>\n",
       "      <td>9.000000</td>\n",
       "      <td>10.00000</td>\n",
       "    </tr>\n",
       "    <tr>\n",
       "      <th>mean</th>\n",
       "      <td>296.291844</td>\n",
       "      <td>40654.20000</td>\n",
       "    </tr>\n",
       "    <tr>\n",
       "      <th>std</th>\n",
       "      <td>627.786429</td>\n",
       "      <td>51541.39142</td>\n",
       "    </tr>\n",
       "    <tr>\n",
       "      <th>min</th>\n",
       "      <td>0.014600</td>\n",
       "      <td>2370.00000</td>\n",
       "    </tr>\n",
       "    <tr>\n",
       "      <th>25%</th>\n",
       "      <td>0.642000</td>\n",
       "      <td>5357.25000</td>\n",
       "    </tr>\n",
       "    <tr>\n",
       "      <th>50%</th>\n",
       "      <td>5.970000</td>\n",
       "      <td>12430.00000</td>\n",
       "    </tr>\n",
       "    <tr>\n",
       "      <th>75%</th>\n",
       "      <td>102.000000</td>\n",
       "      <td>50720.50000</td>\n",
       "    </tr>\n",
       "    <tr>\n",
       "      <th>max</th>\n",
       "      <td>1898.000000</td>\n",
       "      <td>142984.00000</td>\n",
       "    </tr>\n",
       "  </tbody>\n",
       "</table>\n",
       "</div>"
      ],
      "text/plain": [
       "              Mass      Diameter\n",
       "count     9.000000      10.00000\n",
       "mean    296.291844   40654.20000\n",
       "std     627.786429   51541.39142\n",
       "min       0.014600    2370.00000\n",
       "25%       0.642000    5357.25000\n",
       "50%       5.970000   12430.00000\n",
       "75%     102.000000   50720.50000\n",
       "max    1898.000000  142984.00000"
      ]
     },
     "execution_count": 190,
     "metadata": {},
     "output_type": "execute_result"
    }
   ],
   "source": [
    "planets.describe()"
   ]
  },
  {
   "cell_type": "markdown",
   "metadata": {
    "colab_type": "text",
    "id": "xKnMmZFly1JO"
   },
   "source": [
    "**Planets Dataset**"
   ]
  },
  {
   "cell_type": "code",
   "execution_count": 191,
   "metadata": {
    "colab": {
     "base_uri": "https://localhost:8080/",
     "height": 77
    },
    "colab_type": "code",
    "executionInfo": {
     "elapsed": 4665,
     "status": "ok",
     "timestamp": 1593662707205,
     "user": {
      "displayName": "Badal Kumar",
      "photoUrl": "https://lh3.googleusercontent.com/a-/AOh14Gg69uFQqBleXWW3oFZptK1CE2CMTy5m7PluKD5Z=s64",
      "userId": "09235070521043135989"
     },
     "user_tz": -330
    },
    "id": "Jc4bWtlaxpMG",
    "outputId": "a53ae689-89cb-4ea7-d961-b8c29f8f3e88"
   },
   "outputs": [],
   "source": [
    "import seaborn as sns"
   ]
  },
  {
   "cell_type": "code",
   "execution_count": 192,
   "metadata": {
    "colab": {},
    "colab_type": "code",
    "id": "aTO41Gq3yC5T"
   },
   "outputs": [],
   "source": [
    "df = sns.load_dataset('planets')"
   ]
  },
  {
   "cell_type": "code",
   "execution_count": 193,
   "metadata": {
    "colab": {
     "base_uri": "https://localhost:8080/",
     "height": 275
    },
    "colab_type": "code",
    "executionInfo": {
     "elapsed": 1277,
     "status": "ok",
     "timestamp": 1593664299561,
     "user": {
      "displayName": "Badal Kumar",
      "photoUrl": "https://lh3.googleusercontent.com/a-/AOh14Gg69uFQqBleXWW3oFZptK1CE2CMTy5m7PluKD5Z=s64",
      "userId": "09235070521043135989"
     },
     "user_tz": -330
    },
    "id": "9lt31Tdgyhbu",
    "outputId": "12c0404b-cbd2-4ed7-d449-b1122c5302ee"
   },
   "outputs": [
    {
     "name": "stdout",
     "output_type": "stream",
     "text": [
      "<class 'pandas.core.frame.DataFrame'>\n",
      "RangeIndex: 1035 entries, 0 to 1034\n",
      "Data columns (total 6 columns):\n",
      "method            1035 non-null object\n",
      "number            1035 non-null int64\n",
      "orbital_period    992 non-null float64\n",
      "mass              513 non-null float64\n",
      "distance          808 non-null float64\n",
      "year              1035 non-null int64\n",
      "dtypes: float64(3), int64(2), object(1)\n",
      "memory usage: 48.6+ KB\n"
     ]
    }
   ],
   "source": [
    "df.info()"
   ]
  },
  {
   "cell_type": "code",
   "execution_count": 194,
   "metadata": {
    "colab": {
     "base_uri": "https://localhost:8080/",
     "height": 206
    },
    "colab_type": "code",
    "executionInfo": {
     "elapsed": 4649,
     "status": "ok",
     "timestamp": 1593662707207,
     "user": {
      "displayName": "Badal Kumar",
      "photoUrl": "https://lh3.googleusercontent.com/a-/AOh14Gg69uFQqBleXWW3oFZptK1CE2CMTy5m7PluKD5Z=s64",
      "userId": "09235070521043135989"
     },
     "user_tz": -330
    },
    "id": "KRjHn8R5ynsn",
    "outputId": "34f541aa-704f-4c39-9e3b-7dce74104566"
   },
   "outputs": [
    {
     "data": {
      "text/html": [
       "<div>\n",
       "<style scoped>\n",
       "    .dataframe tbody tr th:only-of-type {\n",
       "        vertical-align: middle;\n",
       "    }\n",
       "\n",
       "    .dataframe tbody tr th {\n",
       "        vertical-align: top;\n",
       "    }\n",
       "\n",
       "    .dataframe thead th {\n",
       "        text-align: right;\n",
       "    }\n",
       "</style>\n",
       "<table border=\"1\" class=\"dataframe\">\n",
       "  <thead>\n",
       "    <tr style=\"text-align: right;\">\n",
       "      <th></th>\n",
       "      <th>method</th>\n",
       "      <th>number</th>\n",
       "      <th>orbital_period</th>\n",
       "      <th>mass</th>\n",
       "      <th>distance</th>\n",
       "      <th>year</th>\n",
       "    </tr>\n",
       "  </thead>\n",
       "  <tbody>\n",
       "    <tr>\n",
       "      <th>0</th>\n",
       "      <td>Radial Velocity</td>\n",
       "      <td>1</td>\n",
       "      <td>269.300</td>\n",
       "      <td>7.10</td>\n",
       "      <td>77.40</td>\n",
       "      <td>2006</td>\n",
       "    </tr>\n",
       "    <tr>\n",
       "      <th>1</th>\n",
       "      <td>Radial Velocity</td>\n",
       "      <td>1</td>\n",
       "      <td>874.774</td>\n",
       "      <td>2.21</td>\n",
       "      <td>56.95</td>\n",
       "      <td>2008</td>\n",
       "    </tr>\n",
       "    <tr>\n",
       "      <th>2</th>\n",
       "      <td>Radial Velocity</td>\n",
       "      <td>1</td>\n",
       "      <td>763.000</td>\n",
       "      <td>2.60</td>\n",
       "      <td>19.84</td>\n",
       "      <td>2011</td>\n",
       "    </tr>\n",
       "    <tr>\n",
       "      <th>3</th>\n",
       "      <td>Radial Velocity</td>\n",
       "      <td>1</td>\n",
       "      <td>326.030</td>\n",
       "      <td>19.40</td>\n",
       "      <td>110.62</td>\n",
       "      <td>2007</td>\n",
       "    </tr>\n",
       "    <tr>\n",
       "      <th>4</th>\n",
       "      <td>Radial Velocity</td>\n",
       "      <td>1</td>\n",
       "      <td>516.220</td>\n",
       "      <td>10.50</td>\n",
       "      <td>119.47</td>\n",
       "      <td>2009</td>\n",
       "    </tr>\n",
       "  </tbody>\n",
       "</table>\n",
       "</div>"
      ],
      "text/plain": [
       "            method  number  orbital_period   mass  distance  year\n",
       "0  Radial Velocity       1         269.300   7.10     77.40  2006\n",
       "1  Radial Velocity       1         874.774   2.21     56.95  2008\n",
       "2  Radial Velocity       1         763.000   2.60     19.84  2011\n",
       "3  Radial Velocity       1         326.030  19.40    110.62  2007\n",
       "4  Radial Velocity       1         516.220  10.50    119.47  2009"
      ]
     },
     "execution_count": 194,
     "metadata": {},
     "output_type": "execute_result"
    }
   ],
   "source": [
    "df.head()"
   ]
  },
  {
   "cell_type": "code",
   "execution_count": 195,
   "metadata": {
    "colab": {
     "base_uri": "https://localhost:8080/",
     "height": 206
    },
    "colab_type": "code",
    "executionInfo": {
     "elapsed": 4641,
     "status": "ok",
     "timestamp": 1593662707207,
     "user": {
      "displayName": "Badal Kumar",
      "photoUrl": "https://lh3.googleusercontent.com/a-/AOh14Gg69uFQqBleXWW3oFZptK1CE2CMTy5m7PluKD5Z=s64",
      "userId": "09235070521043135989"
     },
     "user_tz": -330
    },
    "id": "Im-JqlNGzRJN",
    "outputId": "4ef72a82-5c2c-4538-c2d9-c47969575d1d"
   },
   "outputs": [
    {
     "data": {
      "text/html": [
       "<div>\n",
       "<style scoped>\n",
       "    .dataframe tbody tr th:only-of-type {\n",
       "        vertical-align: middle;\n",
       "    }\n",
       "\n",
       "    .dataframe tbody tr th {\n",
       "        vertical-align: top;\n",
       "    }\n",
       "\n",
       "    .dataframe thead th {\n",
       "        text-align: right;\n",
       "    }\n",
       "</style>\n",
       "<table border=\"1\" class=\"dataframe\">\n",
       "  <thead>\n",
       "    <tr style=\"text-align: right;\">\n",
       "      <th></th>\n",
       "      <th>method</th>\n",
       "      <th>number</th>\n",
       "      <th>orbital_period</th>\n",
       "      <th>mass</th>\n",
       "      <th>distance</th>\n",
       "      <th>year</th>\n",
       "    </tr>\n",
       "  </thead>\n",
       "  <tbody>\n",
       "    <tr>\n",
       "      <th>1030</th>\n",
       "      <td>Transit</td>\n",
       "      <td>1</td>\n",
       "      <td>3.941507</td>\n",
       "      <td>NaN</td>\n",
       "      <td>172.0</td>\n",
       "      <td>2006</td>\n",
       "    </tr>\n",
       "    <tr>\n",
       "      <th>1031</th>\n",
       "      <td>Transit</td>\n",
       "      <td>1</td>\n",
       "      <td>2.615864</td>\n",
       "      <td>NaN</td>\n",
       "      <td>148.0</td>\n",
       "      <td>2007</td>\n",
       "    </tr>\n",
       "    <tr>\n",
       "      <th>1032</th>\n",
       "      <td>Transit</td>\n",
       "      <td>1</td>\n",
       "      <td>3.191524</td>\n",
       "      <td>NaN</td>\n",
       "      <td>174.0</td>\n",
       "      <td>2007</td>\n",
       "    </tr>\n",
       "    <tr>\n",
       "      <th>1033</th>\n",
       "      <td>Transit</td>\n",
       "      <td>1</td>\n",
       "      <td>4.125083</td>\n",
       "      <td>NaN</td>\n",
       "      <td>293.0</td>\n",
       "      <td>2008</td>\n",
       "    </tr>\n",
       "    <tr>\n",
       "      <th>1034</th>\n",
       "      <td>Transit</td>\n",
       "      <td>1</td>\n",
       "      <td>4.187757</td>\n",
       "      <td>NaN</td>\n",
       "      <td>260.0</td>\n",
       "      <td>2008</td>\n",
       "    </tr>\n",
       "  </tbody>\n",
       "</table>\n",
       "</div>"
      ],
      "text/plain": [
       "       method  number  orbital_period  mass  distance  year\n",
       "1030  Transit       1        3.941507   NaN     172.0  2006\n",
       "1031  Transit       1        2.615864   NaN     148.0  2007\n",
       "1032  Transit       1        3.191524   NaN     174.0  2007\n",
       "1033  Transit       1        4.125083   NaN     293.0  2008\n",
       "1034  Transit       1        4.187757   NaN     260.0  2008"
      ]
     },
     "execution_count": 195,
     "metadata": {},
     "output_type": "execute_result"
    }
   ],
   "source": [
    "df.tail()"
   ]
  },
  {
   "cell_type": "code",
   "execution_count": 196,
   "metadata": {
    "colab": {
     "base_uri": "https://localhost:8080/",
     "height": 300
    },
    "colab_type": "code",
    "executionInfo": {
     "elapsed": 4636,
     "status": "ok",
     "timestamp": 1593662707208,
     "user": {
      "displayName": "Badal Kumar",
      "photoUrl": "https://lh3.googleusercontent.com/a-/AOh14Gg69uFQqBleXWW3oFZptK1CE2CMTy5m7PluKD5Z=s64",
      "userId": "09235070521043135989"
     },
     "user_tz": -330
    },
    "id": "HWtLeAckzXGL",
    "outputId": "737403e9-ca9b-477d-e7d9-2dc8b9b44843"
   },
   "outputs": [
    {
     "data": {
      "text/html": [
       "<div>\n",
       "<style scoped>\n",
       "    .dataframe tbody tr th:only-of-type {\n",
       "        vertical-align: middle;\n",
       "    }\n",
       "\n",
       "    .dataframe tbody tr th {\n",
       "        vertical-align: top;\n",
       "    }\n",
       "\n",
       "    .dataframe thead th {\n",
       "        text-align: right;\n",
       "    }\n",
       "</style>\n",
       "<table border=\"1\" class=\"dataframe\">\n",
       "  <thead>\n",
       "    <tr style=\"text-align: right;\">\n",
       "      <th></th>\n",
       "      <th>number</th>\n",
       "      <th>orbital_period</th>\n",
       "      <th>mass</th>\n",
       "      <th>distance</th>\n",
       "      <th>year</th>\n",
       "    </tr>\n",
       "  </thead>\n",
       "  <tbody>\n",
       "    <tr>\n",
       "      <th>count</th>\n",
       "      <td>1035.000000</td>\n",
       "      <td>992.000000</td>\n",
       "      <td>513.000000</td>\n",
       "      <td>808.000000</td>\n",
       "      <td>1035.000000</td>\n",
       "    </tr>\n",
       "    <tr>\n",
       "      <th>mean</th>\n",
       "      <td>1.785507</td>\n",
       "      <td>2002.917596</td>\n",
       "      <td>2.638161</td>\n",
       "      <td>264.069282</td>\n",
       "      <td>2009.070531</td>\n",
       "    </tr>\n",
       "    <tr>\n",
       "      <th>std</th>\n",
       "      <td>1.240976</td>\n",
       "      <td>26014.728304</td>\n",
       "      <td>3.818617</td>\n",
       "      <td>733.116493</td>\n",
       "      <td>3.972567</td>\n",
       "    </tr>\n",
       "    <tr>\n",
       "      <th>min</th>\n",
       "      <td>1.000000</td>\n",
       "      <td>0.090706</td>\n",
       "      <td>0.003600</td>\n",
       "      <td>1.350000</td>\n",
       "      <td>1989.000000</td>\n",
       "    </tr>\n",
       "    <tr>\n",
       "      <th>25%</th>\n",
       "      <td>1.000000</td>\n",
       "      <td>5.442540</td>\n",
       "      <td>0.229000</td>\n",
       "      <td>32.560000</td>\n",
       "      <td>2007.000000</td>\n",
       "    </tr>\n",
       "    <tr>\n",
       "      <th>50%</th>\n",
       "      <td>1.000000</td>\n",
       "      <td>39.979500</td>\n",
       "      <td>1.260000</td>\n",
       "      <td>55.250000</td>\n",
       "      <td>2010.000000</td>\n",
       "    </tr>\n",
       "    <tr>\n",
       "      <th>75%</th>\n",
       "      <td>2.000000</td>\n",
       "      <td>526.005000</td>\n",
       "      <td>3.040000</td>\n",
       "      <td>178.500000</td>\n",
       "      <td>2012.000000</td>\n",
       "    </tr>\n",
       "    <tr>\n",
       "      <th>max</th>\n",
       "      <td>7.000000</td>\n",
       "      <td>730000.000000</td>\n",
       "      <td>25.000000</td>\n",
       "      <td>8500.000000</td>\n",
       "      <td>2014.000000</td>\n",
       "    </tr>\n",
       "  </tbody>\n",
       "</table>\n",
       "</div>"
      ],
      "text/plain": [
       "            number  orbital_period        mass     distance         year\n",
       "count  1035.000000      992.000000  513.000000   808.000000  1035.000000\n",
       "mean      1.785507     2002.917596    2.638161   264.069282  2009.070531\n",
       "std       1.240976    26014.728304    3.818617   733.116493     3.972567\n",
       "min       1.000000        0.090706    0.003600     1.350000  1989.000000\n",
       "25%       1.000000        5.442540    0.229000    32.560000  2007.000000\n",
       "50%       1.000000       39.979500    1.260000    55.250000  2010.000000\n",
       "75%       2.000000      526.005000    3.040000   178.500000  2012.000000\n",
       "max       7.000000   730000.000000   25.000000  8500.000000  2014.000000"
      ]
     },
     "execution_count": 196,
     "metadata": {},
     "output_type": "execute_result"
    }
   ],
   "source": [
    "df.describe()"
   ]
  },
  {
   "cell_type": "markdown",
   "metadata": {
    "colab_type": "text",
    "id": "jHKuKKf5uZoK"
   },
   "source": [
    "Go through each row of the dataframe and delete it(drop) if any of the columns is null"
   ]
  },
  {
   "cell_type": "code",
   "execution_count": 197,
   "metadata": {
    "colab": {},
    "colab_type": "code",
    "id": "tjzz9HGjzdLb"
   },
   "outputs": [],
   "source": [
    "for r in df.index:\n",
    "    for c in df.columns:\n",
    "        if pd.isnull(df.loc[r, c]):\n",
    "            df.drop(r, inplace=True)\n",
    "            break"
   ]
  },
  {
   "cell_type": "code",
   "execution_count": 198,
   "metadata": {
    "colab": {
     "base_uri": "https://localhost:8080/",
     "height": 300
    },
    "colab_type": "code",
    "executionInfo": {
     "elapsed": 1384,
     "status": "ok",
     "timestamp": 1593663648141,
     "user": {
      "displayName": "Badal Kumar",
      "photoUrl": "https://lh3.googleusercontent.com/a-/AOh14Gg69uFQqBleXWW3oFZptK1CE2CMTy5m7PluKD5Z=s64",
      "userId": "09235070521043135989"
     },
     "user_tz": -330
    },
    "id": "0U1otbNowUdL",
    "outputId": "da7303bf-a399-45e7-b8c9-490fe0a569d8"
   },
   "outputs": [
    {
     "data": {
      "text/html": [
       "<div>\n",
       "<style scoped>\n",
       "    .dataframe tbody tr th:only-of-type {\n",
       "        vertical-align: middle;\n",
       "    }\n",
       "\n",
       "    .dataframe tbody tr th {\n",
       "        vertical-align: top;\n",
       "    }\n",
       "\n",
       "    .dataframe thead th {\n",
       "        text-align: right;\n",
       "    }\n",
       "</style>\n",
       "<table border=\"1\" class=\"dataframe\">\n",
       "  <thead>\n",
       "    <tr style=\"text-align: right;\">\n",
       "      <th></th>\n",
       "      <th>number</th>\n",
       "      <th>orbital_period</th>\n",
       "      <th>mass</th>\n",
       "      <th>distance</th>\n",
       "      <th>year</th>\n",
       "    </tr>\n",
       "  </thead>\n",
       "  <tbody>\n",
       "    <tr>\n",
       "      <th>count</th>\n",
       "      <td>498.00000</td>\n",
       "      <td>498.000000</td>\n",
       "      <td>498.000000</td>\n",
       "      <td>498.000000</td>\n",
       "      <td>498.000000</td>\n",
       "    </tr>\n",
       "    <tr>\n",
       "      <th>mean</th>\n",
       "      <td>1.73494</td>\n",
       "      <td>835.778671</td>\n",
       "      <td>2.509320</td>\n",
       "      <td>52.068213</td>\n",
       "      <td>2007.377510</td>\n",
       "    </tr>\n",
       "    <tr>\n",
       "      <th>std</th>\n",
       "      <td>1.17572</td>\n",
       "      <td>1469.128259</td>\n",
       "      <td>3.636274</td>\n",
       "      <td>46.596041</td>\n",
       "      <td>4.167284</td>\n",
       "    </tr>\n",
       "    <tr>\n",
       "      <th>min</th>\n",
       "      <td>1.00000</td>\n",
       "      <td>1.328300</td>\n",
       "      <td>0.003600</td>\n",
       "      <td>1.350000</td>\n",
       "      <td>1989.000000</td>\n",
       "    </tr>\n",
       "    <tr>\n",
       "      <th>25%</th>\n",
       "      <td>1.00000</td>\n",
       "      <td>38.272250</td>\n",
       "      <td>0.212500</td>\n",
       "      <td>24.497500</td>\n",
       "      <td>2005.000000</td>\n",
       "    </tr>\n",
       "    <tr>\n",
       "      <th>50%</th>\n",
       "      <td>1.00000</td>\n",
       "      <td>357.000000</td>\n",
       "      <td>1.245000</td>\n",
       "      <td>39.940000</td>\n",
       "      <td>2009.000000</td>\n",
       "    </tr>\n",
       "    <tr>\n",
       "      <th>75%</th>\n",
       "      <td>2.00000</td>\n",
       "      <td>999.600000</td>\n",
       "      <td>2.867500</td>\n",
       "      <td>59.332500</td>\n",
       "      <td>2011.000000</td>\n",
       "    </tr>\n",
       "    <tr>\n",
       "      <th>max</th>\n",
       "      <td>6.00000</td>\n",
       "      <td>17337.500000</td>\n",
       "      <td>25.000000</td>\n",
       "      <td>354.000000</td>\n",
       "      <td>2014.000000</td>\n",
       "    </tr>\n",
       "  </tbody>\n",
       "</table>\n",
       "</div>"
      ],
      "text/plain": [
       "          number  orbital_period        mass    distance         year\n",
       "count  498.00000      498.000000  498.000000  498.000000   498.000000\n",
       "mean     1.73494      835.778671    2.509320   52.068213  2007.377510\n",
       "std      1.17572     1469.128259    3.636274   46.596041     4.167284\n",
       "min      1.00000        1.328300    0.003600    1.350000  1989.000000\n",
       "25%      1.00000       38.272250    0.212500   24.497500  2005.000000\n",
       "50%      1.00000      357.000000    1.245000   39.940000  2009.000000\n",
       "75%      2.00000      999.600000    2.867500   59.332500  2011.000000\n",
       "max      6.00000    17337.500000   25.000000  354.000000  2014.000000"
      ]
     },
     "execution_count": 198,
     "metadata": {},
     "output_type": "execute_result"
    }
   ],
   "source": [
    "df.describe()"
   ]
  },
  {
   "cell_type": "code",
   "execution_count": 199,
   "metadata": {
    "colab": {
     "base_uri": "https://localhost:8080/",
     "height": 176
    },
    "colab_type": "code",
    "executionInfo": {
     "elapsed": 1704,
     "status": "ok",
     "timestamp": 1593664131713,
     "user": {
      "displayName": "Badal Kumar",
      "photoUrl": "https://lh3.googleusercontent.com/a-/AOh14Gg69uFQqBleXWW3oFZptK1CE2CMTy5m7PluKD5Z=s64",
      "userId": "09235070521043135989"
     },
     "user_tz": -330
    },
    "id": "Xrm47skpwWut",
    "outputId": "9adab1c4-debd-4318-cbb4-1c7c34051f30"
   },
   "outputs": [
    {
     "name": "stdout",
     "output_type": "stream",
     "text": [
      "0\n",
      "method            Radial Velocity\n",
      "number                          1\n",
      "orbital_period              269.3\n",
      "mass                          7.1\n",
      "distance                     77.4\n",
      "year                         2006\n",
      "Name: 0, dtype: object\n"
     ]
    }
   ],
   "source": [
    "for i, r in df.iterrows():\n",
    "    print(i)\n",
    "    print(r)\n",
    "    break"
   ]
  },
  {
   "cell_type": "code",
   "execution_count": 200,
   "metadata": {
    "colab": {},
    "colab_type": "code",
    "id": "XtGWfrVfyMt4"
   },
   "outputs": [],
   "source": [
    "for i, r in df.iterrows():\n",
    "    if pd.isnull(r).any():\n",
    "        df.drop(i, inplace=True)\n",
    "        break"
   ]
  },
  {
   "cell_type": "code",
   "execution_count": 201,
   "metadata": {
    "colab": {
     "base_uri": "https://localhost:8080/",
     "height": 300
    },
    "colab_type": "code",
    "executionInfo": {
     "elapsed": 844,
     "status": "ok",
     "timestamp": 1593664315127,
     "user": {
      "displayName": "Badal Kumar",
      "photoUrl": "https://lh3.googleusercontent.com/a-/AOh14Gg69uFQqBleXWW3oFZptK1CE2CMTy5m7PluKD5Z=s64",
      "userId": "09235070521043135989"
     },
     "user_tz": -330
    },
    "id": "QfuGtvOjyY5j",
    "outputId": "01f4bb20-ebee-4845-986b-c9f115b314d7"
   },
   "outputs": [
    {
     "data": {
      "text/html": [
       "<div>\n",
       "<style scoped>\n",
       "    .dataframe tbody tr th:only-of-type {\n",
       "        vertical-align: middle;\n",
       "    }\n",
       "\n",
       "    .dataframe tbody tr th {\n",
       "        vertical-align: top;\n",
       "    }\n",
       "\n",
       "    .dataframe thead th {\n",
       "        text-align: right;\n",
       "    }\n",
       "</style>\n",
       "<table border=\"1\" class=\"dataframe\">\n",
       "  <thead>\n",
       "    <tr style=\"text-align: right;\">\n",
       "      <th></th>\n",
       "      <th>number</th>\n",
       "      <th>orbital_period</th>\n",
       "      <th>mass</th>\n",
       "      <th>distance</th>\n",
       "      <th>year</th>\n",
       "    </tr>\n",
       "  </thead>\n",
       "  <tbody>\n",
       "    <tr>\n",
       "      <th>count</th>\n",
       "      <td>498.00000</td>\n",
       "      <td>498.000000</td>\n",
       "      <td>498.000000</td>\n",
       "      <td>498.000000</td>\n",
       "      <td>498.000000</td>\n",
       "    </tr>\n",
       "    <tr>\n",
       "      <th>mean</th>\n",
       "      <td>1.73494</td>\n",
       "      <td>835.778671</td>\n",
       "      <td>2.509320</td>\n",
       "      <td>52.068213</td>\n",
       "      <td>2007.377510</td>\n",
       "    </tr>\n",
       "    <tr>\n",
       "      <th>std</th>\n",
       "      <td>1.17572</td>\n",
       "      <td>1469.128259</td>\n",
       "      <td>3.636274</td>\n",
       "      <td>46.596041</td>\n",
       "      <td>4.167284</td>\n",
       "    </tr>\n",
       "    <tr>\n",
       "      <th>min</th>\n",
       "      <td>1.00000</td>\n",
       "      <td>1.328300</td>\n",
       "      <td>0.003600</td>\n",
       "      <td>1.350000</td>\n",
       "      <td>1989.000000</td>\n",
       "    </tr>\n",
       "    <tr>\n",
       "      <th>25%</th>\n",
       "      <td>1.00000</td>\n",
       "      <td>38.272250</td>\n",
       "      <td>0.212500</td>\n",
       "      <td>24.497500</td>\n",
       "      <td>2005.000000</td>\n",
       "    </tr>\n",
       "    <tr>\n",
       "      <th>50%</th>\n",
       "      <td>1.00000</td>\n",
       "      <td>357.000000</td>\n",
       "      <td>1.245000</td>\n",
       "      <td>39.940000</td>\n",
       "      <td>2009.000000</td>\n",
       "    </tr>\n",
       "    <tr>\n",
       "      <th>75%</th>\n",
       "      <td>2.00000</td>\n",
       "      <td>999.600000</td>\n",
       "      <td>2.867500</td>\n",
       "      <td>59.332500</td>\n",
       "      <td>2011.000000</td>\n",
       "    </tr>\n",
       "    <tr>\n",
       "      <th>max</th>\n",
       "      <td>6.00000</td>\n",
       "      <td>17337.500000</td>\n",
       "      <td>25.000000</td>\n",
       "      <td>354.000000</td>\n",
       "      <td>2014.000000</td>\n",
       "    </tr>\n",
       "  </tbody>\n",
       "</table>\n",
       "</div>"
      ],
      "text/plain": [
       "          number  orbital_period        mass    distance         year\n",
       "count  498.00000      498.000000  498.000000  498.000000   498.000000\n",
       "mean     1.73494      835.778671    2.509320   52.068213  2007.377510\n",
       "std      1.17572     1469.128259    3.636274   46.596041     4.167284\n",
       "min      1.00000        1.328300    0.003600    1.350000  1989.000000\n",
       "25%      1.00000       38.272250    0.212500   24.497500  2005.000000\n",
       "50%      1.00000      357.000000    1.245000   39.940000  2009.000000\n",
       "75%      2.00000      999.600000    2.867500   59.332500  2011.000000\n",
       "max      6.00000    17337.500000   25.000000  354.000000  2014.000000"
      ]
     },
     "execution_count": 201,
     "metadata": {},
     "output_type": "execute_result"
    }
   ],
   "source": [
    "df.describe()"
   ]
  },
  {
   "cell_type": "code",
   "execution_count": 202,
   "metadata": {
    "colab": {},
    "colab_type": "code",
    "id": "urIFxu5ayv5A"
   },
   "outputs": [],
   "source": [
    "df.dropna(inplace=True)"
   ]
  },
  {
   "cell_type": "code",
   "execution_count": 203,
   "metadata": {
    "colab": {
     "base_uri": "https://localhost:8080/",
     "height": 300
    },
    "colab_type": "code",
    "executionInfo": {
     "elapsed": 1349,
     "status": "ok",
     "timestamp": 1593664408057,
     "user": {
      "displayName": "Badal Kumar",
      "photoUrl": "https://lh3.googleusercontent.com/a-/AOh14Gg69uFQqBleXWW3oFZptK1CE2CMTy5m7PluKD5Z=s64",
      "userId": "09235070521043135989"
     },
     "user_tz": -330
    },
    "id": "JPyWt9y8zLqP",
    "outputId": "a8ff82b5-8f31-46f8-feb0-c3ff17868dc1"
   },
   "outputs": [
    {
     "data": {
      "text/html": [
       "<div>\n",
       "<style scoped>\n",
       "    .dataframe tbody tr th:only-of-type {\n",
       "        vertical-align: middle;\n",
       "    }\n",
       "\n",
       "    .dataframe tbody tr th {\n",
       "        vertical-align: top;\n",
       "    }\n",
       "\n",
       "    .dataframe thead th {\n",
       "        text-align: right;\n",
       "    }\n",
       "</style>\n",
       "<table border=\"1\" class=\"dataframe\">\n",
       "  <thead>\n",
       "    <tr style=\"text-align: right;\">\n",
       "      <th></th>\n",
       "      <th>number</th>\n",
       "      <th>orbital_period</th>\n",
       "      <th>mass</th>\n",
       "      <th>distance</th>\n",
       "      <th>year</th>\n",
       "    </tr>\n",
       "  </thead>\n",
       "  <tbody>\n",
       "    <tr>\n",
       "      <th>count</th>\n",
       "      <td>498.00000</td>\n",
       "      <td>498.000000</td>\n",
       "      <td>498.000000</td>\n",
       "      <td>498.000000</td>\n",
       "      <td>498.000000</td>\n",
       "    </tr>\n",
       "    <tr>\n",
       "      <th>mean</th>\n",
       "      <td>1.73494</td>\n",
       "      <td>835.778671</td>\n",
       "      <td>2.509320</td>\n",
       "      <td>52.068213</td>\n",
       "      <td>2007.377510</td>\n",
       "    </tr>\n",
       "    <tr>\n",
       "      <th>std</th>\n",
       "      <td>1.17572</td>\n",
       "      <td>1469.128259</td>\n",
       "      <td>3.636274</td>\n",
       "      <td>46.596041</td>\n",
       "      <td>4.167284</td>\n",
       "    </tr>\n",
       "    <tr>\n",
       "      <th>min</th>\n",
       "      <td>1.00000</td>\n",
       "      <td>1.328300</td>\n",
       "      <td>0.003600</td>\n",
       "      <td>1.350000</td>\n",
       "      <td>1989.000000</td>\n",
       "    </tr>\n",
       "    <tr>\n",
       "      <th>25%</th>\n",
       "      <td>1.00000</td>\n",
       "      <td>38.272250</td>\n",
       "      <td>0.212500</td>\n",
       "      <td>24.497500</td>\n",
       "      <td>2005.000000</td>\n",
       "    </tr>\n",
       "    <tr>\n",
       "      <th>50%</th>\n",
       "      <td>1.00000</td>\n",
       "      <td>357.000000</td>\n",
       "      <td>1.245000</td>\n",
       "      <td>39.940000</td>\n",
       "      <td>2009.000000</td>\n",
       "    </tr>\n",
       "    <tr>\n",
       "      <th>75%</th>\n",
       "      <td>2.00000</td>\n",
       "      <td>999.600000</td>\n",
       "      <td>2.867500</td>\n",
       "      <td>59.332500</td>\n",
       "      <td>2011.000000</td>\n",
       "    </tr>\n",
       "    <tr>\n",
       "      <th>max</th>\n",
       "      <td>6.00000</td>\n",
       "      <td>17337.500000</td>\n",
       "      <td>25.000000</td>\n",
       "      <td>354.000000</td>\n",
       "      <td>2014.000000</td>\n",
       "    </tr>\n",
       "  </tbody>\n",
       "</table>\n",
       "</div>"
      ],
      "text/plain": [
       "          number  orbital_period        mass    distance         year\n",
       "count  498.00000      498.000000  498.000000  498.000000   498.000000\n",
       "mean     1.73494      835.778671    2.509320   52.068213  2007.377510\n",
       "std      1.17572     1469.128259    3.636274   46.596041     4.167284\n",
       "min      1.00000        1.328300    0.003600    1.350000  1989.000000\n",
       "25%      1.00000       38.272250    0.212500   24.497500  2005.000000\n",
       "50%      1.00000      357.000000    1.245000   39.940000  2009.000000\n",
       "75%      2.00000      999.600000    2.867500   59.332500  2011.000000\n",
       "max      6.00000    17337.500000   25.000000  354.000000  2014.000000"
      ]
     },
     "execution_count": 203,
     "metadata": {},
     "output_type": "execute_result"
    }
   ],
   "source": [
    "df.describe()"
   ]
  },
  {
   "cell_type": "markdown",
   "metadata": {
    "colab_type": "text",
    "id": "iVcgnngNzSPq"
   },
   "source": [
    "Filter and show only those rows which have planets that are found in the 2010s and method is 'Radial Velocity' and 'Transit' and distance is large(> 75 percentile)"
   ]
  },
  {
   "cell_type": "code",
   "execution_count": 204,
   "metadata": {
    "colab": {},
    "colab_type": "code",
    "id": "2iK1LzEYzQQ3"
   },
   "outputs": [],
   "source": [
    "df_ = df.copy()\n",
    "per_75 = df.distance.quantile(0.75)\n",
    "for i,r in df.iterrows():\n",
    "    if r['year']< 2010:\n",
    "        df_.drop(i, inplace=True)\n",
    "        continue\n",
    "    if r['method']!='Radial Velocity' and r['method']!='Transit':\n",
    "        df_.drop(i, inplace=True)\n",
    "        continue\n",
    "    if r['distance']< per_75:\n",
    "        df_.drop(i, inplace=True)\n",
    "        continue"
   ]
  },
  {
   "cell_type": "code",
   "execution_count": 205,
   "metadata": {
    "colab": {
     "base_uri": "https://localhost:8080/",
     "height": 300
    },
    "colab_type": "code",
    "executionInfo": {
     "elapsed": 1216,
     "status": "ok",
     "timestamp": 1593665987469,
     "user": {
      "displayName": "Badal Kumar",
      "photoUrl": "https://lh3.googleusercontent.com/a-/AOh14Gg69uFQqBleXWW3oFZptK1CE2CMTy5m7PluKD5Z=s64",
      "userId": "09235070521043135989"
     },
     "user_tz": -330
    },
    "id": "w0QgoUWC1giA",
    "outputId": "d5195d06-ce10-4802-f2be-bec0cd09d054"
   },
   "outputs": [
    {
     "data": {
      "text/html": [
       "<div>\n",
       "<style scoped>\n",
       "    .dataframe tbody tr th:only-of-type {\n",
       "        vertical-align: middle;\n",
       "    }\n",
       "\n",
       "    .dataframe tbody tr th {\n",
       "        vertical-align: top;\n",
       "    }\n",
       "\n",
       "    .dataframe thead th {\n",
       "        text-align: right;\n",
       "    }\n",
       "</style>\n",
       "<table border=\"1\" class=\"dataframe\">\n",
       "  <thead>\n",
       "    <tr style=\"text-align: right;\">\n",
       "      <th></th>\n",
       "      <th>number</th>\n",
       "      <th>orbital_period</th>\n",
       "      <th>mass</th>\n",
       "      <th>distance</th>\n",
       "      <th>year</th>\n",
       "    </tr>\n",
       "  </thead>\n",
       "  <tbody>\n",
       "    <tr>\n",
       "      <th>count</th>\n",
       "      <td>50.000000</td>\n",
       "      <td>50.000000</td>\n",
       "      <td>50.000000</td>\n",
       "      <td>50.000000</td>\n",
       "      <td>50.000000</td>\n",
       "    </tr>\n",
       "    <tr>\n",
       "      <th>mean</th>\n",
       "      <td>1.300000</td>\n",
       "      <td>763.904808</td>\n",
       "      <td>3.322740</td>\n",
       "      <td>133.142600</td>\n",
       "      <td>2011.360000</td>\n",
       "    </tr>\n",
       "    <tr>\n",
       "      <th>std</th>\n",
       "      <td>0.505076</td>\n",
       "      <td>966.789870</td>\n",
       "      <td>3.648002</td>\n",
       "      <td>70.378699</td>\n",
       "      <td>1.120496</td>\n",
       "    </tr>\n",
       "    <tr>\n",
       "      <th>min</th>\n",
       "      <td>1.000000</td>\n",
       "      <td>2.703390</td>\n",
       "      <td>0.770000</td>\n",
       "      <td>65.620000</td>\n",
       "      <td>2010.000000</td>\n",
       "    </tr>\n",
       "    <tr>\n",
       "      <th>25%</th>\n",
       "      <td>1.000000</td>\n",
       "      <td>255.555000</td>\n",
       "      <td>1.325000</td>\n",
       "      <td>80.205000</td>\n",
       "      <td>2011.000000</td>\n",
       "    </tr>\n",
       "    <tr>\n",
       "      <th>50%</th>\n",
       "      <td>1.000000</td>\n",
       "      <td>550.500000</td>\n",
       "      <td>1.875000</td>\n",
       "      <td>121.070000</td>\n",
       "      <td>2011.000000</td>\n",
       "    </tr>\n",
       "    <tr>\n",
       "      <th>75%</th>\n",
       "      <td>2.000000</td>\n",
       "      <td>873.625000</td>\n",
       "      <td>3.400000</td>\n",
       "      <td>150.097500</td>\n",
       "      <td>2012.000000</td>\n",
       "    </tr>\n",
       "    <tr>\n",
       "      <th>max</th>\n",
       "      <td>3.000000</td>\n",
       "      <td>5584.000000</td>\n",
       "      <td>20.600000</td>\n",
       "      <td>354.000000</td>\n",
       "      <td>2014.000000</td>\n",
       "    </tr>\n",
       "  </tbody>\n",
       "</table>\n",
       "</div>"
      ],
      "text/plain": [
       "          number  orbital_period       mass    distance         year\n",
       "count  50.000000       50.000000  50.000000   50.000000    50.000000\n",
       "mean    1.300000      763.904808   3.322740  133.142600  2011.360000\n",
       "std     0.505076      966.789870   3.648002   70.378699     1.120496\n",
       "min     1.000000        2.703390   0.770000   65.620000  2010.000000\n",
       "25%     1.000000      255.555000   1.325000   80.205000  2011.000000\n",
       "50%     1.000000      550.500000   1.875000  121.070000  2011.000000\n",
       "75%     2.000000      873.625000   3.400000  150.097500  2012.000000\n",
       "max     3.000000     5584.000000  20.600000  354.000000  2014.000000"
      ]
     },
     "execution_count": 205,
     "metadata": {},
     "output_type": "execute_result"
    }
   ],
   "source": [
    "df_.describe()"
   ]
  },
  {
   "cell_type": "code",
   "execution_count": 206,
   "metadata": {
    "colab": {
     "base_uri": "https://localhost:8080/",
     "height": 206
    },
    "colab_type": "code",
    "executionInfo": {
     "elapsed": 1234,
     "status": "ok",
     "timestamp": 1593666012376,
     "user": {
      "displayName": "Badal Kumar",
      "photoUrl": "https://lh3.googleusercontent.com/a-/AOh14Gg69uFQqBleXWW3oFZptK1CE2CMTy5m7PluKD5Z=s64",
      "userId": "09235070521043135989"
     },
     "user_tz": -330
    },
    "id": "zcoFeYQs5B39",
    "outputId": "839633c0-3313-4bed-eeed-8397f9c4ae55"
   },
   "outputs": [
    {
     "data": {
      "text/html": [
       "<div>\n",
       "<style scoped>\n",
       "    .dataframe tbody tr th:only-of-type {\n",
       "        vertical-align: middle;\n",
       "    }\n",
       "\n",
       "    .dataframe tbody tr th {\n",
       "        vertical-align: top;\n",
       "    }\n",
       "\n",
       "    .dataframe thead th {\n",
       "        text-align: right;\n",
       "    }\n",
       "</style>\n",
       "<table border=\"1\" class=\"dataframe\">\n",
       "  <thead>\n",
       "    <tr style=\"text-align: right;\">\n",
       "      <th></th>\n",
       "      <th>method</th>\n",
       "      <th>number</th>\n",
       "      <th>orbital_period</th>\n",
       "      <th>mass</th>\n",
       "      <th>distance</th>\n",
       "      <th>year</th>\n",
       "    </tr>\n",
       "  </thead>\n",
       "  <tbody>\n",
       "    <tr>\n",
       "      <th>9</th>\n",
       "      <td>Radial Velocity</td>\n",
       "      <td>2</td>\n",
       "      <td>452.80</td>\n",
       "      <td>1.99</td>\n",
       "      <td>74.79</td>\n",
       "      <td>2010</td>\n",
       "    </tr>\n",
       "    <tr>\n",
       "      <th>10</th>\n",
       "      <td>Radial Velocity</td>\n",
       "      <td>2</td>\n",
       "      <td>883.00</td>\n",
       "      <td>0.86</td>\n",
       "      <td>74.79</td>\n",
       "      <td>2010</td>\n",
       "    </tr>\n",
       "    <tr>\n",
       "      <th>58</th>\n",
       "      <td>Radial Velocity</td>\n",
       "      <td>1</td>\n",
       "      <td>277.02</td>\n",
       "      <td>1.70</td>\n",
       "      <td>80.64</td>\n",
       "      <td>2013</td>\n",
       "    </tr>\n",
       "    <tr>\n",
       "      <th>63</th>\n",
       "      <td>Radial Velocity</td>\n",
       "      <td>1</td>\n",
       "      <td>305.50</td>\n",
       "      <td>20.60</td>\n",
       "      <td>92.51</td>\n",
       "      <td>2013</td>\n",
       "    </tr>\n",
       "    <tr>\n",
       "      <th>84</th>\n",
       "      <td>Radial Velocity</td>\n",
       "      <td>1</td>\n",
       "      <td>137.48</td>\n",
       "      <td>1.11</td>\n",
       "      <td>175.44</td>\n",
       "      <td>2013</td>\n",
       "    </tr>\n",
       "  </tbody>\n",
       "</table>\n",
       "</div>"
      ],
      "text/plain": [
       "             method  number  orbital_period   mass  distance  year\n",
       "9   Radial Velocity       2          452.80   1.99     74.79  2010\n",
       "10  Radial Velocity       2          883.00   0.86     74.79  2010\n",
       "58  Radial Velocity       1          277.02   1.70     80.64  2013\n",
       "63  Radial Velocity       1          305.50  20.60     92.51  2013\n",
       "84  Radial Velocity       1          137.48   1.11    175.44  2013"
      ]
     },
     "execution_count": 206,
     "metadata": {},
     "output_type": "execute_result"
    }
   ],
   "source": [
    "df_.head()"
   ]
  },
  {
   "cell_type": "code",
   "execution_count": 207,
   "metadata": {
    "colab": {},
    "colab_type": "code",
    "id": "ym3giJep5Xxu"
   },
   "outputs": [],
   "source": [
    "df_ = df.copy()\n",
    "df_ = df_[\n",
    "    (df_['year']>=2010)&\n",
    "    ((df_['method']=='Radial Velocity') | (df_['method']=='Transit'))&\n",
    "    (df_['distance'] > per_75)\n",
    "]"
   ]
  },
  {
   "cell_type": "code",
   "execution_count": 208,
   "metadata": {
    "colab": {
     "base_uri": "https://localhost:8080/",
     "height": 300
    },
    "colab_type": "code",
    "executionInfo": {
     "elapsed": 2405,
     "status": "ok",
     "timestamp": 1593666264590,
     "user": {
      "displayName": "Badal Kumar",
      "photoUrl": "https://lh3.googleusercontent.com/a-/AOh14Gg69uFQqBleXWW3oFZptK1CE2CMTy5m7PluKD5Z=s64",
      "userId": "09235070521043135989"
     },
     "user_tz": -330
    },
    "id": "82xvwUcg6H5_",
    "outputId": "3bf09f65-f063-4a71-ed83-d6ab61d217a9"
   },
   "outputs": [
    {
     "data": {
      "text/html": [
       "<div>\n",
       "<style scoped>\n",
       "    .dataframe tbody tr th:only-of-type {\n",
       "        vertical-align: middle;\n",
       "    }\n",
       "\n",
       "    .dataframe tbody tr th {\n",
       "        vertical-align: top;\n",
       "    }\n",
       "\n",
       "    .dataframe thead th {\n",
       "        text-align: right;\n",
       "    }\n",
       "</style>\n",
       "<table border=\"1\" class=\"dataframe\">\n",
       "  <thead>\n",
       "    <tr style=\"text-align: right;\">\n",
       "      <th></th>\n",
       "      <th>number</th>\n",
       "      <th>orbital_period</th>\n",
       "      <th>mass</th>\n",
       "      <th>distance</th>\n",
       "      <th>year</th>\n",
       "    </tr>\n",
       "  </thead>\n",
       "  <tbody>\n",
       "    <tr>\n",
       "      <th>count</th>\n",
       "      <td>50.000000</td>\n",
       "      <td>50.000000</td>\n",
       "      <td>50.000000</td>\n",
       "      <td>50.000000</td>\n",
       "      <td>50.000000</td>\n",
       "    </tr>\n",
       "    <tr>\n",
       "      <th>mean</th>\n",
       "      <td>1.300000</td>\n",
       "      <td>763.904808</td>\n",
       "      <td>3.322740</td>\n",
       "      <td>133.142600</td>\n",
       "      <td>2011.360000</td>\n",
       "    </tr>\n",
       "    <tr>\n",
       "      <th>std</th>\n",
       "      <td>0.505076</td>\n",
       "      <td>966.789870</td>\n",
       "      <td>3.648002</td>\n",
       "      <td>70.378699</td>\n",
       "      <td>1.120496</td>\n",
       "    </tr>\n",
       "    <tr>\n",
       "      <th>min</th>\n",
       "      <td>1.000000</td>\n",
       "      <td>2.703390</td>\n",
       "      <td>0.770000</td>\n",
       "      <td>65.620000</td>\n",
       "      <td>2010.000000</td>\n",
       "    </tr>\n",
       "    <tr>\n",
       "      <th>25%</th>\n",
       "      <td>1.000000</td>\n",
       "      <td>255.555000</td>\n",
       "      <td>1.325000</td>\n",
       "      <td>80.205000</td>\n",
       "      <td>2011.000000</td>\n",
       "    </tr>\n",
       "    <tr>\n",
       "      <th>50%</th>\n",
       "      <td>1.000000</td>\n",
       "      <td>550.500000</td>\n",
       "      <td>1.875000</td>\n",
       "      <td>121.070000</td>\n",
       "      <td>2011.000000</td>\n",
       "    </tr>\n",
       "    <tr>\n",
       "      <th>75%</th>\n",
       "      <td>2.000000</td>\n",
       "      <td>873.625000</td>\n",
       "      <td>3.400000</td>\n",
       "      <td>150.097500</td>\n",
       "      <td>2012.000000</td>\n",
       "    </tr>\n",
       "    <tr>\n",
       "      <th>max</th>\n",
       "      <td>3.000000</td>\n",
       "      <td>5584.000000</td>\n",
       "      <td>20.600000</td>\n",
       "      <td>354.000000</td>\n",
       "      <td>2014.000000</td>\n",
       "    </tr>\n",
       "  </tbody>\n",
       "</table>\n",
       "</div>"
      ],
      "text/plain": [
       "          number  orbital_period       mass    distance         year\n",
       "count  50.000000       50.000000  50.000000   50.000000    50.000000\n",
       "mean    1.300000      763.904808   3.322740  133.142600  2011.360000\n",
       "std     0.505076      966.789870   3.648002   70.378699     1.120496\n",
       "min     1.000000        2.703390   0.770000   65.620000  2010.000000\n",
       "25%     1.000000      255.555000   1.325000   80.205000  2011.000000\n",
       "50%     1.000000      550.500000   1.875000  121.070000  2011.000000\n",
       "75%     2.000000      873.625000   3.400000  150.097500  2012.000000\n",
       "max     3.000000     5584.000000  20.600000  354.000000  2014.000000"
      ]
     },
     "execution_count": 208,
     "metadata": {},
     "output_type": "execute_result"
    }
   ],
   "source": [
    "df_.describe()"
   ]
  },
  {
   "cell_type": "markdown",
   "metadata": {
    "colab_type": "text",
    "id": "kAmnaHus6igs"
   },
   "source": [
    "Modify the method column to have only the abbreviation of each method"
   ]
  },
  {
   "cell_type": "code",
   "execution_count": 209,
   "metadata": {
    "colab": {
     "base_uri": "https://localhost:8080/",
     "height": 96
    },
    "colab_type": "code",
    "executionInfo": {
     "elapsed": 1493,
     "status": "ok",
     "timestamp": 1593666889897,
     "user": {
      "displayName": "Badal Kumar",
      "photoUrl": "https://lh3.googleusercontent.com/a-/AOh14Gg69uFQqBleXWW3oFZptK1CE2CMTy5m7PluKD5Z=s64",
      "userId": "09235070521043135989"
     },
     "user_tz": -330
    },
    "id": "AXtGynXG8jVT",
    "outputId": "cc79331e-9b1d-46c0-b3e0-a995b6f76c95"
   },
   "outputs": [
    {
     "data": {
      "text/plain": [
       "array(['Radial Velocity', 'Transit'], dtype=object)"
      ]
     },
     "execution_count": 209,
     "metadata": {},
     "output_type": "execute_result"
    }
   ],
   "source": [
    "df.method.unique()"
   ]
  },
  {
   "cell_type": "code",
   "execution_count": 210,
   "metadata": {
    "colab": {},
    "colab_type": "code",
    "id": "w_aQJBnB6SN0"
   },
   "outputs": [],
   "source": [
    "s = 'Radial Velocity'"
   ]
  },
  {
   "cell_type": "code",
   "execution_count": 211,
   "metadata": {
    "colab": {
     "base_uri": "https://localhost:8080/",
     "height": 37
    },
    "colab_type": "code",
    "executionInfo": {
     "elapsed": 1407,
     "status": "ok",
     "timestamp": 1593666986843,
     "user": {
      "displayName": "Badal Kumar",
      "photoUrl": "https://lh3.googleusercontent.com/a-/AOh14Gg69uFQqBleXWW3oFZptK1CE2CMTy5m7PluKD5Z=s64",
      "userId": "09235070521043135989"
     },
     "user_tz": -330
    },
    "id": "8pkdv6k476r4",
    "outputId": "5843f7fd-e105-4483-ce93-3318764da99e"
   },
   "outputs": [
    {
     "data": {
      "text/plain": [
       "'RV'"
      ]
     },
     "execution_count": 211,
     "metadata": {},
     "output_type": "execute_result"
    }
   ],
   "source": [
    "''.join([x[0] for x in s.split(' ')])"
   ]
  },
  {
   "cell_type": "code",
   "execution_count": 212,
   "metadata": {
    "colab": {},
    "colab_type": "code",
    "id": "YQ38Tkfy786W"
   },
   "outputs": [],
   "source": [
    "short_names={}\n",
    "for s in df.method.unique():\n",
    "    short_names[s] = ''.join([x[0] for x in s.split(' ')])"
   ]
  },
  {
   "cell_type": "code",
   "execution_count": 213,
   "metadata": {
    "colab": {
     "base_uri": "https://localhost:8080/",
     "height": 57
    },
    "colab_type": "code",
    "executionInfo": {
     "elapsed": 1117,
     "status": "ok",
     "timestamp": 1593667110000,
     "user": {
      "displayName": "Badal Kumar",
      "photoUrl": "https://lh3.googleusercontent.com/a-/AOh14Gg69uFQqBleXWW3oFZptK1CE2CMTy5m7PluKD5Z=s64",
      "userId": "09235070521043135989"
     },
     "user_tz": -330
    },
    "id": "s-FjsOMX9g3r",
    "outputId": "9393dd4e-2ded-4ce4-ebec-36418b10c3f7"
   },
   "outputs": [
    {
     "name": "stdout",
     "output_type": "stream",
     "text": [
      "{'Radial Velocity': 'RV', 'Transit': 'T'}\n"
     ]
    }
   ],
   "source": [
    "print(short_names)"
   ]
  },
  {
   "cell_type": "code",
   "execution_count": 214,
   "metadata": {
    "colab": {},
    "colab_type": "code",
    "id": "VuPOaMXs9j_D"
   },
   "outputs": [],
   "source": [
    "for i, r in df.iterrows():\n",
    "    df.loc[i, 'short_method'] = short_names.get(r['method'], r['method'])"
   ]
  },
  {
   "cell_type": "code",
   "execution_count": 215,
   "metadata": {
    "colab": {
     "base_uri": "https://localhost:8080/",
     "height": 319
    },
    "colab_type": "code",
    "executionInfo": {
     "elapsed": 1042,
     "status": "ok",
     "timestamp": 1593667361649,
     "user": {
      "displayName": "Badal Kumar",
      "photoUrl": "https://lh3.googleusercontent.com/a-/AOh14Gg69uFQqBleXWW3oFZptK1CE2CMTy5m7PluKD5Z=s64",
      "userId": "09235070521043135989"
     },
     "user_tz": -330
    },
    "id": "Uua-Ij7E-AAT",
    "outputId": "7d7c7a5f-358e-4fde-db67-95f3585e69f9"
   },
   "outputs": [
    {
     "data": {
      "text/html": [
       "<div>\n",
       "<style scoped>\n",
       "    .dataframe tbody tr th:only-of-type {\n",
       "        vertical-align: middle;\n",
       "    }\n",
       "\n",
       "    .dataframe tbody tr th {\n",
       "        vertical-align: top;\n",
       "    }\n",
       "\n",
       "    .dataframe thead th {\n",
       "        text-align: right;\n",
       "    }\n",
       "</style>\n",
       "<table border=\"1\" class=\"dataframe\">\n",
       "  <thead>\n",
       "    <tr style=\"text-align: right;\">\n",
       "      <th></th>\n",
       "      <th>method</th>\n",
       "      <th>number</th>\n",
       "      <th>orbital_period</th>\n",
       "      <th>mass</th>\n",
       "      <th>distance</th>\n",
       "      <th>year</th>\n",
       "      <th>short_method</th>\n",
       "    </tr>\n",
       "  </thead>\n",
       "  <tbody>\n",
       "    <tr>\n",
       "      <th>0</th>\n",
       "      <td>Radial Velocity</td>\n",
       "      <td>1</td>\n",
       "      <td>269.300</td>\n",
       "      <td>7.10</td>\n",
       "      <td>77.40</td>\n",
       "      <td>2006</td>\n",
       "      <td>RV</td>\n",
       "    </tr>\n",
       "    <tr>\n",
       "      <th>1</th>\n",
       "      <td>Radial Velocity</td>\n",
       "      <td>1</td>\n",
       "      <td>874.774</td>\n",
       "      <td>2.21</td>\n",
       "      <td>56.95</td>\n",
       "      <td>2008</td>\n",
       "      <td>RV</td>\n",
       "    </tr>\n",
       "    <tr>\n",
       "      <th>2</th>\n",
       "      <td>Radial Velocity</td>\n",
       "      <td>1</td>\n",
       "      <td>763.000</td>\n",
       "      <td>2.60</td>\n",
       "      <td>19.84</td>\n",
       "      <td>2011</td>\n",
       "      <td>RV</td>\n",
       "    </tr>\n",
       "    <tr>\n",
       "      <th>3</th>\n",
       "      <td>Radial Velocity</td>\n",
       "      <td>1</td>\n",
       "      <td>326.030</td>\n",
       "      <td>19.40</td>\n",
       "      <td>110.62</td>\n",
       "      <td>2007</td>\n",
       "      <td>RV</td>\n",
       "    </tr>\n",
       "    <tr>\n",
       "      <th>4</th>\n",
       "      <td>Radial Velocity</td>\n",
       "      <td>1</td>\n",
       "      <td>516.220</td>\n",
       "      <td>10.50</td>\n",
       "      <td>119.47</td>\n",
       "      <td>2009</td>\n",
       "      <td>RV</td>\n",
       "    </tr>\n",
       "  </tbody>\n",
       "</table>\n",
       "</div>"
      ],
      "text/plain": [
       "            method  number  orbital_period   mass  distance  year short_method\n",
       "0  Radial Velocity       1         269.300   7.10     77.40  2006           RV\n",
       "1  Radial Velocity       1         874.774   2.21     56.95  2008           RV\n",
       "2  Radial Velocity       1         763.000   2.60     19.84  2011           RV\n",
       "3  Radial Velocity       1         326.030  19.40    110.62  2007           RV\n",
       "4  Radial Velocity       1         516.220  10.50    119.47  2009           RV"
      ]
     },
     "execution_count": 215,
     "metadata": {},
     "output_type": "execute_result"
    }
   ],
   "source": [
    "df.head()"
   ]
  },
  {
   "cell_type": "code",
   "execution_count": 216,
   "metadata": {
    "colab": {},
    "colab_type": "code",
    "id": "Mv2sawS6-hb2"
   },
   "outputs": [],
   "source": [
    "df = sns.load_dataset('planets')"
   ]
  },
  {
   "cell_type": "code",
   "execution_count": 217,
   "metadata": {
    "colab": {},
    "colab_type": "code",
    "id": "5Fp2ctIn_BiL"
   },
   "outputs": [],
   "source": [
    "def shorten_method(s):\n",
    "    return short_names.get(s, s)"
   ]
  },
  {
   "cell_type": "code",
   "execution_count": 218,
   "metadata": {
    "colab": {},
    "colab_type": "code",
    "id": "FPNsze0_-5fZ"
   },
   "outputs": [],
   "source": [
    "df['short_names'] = df['method'].apply(shorten_method)"
   ]
  },
  {
   "cell_type": "code",
   "execution_count": 219,
   "metadata": {
    "colab": {
     "base_uri": "https://localhost:8080/",
     "height": 319
    },
    "colab_type": "code",
    "executionInfo": {
     "elapsed": 1151,
     "status": "ok",
     "timestamp": 1593667593311,
     "user": {
      "displayName": "Badal Kumar",
      "photoUrl": "https://lh3.googleusercontent.com/a-/AOh14Gg69uFQqBleXWW3oFZptK1CE2CMTy5m7PluKD5Z=s64",
      "userId": "09235070521043135989"
     },
     "user_tz": -330
    },
    "id": "-K2FyP2n_RBA",
    "outputId": "f6fd1642-7460-485f-ae84-731755531c2c"
   },
   "outputs": [
    {
     "data": {
      "text/html": [
       "<div>\n",
       "<style scoped>\n",
       "    .dataframe tbody tr th:only-of-type {\n",
       "        vertical-align: middle;\n",
       "    }\n",
       "\n",
       "    .dataframe tbody tr th {\n",
       "        vertical-align: top;\n",
       "    }\n",
       "\n",
       "    .dataframe thead th {\n",
       "        text-align: right;\n",
       "    }\n",
       "</style>\n",
       "<table border=\"1\" class=\"dataframe\">\n",
       "  <thead>\n",
       "    <tr style=\"text-align: right;\">\n",
       "      <th></th>\n",
       "      <th>method</th>\n",
       "      <th>number</th>\n",
       "      <th>orbital_period</th>\n",
       "      <th>mass</th>\n",
       "      <th>distance</th>\n",
       "      <th>year</th>\n",
       "      <th>short_names</th>\n",
       "    </tr>\n",
       "  </thead>\n",
       "  <tbody>\n",
       "    <tr>\n",
       "      <th>0</th>\n",
       "      <td>Radial Velocity</td>\n",
       "      <td>1</td>\n",
       "      <td>269.300</td>\n",
       "      <td>7.10</td>\n",
       "      <td>77.40</td>\n",
       "      <td>2006</td>\n",
       "      <td>RV</td>\n",
       "    </tr>\n",
       "    <tr>\n",
       "      <th>1</th>\n",
       "      <td>Radial Velocity</td>\n",
       "      <td>1</td>\n",
       "      <td>874.774</td>\n",
       "      <td>2.21</td>\n",
       "      <td>56.95</td>\n",
       "      <td>2008</td>\n",
       "      <td>RV</td>\n",
       "    </tr>\n",
       "    <tr>\n",
       "      <th>2</th>\n",
       "      <td>Radial Velocity</td>\n",
       "      <td>1</td>\n",
       "      <td>763.000</td>\n",
       "      <td>2.60</td>\n",
       "      <td>19.84</td>\n",
       "      <td>2011</td>\n",
       "      <td>RV</td>\n",
       "    </tr>\n",
       "    <tr>\n",
       "      <th>3</th>\n",
       "      <td>Radial Velocity</td>\n",
       "      <td>1</td>\n",
       "      <td>326.030</td>\n",
       "      <td>19.40</td>\n",
       "      <td>110.62</td>\n",
       "      <td>2007</td>\n",
       "      <td>RV</td>\n",
       "    </tr>\n",
       "    <tr>\n",
       "      <th>4</th>\n",
       "      <td>Radial Velocity</td>\n",
       "      <td>1</td>\n",
       "      <td>516.220</td>\n",
       "      <td>10.50</td>\n",
       "      <td>119.47</td>\n",
       "      <td>2009</td>\n",
       "      <td>RV</td>\n",
       "    </tr>\n",
       "  </tbody>\n",
       "</table>\n",
       "</div>"
      ],
      "text/plain": [
       "            method  number  orbital_period   mass  distance  year short_names\n",
       "0  Radial Velocity       1         269.300   7.10     77.40  2006          RV\n",
       "1  Radial Velocity       1         874.774   2.21     56.95  2008          RV\n",
       "2  Radial Velocity       1         763.000   2.60     19.84  2011          RV\n",
       "3  Radial Velocity       1         326.030  19.40    110.62  2007          RV\n",
       "4  Radial Velocity       1         516.220  10.50    119.47  2009          RV"
      ]
     },
     "execution_count": 219,
     "metadata": {},
     "output_type": "execute_result"
    }
   ],
   "source": [
    "df.head()"
   ]
  },
  {
   "cell_type": "markdown",
   "metadata": {
    "colab_type": "text",
    "id": "0bYSbICf_6BW"
   },
   "source": [
    "Count the number of planets discovered for each method type"
   ]
  },
  {
   "cell_type": "markdown",
   "metadata": {
    "colab_type": "text",
    "id": "mbQFu6bUBH7T"
   },
   "source": [
    "1. **Split** the dataframe into smaller chunks(in this case they shouldhave the same method name)\n",
    "2. **Apply** some function in each smaller chunk(in this case it is the count function)\n",
    "3. **Aggregate** the result from each chunk together"
   ]
  },
  {
   "cell_type": "code",
   "execution_count": 220,
   "metadata": {
    "colab": {
     "base_uri": "https://localhost:8080/",
     "height": 57
    },
    "colab_type": "code",
    "executionInfo": {
     "elapsed": 1578,
     "status": "ok",
     "timestamp": 1593668452428,
     "user": {
      "displayName": "Badal Kumar",
      "photoUrl": "https://lh3.googleusercontent.com/a-/AOh14Gg69uFQqBleXWW3oFZptK1CE2CMTy5m7PluKD5Z=s64",
      "userId": "09235070521043135989"
     },
     "user_tz": -330
    },
    "id": "6igPpvqm_Z9z",
    "outputId": "52f450b8-21f9-4a3a-cb88-4dee6ee7ba21"
   },
   "outputs": [
    {
     "name": "stdout",
     "output_type": "stream",
     "text": [
      "{'Radial Velocity': 553, 'Imaging': 38, 'Eclipse Timing Variations': 9, 'Transit': 397, 'Astrometry': 2, 'Transit Timing Variations': 4, 'Orbital Brightness Modulation': 3, 'Microlensing': 23, 'Pulsar Timing': 5, 'Pulsation Timing Variations': 1}\n"
     ]
    }
   ],
   "source": [
    "d = {}\n",
    "for m in df.method.unique():\n",
    "    d[m] = df[df.method==m]['method'].count()\n",
    "print(d)"
   ]
  },
  {
   "cell_type": "code",
   "execution_count": 221,
   "metadata": {
    "colab": {
     "base_uri": "https://localhost:8080/",
     "height": 255
    },
    "colab_type": "code",
    "executionInfo": {
     "elapsed": 1364,
     "status": "ok",
     "timestamp": 1593668534344,
     "user": {
      "displayName": "Badal Kumar",
      "photoUrl": "https://lh3.googleusercontent.com/a-/AOh14Gg69uFQqBleXWW3oFZptK1CE2CMTy5m7PluKD5Z=s64",
      "userId": "09235070521043135989"
     },
     "user_tz": -330
    },
    "id": "YGwFn_bYALAr",
    "outputId": "5b7c9cf4-7763-4b4f-bb2f-662eb682f261"
   },
   "outputs": [
    {
     "data": {
      "text/plain": [
       "method\n",
       "Astrometry                         2\n",
       "Eclipse Timing Variations          9\n",
       "Imaging                           38\n",
       "Microlensing                      23\n",
       "Orbital Brightness Modulation      3\n",
       "Pulsar Timing                      5\n",
       "Pulsation Timing Variations        1\n",
       "Radial Velocity                  553\n",
       "Transit                          397\n",
       "Transit Timing Variations          4\n",
       "Name: method, dtype: int64"
      ]
     },
     "execution_count": 221,
     "metadata": {},
     "output_type": "execute_result"
    }
   ],
   "source": [
    "df.groupby('method')['method'].count()"
   ]
  },
  {
   "cell_type": "code",
   "execution_count": 222,
   "metadata": {
    "colab": {
     "base_uri": "https://localhost:8080/",
     "height": 255
    },
    "colab_type": "code",
    "executionInfo": {
     "elapsed": 1314,
     "status": "ok",
     "timestamp": 1593668705686,
     "user": {
      "displayName": "Badal Kumar",
      "photoUrl": "https://lh3.googleusercontent.com/a-/AOh14Gg69uFQqBleXWW3oFZptK1CE2CMTy5m7PluKD5Z=s64",
      "userId": "09235070521043135989"
     },
     "user_tz": -330
    },
    "id": "n0gwaEZxC_hx",
    "outputId": "bea03a85-8f02-42ed-ca03-532c2b6897fe"
   },
   "outputs": [
    {
     "data": {
      "text/plain": [
       "method\n",
       "Astrometry                         17.875000\n",
       "Eclipse Timing Variations         315.360000\n",
       "Imaging                            67.715937\n",
       "Microlensing                     4144.000000\n",
       "Orbital Brightness Modulation    1180.000000\n",
       "Pulsar Timing                    1200.000000\n",
       "Pulsation Timing Variations              NaN\n",
       "Radial Velocity                    51.600208\n",
       "Transit                           599.298080\n",
       "Transit Timing Variations        1104.333333\n",
       "Name: distance, dtype: float64"
      ]
     },
     "execution_count": 222,
     "metadata": {},
     "output_type": "execute_result"
    }
   ],
   "source": [
    "df.groupby('method')['distance'].mean()"
   ]
  },
  {
   "cell_type": "markdown",
   "metadata": {
    "colab_type": "text",
    "id": "mRgWuGzwD7dV"
   },
   "source": [
    "Find out what fraction of planets have been found in the last decade(i.e.,in 2010s) across each method type"
   ]
  },
  {
   "cell_type": "markdown",
   "metadata": {
    "colab_type": "text",
    "id": "cQSqRshqEgRY"
   },
   "source": [
    "1. **Filter** the data for given condition (in this case planet found in last decade)\n",
    "2. **Split**(in this case across method)\n",
    "3. **Apply** (in this case  just count)\n",
    "4. **Aggregate**(to represent the final result)"
   ]
  },
  {
   "cell_type": "code",
   "execution_count": 223,
   "metadata": {
    "colab": {},
    "colab_type": "code",
    "id": "BK2vLqwWDpgN"
   },
   "outputs": [],
   "source": [
    "s_2010s = df[df.year >= 2010].groupby('method')['method'].count()"
   ]
  },
  {
   "cell_type": "code",
   "execution_count": 224,
   "metadata": {
    "colab": {},
    "colab_type": "code",
    "id": "TT_Nsmk2FW1d"
   },
   "outputs": [],
   "source": [
    "s_allTime = df.groupby('method')['method'].count()"
   ]
  },
  {
   "cell_type": "code",
   "execution_count": 225,
   "metadata": {
    "colab": {
     "base_uri": "https://localhost:8080/",
     "height": 255
    },
    "colab_type": "code",
    "executionInfo": {
     "elapsed": 1200,
     "status": "ok",
     "timestamp": 1593669436725,
     "user": {
      "displayName": "Badal Kumar",
      "photoUrl": "https://lh3.googleusercontent.com/a-/AOh14Gg69uFQqBleXWW3oFZptK1CE2CMTy5m7PluKD5Z=s64",
      "userId": "09235070521043135989"
     },
     "user_tz": -330
    },
    "id": "KiAyVuTnGVtT",
    "outputId": "5c4a618e-3c52-4233-b3c5-deb28262533a"
   },
   "outputs": [
    {
     "data": {
      "text/plain": [
       "method\n",
       "Astrometry                       1.000000\n",
       "Eclipse Timing Variations        0.666667\n",
       "Imaging                          0.473684\n",
       "Microlensing                     0.565217\n",
       "Orbital Brightness Modulation    1.000000\n",
       "Pulsar Timing                    0.200000\n",
       "Pulsation Timing Variations           NaN\n",
       "Radial Velocity                  0.388788\n",
       "Transit                          0.843829\n",
       "Transit Timing Variations        1.000000\n",
       "Name: method, dtype: float64"
      ]
     },
     "execution_count": 225,
     "metadata": {},
     "output_type": "execute_result"
    }
   ],
   "source": [
    "s_2010s/s_allTime"
   ]
  },
  {
   "cell_type": "markdown",
   "metadata": {
    "colab_type": "text",
    "id": "MFiIE5XZGz0F"
   },
   "source": [
    "Find the datset of Nifty numbers for 2018 and 2019-daily numbers open,close, high, low"
   ]
  },
  {
   "cell_type": "code",
   "execution_count": 228,
   "metadata": {
    "colab": {},
    "colab_type": "code",
    "id": "x9pvUO4uGZ3u"
   },
   "outputs": [],
   "source": [
    "nifty50_2018 = pd.read_csv('NIFTY50_2018.csv')"
   ]
  },
  {
   "cell_type": "code",
   "execution_count": 229,
   "metadata": {
    "colab": {
     "base_uri": "https://localhost:8080/",
     "height": 206
    },
    "colab_type": "code",
    "executionInfo": {
     "elapsed": 852,
     "status": "ok",
     "timestamp": 1593670688244,
     "user": {
      "displayName": "Badal Kumar",
      "photoUrl": "https://lh3.googleusercontent.com/a-/AOh14Gg69uFQqBleXWW3oFZptK1CE2CMTy5m7PluKD5Z=s64",
      "userId": "09235070521043135989"
     },
     "user_tz": -330
    },
    "id": "gPNUT9mNJKev",
    "outputId": "c3d4f1be-1099-49dd-c035-55bcbceba3e0"
   },
   "outputs": [
    {
     "data": {
      "text/html": [
       "<div>\n",
       "<style scoped>\n",
       "    .dataframe tbody tr th:only-of-type {\n",
       "        vertical-align: middle;\n",
       "    }\n",
       "\n",
       "    .dataframe tbody tr th {\n",
       "        vertical-align: top;\n",
       "    }\n",
       "\n",
       "    .dataframe thead th {\n",
       "        text-align: right;\n",
       "    }\n",
       "</style>\n",
       "<table border=\"1\" class=\"dataframe\">\n",
       "  <thead>\n",
       "    <tr style=\"text-align: right;\">\n",
       "      <th></th>\n",
       "      <th>Date</th>\n",
       "      <th>Open</th>\n",
       "      <th>High</th>\n",
       "      <th>Low</th>\n",
       "      <th>Close</th>\n",
       "    </tr>\n",
       "  </thead>\n",
       "  <tbody>\n",
       "    <tr>\n",
       "      <th>0</th>\n",
       "      <td>31 Dec 2018</td>\n",
       "      <td>10913.20</td>\n",
       "      <td>10923.55</td>\n",
       "      <td>10853.20</td>\n",
       "      <td>10862.55</td>\n",
       "    </tr>\n",
       "    <tr>\n",
       "      <th>1</th>\n",
       "      <td>28 Dec 2018</td>\n",
       "      <td>10820.95</td>\n",
       "      <td>10893.60</td>\n",
       "      <td>10817.15</td>\n",
       "      <td>10859.90</td>\n",
       "    </tr>\n",
       "    <tr>\n",
       "      <th>2</th>\n",
       "      <td>27 Dec 2018</td>\n",
       "      <td>10817.90</td>\n",
       "      <td>10834.20</td>\n",
       "      <td>10764.45</td>\n",
       "      <td>10779.80</td>\n",
       "    </tr>\n",
       "    <tr>\n",
       "      <th>3</th>\n",
       "      <td>26 Dec 2018</td>\n",
       "      <td>10635.45</td>\n",
       "      <td>10747.50</td>\n",
       "      <td>10534.55</td>\n",
       "      <td>10729.85</td>\n",
       "    </tr>\n",
       "    <tr>\n",
       "      <th>4</th>\n",
       "      <td>24 Dec 2018</td>\n",
       "      <td>10780.90</td>\n",
       "      <td>10782.30</td>\n",
       "      <td>10649.25</td>\n",
       "      <td>10663.50</td>\n",
       "    </tr>\n",
       "  </tbody>\n",
       "</table>\n",
       "</div>"
      ],
      "text/plain": [
       "          Date      Open      High       Low     Close\n",
       "0  31 Dec 2018  10913.20  10923.55  10853.20  10862.55\n",
       "1  28 Dec 2018  10820.95  10893.60  10817.15  10859.90\n",
       "2  27 Dec 2018  10817.90  10834.20  10764.45  10779.80\n",
       "3  26 Dec 2018  10635.45  10747.50  10534.55  10729.85\n",
       "4  24 Dec 2018  10780.90  10782.30  10649.25  10663.50"
      ]
     },
     "execution_count": 229,
     "metadata": {},
     "output_type": "execute_result"
    }
   ],
   "source": [
    "nifty50_2018.head()"
   ]
  },
  {
   "cell_type": "code",
   "execution_count": 230,
   "metadata": {
    "colab": {},
    "colab_type": "code",
    "id": "RyVMOheLJX1q"
   },
   "outputs": [],
   "source": [
    "nifty50_2018 = pd.read_csv('NIFTY50_2018.csv',index_col=0)"
   ]
  },
  {
   "cell_type": "code",
   "execution_count": 231,
   "metadata": {
    "colab": {
     "base_uri": "https://localhost:8080/",
     "height": 237
    },
    "colab_type": "code",
    "executionInfo": {
     "elapsed": 1570,
     "status": "ok",
     "timestamp": 1593670705515,
     "user": {
      "displayName": "Badal Kumar",
      "photoUrl": "https://lh3.googleusercontent.com/a-/AOh14Gg69uFQqBleXWW3oFZptK1CE2CMTy5m7PluKD5Z=s64",
      "userId": "09235070521043135989"
     },
     "user_tz": -330
    },
    "id": "vaCRa9CuJtSS",
    "outputId": "be83079a-9c6c-44f5-8139-c61940ed192f"
   },
   "outputs": [
    {
     "data": {
      "text/html": [
       "<div>\n",
       "<style scoped>\n",
       "    .dataframe tbody tr th:only-of-type {\n",
       "        vertical-align: middle;\n",
       "    }\n",
       "\n",
       "    .dataframe tbody tr th {\n",
       "        vertical-align: top;\n",
       "    }\n",
       "\n",
       "    .dataframe thead th {\n",
       "        text-align: right;\n",
       "    }\n",
       "</style>\n",
       "<table border=\"1\" class=\"dataframe\">\n",
       "  <thead>\n",
       "    <tr style=\"text-align: right;\">\n",
       "      <th></th>\n",
       "      <th>Open</th>\n",
       "      <th>High</th>\n",
       "      <th>Low</th>\n",
       "      <th>Close</th>\n",
       "    </tr>\n",
       "    <tr>\n",
       "      <th>Date</th>\n",
       "      <th></th>\n",
       "      <th></th>\n",
       "      <th></th>\n",
       "      <th></th>\n",
       "    </tr>\n",
       "  </thead>\n",
       "  <tbody>\n",
       "    <tr>\n",
       "      <th>31 Dec 2018</th>\n",
       "      <td>10913.20</td>\n",
       "      <td>10923.55</td>\n",
       "      <td>10853.20</td>\n",
       "      <td>10862.55</td>\n",
       "    </tr>\n",
       "    <tr>\n",
       "      <th>28 Dec 2018</th>\n",
       "      <td>10820.95</td>\n",
       "      <td>10893.60</td>\n",
       "      <td>10817.15</td>\n",
       "      <td>10859.90</td>\n",
       "    </tr>\n",
       "    <tr>\n",
       "      <th>27 Dec 2018</th>\n",
       "      <td>10817.90</td>\n",
       "      <td>10834.20</td>\n",
       "      <td>10764.45</td>\n",
       "      <td>10779.80</td>\n",
       "    </tr>\n",
       "    <tr>\n",
       "      <th>26 Dec 2018</th>\n",
       "      <td>10635.45</td>\n",
       "      <td>10747.50</td>\n",
       "      <td>10534.55</td>\n",
       "      <td>10729.85</td>\n",
       "    </tr>\n",
       "    <tr>\n",
       "      <th>24 Dec 2018</th>\n",
       "      <td>10780.90</td>\n",
       "      <td>10782.30</td>\n",
       "      <td>10649.25</td>\n",
       "      <td>10663.50</td>\n",
       "    </tr>\n",
       "  </tbody>\n",
       "</table>\n",
       "</div>"
      ],
      "text/plain": [
       "                 Open      High       Low     Close\n",
       "Date                                               \n",
       "31 Dec 2018  10913.20  10923.55  10853.20  10862.55\n",
       "28 Dec 2018  10820.95  10893.60  10817.15  10859.90\n",
       "27 Dec 2018  10817.90  10834.20  10764.45  10779.80\n",
       "26 Dec 2018  10635.45  10747.50  10534.55  10729.85\n",
       "24 Dec 2018  10780.90  10782.30  10649.25  10663.50"
      ]
     },
     "execution_count": 231,
     "metadata": {},
     "output_type": "execute_result"
    }
   ],
   "source": [
    "nifty50_2018.head()"
   ]
  },
  {
   "cell_type": "code",
   "execution_count": 232,
   "metadata": {
    "colab": {
     "base_uri": "https://localhost:8080/",
     "height": 116
    },
    "colab_type": "code",
    "executionInfo": {
     "elapsed": 1054,
     "status": "ok",
     "timestamp": 1593670793706,
     "user": {
      "displayName": "Badal Kumar",
      "photoUrl": "https://lh3.googleusercontent.com/a-/AOh14Gg69uFQqBleXWW3oFZptK1CE2CMTy5m7PluKD5Z=s64",
      "userId": "09235070521043135989"
     },
     "user_tz": -330
    },
    "id": "QfzIBD8HK-85",
    "outputId": "91054dce-25aa-4c34-b155-25d876e0d456"
   },
   "outputs": [
    {
     "data": {
      "text/plain": [
       "Open     10913.20\n",
       "High     10923.55\n",
       "Low      10853.20\n",
       "Close    10862.55\n",
       "Name: 31 Dec 2018, dtype: float64"
      ]
     },
     "execution_count": 232,
     "metadata": {},
     "output_type": "execute_result"
    }
   ],
   "source": [
    "nifty50_2018.loc['31 Dec 2018']"
   ]
  },
  {
   "cell_type": "code",
   "execution_count": 233,
   "metadata": {
    "colab": {
     "base_uri": "https://localhost:8080/",
     "height": 275
    },
    "colab_type": "code",
    "executionInfo": {
     "elapsed": 3586,
     "status": "ok",
     "timestamp": 1593670818534,
     "user": {
      "displayName": "Badal Kumar",
      "photoUrl": "https://lh3.googleusercontent.com/a-/AOh14Gg69uFQqBleXWW3oFZptK1CE2CMTy5m7PluKD5Z=s64",
      "userId": "09235070521043135989"
     },
     "user_tz": -330
    },
    "id": "P8180VWqLnVE",
    "outputId": "b78e2e7b-8edf-421d-bcc1-f2a3ccfead69"
   },
   "outputs": [
    {
     "data": {
      "text/plain": [
       "Date\n",
       "31 Dec 2018    10913.20\n",
       "28 Dec 2018    10820.95\n",
       "27 Dec 2018    10817.90\n",
       "26 Dec 2018    10635.45\n",
       "24 Dec 2018    10780.90\n",
       "21 Dec 2018    10944.25\n",
       "20 Dec 2018    10885.20\n",
       "19 Dec 2018    10930.55\n",
       "18 Dec 2018    10850.90\n",
       "17 Dec 2018    10853.20\n",
       "14 Dec 2018    10784.50\n",
       "13 Dec 2018    10810.75\n",
       "12 Dec 2018    10591.00\n",
       "11 Dec 2018    10350.05\n",
       "10 Dec 2018    10508.70\n",
       "07 Dec 2018    10644.80\n",
       "06 Dec 2018    10718.15\n",
       "05 Dec 2018    10820.45\n",
       "04 Dec 2018    10877.10\n",
       "03 Dec 2018    10930.70\n",
       "30 Nov 2018    10892.10\n",
       "29 Nov 2018    10808.70\n",
       "28 Nov 2018    10708.75\n",
       "27 Nov 2018    10621.45\n",
       "26 Nov 2018    10568.30\n",
       "22 Nov 2018    10612.65\n",
       "21 Nov 2018    10670.95\n",
       "20 Nov 2018    10740.10\n",
       "19 Nov 2018    10731.25\n",
       "16 Nov 2018    10644.00\n",
       "                 ...   \n",
       "12 Feb 2018    10518.20\n",
       "09 Feb 2018    10416.50\n",
       "08 Feb 2018    10518.50\n",
       "07 Feb 2018    10607.20\n",
       "06 Feb 2018    10295.15\n",
       "05 Feb 2018    10604.30\n",
       "02 Feb 2018    10938.20\n",
       "01 Feb 2018    11044.55\n",
       "31 Jan 2018    11018.80\n",
       "30 Jan 2018    11120.85\n",
       "29 Jan 2018    11079.35\n",
       "25 Jan 2018    11095.60\n",
       "24 Jan 2018    11069.35\n",
       "23 Jan 2018    10997.40\n",
       "22 Jan 2018    10883.20\n",
       "19 Jan 2018    10829.20\n",
       "18 Jan 2018    10873.40\n",
       "17 Jan 2018    10702.45\n",
       "16 Jan 2018    10761.50\n",
       "15 Jan 2018    10718.50\n",
       "12 Jan 2018    10682.55\n",
       "11 Jan 2018    10637.05\n",
       "10 Jan 2018    10652.05\n",
       "09 Jan 2018    10645.10\n",
       "08 Jan 2018    10591.70\n",
       "05 Jan 2018    10534.25\n",
       "04 Jan 2018    10469.40\n",
       "03 Jan 2018    10482.65\n",
       "02 Jan 2018    10477.55\n",
       "01 Jan 2018    10531.70\n",
       "Name: Open, Length: 246, dtype: float64"
      ]
     },
     "execution_count": 233,
     "metadata": {},
     "output_type": "execute_result"
    }
   ],
   "source": [
    "nifty50_2018['Open']"
   ]
  },
  {
   "cell_type": "code",
   "execution_count": 234,
   "metadata": {
    "colab": {},
    "colab_type": "code",
    "id": "r9bnH3YhLsxz"
   },
   "outputs": [],
   "source": [
    "nifty50_2019 = pd.read_csv('NIFTY50_2019.csv',index_col=0)"
   ]
  },
  {
   "cell_type": "code",
   "execution_count": 235,
   "metadata": {
    "colab": {
     "base_uri": "https://localhost:8080/",
     "height": 237
    },
    "colab_type": "code",
    "executionInfo": {
     "elapsed": 1280,
     "status": "ok",
     "timestamp": 1593670875746,
     "user": {
      "displayName": "Badal Kumar",
      "photoUrl": "https://lh3.googleusercontent.com/a-/AOh14Gg69uFQqBleXWW3oFZptK1CE2CMTy5m7PluKD5Z=s64",
      "userId": "09235070521043135989"
     },
     "user_tz": -330
    },
    "id": "hE06PCX7L5Rd",
    "outputId": "e4be6dea-30e4-4d7b-bab7-72fba3c5d4c0"
   },
   "outputs": [
    {
     "data": {
      "text/html": [
       "<div>\n",
       "<style scoped>\n",
       "    .dataframe tbody tr th:only-of-type {\n",
       "        vertical-align: middle;\n",
       "    }\n",
       "\n",
       "    .dataframe tbody tr th {\n",
       "        vertical-align: top;\n",
       "    }\n",
       "\n",
       "    .dataframe thead th {\n",
       "        text-align: right;\n",
       "    }\n",
       "</style>\n",
       "<table border=\"1\" class=\"dataframe\">\n",
       "  <thead>\n",
       "    <tr style=\"text-align: right;\">\n",
       "      <th></th>\n",
       "      <th>Open</th>\n",
       "      <th>High</th>\n",
       "      <th>Low</th>\n",
       "      <th>Close</th>\n",
       "    </tr>\n",
       "    <tr>\n",
       "      <th>Date</th>\n",
       "      <th></th>\n",
       "      <th></th>\n",
       "      <th></th>\n",
       "      <th></th>\n",
       "    </tr>\n",
       "  </thead>\n",
       "  <tbody>\n",
       "    <tr>\n",
       "      <th>31 Dec 2019</th>\n",
       "      <td>12247.10</td>\n",
       "      <td>12247.10</td>\n",
       "      <td>12151.80</td>\n",
       "      <td>12168.45</td>\n",
       "    </tr>\n",
       "    <tr>\n",
       "      <th>30 Dec 2019</th>\n",
       "      <td>12274.90</td>\n",
       "      <td>12286.45</td>\n",
       "      <td>12213.80</td>\n",
       "      <td>12255.85</td>\n",
       "    </tr>\n",
       "    <tr>\n",
       "      <th>27 Dec 2019</th>\n",
       "      <td>12172.90</td>\n",
       "      <td>12258.45</td>\n",
       "      <td>12157.90</td>\n",
       "      <td>12245.80</td>\n",
       "    </tr>\n",
       "    <tr>\n",
       "      <th>26 Dec 2019</th>\n",
       "      <td>12211.85</td>\n",
       "      <td>12221.55</td>\n",
       "      <td>12118.85</td>\n",
       "      <td>12126.55</td>\n",
       "    </tr>\n",
       "    <tr>\n",
       "      <th>24 Dec 2019</th>\n",
       "      <td>12269.25</td>\n",
       "      <td>12283.70</td>\n",
       "      <td>12202.10</td>\n",
       "      <td>12214.55</td>\n",
       "    </tr>\n",
       "  </tbody>\n",
       "</table>\n",
       "</div>"
      ],
      "text/plain": [
       "                 Open      High       Low     Close\n",
       "Date                                               \n",
       "31 Dec 2019  12247.10  12247.10  12151.80  12168.45\n",
       "30 Dec 2019  12274.90  12286.45  12213.80  12255.85\n",
       "27 Dec 2019  12172.90  12258.45  12157.90  12245.80\n",
       "26 Dec 2019  12211.85  12221.55  12118.85  12126.55\n",
       "24 Dec 2019  12269.25  12283.70  12202.10  12214.55"
      ]
     },
     "execution_count": 235,
     "metadata": {},
     "output_type": "execute_result"
    }
   ],
   "source": [
    "nifty50_2019.head()"
   ]
  },
  {
   "cell_type": "code",
   "execution_count": 236,
   "metadata": {
    "colab": {
     "base_uri": "https://localhost:8080/",
     "height": 37
    },
    "colab_type": "code",
    "executionInfo": {
     "elapsed": 1406,
     "status": "ok",
     "timestamp": 1593670991916,
     "user": {
      "displayName": "Badal Kumar",
      "photoUrl": "https://lh3.googleusercontent.com/a-/AOh14Gg69uFQqBleXWW3oFZptK1CE2CMTy5m7PluKD5Z=s64",
      "userId": "09235070521043135989"
     },
     "user_tz": -330
    },
    "id": "MHvHwZDDMLzf",
    "outputId": "93e166c2-8f47-4d1a-ee4a-6c37402ee875"
   },
   "outputs": [
    {
     "name": "stdout",
     "output_type": "stream",
     "text": [
      "(246, 4) (245, 4)\n"
     ]
    }
   ],
   "source": [
    "print(nifty50_2018.shape, nifty50_2019.shape)"
   ]
  },
  {
   "cell_type": "code",
   "execution_count": 237,
   "metadata": {
    "colab": {},
    "colab_type": "code",
    "id": "UadUo2FfL7SL"
   },
   "outputs": [],
   "source": [
    "nifty50 = pd.concat([nifty50_2018, nifty50_2019])"
   ]
  },
  {
   "cell_type": "code",
   "execution_count": 238,
   "metadata": {
    "colab": {
     "base_uri": "https://localhost:8080/",
     "height": 37
    },
    "colab_type": "code",
    "executionInfo": {
     "elapsed": 1752,
     "status": "ok",
     "timestamp": 1593671091873,
     "user": {
      "displayName": "Badal Kumar",
      "photoUrl": "https://lh3.googleusercontent.com/a-/AOh14Gg69uFQqBleXWW3oFZptK1CE2CMTy5m7PluKD5Z=s64",
      "userId": "09235070521043135989"
     },
     "user_tz": -330
    },
    "id": "A2mdcAfaMIEK",
    "outputId": "a471170e-d5f4-4a6a-f9ad-31f9abc15acc"
   },
   "outputs": [
    {
     "data": {
      "text/plain": [
       "(491, 4)"
      ]
     },
     "execution_count": 238,
     "metadata": {},
     "output_type": "execute_result"
    }
   ],
   "source": [
    "nifty50.shape"
   ]
  },
  {
   "cell_type": "code",
   "execution_count": 239,
   "metadata": {
    "colab": {},
    "colab_type": "code",
    "id": "OBewyLGFMvf4"
   },
   "outputs": [],
   "source": [
    "niftynext50_2019 = pd.read_csv('NIFTYNext50_2019.csv', index_col=0)"
   ]
  },
  {
   "cell_type": "code",
   "execution_count": 240,
   "metadata": {
    "colab": {
     "base_uri": "https://localhost:8080/",
     "height": 237
    },
    "colab_type": "code",
    "executionInfo": {
     "elapsed": 1458,
     "status": "ok",
     "timestamp": 1593671181356,
     "user": {
      "displayName": "Badal Kumar",
      "photoUrl": "https://lh3.googleusercontent.com/a-/AOh14Gg69uFQqBleXWW3oFZptK1CE2CMTy5m7PluKD5Z=s64",
      "userId": "09235070521043135989"
     },
     "user_tz": -330
    },
    "id": "nxyidKF0NDNb",
    "outputId": "18b7ee83-37ae-4e7e-80df-f6d4b0b69ebb"
   },
   "outputs": [
    {
     "data": {
      "text/html": [
       "<div>\n",
       "<style scoped>\n",
       "    .dataframe tbody tr th:only-of-type {\n",
       "        vertical-align: middle;\n",
       "    }\n",
       "\n",
       "    .dataframe tbody tr th {\n",
       "        vertical-align: top;\n",
       "    }\n",
       "\n",
       "    .dataframe thead th {\n",
       "        text-align: right;\n",
       "    }\n",
       "</style>\n",
       "<table border=\"1\" class=\"dataframe\">\n",
       "  <thead>\n",
       "    <tr style=\"text-align: right;\">\n",
       "      <th></th>\n",
       "      <th>Open</th>\n",
       "      <th>High</th>\n",
       "      <th>Low</th>\n",
       "      <th>Close</th>\n",
       "    </tr>\n",
       "    <tr>\n",
       "      <th>Date</th>\n",
       "      <th></th>\n",
       "      <th></th>\n",
       "      <th></th>\n",
       "      <th></th>\n",
       "    </tr>\n",
       "  </thead>\n",
       "  <tbody>\n",
       "    <tr>\n",
       "      <th>31 Dec 2019</th>\n",
       "      <td>28495.00</td>\n",
       "      <td>28549.50</td>\n",
       "      <td>28270.25</td>\n",
       "      <td>28307.55</td>\n",
       "    </tr>\n",
       "    <tr>\n",
       "      <th>30 Dec 2019</th>\n",
       "      <td>28528.95</td>\n",
       "      <td>28612.95</td>\n",
       "      <td>28406.70</td>\n",
       "      <td>28484.85</td>\n",
       "    </tr>\n",
       "    <tr>\n",
       "      <th>27 Dec 2019</th>\n",
       "      <td>28354.50</td>\n",
       "      <td>28500.25</td>\n",
       "      <td>28319.90</td>\n",
       "      <td>28476.80</td>\n",
       "    </tr>\n",
       "    <tr>\n",
       "      <th>26 Dec 2019</th>\n",
       "      <td>28409.10</td>\n",
       "      <td>28435.25</td>\n",
       "      <td>28259.75</td>\n",
       "      <td>28280.25</td>\n",
       "    </tr>\n",
       "    <tr>\n",
       "      <th>24 Dec 2019</th>\n",
       "      <td>28423.70</td>\n",
       "      <td>28430.40</td>\n",
       "      <td>28318.75</td>\n",
       "      <td>28382.85</td>\n",
       "    </tr>\n",
       "  </tbody>\n",
       "</table>\n",
       "</div>"
      ],
      "text/plain": [
       "                 Open      High       Low     Close\n",
       "Date                                               \n",
       "31 Dec 2019  28495.00  28549.50  28270.25  28307.55\n",
       "30 Dec 2019  28528.95  28612.95  28406.70  28484.85\n",
       "27 Dec 2019  28354.50  28500.25  28319.90  28476.80\n",
       "26 Dec 2019  28409.10  28435.25  28259.75  28280.25\n",
       "24 Dec 2019  28423.70  28430.40  28318.75  28382.85"
      ]
     },
     "execution_count": 240,
     "metadata": {},
     "output_type": "execute_result"
    }
   ],
   "source": [
    "niftynext50_2019.head()"
   ]
  },
  {
   "cell_type": "code",
   "execution_count": 241,
   "metadata": {
    "colab": {},
    "colab_type": "code",
    "id": "wyvv3XMANFzK"
   },
   "outputs": [],
   "source": [
    "nifty_2019 = pd.concat([nifty50_2019, niftynext50_2019], axis=1)"
   ]
  },
  {
   "cell_type": "code",
   "execution_count": 242,
   "metadata": {
    "colab": {
     "base_uri": "https://localhost:8080/",
     "height": 37
    },
    "colab_type": "code",
    "executionInfo": {
     "elapsed": 1648,
     "status": "ok",
     "timestamp": 1593671271320,
     "user": {
      "displayName": "Badal Kumar",
      "photoUrl": "https://lh3.googleusercontent.com/a-/AOh14Gg69uFQqBleXWW3oFZptK1CE2CMTy5m7PluKD5Z=s64",
      "userId": "09235070521043135989"
     },
     "user_tz": -330
    },
    "id": "O3Q4koKwNWIQ",
    "outputId": "b254c67d-7b9f-4ab8-9392-bf037b6a347c"
   },
   "outputs": [
    {
     "data": {
      "text/plain": [
       "(245, 8)"
      ]
     },
     "execution_count": 242,
     "metadata": {},
     "output_type": "execute_result"
    }
   ],
   "source": [
    "nifty_2019.shape"
   ]
  },
  {
   "cell_type": "code",
   "execution_count": 243,
   "metadata": {
    "colab": {
     "base_uri": "https://localhost:8080/",
     "height": 443
    },
    "colab_type": "code",
    "executionInfo": {
     "elapsed": 1530,
     "status": "ok",
     "timestamp": 1593671287253,
     "user": {
      "displayName": "Badal Kumar",
      "photoUrl": "https://lh3.googleusercontent.com/a-/AOh14Gg69uFQqBleXWW3oFZptK1CE2CMTy5m7PluKD5Z=s64",
      "userId": "09235070521043135989"
     },
     "user_tz": -330
    },
    "id": "QPH6ArmFNZvM",
    "outputId": "0dd7cc97-d40e-40e5-f6a4-73e9ffd5b85f"
   },
   "outputs": [
    {
     "data": {
      "text/html": [
       "<div>\n",
       "<style scoped>\n",
       "    .dataframe tbody tr th:only-of-type {\n",
       "        vertical-align: middle;\n",
       "    }\n",
       "\n",
       "    .dataframe tbody tr th {\n",
       "        vertical-align: top;\n",
       "    }\n",
       "\n",
       "    .dataframe thead th {\n",
       "        text-align: right;\n",
       "    }\n",
       "</style>\n",
       "<table border=\"1\" class=\"dataframe\">\n",
       "  <thead>\n",
       "    <tr style=\"text-align: right;\">\n",
       "      <th></th>\n",
       "      <th>Open</th>\n",
       "      <th>High</th>\n",
       "      <th>Low</th>\n",
       "      <th>Close</th>\n",
       "      <th>Open</th>\n",
       "      <th>High</th>\n",
       "      <th>Low</th>\n",
       "      <th>Close</th>\n",
       "    </tr>\n",
       "    <tr>\n",
       "      <th>Date</th>\n",
       "      <th></th>\n",
       "      <th></th>\n",
       "      <th></th>\n",
       "      <th></th>\n",
       "      <th></th>\n",
       "      <th></th>\n",
       "      <th></th>\n",
       "      <th></th>\n",
       "    </tr>\n",
       "  </thead>\n",
       "  <tbody>\n",
       "    <tr>\n",
       "      <th>31 Dec 2019</th>\n",
       "      <td>12247.10</td>\n",
       "      <td>12247.10</td>\n",
       "      <td>12151.80</td>\n",
       "      <td>12168.45</td>\n",
       "      <td>28495.00</td>\n",
       "      <td>28549.50</td>\n",
       "      <td>28270.25</td>\n",
       "      <td>28307.55</td>\n",
       "    </tr>\n",
       "    <tr>\n",
       "      <th>30 Dec 2019</th>\n",
       "      <td>12274.90</td>\n",
       "      <td>12286.45</td>\n",
       "      <td>12213.80</td>\n",
       "      <td>12255.85</td>\n",
       "      <td>28528.95</td>\n",
       "      <td>28612.95</td>\n",
       "      <td>28406.70</td>\n",
       "      <td>28484.85</td>\n",
       "    </tr>\n",
       "    <tr>\n",
       "      <th>27 Dec 2019</th>\n",
       "      <td>12172.90</td>\n",
       "      <td>12258.45</td>\n",
       "      <td>12157.90</td>\n",
       "      <td>12245.80</td>\n",
       "      <td>28354.50</td>\n",
       "      <td>28500.25</td>\n",
       "      <td>28319.90</td>\n",
       "      <td>28476.80</td>\n",
       "    </tr>\n",
       "    <tr>\n",
       "      <th>26 Dec 2019</th>\n",
       "      <td>12211.85</td>\n",
       "      <td>12221.55</td>\n",
       "      <td>12118.85</td>\n",
       "      <td>12126.55</td>\n",
       "      <td>28409.10</td>\n",
       "      <td>28435.25</td>\n",
       "      <td>28259.75</td>\n",
       "      <td>28280.25</td>\n",
       "    </tr>\n",
       "    <tr>\n",
       "      <th>24 Dec 2019</th>\n",
       "      <td>12269.25</td>\n",
       "      <td>12283.70</td>\n",
       "      <td>12202.10</td>\n",
       "      <td>12214.55</td>\n",
       "      <td>28423.70</td>\n",
       "      <td>28430.40</td>\n",
       "      <td>28318.75</td>\n",
       "      <td>28382.85</td>\n",
       "    </tr>\n",
       "  </tbody>\n",
       "</table>\n",
       "</div>"
      ],
      "text/plain": [
       "                 Open      High       Low     Close      Open      High  \\\n",
       "Date                                                                      \n",
       "31 Dec 2019  12247.10  12247.10  12151.80  12168.45  28495.00  28549.50   \n",
       "30 Dec 2019  12274.90  12286.45  12213.80  12255.85  28528.95  28612.95   \n",
       "27 Dec 2019  12172.90  12258.45  12157.90  12245.80  28354.50  28500.25   \n",
       "26 Dec 2019  12211.85  12221.55  12118.85  12126.55  28409.10  28435.25   \n",
       "24 Dec 2019  12269.25  12283.70  12202.10  12214.55  28423.70  28430.40   \n",
       "\n",
       "                  Low     Close  \n",
       "Date                             \n",
       "31 Dec 2019  28270.25  28307.55  \n",
       "30 Dec 2019  28406.70  28484.85  \n",
       "27 Dec 2019  28319.90  28476.80  \n",
       "26 Dec 2019  28259.75  28280.25  \n",
       "24 Dec 2019  28318.75  28382.85  "
      ]
     },
     "execution_count": 243,
     "metadata": {},
     "output_type": "execute_result"
    }
   ],
   "source": [
    "nifty_2019.head()"
   ]
  },
  {
   "cell_type": "code",
   "execution_count": 244,
   "metadata": {
    "colab": {},
    "colab_type": "code",
    "id": "wfRRiOBaNfr4"
   },
   "outputs": [],
   "source": [
    "nifty_2019 = pd.concat([nifty50_2019, niftynext50_2019], axis=1,\n",
    "                       keys=['nifty50','niftynext50'])"
   ]
  },
  {
   "cell_type": "code",
   "execution_count": 245,
   "metadata": {
    "colab": {
     "base_uri": "https://localhost:8080/",
     "height": 37
    },
    "colab_type": "code",
    "executionInfo": {
     "elapsed": 1177,
     "status": "ok",
     "timestamp": 1593671436294,
     "user": {
      "displayName": "Badal Kumar",
      "photoUrl": "https://lh3.googleusercontent.com/a-/AOh14Gg69uFQqBleXWW3oFZptK1CE2CMTy5m7PluKD5Z=s64",
      "userId": "09235070521043135989"
     },
     "user_tz": -330
    },
    "id": "TGAZjpx_OA5u",
    "outputId": "e64cb974-ad9d-49a0-ffa5-55768bdcc89f"
   },
   "outputs": [
    {
     "data": {
      "text/plain": [
       "(245, 8)"
      ]
     },
     "execution_count": 245,
     "metadata": {},
     "output_type": "execute_result"
    }
   ],
   "source": [
    "nifty_2019.shape"
   ]
  },
  {
   "cell_type": "code",
   "execution_count": 246,
   "metadata": {
    "colab": {
     "base_uri": "https://localhost:8080/",
     "height": 474
    },
    "colab_type": "code",
    "executionInfo": {
     "elapsed": 1441,
     "status": "ok",
     "timestamp": 1593671446235,
     "user": {
      "displayName": "Badal Kumar",
      "photoUrl": "https://lh3.googleusercontent.com/a-/AOh14Gg69uFQqBleXWW3oFZptK1CE2CMTy5m7PluKD5Z=s64",
      "userId": "09235070521043135989"
     },
     "user_tz": -330
    },
    "id": "5PRVeq1MOEMQ",
    "outputId": "de75921d-fc6a-4018-df0f-d60efd7b8b18"
   },
   "outputs": [
    {
     "data": {
      "text/html": [
       "<div>\n",
       "<style scoped>\n",
       "    .dataframe tbody tr th:only-of-type {\n",
       "        vertical-align: middle;\n",
       "    }\n",
       "\n",
       "    .dataframe tbody tr th {\n",
       "        vertical-align: top;\n",
       "    }\n",
       "\n",
       "    .dataframe thead tr th {\n",
       "        text-align: left;\n",
       "    }\n",
       "\n",
       "    .dataframe thead tr:last-of-type th {\n",
       "        text-align: right;\n",
       "    }\n",
       "</style>\n",
       "<table border=\"1\" class=\"dataframe\">\n",
       "  <thead>\n",
       "    <tr>\n",
       "      <th></th>\n",
       "      <th colspan=\"4\" halign=\"left\">nifty50</th>\n",
       "      <th colspan=\"4\" halign=\"left\">niftynext50</th>\n",
       "    </tr>\n",
       "    <tr>\n",
       "      <th></th>\n",
       "      <th>Open</th>\n",
       "      <th>High</th>\n",
       "      <th>Low</th>\n",
       "      <th>Close</th>\n",
       "      <th>Open</th>\n",
       "      <th>High</th>\n",
       "      <th>Low</th>\n",
       "      <th>Close</th>\n",
       "    </tr>\n",
       "    <tr>\n",
       "      <th>Date</th>\n",
       "      <th></th>\n",
       "      <th></th>\n",
       "      <th></th>\n",
       "      <th></th>\n",
       "      <th></th>\n",
       "      <th></th>\n",
       "      <th></th>\n",
       "      <th></th>\n",
       "    </tr>\n",
       "  </thead>\n",
       "  <tbody>\n",
       "    <tr>\n",
       "      <th>31 Dec 2019</th>\n",
       "      <td>12247.10</td>\n",
       "      <td>12247.10</td>\n",
       "      <td>12151.80</td>\n",
       "      <td>12168.45</td>\n",
       "      <td>28495.00</td>\n",
       "      <td>28549.50</td>\n",
       "      <td>28270.25</td>\n",
       "      <td>28307.55</td>\n",
       "    </tr>\n",
       "    <tr>\n",
       "      <th>30 Dec 2019</th>\n",
       "      <td>12274.90</td>\n",
       "      <td>12286.45</td>\n",
       "      <td>12213.80</td>\n",
       "      <td>12255.85</td>\n",
       "      <td>28528.95</td>\n",
       "      <td>28612.95</td>\n",
       "      <td>28406.70</td>\n",
       "      <td>28484.85</td>\n",
       "    </tr>\n",
       "    <tr>\n",
       "      <th>27 Dec 2019</th>\n",
       "      <td>12172.90</td>\n",
       "      <td>12258.45</td>\n",
       "      <td>12157.90</td>\n",
       "      <td>12245.80</td>\n",
       "      <td>28354.50</td>\n",
       "      <td>28500.25</td>\n",
       "      <td>28319.90</td>\n",
       "      <td>28476.80</td>\n",
       "    </tr>\n",
       "    <tr>\n",
       "      <th>26 Dec 2019</th>\n",
       "      <td>12211.85</td>\n",
       "      <td>12221.55</td>\n",
       "      <td>12118.85</td>\n",
       "      <td>12126.55</td>\n",
       "      <td>28409.10</td>\n",
       "      <td>28435.25</td>\n",
       "      <td>28259.75</td>\n",
       "      <td>28280.25</td>\n",
       "    </tr>\n",
       "    <tr>\n",
       "      <th>24 Dec 2019</th>\n",
       "      <td>12269.25</td>\n",
       "      <td>12283.70</td>\n",
       "      <td>12202.10</td>\n",
       "      <td>12214.55</td>\n",
       "      <td>28423.70</td>\n",
       "      <td>28430.40</td>\n",
       "      <td>28318.75</td>\n",
       "      <td>28382.85</td>\n",
       "    </tr>\n",
       "  </tbody>\n",
       "</table>\n",
       "</div>"
      ],
      "text/plain": [
       "              nifty50                               niftynext50            \\\n",
       "                 Open      High       Low     Close        Open      High   \n",
       "Date                                                                        \n",
       "31 Dec 2019  12247.10  12247.10  12151.80  12168.45    28495.00  28549.50   \n",
       "30 Dec 2019  12274.90  12286.45  12213.80  12255.85    28528.95  28612.95   \n",
       "27 Dec 2019  12172.90  12258.45  12157.90  12245.80    28354.50  28500.25   \n",
       "26 Dec 2019  12211.85  12221.55  12118.85  12126.55    28409.10  28435.25   \n",
       "24 Dec 2019  12269.25  12283.70  12202.10  12214.55    28423.70  28430.40   \n",
       "\n",
       "                                 \n",
       "                  Low     Close  \n",
       "Date                             \n",
       "31 Dec 2019  28270.25  28307.55  \n",
       "30 Dec 2019  28406.70  28484.85  \n",
       "27 Dec 2019  28319.90  28476.80  \n",
       "26 Dec 2019  28259.75  28280.25  \n",
       "24 Dec 2019  28318.75  28382.85  "
      ]
     },
     "execution_count": 246,
     "metadata": {},
     "output_type": "execute_result"
    }
   ],
   "source": [
    "nifty_2019.head()"
   ]
  },
  {
   "cell_type": "code",
   "execution_count": 247,
   "metadata": {
    "colab": {
     "base_uri": "https://localhost:8080/",
     "height": 237
    },
    "colab_type": "code",
    "executionInfo": {
     "elapsed": 1116,
     "status": "ok",
     "timestamp": 1593671577905,
     "user": {
      "displayName": "Badal Kumar",
      "photoUrl": "https://lh3.googleusercontent.com/a-/AOh14Gg69uFQqBleXWW3oFZptK1CE2CMTy5m7PluKD5Z=s64",
      "userId": "09235070521043135989"
     },
     "user_tz": -330
    },
    "id": "Ce1pCGZQOGiH",
    "outputId": "7068fd15-b0b9-4005-a175-87d50ee27091"
   },
   "outputs": [
    {
     "data": {
      "text/html": [
       "<div>\n",
       "<style scoped>\n",
       "    .dataframe tbody tr th:only-of-type {\n",
       "        vertical-align: middle;\n",
       "    }\n",
       "\n",
       "    .dataframe tbody tr th {\n",
       "        vertical-align: top;\n",
       "    }\n",
       "\n",
       "    .dataframe thead th {\n",
       "        text-align: right;\n",
       "    }\n",
       "</style>\n",
       "<table border=\"1\" class=\"dataframe\">\n",
       "  <thead>\n",
       "    <tr style=\"text-align: right;\">\n",
       "      <th></th>\n",
       "      <th>Open</th>\n",
       "      <th>High</th>\n",
       "      <th>Low</th>\n",
       "      <th>Close</th>\n",
       "    </tr>\n",
       "    <tr>\n",
       "      <th>Date</th>\n",
       "      <th></th>\n",
       "      <th></th>\n",
       "      <th></th>\n",
       "      <th></th>\n",
       "    </tr>\n",
       "  </thead>\n",
       "  <tbody>\n",
       "    <tr>\n",
       "      <th>31 Dec 2019</th>\n",
       "      <td>12247.10</td>\n",
       "      <td>12247.10</td>\n",
       "      <td>12151.80</td>\n",
       "      <td>12168.45</td>\n",
       "    </tr>\n",
       "    <tr>\n",
       "      <th>30 Dec 2019</th>\n",
       "      <td>12274.90</td>\n",
       "      <td>12286.45</td>\n",
       "      <td>12213.80</td>\n",
       "      <td>12255.85</td>\n",
       "    </tr>\n",
       "    <tr>\n",
       "      <th>27 Dec 2019</th>\n",
       "      <td>12172.90</td>\n",
       "      <td>12258.45</td>\n",
       "      <td>12157.90</td>\n",
       "      <td>12245.80</td>\n",
       "    </tr>\n",
       "    <tr>\n",
       "      <th>26 Dec 2019</th>\n",
       "      <td>12211.85</td>\n",
       "      <td>12221.55</td>\n",
       "      <td>12118.85</td>\n",
       "      <td>12126.55</td>\n",
       "    </tr>\n",
       "    <tr>\n",
       "      <th>24 Dec 2019</th>\n",
       "      <td>12269.25</td>\n",
       "      <td>12283.70</td>\n",
       "      <td>12202.10</td>\n",
       "      <td>12214.55</td>\n",
       "    </tr>\n",
       "  </tbody>\n",
       "</table>\n",
       "</div>"
      ],
      "text/plain": [
       "                 Open      High       Low     Close\n",
       "Date                                               \n",
       "31 Dec 2019  12247.10  12247.10  12151.80  12168.45\n",
       "30 Dec 2019  12274.90  12286.45  12213.80  12255.85\n",
       "27 Dec 2019  12172.90  12258.45  12157.90  12245.80\n",
       "26 Dec 2019  12211.85  12221.55  12118.85  12126.55\n",
       "24 Dec 2019  12269.25  12283.70  12202.10  12214.55"
      ]
     },
     "execution_count": 247,
     "metadata": {},
     "output_type": "execute_result"
    }
   ],
   "source": [
    "nifty_2019['nifty50'].head()"
   ]
  },
  {
   "cell_type": "code",
   "execution_count": 248,
   "metadata": {
    "colab": {
     "base_uri": "https://localhost:8080/",
     "height": 156
    },
    "colab_type": "code",
    "executionInfo": {
     "elapsed": 1242,
     "status": "ok",
     "timestamp": 1593671568857,
     "user": {
      "displayName": "Badal Kumar",
      "photoUrl": "https://lh3.googleusercontent.com/a-/AOh14Gg69uFQqBleXWW3oFZptK1CE2CMTy5m7PluKD5Z=s64",
      "userId": "09235070521043135989"
     },
     "user_tz": -330
    },
    "id": "JhFIu1ShOYnZ",
    "outputId": "8a44be8a-5a20-41c5-e751-7c88391bfe1b"
   },
   "outputs": [
    {
     "data": {
      "text/plain": [
       "Date\n",
       "31 Dec 2019    12247.10\n",
       "30 Dec 2019    12274.90\n",
       "27 Dec 2019    12172.90\n",
       "26 Dec 2019    12211.85\n",
       "24 Dec 2019    12269.25\n",
       "Name: Open, dtype: float64"
      ]
     },
     "execution_count": 248,
     "metadata": {},
     "output_type": "execute_result"
    }
   ],
   "source": [
    "nifty_2019['nifty50']['Open'].head()"
   ]
  },
  {
   "cell_type": "code",
   "execution_count": 249,
   "metadata": {
    "colab": {
     "base_uri": "https://localhost:8080/",
     "height": 116
    },
    "colab_type": "code",
    "executionInfo": {
     "elapsed": 990,
     "status": "ok",
     "timestamp": 1593671621111,
     "user": {
      "displayName": "Badal Kumar",
      "photoUrl": "https://lh3.googleusercontent.com/a-/AOh14Gg69uFQqBleXWW3oFZptK1CE2CMTy5m7PluKD5Z=s64",
      "userId": "09235070521043135989"
     },
     "user_tz": -330
    },
    "id": "1y0KPfZwOgW2",
    "outputId": "45fb80f2-4d29-4ba9-fd56-3ef58a2524b5"
   },
   "outputs": [
    {
     "data": {
      "text/plain": [
       "Open     12247.10\n",
       "High     12247.10\n",
       "Low      12151.80\n",
       "Close    12168.45\n",
       "Name: 31 Dec 2019, dtype: float64"
      ]
     },
     "execution_count": 249,
     "metadata": {},
     "output_type": "execute_result"
    }
   ],
   "source": [
    "nifty_2019['nifty50'].loc['31 Dec 2019']"
   ]
  },
  {
   "cell_type": "markdown",
   "metadata": {
    "colab_type": "text",
    "id": "AQ_iAwICPG38"
   },
   "source": [
    "Task on the NIFTY datsets:\n",
    "1. in 2019, how amny days was the NIFTY50 volatile(high> 105% of low)\n",
    "2. in 2019, in how many days was the NIFTYNEXT50 volatile(high> 105% of low)\n",
    "3. in 2019, how many days belonged to the four classes NIFTY50 volatile/ non-volatile and NIFTYNext50 volatile / non-volatile\n",
    "4. Compute the mean, median, std, var of closing values for each weekday in NIFTY50 for 2019\n",
    "5.  Compute the mean, median, std, var of closing values for each month in NIFTY50 for 2019\n",
    "6. On the days in which NIFTY50 closed higher than the open, what was the mean of(close-open) for NIFTYNext50\n",
    "7. in 2019, how many days had the day's high lower than the previous day's low in NIFTY50\n",
    "8. in 2019, on how many days did the day's close exceed the 30 day moving average in NIFTY50(exclude first month)"
   ]
  },
  {
   "cell_type": "code",
   "execution_count": null,
   "metadata": {
    "colab": {},
    "colab_type": "code",
    "id": "IOjJl9J3OxWE"
   },
   "outputs": [],
   "source": []
  }
 ],
 "metadata": {
  "colab": {
   "authorship_tag": "ABX9TyO1F9XOAvCErpkYDlb8Dd//",
   "name": "Pandas.ipynb",
   "provenance": []
  },
  "kernelspec": {
   "display_name": "Python 3",
   "language": "python",
   "name": "python3"
  },
  "language_info": {
   "codemirror_mode": {
    "name": "ipython",
    "version": 3
   },
   "file_extension": ".py",
   "mimetype": "text/x-python",
   "name": "python",
   "nbconvert_exporter": "python",
   "pygments_lexer": "ipython3",
   "version": "3.7.6"
  }
 },
 "nbformat": 4,
 "nbformat_minor": 1
}
