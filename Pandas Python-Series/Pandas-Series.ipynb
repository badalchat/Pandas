{
 "cells": [
  {
   "cell_type": "code",
   "execution_count": 1,
   "metadata": {},
   "outputs": [],
   "source": [
    "import numpy as np\n",
    "import pandas as pd"
   ]
  },
  {
   "cell_type": "markdown",
   "metadata": {},
   "source": [
    "## Creating Series Object"
   ]
  },
  {
   "cell_type": "code",
   "execution_count": 2,
   "metadata": {},
   "outputs": [],
   "source": [
    "s = pd.Series([0,1,1,2,3,5,8])"
   ]
  },
  {
   "cell_type": "code",
   "execution_count": 3,
   "metadata": {},
   "outputs": [
    {
     "name": "stdout",
     "output_type": "stream",
     "text": [
      "0    0\n",
      "1    1\n",
      "2    1\n",
      "3    2\n",
      "4    3\n",
      "5    5\n",
      "6    8\n",
      "dtype: int64\n"
     ]
    }
   ],
   "source": [
    "print(s)"
   ]
  },
  {
   "cell_type": "code",
   "execution_count": 4,
   "metadata": {},
   "outputs": [],
   "source": [
    "s = pd.Series([0.0, 1, 1, 2, 3, 5, 8])"
   ]
  },
  {
   "cell_type": "code",
   "execution_count": 5,
   "metadata": {},
   "outputs": [
    {
     "name": "stdout",
     "output_type": "stream",
     "text": [
      "0    0.0\n",
      "1    1.0\n",
      "2    1.0\n",
      "3    2.0\n",
      "4    3.0\n",
      "5    5.0\n",
      "6    8.0\n",
      "dtype: float64\n"
     ]
    }
   ],
   "source": [
    "print(s)"
   ]
  },
  {
   "cell_type": "code",
   "execution_count": 6,
   "metadata": {},
   "outputs": [
    {
     "data": {
      "text/plain": [
       "array([0., 1., 1., 2., 3., 5., 8.])"
      ]
     },
     "execution_count": 6,
     "metadata": {},
     "output_type": "execute_result"
    }
   ],
   "source": [
    "s.values"
   ]
  },
  {
   "cell_type": "code",
   "execution_count": 7,
   "metadata": {},
   "outputs": [
    {
     "data": {
      "text/plain": [
       "RangeIndex(start=0, stop=7, step=1)"
      ]
     },
     "execution_count": 7,
     "metadata": {},
     "output_type": "execute_result"
    }
   ],
   "source": [
    "s.index"
   ]
  },
  {
   "cell_type": "code",
   "execution_count": 8,
   "metadata": {},
   "outputs": [
    {
     "name": "stdout",
     "output_type": "stream",
     "text": [
      "0.0\n",
      "1.0\n",
      "1.0\n",
      "2.0\n",
      "3.0\n",
      "5.0\n",
      "8.0\n"
     ]
    }
   ],
   "source": [
    "for v in s.values:\n",
    "    print(v)"
   ]
  },
  {
   "cell_type": "code",
   "execution_count": 9,
   "metadata": {},
   "outputs": [
    {
     "name": "stdout",
     "output_type": "stream",
     "text": [
      "0\n",
      "1\n",
      "2\n",
      "3\n",
      "4\n",
      "5\n",
      "6\n"
     ]
    }
   ],
   "source": [
    "for i in s.index:\n",
    "    print(i)"
   ]
  },
  {
   "cell_type": "code",
   "execution_count": 10,
   "metadata": {},
   "outputs": [
    {
     "name": "stdout",
     "output_type": "stream",
     "text": [
      "(0, 0.0)\n",
      "(1, 1.0)\n",
      "(2, 1.0)\n",
      "(3, 2.0)\n",
      "(4, 3.0)\n",
      "(5, 5.0)\n",
      "(6, 8.0)\n"
     ]
    }
   ],
   "source": [
    "for item in zip(s.index, s.values):\n",
    "    print(item)"
   ]
  },
  {
   "cell_type": "code",
   "execution_count": 11,
   "metadata": {},
   "outputs": [
    {
     "data": {
      "text/plain": [
       "0.0"
      ]
     },
     "execution_count": 11,
     "metadata": {},
     "output_type": "execute_result"
    }
   ],
   "source": [
    "s[0]"
   ]
  },
  {
   "cell_type": "code",
   "execution_count": 12,
   "metadata": {},
   "outputs": [
    {
     "data": {
      "text/plain": [
       "5.0"
      ]
     },
     "execution_count": 12,
     "metadata": {},
     "output_type": "execute_result"
    }
   ],
   "source": [
    "s[5]"
   ]
  },
  {
   "cell_type": "code",
   "execution_count": 13,
   "metadata": {},
   "outputs": [],
   "source": [
    "mercury = pd.Series([0.33, 57.9, 4222.6], index=['mass','diameter','dayLength'])"
   ]
  },
  {
   "cell_type": "code",
   "execution_count": 14,
   "metadata": {},
   "outputs": [
    {
     "name": "stdout",
     "output_type": "stream",
     "text": [
      "mass            0.33\n",
      "diameter       57.90\n",
      "dayLength    4222.60\n",
      "dtype: float64\n"
     ]
    }
   ],
   "source": [
    "print(mercury )"
   ]
  },
  {
   "cell_type": "code",
   "execution_count": 15,
   "metadata": {},
   "outputs": [
    {
     "data": {
      "text/plain": [
       "0.33"
      ]
     },
     "execution_count": 15,
     "metadata": {},
     "output_type": "execute_result"
    }
   ],
   "source": [
    "mercury['mass']"
   ]
  },
  {
   "cell_type": "code",
   "execution_count": 16,
   "metadata": {},
   "outputs": [
    {
     "data": {
      "text/plain": [
       "4222.6"
      ]
     },
     "execution_count": 16,
     "metadata": {},
     "output_type": "execute_result"
    }
   ],
   "source": [
    "mercury ['dayLength']"
   ]
  },
  {
   "cell_type": "code",
   "execution_count": 17,
   "metadata": {},
   "outputs": [],
   "source": [
    "arr = np.random.randint(0,10,10)"
   ]
  },
  {
   "cell_type": "code",
   "execution_count": 18,
   "metadata": {},
   "outputs": [
    {
     "data": {
      "text/plain": [
       "array([4, 3, 6, 1, 6, 3, 5, 1, 1, 7])"
      ]
     },
     "execution_count": 18,
     "metadata": {},
     "output_type": "execute_result"
    }
   ],
   "source": [
    "arr"
   ]
  },
  {
   "cell_type": "code",
   "execution_count": 19,
   "metadata": {},
   "outputs": [],
   "source": [
    "ind = np.arange(10,20)"
   ]
  },
  {
   "cell_type": "code",
   "execution_count": 20,
   "metadata": {},
   "outputs": [],
   "source": [
    "rand_series = pd.Series(arr, index=ind)"
   ]
  },
  {
   "cell_type": "code",
   "execution_count": 21,
   "metadata": {},
   "outputs": [
    {
     "name": "stdout",
     "output_type": "stream",
     "text": [
      "10    4\n",
      "11    3\n",
      "12    6\n",
      "13    1\n",
      "14    6\n",
      "15    3\n",
      "16    5\n",
      "17    1\n",
      "18    1\n",
      "19    7\n",
      "dtype: int32\n"
     ]
    }
   ],
   "source": [
    "print(rand_series)"
   ]
  },
  {
   "cell_type": "code",
   "execution_count": 22,
   "metadata": {},
   "outputs": [],
   "source": [
    "# mercury  = pd.Series([0.33, 57.9, 4222.6], index=['mass','diameter','dayLength'])\n",
    "\n",
    "d={}\n",
    "d['mass'] = 0.33\n",
    "d['diameter'] = 57.9\n",
    "d['dayLength'] = 4222.6"
   ]
  },
  {
   "cell_type": "code",
   "execution_count": 23,
   "metadata": {},
   "outputs": [
    {
     "name": "stdout",
     "output_type": "stream",
     "text": [
      "{'mass': 0.33, 'diameter': 57.9, 'dayLength': 4222.6}\n"
     ]
    }
   ],
   "source": [
    "print(d)"
   ]
  },
  {
   "cell_type": "code",
   "execution_count": 24,
   "metadata": {},
   "outputs": [],
   "source": [
    "mercury  = pd.Series(d)"
   ]
  },
  {
   "cell_type": "code",
   "execution_count": 25,
   "metadata": {},
   "outputs": [
    {
     "name": "stdout",
     "output_type": "stream",
     "text": [
      "mass            0.33\n",
      "diameter       57.90\n",
      "dayLength    4222.60\n",
      "dtype: float64\n"
     ]
    }
   ],
   "source": [
    "print(mercury )"
   ]
  },
  {
   "cell_type": "code",
   "execution_count": 26,
   "metadata": {},
   "outputs": [],
   "source": [
    "mercury = pd.Series(d, index=['mass','diameter',])"
   ]
  },
  {
   "cell_type": "code",
   "execution_count": 27,
   "metadata": {},
   "outputs": [
    {
     "name": "stdout",
     "output_type": "stream",
     "text": [
      "mass         0.33\n",
      "diameter    57.90\n",
      "dtype: float64\n"
     ]
    }
   ],
   "source": [
    "print(mercury)"
   ]
  },
  {
   "cell_type": "markdown",
   "metadata": {},
   "source": [
    "## loc and iloc"
   ]
  },
  {
   "cell_type": "code",
   "execution_count": 28,
   "metadata": {},
   "outputs": [],
   "source": [
    "s = pd.Series([0.0, 1, 2, 3 ,4 ,5, 8], index=[1, 2, 3, 4, 5, 6, 7])"
   ]
  },
  {
   "cell_type": "code",
   "execution_count": 29,
   "metadata": {},
   "outputs": [
    {
     "name": "stdout",
     "output_type": "stream",
     "text": [
      "1    0.0\n",
      "2    1.0\n",
      "3    2.0\n",
      "4    3.0\n",
      "5    4.0\n",
      "6    5.0\n",
      "7    8.0\n",
      "dtype: float64\n"
     ]
    }
   ],
   "source": [
    "print(s)"
   ]
  },
  {
   "cell_type": "code",
   "execution_count": 30,
   "metadata": {},
   "outputs": [
    {
     "data": {
      "text/plain": [
       "3.0"
      ]
     },
     "execution_count": 30,
     "metadata": {},
     "output_type": "execute_result"
    }
   ],
   "source": [
    "s.loc[4]      # loc = location"
   ]
  },
  {
   "cell_type": "code",
   "execution_count": 31,
   "metadata": {},
   "outputs": [
    {
     "data": {
      "text/plain": [
       "4.0"
      ]
     },
     "execution_count": 31,
     "metadata": {},
     "output_type": "execute_result"
    }
   ],
   "source": [
    "s.iloc[4]     # iloc = implicut location"
   ]
  },
  {
   "cell_type": "code",
   "execution_count": 32,
   "metadata": {},
   "outputs": [],
   "source": [
    "# s.loc[0]"
   ]
  },
  {
   "cell_type": "code",
   "execution_count": 33,
   "metadata": {},
   "outputs": [],
   "source": [
    "mercury  = pd.Series([0.33, 57.9, 4222.6], index=['mass','diameter','dayLength'])"
   ]
  },
  {
   "cell_type": "code",
   "execution_count": 34,
   "metadata": {},
   "outputs": [
    {
     "data": {
      "text/plain": [
       "0.33"
      ]
     },
     "execution_count": 34,
     "metadata": {},
     "output_type": "execute_result"
    }
   ],
   "source": [
    "mercury.loc['mass']"
   ]
  },
  {
   "cell_type": "code",
   "execution_count": 35,
   "metadata": {},
   "outputs": [
    {
     "data": {
      "text/plain": [
       "0.33"
      ]
     },
     "execution_count": 35,
     "metadata": {},
     "output_type": "execute_result"
    }
   ],
   "source": [
    "mercury.iloc[0] "
   ]
  },
  {
   "cell_type": "code",
   "execution_count": 36,
   "metadata": {},
   "outputs": [
    {
     "data": {
      "text/plain": [
       "4222.6"
      ]
     },
     "execution_count": 36,
     "metadata": {},
     "output_type": "execute_result"
    }
   ],
   "source": [
    "mercury.iloc[-1]"
   ]
  },
  {
   "cell_type": "code",
   "execution_count": 37,
   "metadata": {},
   "outputs": [
    {
     "data": {
      "text/plain": [
       "mass         0.33\n",
       "diameter    57.90\n",
       "dtype: float64"
      ]
     },
     "execution_count": 37,
     "metadata": {},
     "output_type": "execute_result"
    }
   ],
   "source": [
    "mercury.iloc[:2]"
   ]
  },
  {
   "cell_type": "code",
   "execution_count": 38,
   "metadata": {},
   "outputs": [
    {
     "data": {
      "text/plain": [
       "mass            0.33\n",
       "diameter       57.90\n",
       "dayLength    4222.60\n",
       "dtype: float64"
      ]
     },
     "execution_count": 38,
     "metadata": {},
     "output_type": "execute_result"
    }
   ],
   "source": [
    "mercury.loc['mass':'dayLength']"
   ]
  },
  {
   "cell_type": "markdown",
   "metadata": {},
   "source": [
    "## Simple Operations"
   ]
  },
  {
   "cell_type": "code",
   "execution_count": 39,
   "metadata": {},
   "outputs": [],
   "source": [
    "mass = pd.Series([0.33, 4.87, 5.97, 0.642, 1898, 568, 86.8, 102, 0.0146],\n",
    "        index=['Mercury','Venus','Earth','Mars','Jupiter','Saturn','Uranus','Neptune', 'Pluto'])"
   ]
  },
  {
   "cell_type": "code",
   "execution_count": 40,
   "metadata": {},
   "outputs": [
    {
     "name": "stdout",
     "output_type": "stream",
     "text": [
      "Mercury       0.3300\n",
      "Venus         4.8700\n",
      "Earth         5.9700\n",
      "Mars          0.6420\n",
      "Jupiter    1898.0000\n",
      "Saturn      568.0000\n",
      "Uranus       86.8000\n",
      "Neptune     102.0000\n",
      "Pluto         0.0146\n",
      "dtype: float64\n"
     ]
    }
   ],
   "source": [
    "print(mass)"
   ]
  },
  {
   "cell_type": "code",
   "execution_count": 41,
   "metadata": {},
   "outputs": [
    {
     "data": {
      "text/plain": [
       "4.87"
      ]
     },
     "execution_count": 41,
     "metadata": {},
     "output_type": "execute_result"
    }
   ],
   "source": [
    "mass.iloc[1]"
   ]
  },
  {
   "cell_type": "code",
   "execution_count": 42,
   "metadata": {},
   "outputs": [
    {
     "data": {
      "text/plain": [
       "5.97"
      ]
     },
     "execution_count": 42,
     "metadata": {},
     "output_type": "execute_result"
    }
   ],
   "source": [
    "mass.loc['Earth']"
   ]
  },
  {
   "cell_type": "code",
   "execution_count": 43,
   "metadata": {},
   "outputs": [
    {
     "data": {
      "text/plain": [
       "5.97"
      ]
     },
     "execution_count": 43,
     "metadata": {},
     "output_type": "execute_result"
    }
   ],
   "source": [
    "mass['Earth']"
   ]
  },
  {
   "cell_type": "code",
   "execution_count": 44,
   "metadata": {},
   "outputs": [
    {
     "data": {
      "text/plain": [
       "Earth         5.970\n",
       "Mars          0.642\n",
       "Jupiter    1898.000\n",
       "dtype: float64"
      ]
     },
     "execution_count": 44,
     "metadata": {},
     "output_type": "execute_result"
    }
   ],
   "source": [
    "mass['Earth':'Jupiter']"
   ]
  },
  {
   "cell_type": "code",
   "execution_count": 45,
   "metadata": {},
   "outputs": [
    {
     "data": {
      "text/plain": [
       "Earth         5.970\n",
       "Mars          0.642\n",
       "Jupiter    1898.000\n",
       "dtype: float64"
      ]
     },
     "execution_count": 45,
     "metadata": {},
     "output_type": "execute_result"
    }
   ],
   "source": [
    "mass[2:5]"
   ]
  },
  {
   "cell_type": "code",
   "execution_count": 46,
   "metadata": {},
   "outputs": [
    {
     "data": {
      "text/plain": [
       "Earth         5.970\n",
       "Mars          0.642\n",
       "Jupiter    1898.000\n",
       "dtype: float64"
      ]
     },
     "execution_count": 46,
     "metadata": {},
     "output_type": "execute_result"
    }
   ],
   "source": [
    "mass.iloc[2:5]"
   ]
  },
  {
   "cell_type": "code",
   "execution_count": 47,
   "metadata": {},
   "outputs": [
    {
     "data": {
      "text/plain": [
       "Mercury    False\n",
       "Venus      False\n",
       "Earth      False\n",
       "Mars       False\n",
       "Jupiter     True\n",
       "Saturn      True\n",
       "Uranus     False\n",
       "Neptune     True\n",
       "Pluto      False\n",
       "dtype: bool"
      ]
     },
     "execution_count": 47,
     "metadata": {},
     "output_type": "execute_result"
    }
   ],
   "source": [
    "mass > 100"
   ]
  },
  {
   "cell_type": "code",
   "execution_count": 48,
   "metadata": {},
   "outputs": [
    {
     "data": {
      "text/plain": [
       "Jupiter    1898.0\n",
       "Saturn      568.0\n",
       "Neptune     102.0\n",
       "dtype: float64"
      ]
     },
     "execution_count": 48,
     "metadata": {},
     "output_type": "execute_result"
    }
   ],
   "source": [
    "mass[mass > 100]"
   ]
  },
  {
   "cell_type": "code",
   "execution_count": 49,
   "metadata": {},
   "outputs": [
    {
     "data": {
      "text/plain": [
       "Saturn     568.0\n",
       "Neptune    102.0\n",
       "dtype: float64"
      ]
     },
     "execution_count": 49,
     "metadata": {},
     "output_type": "execute_result"
    }
   ],
   "source": [
    "mass[(mass > 100) & (mass < 600)]"
   ]
  },
  {
   "cell_type": "code",
   "execution_count": 50,
   "metadata": {},
   "outputs": [
    {
     "data": {
      "text/plain": [
       "Mercury       0.3300\n",
       "Venus         4.8700\n",
       "Earth         5.9700\n",
       "Mars          0.6420\n",
       "Jupiter    1898.0000\n",
       "Saturn      568.0000\n",
       "Uranus       86.8000\n",
       "Neptune     102.0000\n",
       "Pluto         0.0146\n",
       "dtype: float64"
      ]
     },
     "execution_count": 50,
     "metadata": {},
     "output_type": "execute_result"
    }
   ],
   "source": [
    "mass "
   ]
  },
  {
   "cell_type": "code",
   "execution_count": 51,
   "metadata": {},
   "outputs": [
    {
     "data": {
      "text/plain": [
       "Mercury       0.6600\n",
       "Venus         9.7400\n",
       "Earth        11.9400\n",
       "Mars          1.2840\n",
       "Jupiter    3796.0000\n",
       "Saturn     1136.0000\n",
       "Uranus      173.6000\n",
       "Neptune     204.0000\n",
       "Pluto         0.0292\n",
       "dtype: float64"
      ]
     },
     "execution_count": 51,
     "metadata": {},
     "output_type": "execute_result"
    }
   ],
   "source": [
    "mass * 2"
   ]
  },
  {
   "cell_type": "code",
   "execution_count": 52,
   "metadata": {},
   "outputs": [
    {
     "data": {
      "text/plain": [
       "Mercury      0.03300\n",
       "Venus        0.48700\n",
       "Earth        0.59700\n",
       "Mars         0.06420\n",
       "Jupiter    189.80000\n",
       "Saturn      56.80000\n",
       "Uranus       8.68000\n",
       "Neptune     10.20000\n",
       "Pluto        0.00146\n",
       "dtype: float64"
      ]
     },
     "execution_count": 52,
     "metadata": {},
     "output_type": "execute_result"
    }
   ],
   "source": [
    "mass / 10"
   ]
  },
  {
   "cell_type": "code",
   "execution_count": 53,
   "metadata": {},
   "outputs": [
    {
     "data": {
      "text/plain": [
       "296.29184444444445"
      ]
     },
     "execution_count": 53,
     "metadata": {},
     "output_type": "execute_result"
    }
   ],
   "source": [
    "np.mean(mass)"
   ]
  },
  {
   "cell_type": "code",
   "execution_count": 54,
   "metadata": {},
   "outputs": [
    {
     "data": {
      "text/plain": [
       "0.0146"
      ]
     },
     "execution_count": 54,
     "metadata": {},
     "output_type": "execute_result"
    }
   ],
   "source": [
    "np.amin(mass)"
   ]
  },
  {
   "cell_type": "code",
   "execution_count": 55,
   "metadata": {},
   "outputs": [
    {
     "data": {
      "text/plain": [
       "1898.0"
      ]
     },
     "execution_count": 55,
     "metadata": {},
     "output_type": "execute_result"
    }
   ],
   "source": [
    "np.amax(mass)"
   ]
  },
  {
   "cell_type": "code",
   "execution_count": 56,
   "metadata": {},
   "outputs": [
    {
     "data": {
      "text/plain": [
       "5.97"
      ]
     },
     "execution_count": 56,
     "metadata": {},
     "output_type": "execute_result"
    }
   ],
   "source": [
    "np.median(mass)"
   ]
  },
  {
   "cell_type": "code",
   "execution_count": 57,
   "metadata": {},
   "outputs": [
    {
     "data": {
      "text/plain": [
       "Mercury       0.6600\n",
       "Venus         9.7400\n",
       "Earth        11.9400\n",
       "Mars          1.2840\n",
       "Jupiter    3796.0000\n",
       "Saturn     1136.0000\n",
       "Uranus      173.6000\n",
       "Neptune     204.0000\n",
       "Pluto         0.0292\n",
       "dtype: float64"
      ]
     },
     "execution_count": 57,
     "metadata": {},
     "output_type": "execute_result"
    }
   ],
   "source": [
    "mass + mass"
   ]
  },
  {
   "cell_type": "code",
   "execution_count": 58,
   "metadata": {},
   "outputs": [
    {
     "data": {
      "text/plain": [
       "Mercury    0.0\n",
       "Venus      0.0\n",
       "Earth      0.0\n",
       "Mars       0.0\n",
       "Jupiter    0.0\n",
       "Saturn     0.0\n",
       "Uranus     0.0\n",
       "Neptune    0.0\n",
       "Pluto      0.0\n",
       "dtype: float64"
      ]
     },
     "execution_count": 58,
     "metadata": {},
     "output_type": "execute_result"
    }
   ],
   "source": [
    "mass - mass"
   ]
  },
  {
   "cell_type": "code",
   "execution_count": 59,
   "metadata": {},
   "outputs": [],
   "source": [
    "big_mass = mass[mass> 100]"
   ]
  },
  {
   "cell_type": "code",
   "execution_count": 60,
   "metadata": {},
   "outputs": [
    {
     "data": {
      "text/plain": [
       "Jupiter    1898.0\n",
       "Saturn      568.0\n",
       "Neptune     102.0\n",
       "dtype: float64"
      ]
     },
     "execution_count": 60,
     "metadata": {},
     "output_type": "execute_result"
    }
   ],
   "source": [
    "big_mass"
   ]
  },
  {
   "cell_type": "code",
   "execution_count": 61,
   "metadata": {},
   "outputs": [
    {
     "data": {
      "text/plain": [
       "Mercury       0.3300\n",
       "Venus         4.8700\n",
       "Earth         5.9700\n",
       "Mars          0.6420\n",
       "Jupiter    1898.0000\n",
       "Saturn      568.0000\n",
       "Uranus       86.8000\n",
       "Neptune     102.0000\n",
       "Pluto         0.0146\n",
       "dtype: float64"
      ]
     },
     "execution_count": 61,
     "metadata": {},
     "output_type": "execute_result"
    }
   ],
   "source": [
    "mass"
   ]
  },
  {
   "cell_type": "code",
   "execution_count": 62,
   "metadata": {},
   "outputs": [],
   "source": [
    "new_mass = mass + big_mass"
   ]
  },
  {
   "cell_type": "code",
   "execution_count": 63,
   "metadata": {},
   "outputs": [
    {
     "data": {
      "text/plain": [
       "Earth         NaN\n",
       "Jupiter    3796.0\n",
       "Mars          NaN\n",
       "Mercury       NaN\n",
       "Neptune     204.0\n",
       "Pluto         NaN\n",
       "Saturn     1136.0\n",
       "Uranus        NaN\n",
       "Venus         NaN\n",
       "dtype: float64"
      ]
     },
     "execution_count": 63,
     "metadata": {},
     "output_type": "execute_result"
    }
   ],
   "source": [
    "new_mass"
   ]
  },
  {
   "cell_type": "code",
   "execution_count": 64,
   "metadata": {},
   "outputs": [
    {
     "data": {
      "text/plain": [
       "Earth       True\n",
       "Jupiter    False\n",
       "Mars        True\n",
       "Mercury     True\n",
       "Neptune    False\n",
       "Pluto       True\n",
       "Saturn     False\n",
       "Uranus      True\n",
       "Venus       True\n",
       "dtype: bool"
      ]
     },
     "execution_count": 64,
     "metadata": {},
     "output_type": "execute_result"
    }
   ],
   "source": [
    "pd.isnull(new_mass)"
   ]
  },
  {
   "cell_type": "code",
   "execution_count": 65,
   "metadata": {},
   "outputs": [
    {
     "data": {
      "text/plain": [
       "Jupiter    3796.0\n",
       "Neptune     204.0\n",
       "Saturn     1136.0\n",
       "dtype: float64"
      ]
     },
     "execution_count": 65,
     "metadata": {},
     "output_type": "execute_result"
    }
   ],
   "source": [
    "new_mass[-pd.isnull(new_mass)]"
   ]
  },
  {
   "cell_type": "code",
   "execution_count": 66,
   "metadata": {},
   "outputs": [
    {
     "data": {
      "text/plain": [
       "Mercury       0.3300\n",
       "Venus         4.8700\n",
       "Earth         5.9700\n",
       "Mars          0.6420\n",
       "Jupiter    1898.0000\n",
       "Saturn      568.0000\n",
       "Uranus       86.8000\n",
       "Neptune     102.0000\n",
       "Pluto         0.0146\n",
       "dtype: float64"
      ]
     },
     "execution_count": 66,
     "metadata": {},
     "output_type": "execute_result"
    }
   ],
   "source": [
    "mass"
   ]
  },
  {
   "cell_type": "code",
   "execution_count": 67,
   "metadata": {},
   "outputs": [],
   "source": [
    "mass['Moon'] = 0.7346"
   ]
  },
  {
   "cell_type": "code",
   "execution_count": 68,
   "metadata": {},
   "outputs": [
    {
     "data": {
      "text/plain": [
       "Mercury       0.3300\n",
       "Venus         4.8700\n",
       "Earth         5.9700\n",
       "Mars          0.6420\n",
       "Jupiter    1898.0000\n",
       "Saturn      568.0000\n",
       "Uranus       86.8000\n",
       "Neptune     102.0000\n",
       "Pluto         0.0146\n",
       "Moon          0.7346\n",
       "dtype: float64"
      ]
     },
     "execution_count": 68,
     "metadata": {},
     "output_type": "execute_result"
    }
   ],
   "source": [
    "mass"
   ]
  },
  {
   "cell_type": "code",
   "execution_count": 69,
   "metadata": {},
   "outputs": [
    {
     "data": {
      "text/plain": [
       "Mercury       0.3300\n",
       "Venus         4.8700\n",
       "Earth         5.9700\n",
       "Mars          0.6420\n",
       "Jupiter    1898.0000\n",
       "Saturn      568.0000\n",
       "Uranus       86.8000\n",
       "Neptune     102.0000\n",
       "Moon          0.7346\n",
       "dtype: float64"
      ]
     },
     "execution_count": 69,
     "metadata": {},
     "output_type": "execute_result"
    }
   ],
   "source": [
    "mass.drop(['Pluto'])"
   ]
  },
  {
   "cell_type": "markdown",
   "metadata": {},
   "source": [
    "## Task"
   ]
  },
  {
   "cell_type": "markdown",
   "metadata": {},
   "source": [
    "### Task-1\n",
    "Collect number for the diameters of these planets(heavenly bodies) and store it as a series object. Then given these two Series objects mass and diameter, compute the density of each planet.\n"
   ]
  },
  {
   "cell_type": "code",
   "execution_count": 70,
   "metadata": {},
   "outputs": [],
   "source": [
    "diameter = pd.Series([4879, 12104, 12756, 3475, 6792, 142984, 120536, 51118, 49528, 2370],\n",
    "                     index=['Mercury','Venus','Earth','Moon','Mars','Jupiter','Saturn','Uranus','Neptune','Pluto'])\n"
   ]
  },
  {
   "cell_type": "code",
   "execution_count": 71,
   "metadata": {},
   "outputs": [],
   "source": [
    "density = pd.Series([])"
   ]
  },
  {
   "cell_type": "code",
   "execution_count": 72,
   "metadata": {},
   "outputs": [
    {
     "name": "stdout",
     "output_type": "stream",
     "text": [
      "Series([], dtype: float64)\n"
     ]
    }
   ],
   "source": [
    "print(density)"
   ]
  },
  {
   "cell_type": "code",
   "execution_count": 73,
   "metadata": {},
   "outputs": [
    {
     "data": {
      "text/plain": [
       "Mercury       0.3300\n",
       "Venus         4.8700\n",
       "Earth         5.9700\n",
       "Mars          0.6420\n",
       "Jupiter    1898.0000\n",
       "Saturn      568.0000\n",
       "Uranus       86.8000\n",
       "Neptune     102.0000\n",
       "Pluto         0.0146\n",
       "Moon          0.7346\n",
       "dtype: float64"
      ]
     },
     "execution_count": 73,
     "metadata": {},
     "output_type": "execute_result"
    }
   ],
   "source": [
    "mass"
   ]
  },
  {
   "cell_type": "code",
   "execution_count": 74,
   "metadata": {},
   "outputs": [
    {
     "data": {
      "text/plain": [
       "Mercury      4879\n",
       "Venus       12104\n",
       "Earth       12756\n",
       "Moon         3475\n",
       "Mars         6792\n",
       "Jupiter    142984\n",
       "Saturn     120536\n",
       "Uranus      51118\n",
       "Neptune     49528\n",
       "Pluto        2370\n",
       "dtype: int64"
      ]
     },
     "execution_count": 74,
     "metadata": {},
     "output_type": "execute_result"
    }
   ],
   "source": [
    "diameter"
   ]
  },
  {
   "cell_type": "code",
   "execution_count": 75,
   "metadata": {},
   "outputs": [],
   "source": [
    "for planet in mass.index:\n",
    "    density[planet]=mass[planet]/(np.pi * diameter[planet]*  diameter[planet]* diameter[planet]/6) "
   ]
  },
  {
   "cell_type": "code",
   "execution_count": 76,
   "metadata": {},
   "outputs": [
    {
     "name": "stdout",
     "output_type": "stream",
     "text": [
      "Mercury    5.426538e-12\n",
      "Venus      5.244977e-12\n",
      "Earth      5.493286e-12\n",
      "Mars       3.913302e-12\n",
      "Jupiter    1.240039e-12\n",
      "Saturn     6.194402e-13\n",
      "Uranus     1.241079e-12\n",
      "Neptune    1.603427e-12\n",
      "Pluto      2.094639e-12\n",
      "Moon       3.343396e-11\n",
      "dtype: float64\n"
     ]
    }
   ],
   "source": [
    "print(density)"
   ]
  },
  {
   "cell_type": "code",
   "execution_count": 77,
   "metadata": {},
   "outputs": [],
   "source": [
    "density = mass/(np.pi * np.power(diameter, 3)/6)"
   ]
  },
  {
   "cell_type": "code",
   "execution_count": 78,
   "metadata": {},
   "outputs": [
    {
     "data": {
      "text/plain": [
       "Earth      5.493286e-12\n",
       "Jupiter    1.240039e-12\n",
       "Mars       3.913302e-12\n",
       "Mercury    5.426538e-12\n",
       "Moon       3.343396e-11\n",
       "Neptune    1.603427e-12\n",
       "Pluto      2.094639e-12\n",
       "Saturn     6.194402e-13\n",
       "Uranus     1.241079e-12\n",
       "Venus      5.244977e-12\n",
       "dtype: float64"
      ]
     },
     "execution_count": 78,
     "metadata": {},
     "output_type": "execute_result"
    }
   ],
   "source": [
    "density"
   ]
  },
  {
   "cell_type": "code",
   "execution_count": 79,
   "metadata": {},
   "outputs": [],
   "source": [
    "mass['planetX']=6"
   ]
  },
  {
   "cell_type": "code",
   "execution_count": 80,
   "metadata": {},
   "outputs": [],
   "source": [
    "density = mass/(np.pi * np.power(diameter, 3)/6)"
   ]
  },
  {
   "cell_type": "code",
   "execution_count": 81,
   "metadata": {},
   "outputs": [
    {
     "data": {
      "text/plain": [
       "Earth      5.493286e-12\n",
       "Jupiter    1.240039e-12\n",
       "Mars       3.913302e-12\n",
       "Mercury    5.426538e-12\n",
       "Moon       3.343396e-11\n",
       "Neptune    1.603427e-12\n",
       "Pluto      2.094639e-12\n",
       "Saturn     6.194402e-13\n",
       "Uranus     1.241079e-12\n",
       "Venus      5.244977e-12\n",
       "planetX             NaN\n",
       "dtype: float64"
      ]
     },
     "execution_count": 81,
     "metadata": {},
     "output_type": "execute_result"
    }
   ],
   "source": [
    "density"
   ]
  },
  {
   "cell_type": "markdown",
   "metadata": {},
   "source": [
    "### Task-2\n",
    "Given this density Series , replace all values which NaNs with the mean density of all planets."
   ]
  },
  {
   "cell_type": "code",
   "execution_count": 82,
   "metadata": {},
   "outputs": [
    {
     "data": {
      "text/plain": [
       "Earth      5.493286e-12\n",
       "Jupiter    1.240039e-12\n",
       "Mars       3.913302e-12\n",
       "Mercury    5.426538e-12\n",
       "Moon       3.343396e-11\n",
       "Neptune    1.603427e-12\n",
       "Pluto      2.094639e-12\n",
       "Saturn     6.194402e-13\n",
       "Uranus     1.241079e-12\n",
       "Venus      5.244977e-12\n",
       "planetX             NaN\n",
       "dtype: float64"
      ]
     },
     "execution_count": 82,
     "metadata": {},
     "output_type": "execute_result"
    }
   ],
   "source": [
    "density"
   ]
  },
  {
   "cell_type": "code",
   "execution_count": 83,
   "metadata": {},
   "outputs": [],
   "source": [
    "density_mean = np.mean(density)\n",
    "for key in density.index:\n",
    "    if pd.isnull(density[key]):\n",
    "        density[key] = density_mean"
   ]
  },
  {
   "cell_type": "code",
   "execution_count": 84,
   "metadata": {},
   "outputs": [
    {
     "data": {
      "text/plain": [
       "Earth      5.493286e-12\n",
       "Jupiter    1.240039e-12\n",
       "Mars       3.913302e-12\n",
       "Mercury    5.426538e-12\n",
       "Moon       3.343396e-11\n",
       "Neptune    1.603427e-12\n",
       "Pluto      2.094639e-12\n",
       "Saturn     6.194402e-13\n",
       "Uranus     1.241079e-12\n",
       "Venus      5.244977e-12\n",
       "planetX    6.031069e-12\n",
       "dtype: float64"
      ]
     },
     "execution_count": 84,
     "metadata": {},
     "output_type": "execute_result"
    }
   ],
   "source": [
    "density"
   ]
  },
  {
   "cell_type": "code",
   "execution_count": 85,
   "metadata": {},
   "outputs": [],
   "source": [
    "density[pd.isnull(density)] = np.mean(density)"
   ]
  },
  {
   "cell_type": "code",
   "execution_count": 86,
   "metadata": {},
   "outputs": [
    {
     "data": {
      "text/plain": [
       "Earth      5.493286e-12\n",
       "Jupiter    1.240039e-12\n",
       "Mars       3.913302e-12\n",
       "Mercury    5.426538e-12\n",
       "Moon       3.343396e-11\n",
       "Neptune    1.603427e-12\n",
       "Pluto      2.094639e-12\n",
       "Saturn     6.194402e-13\n",
       "Uranus     1.241079e-12\n",
       "Venus      5.244977e-12\n",
       "planetX    6.031069e-12\n",
       "dtype: float64"
      ]
     },
     "execution_count": 86,
     "metadata": {},
     "output_type": "execute_result"
    }
   ],
   "source": [
    "density"
   ]
  },
  {
   "cell_type": "markdown",
   "metadata": {},
   "source": [
    "### Task-3¶\n",
    "Compare Dictonary with Series:\n",
    "\n",
    "* check if some key is present\n",
    "* summing values\n",
    "* computing std"
   ]
  },
  {
   "cell_type": "code",
   "execution_count": 87,
   "metadata": {},
   "outputs": [],
   "source": [
    "my_dict = {}\n",
    "N=100000\n",
    "for i in range(N):\n",
    "    my_dict[i] = i*10"
   ]
  },
  {
   "cell_type": "code",
   "execution_count": 88,
   "metadata": {},
   "outputs": [],
   "source": [
    "my_series = pd.Series(my_dict)"
   ]
  },
  {
   "cell_type": "code",
   "execution_count": 89,
   "metadata": {},
   "outputs": [],
   "source": [
    "M = 10000"
   ]
  },
  {
   "cell_type": "code",
   "execution_count": 90,
   "metadata": {},
   "outputs": [],
   "source": [
    "arr = np.random.randint(0, N, M)"
   ]
  },
  {
   "cell_type": "code",
   "execution_count": 91,
   "metadata": {},
   "outputs": [
    {
     "name": "stdout",
     "output_type": "stream",
     "text": [
      "Wall time: 39.9 ms\n"
     ]
    }
   ],
   "source": [
    "%%time\n",
    "for i in arr:\n",
    "    i in my_dict"
   ]
  },
  {
   "cell_type": "code",
   "execution_count": 92,
   "metadata": {},
   "outputs": [
    {
     "name": "stdout",
     "output_type": "stream",
     "text": [
      "Wall time: 62.3 ms\n"
     ]
    }
   ],
   "source": [
    "%%time\n",
    "for i in arr:\n",
    "    i in my_series"
   ]
  },
  {
   "cell_type": "code",
   "execution_count": 93,
   "metadata": {},
   "outputs": [
    {
     "name": "stdout",
     "output_type": "stream",
     "text": [
      "3.28 ms ± 139 µs per loop (mean ± std. dev. of 7 runs, 100 loops each)\n"
     ]
    }
   ],
   "source": [
    "%%timeit\n",
    "sum(my_dict.values())"
   ]
  },
  {
   "cell_type": "code",
   "execution_count": 94,
   "metadata": {},
   "outputs": [
    {
     "name": "stdout",
     "output_type": "stream",
     "text": [
      "533 µs ± 101 µs per loop (mean ± std. dev. of 7 runs, 1000 loops each)\n"
     ]
    }
   ],
   "source": [
    "%%timeit\n",
    "np.sum(my_series)"
   ]
  },
  {
   "cell_type": "code",
   "execution_count": 95,
   "metadata": {},
   "outputs": [
    {
     "name": "stdout",
     "output_type": "stream",
     "text": [
      "32.2 ms ± 480 µs per loop (mean ± std. dev. of 7 runs, 10 loops each)\n"
     ]
    }
   ],
   "source": [
    "%%timeit\n",
    "mean = sum(my_dict.values())/N\n",
    "variance = sum([(x - mean)**2 for x in my_dict.values()])\n",
    "std = variance ** 0.5"
   ]
  },
  {
   "cell_type": "code",
   "execution_count": 96,
   "metadata": {},
   "outputs": [
    {
     "name": "stdout",
     "output_type": "stream",
     "text": [
      "2.35 ms ± 125 µs per loop (mean ± std. dev. of 7 runs, 100 loops each)\n"
     ]
    }
   ],
   "source": [
    "%%timeit\n",
    "np.std(my_series)"
   ]
  },
  {
   "cell_type": "markdown",
   "metadata": {},
   "source": [
    "### Nifty Case-Study"
   ]
  },
  {
   "cell_type": "code",
   "execution_count": 97,
   "metadata": {},
   "outputs": [],
   "source": [
    "nifty = pd.read_csv('nifty.csv', index_col=0).iloc[:,0]"
   ]
  },
  {
   "cell_type": "code",
   "execution_count": 98,
   "metadata": {},
   "outputs": [
    {
     "data": {
      "text/plain": [
       "Date\n",
       "01-Jan-2019    10910.10\n",
       "02-Jan-2019    10792.50\n",
       "03-Jan-2019    10672.25\n",
       "04-Jan-2019    10727.35\n",
       "07-Jan-2019    10771.80\n",
       "08-Jan-2019    10802.15\n",
       "09-Jan-2019    10855.15\n",
       "10-Jan-2019    10821.60\n",
       "11-Jan-2019    10794.95\n",
       "14-Jan-2019    10737.60\n",
       "15-Jan-2019    10886.80\n",
       "16-Jan-2019    10890.30\n",
       "17-Jan-2019    10905.20\n",
       "18-Jan-2019    10906.95\n",
       "21-Jan-2019    10961.85\n",
       "22-Jan-2019    10922.75\n",
       "23-Jan-2019    10831.50\n",
       "24-Jan-2019    10849.80\n",
       "25-Jan-2019    10780.55\n",
       "28-Jan-2019    10661.55\n",
       "29-Jan-2019    10652.20\n",
       "30-Jan-2019    10651.80\n",
       "31-Jan-2019    10830.95\n",
       "01-Feb-2019    10893.65\n",
       "04-Feb-2019    10912.25\n",
       "05-Feb-2019    10934.35\n",
       "06-Feb-2019    11062.45\n",
       "07-Feb-2019    11069.40\n",
       "08-Feb-2019    10943.60\n",
       "11-Feb-2019    10888.80\n",
       "                 ...   \n",
       "19-Nov-2019    11940.10\n",
       "20-Nov-2019    11999.10\n",
       "21-Nov-2019    11968.40\n",
       "22-Nov-2019    11914.40\n",
       "25-Nov-2019    12073.75\n",
       "26-Nov-2019    12037.70\n",
       "27-Nov-2019    12100.70\n",
       "28-Nov-2019    12151.15\n",
       "29-Nov-2019    12056.05\n",
       "02-Dec-2019    12048.20\n",
       "03-Dec-2019    11994.20\n",
       "04-Dec-2019    12043.20\n",
       "05-Dec-2019    12018.40\n",
       "06-Dec-2019    11921.50\n",
       "09-Dec-2019    11937.50\n",
       "10-Dec-2019    11856.80\n",
       "11-Dec-2019    11910.15\n",
       "12-Dec-2019    11971.80\n",
       "13-Dec-2019    12086.70\n",
       "16-Dec-2019    12053.95\n",
       "17-Dec-2019    12165.00\n",
       "18-Dec-2019    12221.65\n",
       "19-Dec-2019    12259.70\n",
       "20-Dec-2019    12271.80\n",
       "23-Dec-2019    12262.75\n",
       "24-Dec-2019    12214.55\n",
       "26-Dec-2019    12126.55\n",
       "27-Dec-2019    12245.80\n",
       "30-Dec-2019    12255.85\n",
       "31-Dec-2019    12168.45\n",
       "Name: Close, Length: 245, dtype: float64"
      ]
     },
     "execution_count": 98,
     "metadata": {},
     "output_type": "execute_result"
    }
   ],
   "source": [
    "nifty"
   ]
  },
  {
   "cell_type": "code",
   "execution_count": 99,
   "metadata": {},
   "outputs": [
    {
     "data": {
      "text/plain": [
       "Date\n",
       "01-Jan-2019    10910.10\n",
       "02-Jan-2019    10792.50\n",
       "03-Jan-2019    10672.25\n",
       "04-Jan-2019    10727.35\n",
       "07-Jan-2019    10771.80\n",
       "08-Jan-2019    10802.15\n",
       "09-Jan-2019    10855.15\n",
       "10-Jan-2019    10821.60\n",
       "11-Jan-2019    10794.95\n",
       "14-Jan-2019    10737.60\n",
       "15-Jan-2019    10886.80\n",
       "16-Jan-2019    10890.30\n",
       "17-Jan-2019    10905.20\n",
       "18-Jan-2019    10906.95\n",
       "21-Jan-2019    10961.85\n",
       "22-Jan-2019    10922.75\n",
       "23-Jan-2019    10831.50\n",
       "24-Jan-2019    10849.80\n",
       "25-Jan-2019    10780.55\n",
       "28-Jan-2019    10661.55\n",
       "29-Jan-2019    10652.20\n",
       "30-Jan-2019    10651.80\n",
       "31-Jan-2019    10830.95\n",
       "01-Feb-2019    10893.65\n",
       "04-Feb-2019    10912.25\n",
       "Name: Close, dtype: float64"
      ]
     },
     "execution_count": 99,
     "metadata": {},
     "output_type": "execute_result"
    }
   ],
   "source": [
    "nifty.head(25)"
   ]
  },
  {
   "cell_type": "code",
   "execution_count": 100,
   "metadata": {},
   "outputs": [
    {
     "data": {
      "text/plain": [
       "11432.632244897959"
      ]
     },
     "execution_count": 100,
     "metadata": {},
     "output_type": "execute_result"
    }
   ],
   "source": [
    "np.mean(nifty)"
   ]
  },
  {
   "cell_type": "code",
   "execution_count": 101,
   "metadata": {},
   "outputs": [
    {
     "data": {
      "text/plain": [
       "11512.4"
      ]
     },
     "execution_count": 101,
     "metadata": {},
     "output_type": "execute_result"
    }
   ],
   "source": [
    "np.median(nifty)"
   ]
  },
  {
   "cell_type": "code",
   "execution_count": 102,
   "metadata": {},
   "outputs": [
    {
     "data": {
      "text/plain": [
       "453.28669474598075"
      ]
     },
     "execution_count": 102,
     "metadata": {},
     "output_type": "execute_result"
    }
   ],
   "source": [
    "np.std(nifty)"
   ]
  },
  {
   "cell_type": "markdown",
   "metadata": {},
   "source": [
    "Q. What fraction of days did the markets close higher than the previous day's close"
   ]
  },
  {
   "cell_type": "code",
   "execution_count": 103,
   "metadata": {},
   "outputs": [
    {
     "data": {
      "text/plain": [
       "10910.1"
      ]
     },
     "execution_count": 103,
     "metadata": {},
     "output_type": "execute_result"
    }
   ],
   "source": [
    "nifty[0]"
   ]
  },
  {
   "cell_type": "code",
   "execution_count": 104,
   "metadata": {},
   "outputs": [
    {
     "data": {
      "text/plain": [
       "Date\n",
       "02-Jan-2019    10792.50\n",
       "03-Jan-2019    10672.25\n",
       "04-Jan-2019    10727.35\n",
       "07-Jan-2019    10771.80\n",
       "08-Jan-2019    10802.15\n",
       "09-Jan-2019    10855.15\n",
       "10-Jan-2019    10821.60\n",
       "11-Jan-2019    10794.95\n",
       "14-Jan-2019    10737.60\n",
       "15-Jan-2019    10886.80\n",
       "16-Jan-2019    10890.30\n",
       "17-Jan-2019    10905.20\n",
       "18-Jan-2019    10906.95\n",
       "21-Jan-2019    10961.85\n",
       "22-Jan-2019    10922.75\n",
       "23-Jan-2019    10831.50\n",
       "24-Jan-2019    10849.80\n",
       "25-Jan-2019    10780.55\n",
       "28-Jan-2019    10661.55\n",
       "29-Jan-2019    10652.20\n",
       "30-Jan-2019    10651.80\n",
       "31-Jan-2019    10830.95\n",
       "01-Feb-2019    10893.65\n",
       "04-Feb-2019    10912.25\n",
       "05-Feb-2019    10934.35\n",
       "06-Feb-2019    11062.45\n",
       "07-Feb-2019    11069.40\n",
       "08-Feb-2019    10943.60\n",
       "11-Feb-2019    10888.80\n",
       "12-Feb-2019    10831.40\n",
       "                 ...   \n",
       "19-Nov-2019    11940.10\n",
       "20-Nov-2019    11999.10\n",
       "21-Nov-2019    11968.40\n",
       "22-Nov-2019    11914.40\n",
       "25-Nov-2019    12073.75\n",
       "26-Nov-2019    12037.70\n",
       "27-Nov-2019    12100.70\n",
       "28-Nov-2019    12151.15\n",
       "29-Nov-2019    12056.05\n",
       "02-Dec-2019    12048.20\n",
       "03-Dec-2019    11994.20\n",
       "04-Dec-2019    12043.20\n",
       "05-Dec-2019    12018.40\n",
       "06-Dec-2019    11921.50\n",
       "09-Dec-2019    11937.50\n",
       "10-Dec-2019    11856.80\n",
       "11-Dec-2019    11910.15\n",
       "12-Dec-2019    11971.80\n",
       "13-Dec-2019    12086.70\n",
       "16-Dec-2019    12053.95\n",
       "17-Dec-2019    12165.00\n",
       "18-Dec-2019    12221.65\n",
       "19-Dec-2019    12259.70\n",
       "20-Dec-2019    12271.80\n",
       "23-Dec-2019    12262.75\n",
       "24-Dec-2019    12214.55\n",
       "26-Dec-2019    12126.55\n",
       "27-Dec-2019    12245.80\n",
       "30-Dec-2019    12255.85\n",
       "31-Dec-2019    12168.45\n",
       "Name: Close, Length: 244, dtype: float64"
      ]
     },
     "execution_count": 104,
     "metadata": {},
     "output_type": "execute_result"
    }
   ],
   "source": [
    "nifty[1:]"
   ]
  },
  {
   "cell_type": "code",
   "execution_count": 105,
   "metadata": {},
   "outputs": [
    {
     "data": {
      "text/plain": [
       "Date\n",
       "01-Jan-2019    10910.10\n",
       "02-Jan-2019    10792.50\n",
       "03-Jan-2019    10672.25\n",
       "04-Jan-2019    10727.35\n",
       "07-Jan-2019    10771.80\n",
       "08-Jan-2019    10802.15\n",
       "09-Jan-2019    10855.15\n",
       "10-Jan-2019    10821.60\n",
       "11-Jan-2019    10794.95\n",
       "14-Jan-2019    10737.60\n",
       "15-Jan-2019    10886.80\n",
       "16-Jan-2019    10890.30\n",
       "17-Jan-2019    10905.20\n",
       "18-Jan-2019    10906.95\n",
       "21-Jan-2019    10961.85\n",
       "22-Jan-2019    10922.75\n",
       "23-Jan-2019    10831.50\n",
       "24-Jan-2019    10849.80\n",
       "25-Jan-2019    10780.55\n",
       "28-Jan-2019    10661.55\n",
       "29-Jan-2019    10652.20\n",
       "30-Jan-2019    10651.80\n",
       "31-Jan-2019    10830.95\n",
       "01-Feb-2019    10893.65\n",
       "04-Feb-2019    10912.25\n",
       "05-Feb-2019    10934.35\n",
       "06-Feb-2019    11062.45\n",
       "07-Feb-2019    11069.40\n",
       "08-Feb-2019    10943.60\n",
       "11-Feb-2019    10888.80\n",
       "                 ...   \n",
       "18-Nov-2019    11884.50\n",
       "19-Nov-2019    11940.10\n",
       "20-Nov-2019    11999.10\n",
       "21-Nov-2019    11968.40\n",
       "22-Nov-2019    11914.40\n",
       "25-Nov-2019    12073.75\n",
       "26-Nov-2019    12037.70\n",
       "27-Nov-2019    12100.70\n",
       "28-Nov-2019    12151.15\n",
       "29-Nov-2019    12056.05\n",
       "02-Dec-2019    12048.20\n",
       "03-Dec-2019    11994.20\n",
       "04-Dec-2019    12043.20\n",
       "05-Dec-2019    12018.40\n",
       "06-Dec-2019    11921.50\n",
       "09-Dec-2019    11937.50\n",
       "10-Dec-2019    11856.80\n",
       "11-Dec-2019    11910.15\n",
       "12-Dec-2019    11971.80\n",
       "13-Dec-2019    12086.70\n",
       "16-Dec-2019    12053.95\n",
       "17-Dec-2019    12165.00\n",
       "18-Dec-2019    12221.65\n",
       "19-Dec-2019    12259.70\n",
       "20-Dec-2019    12271.80\n",
       "23-Dec-2019    12262.75\n",
       "24-Dec-2019    12214.55\n",
       "26-Dec-2019    12126.55\n",
       "27-Dec-2019    12245.80\n",
       "30-Dec-2019    12255.85\n",
       "Name: Close, Length: 244, dtype: float64"
      ]
     },
     "execution_count": 105,
     "metadata": {},
     "output_type": "execute_result"
    }
   ],
   "source": [
    "nifty[:-1]"
   ]
  },
  {
   "cell_type": "code",
   "execution_count": 106,
   "metadata": {},
   "outputs": [
    {
     "data": {
      "text/plain": [
       "Date\n",
       "01-Apr-2019    0.0\n",
       "01-Aug-2019    0.0\n",
       "01-Feb-2019    0.0\n",
       "01-Jan-2019    NaN\n",
       "01-Jul-2019    0.0\n",
       "01-Mar-2019    0.0\n",
       "01-Nov-2019    0.0\n",
       "01-Oct-2019    0.0\n",
       "02-Apr-2019    0.0\n",
       "02-Aug-2019    0.0\n",
       "02-Dec-2019    0.0\n",
       "02-Jan-2019    0.0\n",
       "02-Jul-2019    0.0\n",
       "02-May-2019    0.0\n",
       "03-Apr-2019    0.0\n",
       "03-Dec-2019    0.0\n",
       "03-Jan-2019    0.0\n",
       "03-Jul-2019    0.0\n",
       "03-Jun-2019    0.0\n",
       "03-May-2019    0.0\n",
       "03-Oct-2019    0.0\n",
       "03-Sep-2019    0.0\n",
       "04-Apr-2019    0.0\n",
       "04-Dec-2019    0.0\n",
       "04-Feb-2019    0.0\n",
       "04-Jan-2019    0.0\n",
       "04-Jul-2019    0.0\n",
       "04-Jun-2019    0.0\n",
       "04-Nov-2019    0.0\n",
       "04-Oct-2019    0.0\n",
       "              ... \n",
       "27-Nov-2019    0.0\n",
       "27-Oct-2019    0.0\n",
       "27-Sep-2019    0.0\n",
       "28-Aug-2019    0.0\n",
       "28-Feb-2019    0.0\n",
       "28-Jan-2019    0.0\n",
       "28-Jun-2019    0.0\n",
       "28-Mar-2019    0.0\n",
       "28-May-2019    0.0\n",
       "28-Nov-2019    0.0\n",
       "29-Aug-2019    0.0\n",
       "29-Jan-2019    0.0\n",
       "29-Jul-2019    0.0\n",
       "29-Mar-2019    0.0\n",
       "29-May-2019    0.0\n",
       "29-Nov-2019    0.0\n",
       "29-Oct-2019    0.0\n",
       "30-Apr-2019    0.0\n",
       "30-Aug-2019    0.0\n",
       "30-Dec-2019    0.0\n",
       "30-Jan-2019    0.0\n",
       "30-Jul-2019    0.0\n",
       "30-May-2019    0.0\n",
       "30-Oct-2019    0.0\n",
       "30-Sep-2019    0.0\n",
       "31-Dec-2019    NaN\n",
       "31-Jan-2019    0.0\n",
       "31-Jul-2019    0.0\n",
       "31-May-2019    0.0\n",
       "31-Oct-2019    0.0\n",
       "Name: Close, Length: 245, dtype: float64"
      ]
     },
     "execution_count": 106,
     "metadata": {},
     "output_type": "execute_result"
    }
   ],
   "source": [
    "nifty[1:] - nifty[:-1]"
   ]
  },
  {
   "cell_type": "code",
   "execution_count": 107,
   "metadata": {},
   "outputs": [
    {
     "data": {
      "text/plain": [
       "array([-1.1760e+02, -1.2025e+02,  5.5100e+01,  4.4450e+01,  3.0350e+01,\n",
       "        5.3000e+01, -3.3550e+01, -2.6650e+01, -5.7350e+01,  1.4920e+02,\n",
       "        3.5000e+00,  1.4900e+01,  1.7500e+00,  5.4900e+01, -3.9100e+01,\n",
       "       -9.1250e+01,  1.8300e+01, -6.9250e+01, -1.1900e+02, -9.3500e+00,\n",
       "       -4.0000e-01,  1.7915e+02,  6.2700e+01,  1.8600e+01,  2.2100e+01,\n",
       "        1.2810e+02,  6.9500e+00, -1.2580e+02, -5.4800e+01, -5.7400e+01,\n",
       "       -3.7750e+01, -4.7600e+01, -2.1650e+01, -8.3450e+01, -3.6600e+01,\n",
       "        1.3110e+02,  5.4400e+01,  1.8000e+00,  8.8450e+01, -4.4800e+01,\n",
       "       -2.8650e+01, -1.4150e+01,  7.1000e+01,  1.2395e+02,  6.5550e+01,\n",
       "        5.2000e+00, -2.2800e+01,  1.3265e+02,  1.3315e+02,  4.0500e+01,\n",
       "        1.5500e+00,  8.3600e+01,  3.5350e+01,  7.0200e+01, -1.1350e+01,\n",
       "       -6.4150e+01, -1.0265e+02,  1.2900e+02, -3.8200e+01,  1.2495e+02,\n",
       "        5.3900e+01,  4.5250e+01,  4.4050e+01, -6.9250e+01, -4.5950e+01,\n",
       "        6.7950e+01, -6.1450e+01,  6.7450e+01, -8.7650e+01,  1.2400e+01,\n",
       "        4.6750e+01,  4.6900e+01,  9.6800e+01, -3.4350e+01, -1.5835e+02,\n",
       "       -1.8500e+01,  1.5020e+02, -8.4350e+01,  1.1285e+02, -6.5000e+00,\n",
       "       -2.3400e+01, -1.2500e+01, -1.1400e+02, -1.0035e+02, -1.3845e+02,\n",
       "       -5.7650e+01, -2.2900e+01, -1.3070e+02,  7.3850e+01, -6.5050e+01,\n",
       "        1.0010e+02,  1.5005e+02,  4.2110e+02, -1.1915e+02,  2.8800e+01,\n",
       "       -8.0850e+01,  1.8705e+02,  8.0650e+01,  4.0000e+00, -6.7650e+01,\n",
       "        8.4800e+01, -2.3100e+01,  1.6575e+02, -6.6900e+01, -1.7790e+02,\n",
       "        2.6900e+01,  5.2050e+01,  4.2900e+01, -5.9400e+01,  7.8500e+00,\n",
       "       -9.0750e+01, -1.5115e+02,  1.9350e+01, -5.0000e-02,  1.4030e+02,\n",
       "       -1.0765e+02, -2.4450e+01,  9.6800e+01,  5.1100e+01, -6.0000e+00,\n",
       "       -5.2700e+01,  7.6750e+01,  4.4700e+01,  6.4500e+00,  3.0000e+01,\n",
       "       -1.3560e+02, -2.5255e+02, -2.7000e+00, -5.7000e+01,  8.4000e+01,\n",
       "       -3.0400e+01,  3.5850e+01,  7.4250e+01,  2.4900e+01, -9.0600e+01,\n",
       "       -1.7765e+02, -7.3050e+01, -1.5150e+01, -5.9750e+01, -1.9150e+01,\n",
       "        3.2150e+01, -9.5100e+01, -1.0380e+02,  3.2600e+01, -1.3800e+02,\n",
       "        1.7350e+01, -1.3475e+02,  8.5650e+01, -9.2750e+01,  1.7695e+02,\n",
       "        7.7200e+01, -1.8380e+02,  1.0355e+02,  1.8400e+01,  6.1000e+00,\n",
       "       -3.6900e+01, -9.8300e+01, -1.7735e+02,  8.8000e+01,  2.2850e+02,\n",
       "        4.7500e+01, -5.9250e+01, -9.7800e+01,  7.4950e+01, -2.2535e+02,\n",
       "        4.6750e+01,  3.2500e+00,  9.8300e+01,  5.6850e+01,  3.2650e+01,\n",
       "       -5.2900e+01,  9.3100e+01, -7.2400e+01, -1.8590e+02,  2.3050e+01,\n",
       "       -1.3585e+02,  5.6940e+02,  3.2600e+02, -1.2000e+01, -1.4800e+02,\n",
       "        1.3100e+02, -5.8800e+01, -3.7950e+01, -1.1455e+02, -4.5900e+01,\n",
       "       -1.3925e+02, -4.8350e+01,  1.8690e+02, -7.8750e+01,  7.0500e+01,\n",
       "        3.6100e+01,  8.7150e+01,  3.5700e+01,  1.2235e+02,  7.5500e+01,\n",
       "       -7.3500e+01,  1.5750e+01, -2.1500e+01,  1.3000e+00,  4.3250e+01,\n",
       "        1.5970e+02,  5.7250e+01,  3.3350e+01,  1.3150e+01,  5.0700e+01,\n",
       "       -2.4100e+01,  4.8850e+01,  4.6000e+01, -1.0390e+02,  5.3000e+00,\n",
       "       -7.3000e+01,  3.1650e+01,  2.3350e+01, -1.0950e+01,  5.5600e+01,\n",
       "        5.9000e+01, -3.0700e+01, -5.4000e+01,  1.5935e+02, -3.6050e+01,\n",
       "        6.3000e+01,  5.0450e+01, -9.5100e+01, -7.8500e+00, -5.4000e+01,\n",
       "        4.9000e+01, -2.4800e+01, -9.6900e+01,  1.6000e+01, -8.0700e+01,\n",
       "        5.3350e+01,  6.1650e+01,  1.1490e+02, -3.2750e+01,  1.1105e+02,\n",
       "        5.6650e+01,  3.8050e+01,  1.2100e+01, -9.0500e+00, -4.8200e+01,\n",
       "       -8.8000e+01,  1.1925e+02,  1.0050e+01, -8.7400e+01])"
      ]
     },
     "execution_count": 107,
     "metadata": {},
     "output_type": "execute_result"
    }
   ],
   "source": [
    "nifty.values[1:] - nifty.values[:-1] "
   ]
  },
  {
   "cell_type": "code",
   "execution_count": 108,
   "metadata": {},
   "outputs": [
    {
     "data": {
      "text/plain": [
       "129"
      ]
     },
     "execution_count": 108,
     "metadata": {},
     "output_type": "execute_result"
    }
   ],
   "source": [
    "np.sum(nifty.values[1:] - nifty.values[:-1]  >0)"
   ]
  },
  {
   "cell_type": "code",
   "execution_count": 109,
   "metadata": {},
   "outputs": [
    {
     "data": {
      "text/plain": [
       "0.5265306122448979"
      ]
     },
     "execution_count": 109,
     "metadata": {},
     "output_type": "execute_result"
    }
   ],
   "source": [
    "np.sum(nifty.values[1:] - nifty.values[:-1]  >0) / len(nifty)"
   ]
  },
  {
   "cell_type": "markdown",
   "metadata": {},
   "source": [
    "## Task\n",
    "1. Compute moving average of the last 5 days\n",
    "2. Subset the data to include only data for Fridays"
   ]
  },
  {
   "cell_type": "code",
   "execution_count": 110,
   "metadata": {},
   "outputs": [
    {
     "data": {
      "text/plain": [
       "'01-Jan-2019'"
      ]
     },
     "execution_count": 110,
     "metadata": {},
     "output_type": "execute_result"
    }
   ],
   "source": [
    "nifty.index[0]"
   ]
  },
  {
   "cell_type": "code",
   "execution_count": 111,
   "metadata": {},
   "outputs": [],
   "source": [
    "d = pd.Timestamp(nifty.index[0])"
   ]
  },
  {
   "cell_type": "code",
   "execution_count": 112,
   "metadata": {},
   "outputs": [
    {
     "data": {
      "text/plain": [
       "1"
      ]
     },
     "execution_count": 112,
     "metadata": {},
     "output_type": "execute_result"
    }
   ],
   "source": [
    "d.dayofweek"
   ]
  },
  {
   "cell_type": "code",
   "execution_count": 113,
   "metadata": {},
   "outputs": [],
   "source": [
    "new_index = map(pd.Timestamp, nifty.index)"
   ]
  },
  {
   "cell_type": "code",
   "execution_count": 114,
   "metadata": {},
   "outputs": [],
   "source": [
    "new_nifty = pd.Series(nifty, index=new_index)"
   ]
  },
  {
   "cell_type": "code",
   "execution_count": 115,
   "metadata": {},
   "outputs": [
    {
     "data": {
      "text/plain": [
       "2019-01-01    10910.10\n",
       "2019-01-02    10792.50\n",
       "2019-01-03    10672.25\n",
       "2019-01-04    10727.35\n",
       "2019-01-07    10771.80\n",
       "2019-01-08    10802.15\n",
       "2019-01-09    10855.15\n",
       "2019-01-10    10821.60\n",
       "2019-01-11    10794.95\n",
       "2019-01-14    10737.60\n",
       "2019-01-15    10886.80\n",
       "2019-01-16    10890.30\n",
       "2019-01-17    10905.20\n",
       "2019-01-18    10906.95\n",
       "2019-01-21    10961.85\n",
       "2019-01-22    10922.75\n",
       "2019-01-23    10831.50\n",
       "2019-01-24    10849.80\n",
       "2019-01-25    10780.55\n",
       "2019-01-28    10661.55\n",
       "2019-01-29    10652.20\n",
       "2019-01-30    10651.80\n",
       "2019-01-31    10830.95\n",
       "2019-02-01    10893.65\n",
       "2019-02-04    10912.25\n",
       "2019-02-05    10934.35\n",
       "2019-02-06    11062.45\n",
       "2019-02-07    11069.40\n",
       "2019-02-08    10943.60\n",
       "2019-02-11    10888.80\n",
       "                ...   \n",
       "2019-11-19    11940.10\n",
       "2019-11-20    11999.10\n",
       "2019-11-21    11968.40\n",
       "2019-11-22    11914.40\n",
       "2019-11-25    12073.75\n",
       "2019-11-26    12037.70\n",
       "2019-11-27    12100.70\n",
       "2019-11-28    12151.15\n",
       "2019-11-29    12056.05\n",
       "2019-12-02    12048.20\n",
       "2019-12-03    11994.20\n",
       "2019-12-04    12043.20\n",
       "2019-12-05    12018.40\n",
       "2019-12-06    11921.50\n",
       "2019-12-09    11937.50\n",
       "2019-12-10    11856.80\n",
       "2019-12-11    11910.15\n",
       "2019-12-12    11971.80\n",
       "2019-12-13    12086.70\n",
       "2019-12-16    12053.95\n",
       "2019-12-17    12165.00\n",
       "2019-12-18    12221.65\n",
       "2019-12-19    12259.70\n",
       "2019-12-20    12271.80\n",
       "2019-12-23    12262.75\n",
       "2019-12-24    12214.55\n",
       "2019-12-26    12126.55\n",
       "2019-12-27    12245.80\n",
       "2019-12-30    12255.85\n",
       "2019-12-31    12168.45\n",
       "Name: Close, Length: 245, dtype: float64"
      ]
     },
     "execution_count": 115,
     "metadata": {},
     "output_type": "execute_result"
    }
   ],
   "source": [
    "new_nifty"
   ]
  },
  {
   "cell_type": "code",
   "execution_count": 116,
   "metadata": {},
   "outputs": [
    {
     "data": {
      "text/plain": [
       "Timestamp('2019-01-01 00:00:00')"
      ]
     },
     "execution_count": 116,
     "metadata": {},
     "output_type": "execute_result"
    }
   ],
   "source": [
    "new_nifty.index[0]"
   ]
  },
  {
   "cell_type": "code",
   "execution_count": 117,
   "metadata": {},
   "outputs": [
    {
     "data": {
      "text/plain": [
       "2019-01-01    10910.100000\n",
       "2019-01-02    10851.300000\n",
       "2019-01-03    10791.616667\n",
       "2019-01-04    10775.550000\n",
       "2019-01-07    10723.800000\n",
       "2019-01-08    10767.100000\n",
       "2019-01-09    10809.700000\n",
       "2019-01-10    10812.675000\n",
       "2019-01-11    10809.130000\n",
       "2019-01-14    10784.716667\n",
       "2019-01-15    10806.450000\n",
       "2019-01-16    10838.233333\n",
       "2019-01-17    10854.975000\n",
       "2019-01-18    10865.370000\n",
       "2019-01-21    10924.666667\n",
       "2019-01-22    10930.516667\n",
       "2019-01-23    10905.366667\n",
       "2019-01-24    10891.475000\n",
       "2019-01-25    10869.290000\n",
       "2019-01-28    10763.966667\n",
       "2019-01-29    10698.100000\n",
       "2019-01-30    10655.183333\n",
       "2019-01-31    10699.125000\n",
       "2019-02-01    10738.030000\n",
       "2019-02-04    10878.950000\n",
       "2019-02-05    10913.416667\n",
       "2019-02-06    10969.683333\n",
       "2019-02-07    10994.612500\n",
       "2019-02-08    10984.410000\n",
       "2019-02-11    10967.266667\n",
       "                  ...     \n",
       "2019-11-19    11906.683333\n",
       "2019-11-20    11941.233333\n",
       "2019-11-21    11948.025000\n",
       "2019-11-22    11941.300000\n",
       "2019-11-25    11985.516667\n",
       "2019-11-26    12008.616667\n",
       "2019-11-27    12070.716667\n",
       "2019-11-28    12090.825000\n",
       "2019-11-29    12083.870000\n",
       "2019-12-02    12085.133333\n",
       "2019-12-03    12032.816667\n",
       "2019-12-04    12028.533333\n",
       "2019-12-05    12026.000000\n",
       "2019-12-06    12005.100000\n",
       "2019-12-09    11959.133333\n",
       "2019-12-10    11905.266667\n",
       "2019-12-11    11901.483333\n",
       "2019-12-12    11919.062500\n",
       "2019-12-13    11952.590000\n",
       "2019-12-16    12037.483333\n",
       "2019-12-17    12101.883333\n",
       "2019-12-18    12146.866667\n",
       "2019-12-19    12175.075000\n",
       "2019-12-20    12194.420000\n",
       "2019-12-23    12264.750000\n",
       "2019-12-24    12249.700000\n",
       "2019-12-26    12201.283333\n",
       "2019-12-27    12212.412500\n",
       "2019-12-30    12209.400000\n",
       "2019-12-31    12223.366667\n",
       "Name: Close, Length: 245, dtype: float64"
      ]
     },
     "execution_count": 117,
     "metadata": {},
     "output_type": "execute_result"
    }
   ],
   "source": [
    "new_nifty.rolling('5d').mean()"
   ]
  },
  {
   "cell_type": "code",
   "execution_count": 118,
   "metadata": {},
   "outputs": [],
   "source": [
    "dow = new_nifty.copy()\n",
    "for i in dow.index:\n",
    "    dow[i] = i.dayofweek"
   ]
  },
  {
   "cell_type": "code",
   "execution_count": 119,
   "metadata": {},
   "outputs": [
    {
     "data": {
      "text/plain": [
       "2019-01-01    1.0\n",
       "2019-01-02    2.0\n",
       "2019-01-03    3.0\n",
       "2019-01-04    4.0\n",
       "2019-01-07    0.0\n",
       "2019-01-08    1.0\n",
       "2019-01-09    2.0\n",
       "2019-01-10    3.0\n",
       "2019-01-11    4.0\n",
       "2019-01-14    0.0\n",
       "2019-01-15    1.0\n",
       "2019-01-16    2.0\n",
       "2019-01-17    3.0\n",
       "2019-01-18    4.0\n",
       "2019-01-21    0.0\n",
       "2019-01-22    1.0\n",
       "2019-01-23    2.0\n",
       "2019-01-24    3.0\n",
       "2019-01-25    4.0\n",
       "2019-01-28    0.0\n",
       "2019-01-29    1.0\n",
       "2019-01-30    2.0\n",
       "2019-01-31    3.0\n",
       "2019-02-01    4.0\n",
       "2019-02-04    0.0\n",
       "2019-02-05    1.0\n",
       "2019-02-06    2.0\n",
       "2019-02-07    3.0\n",
       "2019-02-08    4.0\n",
       "2019-02-11    0.0\n",
       "             ... \n",
       "2019-11-19    1.0\n",
       "2019-11-20    2.0\n",
       "2019-11-21    3.0\n",
       "2019-11-22    4.0\n",
       "2019-11-25    0.0\n",
       "2019-11-26    1.0\n",
       "2019-11-27    2.0\n",
       "2019-11-28    3.0\n",
       "2019-11-29    4.0\n",
       "2019-12-02    0.0\n",
       "2019-12-03    1.0\n",
       "2019-12-04    2.0\n",
       "2019-12-05    3.0\n",
       "2019-12-06    4.0\n",
       "2019-12-09    0.0\n",
       "2019-12-10    1.0\n",
       "2019-12-11    2.0\n",
       "2019-12-12    3.0\n",
       "2019-12-13    4.0\n",
       "2019-12-16    0.0\n",
       "2019-12-17    1.0\n",
       "2019-12-18    2.0\n",
       "2019-12-19    3.0\n",
       "2019-12-20    4.0\n",
       "2019-12-23    0.0\n",
       "2019-12-24    1.0\n",
       "2019-12-26    3.0\n",
       "2019-12-27    4.0\n",
       "2019-12-30    0.0\n",
       "2019-12-31    1.0\n",
       "Name: Close, Length: 245, dtype: float64"
      ]
     },
     "execution_count": 119,
     "metadata": {},
     "output_type": "execute_result"
    }
   ],
   "source": [
    "dow"
   ]
  },
  {
   "cell_type": "code",
   "execution_count": 120,
   "metadata": {},
   "outputs": [
    {
     "data": {
      "text/plain": [
       "2019-01-04    10727.35\n",
       "2019-01-11    10794.95\n",
       "2019-01-18    10906.95\n",
       "2019-01-25    10780.55\n",
       "2019-02-01    10893.65\n",
       "2019-02-08    10943.60\n",
       "2019-02-15    10724.40\n",
       "2019-02-22    10791.65\n",
       "2019-03-01    10863.50\n",
       "2019-03-08    11035.40\n",
       "2019-03-15    11426.85\n",
       "2019-03-22    11456.90\n",
       "2019-03-29    11623.90\n",
       "2019-04-05    11665.95\n",
       "2019-04-12    11643.45\n",
       "2019-04-26    11754.65\n",
       "2019-05-03    11712.25\n",
       "2019-05-10    11278.90\n",
       "2019-05-17    11407.15\n",
       "2019-05-24    11844.10\n",
       "2019-05-31    11922.80\n",
       "2019-06-07    11870.65\n",
       "2019-06-14    11823.30\n",
       "2019-06-21    11724.10\n",
       "2019-06-28    11788.85\n",
       "2019-07-05    11811.15\n",
       "2019-07-12    11552.50\n",
       "2019-07-19    11419.25\n",
       "2019-07-26    11284.30\n",
       "2019-08-02    10997.35\n",
       "2019-08-09    11109.65\n",
       "2019-08-16    11047.80\n",
       "2019-08-23    10829.35\n",
       "2019-08-30    11023.25\n",
       "2019-09-06    10946.20\n",
       "2019-09-13    11075.90\n",
       "2019-09-20    11274.20\n",
       "2019-09-27    11512.40\n",
       "2019-10-04    11174.75\n",
       "2019-10-11    11305.05\n",
       "2019-10-18    11661.85\n",
       "2019-10-25    11583.90\n",
       "2019-11-01    11890.60\n",
       "2019-11-08    11908.15\n",
       "2019-11-15    11895.45\n",
       "2019-11-22    11914.40\n",
       "2019-11-29    12056.05\n",
       "2019-12-06    11921.50\n",
       "2019-12-13    12086.70\n",
       "2019-12-20    12271.80\n",
       "2019-12-27    12245.80\n",
       "Name: Close, dtype: float64"
      ]
     },
     "execution_count": 120,
     "metadata": {},
     "output_type": "execute_result"
    }
   ],
   "source": [
    "new_nifty[dow == 4]"
   ]
  },
  {
   "cell_type": "code",
   "execution_count": null,
   "metadata": {},
   "outputs": [],
   "source": []
  }
 ],
 "metadata": {
  "kernelspec": {
   "display_name": "Python 3",
   "language": "python",
   "name": "python3"
  },
  "language_info": {
   "codemirror_mode": {
    "name": "ipython",
    "version": 3
   },
   "file_extension": ".py",
   "mimetype": "text/x-python",
   "name": "python",
   "nbconvert_exporter": "python",
   "pygments_lexer": "ipython3",
   "version": "3.7.6"
  }
 },
 "nbformat": 4,
 "nbformat_minor": 2
}
